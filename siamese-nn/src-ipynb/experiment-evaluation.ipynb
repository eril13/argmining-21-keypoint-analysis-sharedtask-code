{
 "cells": [
  {
   "cell_type": "code",
   "execution_count": 1,
   "id": "333830a6-c203-4276-8c9f-e6bcfe4ad787",
   "metadata": {},
   "outputs": [],
   "source": [
    "import json\n",
    "import pandas as pd\n",
    "import numpy as np\n",
    "import matplotlib.pyplot as plt\n",
    "\n",
    "pd.set_option('display.max_colwidth', None)"
   ]
  },
  {
   "cell_type": "code",
   "execution_count": 2,
   "id": "36de71e7-6132-4127-b2a0-96d1ef15af8e",
   "metadata": {},
   "outputs": [],
   "source": [
    "training_df = pd.read_csv('../../data/training_df.csv')\n",
    "valid_df = pd.read_csv('../../data/our_valid.csv')"
   ]
  },
  {
   "cell_type": "code",
   "execution_count": 117,
   "id": "515ce47c-a0eb-4604-933d-03502f20d41a",
   "metadata": {},
   "outputs": [
    {
     "data": {
      "image/png": "[encoded data removed]",
      "text/plain": [
       "<Figure size 432x288 with 1 Axes>"
      ]
     },
     "metadata": {
      "needs_background": "light"
     },
     "output_type": "display_data"
    }
   ],
   "source": [
    "keypoints_per_arg = [x[1] for x in training_df[training_df.label == 1].arg_id.value_counts().to_dict().items()]\n",
    "plt.hist(keypoints_per_arg)\n",
    "plt.show()"
   ]
  },
  {
   "cell_type": "code",
   "execution_count": 118,
   "id": "9809cfe2-3bd3-450c-8a6a-755ab267cc3d",
   "metadata": {},
   "outputs": [
    {
     "data": {
      "image/png": "[encoded data removed]",
      "text/plain": [
       "<Figure size 432x288 with 1 Axes>"
      ]
     },
     "metadata": {
      "needs_background": "light"
     },
     "output_type": "display_data"
    }
   ],
   "source": [
    "args_per_keypoints = [x[1] for x in training_df[training_df.label == 1].key_point_id.value_counts().to_dict().items()]\n",
    "plt.hist(args_per_keypoints)\n",
    "plt.show()"
   ]
  },
  {
   "cell_type": "markdown",
   "id": "d3dd6803-1787-40e2-a853-6ef63037aa36",
   "metadata": {},
   "source": [
    "-------------"
   ]
  },
  {
   "cell_type": "markdown",
   "id": "8ad429b3-f236-4bb6-a707-569206d9a309",
   "metadata": {},
   "source": [
    "### Predicting:"
   ]
  },
  {
   "cell_type": "code",
   "execution_count": 4,
   "id": "42604acd-340f-4d86-8a90-e483f0323fcc",
   "metadata": {},
   "outputs": [],
   "source": [
    "import os\n",
    "import sys\n",
    "os.environ['CUDA_VISIBLE_DEVICES'] = '0'\n",
    "\n",
    "sys.path.insert(0, \"../../src-py\")"
   ]
  },
  {
   "cell_type": "code",
   "execution_count": 5,
   "id": "974169db-f674-402b-9974-0e1835f30b95",
   "metadata": {},
   "outputs": [],
   "source": [
    "from track_1_kp_matching import *"
   ]
  },
  {
   "cell_type": "code",
   "execution_count": 6,
   "id": "076715e9-5efe-45aa-9a35-ae7e1913940a",
   "metadata": {},
   "outputs": [],
   "source": [
    "from sentence_transformers import SentenceTransformer, InputExample, LoggingHandler, losses, models, util"
   ]
  },
  {
   "cell_type": "code",
   "execution_count": 7,
   "id": "e97820cc-f2f1-4e1f-8eec-52676ce48570",
   "metadata": {},
   "outputs": [],
   "source": [
    "valid_df = pd.read_csv('../../data/our_valid.csv', index_col=0)\n",
    "valid_keypoints_df = pd.read_csv('../../data/key_points_our_valid.csv')\n",
    "valid_arguments_df = pd.read_csv('../../data/arguments_our_valid.csv')"
   ]
  },
  {
   "cell_type": "code",
   "execution_count": 8,
   "id": "793ef82f-bd93-4005-9c3c-06b446844dbd",
   "metadata": {},
   "outputs": [],
   "source": [
    "def match_argument_with_keypoints(result, kp_dict, arg_dict):\n",
    "    \n",
    "    for arg, arg_embedding in arg_dict.items():\n",
    "        result[arg] = {}\n",
    "        for kp, kp_embedding in kp_dict.items():\n",
    "            result[arg][kp] = util.pytorch_cos_sim(arg_embedding, kp_embedding).item()\n",
    "    \n",
    "    return result\n",
    "\n",
    "def predict(model, argument_df, keypoint_df, output_path, append_topic=False):\n",
    "    argument_keypoints = {}\n",
    "    for topic in argument_df.topic.unique():\n",
    "        for stance in [-1, 1]:\n",
    "            topic_keypoints_ids = keypoint_df[(keypoint_df.topic==topic) & (keypoint_df.stance==stance)]['key_point_id'].tolist()\n",
    "            topic_keypoints = keypoint_df[(keypoint_df.topic==topic) & (keypoint_df.stance==stance)]['key_point'].tolist()\n",
    "            if append_topic:\n",
    "                topic_keypoints = [topic + ' <SEP> ' + x for x in topic_keypoints]\n",
    "                \n",
    "            topic_keypoints_embeddings = model.encode(topic_keypoints)\n",
    "            topic_kp_embed = dict(zip(topic_keypoints_ids, topic_keypoints_embeddings))\n",
    "\n",
    "            topic_arguments_ids = argument_df[(argument_df.topic==topic) & (argument_df.stance==stance)]['arg_id'].tolist()\n",
    "            topic_arguments = argument_df[(argument_df.topic==topic) & (argument_df.stance==stance)]['argument'].tolist()\n",
    "            topic_arguments_embeddings = model.encode(topic_arguments)\n",
    "            topic_arg_embed= dict(zip(topic_arguments_ids, topic_arguments_embeddings))\n",
    "\n",
    "            argument_keypoints = match_argument_with_keypoints(argument_keypoints, topic_kp_embed, topic_arg_embed)\n",
    "    \n",
    "    json.dump(argument_keypoints, open(output_path, 'w'))\n",
    "    \n",
    "    return argument_keypoints"
   ]
  },
  {
   "cell_type": "code",
   "execution_count": 46,
   "id": "cfa80983-6afd-4641-9c99-ed1c2753b817",
   "metadata": {},
   "outputs": [],
   "source": [
    "models_list = [\n",
    "    '/workspace/ceph_data/keypoint-analysis-sharedtask/siamese-models/bert-base-uncased-kp_as_anchor_topic_added-2021-05-24_13-52-11',\n",
    "    '/workspace/ceph_data/keypoint-analysis-sharedtask/siamese-models/bert-base-uncased-kp_as_anchor-2021-05-24_15-58-35/',\n",
    "    #'/workspace/ceph_data/keypoint-analysis-sharedtask/triplet-models/all-triplet-loss',\n",
    "    #'/workspace/ceph_data/keypoint-analysis-sharedtask/triplet-models/hard-softmargin-triplet-loss',\n",
    "    #'/workspace/ceph_data/keypoint-analysis-sharedtask/triplet-models/hard-triplet-loss',\n",
    "    #'/workspace/ceph_data/keypoint-analysis-sharedtask/triplet-models/semi-hard-triplet-loss',\n",
    "]\n",
    "\n",
    "pred_output_path = '/workspace/ceph_data/keypoint-analysis-sharedtask/siamese-data/preds/'\n",
    "subset_name= 'our_valid'"
   ]
  },
  {
   "cell_type": "code",
   "execution_count": 47,
   "id": "6a1ffaac-01ad-49e9-ab52-a1a2cc6381a1",
   "metadata": {
    "tags": []
   },
   "outputs": [],
   "source": [
    "def predict_and_evaluate(argument_df, keypoint_df, gold_data_dir, subset_name):\n",
    "    pred_df = {}\n",
    "    for model_path in models_list:\n",
    "        append_topic= 'topic_added' in model_path\n",
    "        #Predict\n",
    "        model = SentenceTransformer(model_path)\n",
    "        model_name = model_path.split('/')[-1]\n",
    "        predictions_file = pred_output_path+model_name+ '-' + subset_name + '-preds.json'\n",
    "        json_preds = predict(model, argument_df, keypoint_df, predictions_file, append_topic)\n",
    "\n",
    "        #Evaluate\n",
    "        arg_df, kp_df, labels_df = load_kpm_data(gold_data_dir, subset=subset_name)\n",
    "        merged_df = get_predictions(predictions_file, labels_df, arg_df)\n",
    "        print('Evaluating {}:'.format(model_name))\n",
    "        evaluate_predictions(merged_df)\n",
    "        \n",
    "        pred_df[model_name] = merged_df\n",
    "\n",
    "    return pred_df"
   ]
  },
  {
   "cell_type": "code",
   "execution_count": 48,
   "id": "d94139e0-a8ef-41fb-bff0-1bceac93f495",
   "metadata": {},
   "outputs": [
    {
     "name": "stdout",
     "output_type": "stream",
     "text": [
      "Evaluating bert-base-uncased-kp_as_anchor_topic_added-2021-05-24_13-52-11:\n",
      "mAP strict= 0.8100212009895027 ; mAP relaxed = 0.9253012513042258\n",
      "Evaluating :\n",
      "mAP strict= 0.844355603203168 ; mAP relaxed = 0.947050810808719\n"
     ]
    }
   ],
   "source": [
    "pred_dfs = predict_and_evaluate(valid_arguments_df, valid_keypoints_df,  '../../data', 'our_valid')"
   ]
  },
  {
   "cell_type": "code",
   "execution_count": 49,
   "id": "ac377aea-ddcb-4c25-b20f-eb4ed89d7d24",
   "metadata": {},
   "outputs": [],
   "source": [
    "test_df = pd.read_csv('../../data/our_test.csv', index_col=0)\n",
    "test_keypoints_df = pd.read_csv('../../data/key_points_our_test.csv')\n",
    "test_arguments_df = pd.read_csv('../../data/arguments_our_test.csv')"
   ]
  },
  {
   "cell_type": "code",
   "execution_count": 50,
   "id": "743bcb09-423e-4350-85fc-35101d6bce7e",
   "metadata": {},
   "outputs": [
    {
     "name": "stdout",
     "output_type": "stream",
     "text": [
      "Evaluating bert-base-uncased-kp_as_anchor_topic_added-2021-05-24_13-52-11:\n",
      "mAP strict= 0.8452575961620323 ; mAP relaxed = 0.9603199729435812\n",
      "Evaluating :\n",
      "mAP strict= 0.8884606072596714 ; mAP relaxed = 0.963442996320446\n"
     ]
    }
   ],
   "source": [
    "_=predict_and_evaluate(test_arguments_df, test_keypoints_df,  '../../data', 'our_test')"
   ]
  },
  {
   "cell_type": "code",
   "execution_count": 51,
   "id": "5eafad7c-d5ac-4eed-915f-f99312e7fb41",
   "metadata": {
    "scrolled": true,
    "tags": []
   },
   "outputs": [
    {
     "name": "stdout",
     "output_type": "stream",
     "text": [
      "Evaluating bert-base-uncased-kp_as_anchor_topic_added-2021-05-24_13-52-11:\n",
      "mAP strict= 0.80786323253463 ; mAP relaxed = 0.9322304651486044\n",
      "Evaluating :\n",
      "mAP strict= 0.854248407787326 ; mAP relaxed = 0.9531621481387572\n"
     ]
    }
   ],
   "source": [
    "all_valid_arg_df = pd.read_csv('../../KPA_2021_shared_task/kpm_data/arguments_dev.csv')\n",
    "all_valid_keypoints_df = pd.read_csv('../../KPA_2021_shared_task/kpm_data/key_points_dev.csv')\n",
    "results_df = predict_and_evaluate(all_valid_arg_df, all_valid_keypoints_df, '../../KPA_2021_shared_task/kpm_data/', 'dev')"
   ]
  },
  {
   "cell_type": "code",
   "execution_count": null,
   "id": "e555cd36-b9cf-4627-9a11-4f8db7bea37e",
   "metadata": {},
   "outputs": [],
   "source": []
  }
 ],
 "metadata": {
  "kernelspec": {
   "display_name": "Python 3",
   "language": "python",
   "name": "python3"
  },
  "language_info": {
   "codemirror_mode": {
    "name": "ipython",
    "version": 3
   },
   "file_extension": ".py",
   "mimetype": "text/x-python",
   "name": "python",
   "nbconvert_exporter": "python",
   "pygments_lexer": "ipython3",
   "version": "3.6.9"
  }
 },
 "nbformat": 4,
 "nbformat_minor": 5
}
