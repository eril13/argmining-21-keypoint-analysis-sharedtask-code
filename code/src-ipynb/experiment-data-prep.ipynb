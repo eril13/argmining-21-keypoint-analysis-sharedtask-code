<<<<<<< HEAD
{"cells":[{"cell_type":"code","source":["from google.colab import drive\n","drive.mount('/content/drive/')"],"metadata":{"colab":{"base_uri":"https://localhost:8080/"},"id":"g2yNgZzphdPV","executionInfo":{"status":"ok","timestamp":1652872599075,"user_tz":-120,"elapsed":34897,"user":{"displayName":"Valentina Izrailevitch","userId":"09588376943340163507"}},"outputId":"17ff54f5-0116-4e57-fe66-64378b871661"},"id":"g2yNgZzphdPV","execution_count":null,"outputs":[{"output_type":"stream","name":"stdout","text":["Mounted at /content/drive/\n"]}]},{"cell_type":"code","source":["%cd /content/drive/MyDrive/_TUM/Github/argmining-21-keypoint-analysis-sharedtask-code/code/src-ipynb/"],"metadata":{"colab":{"base_uri":"https://localhost:8080/"},"id":"bfuSh-9siKwo","executionInfo":{"status":"ok","timestamp":1652872601342,"user_tz":-120,"elapsed":2285,"user":{"displayName":"Valentina Izrailevitch","userId":"09588376943340163507"}},"outputId":"da3fc021-2fd7-4e5e-bf6f-fc844325e041"},"id":"bfuSh-9siKwo","execution_count":null,"outputs":[{"output_type":"stream","name":"stdout","text":["/content/drive/MyDrive/_TUM/Github/argmining-21-keypoint-analysis-sharedtask-code/code/src-ipynb\n"]}]},{"cell_type":"code","execution_count":null,"id":"333830a6-c203-4276-8c9f-e6bcfe4ad787","metadata":{"id":"333830a6-c203-4276-8c9f-e6bcfe4ad787"},"outputs":[],"source":["import json\n","import pandas as pd\n","import numpy as np\n","import matplotlib.pyplot as plt\n","\n","pd.set_option('display.max_colwidth', None)"]},{"cell_type":"code","execution_count":null,"id":"36de71e7-6132-4127-b2a0-96d1ef15af8e","metadata":{"id":"36de71e7-6132-4127-b2a0-96d1ef15af8e"},"outputs":[],"source":["training_df = pd.read_csv('/content/drive/MyDrive/_TUM/Github/argmining-21-keypoint-analysis-sharedtask-code/data/training_df.csv')\n","valid_df = pd.read_csv('/content/drive/MyDrive/_TUM/Github/argmining-21-keypoint-analysis-sharedtask-code/data/valid_df.csv')"]},{"cell_type":"code","execution_count":null,"id":"5326e7c9-06f9-48d3-9c85-ae420f0e6e29","metadata":{"colab":{"base_uri":"https://localhost:8080/"},"id":"5326e7c9-06f9-48d3-9c85-ae420f0e6e29","executionInfo":{"status":"ok","timestamp":1652872603337,"user_tz":-120,"elapsed":38,"user":{"displayName":"Valentina Izrailevitch","userId":"09588376943340163507"}},"outputId":"afc3d868-e534-4c5d-da9a-96acbb97326c"},"outputs":[{"output_type":"execute_result","data":{"text/plain":["People should be allowed to do whatever they want to their own bodies       132\n","Alcohol and tobacco are more harmful drugs yet remain legal                 131\n","Cannabis is safe/healthy/pain-relief                                        130\n","If cannabis was legalized it could be regulated                             128\n","Cannabis is financially beneficial                                          127\n","                                                                           ... \n","The government is essential to protect the rights of citizens                64\n","Religions are immoral and people should not follow them                      61\n","Intellectual property restricts access to important information/products     61\n","Men are better suited to combat roles than women                             59\n","The terminally ill would benefit from assisted suicide                       58\n","Name: key_point, Length: 207, dtype: int64"]},"metadata":{},"execution_count":5}],"source":["training_df.key_point.value_counts()"]},{"cell_type":"code","source":[""],"metadata":{"id":"mGjLw2OlhWbf"},"id":"mGjLw2OlhWbf","execution_count":null,"outputs":[]},{"cell_type":"code","execution_count":null,"id":"2527c629-f707-4fdc-82da-554739d4e75b","metadata":{"scrolled":true,"tags":[],"colab":{"base_uri":"https://localhost:8080/","height":354},"id":"2527c629-f707-4fdc-82da-554739d4e75b","executionInfo":{"status":"ok","timestamp":1652872603339,"user_tz":-120,"elapsed":33,"user":{"displayName":"Valentina Izrailevitch","userId":"09588376943340163507"}},"outputId":"3894bc90-25e7-4a53-c0fd-723a8ce3f639"},"outputs":[{"output_type":"execute_result","data":{"text/plain":["    arg_id key_point_id  label  \\\n","0  arg_0_0       kp_0_0      0   \n","1  arg_0_1       kp_0_0      0   \n","2  arg_0_2       kp_0_0      0   \n","3  arg_0_4       kp_0_0      0   \n","4  arg_0_5       kp_0_0      0   \n","\n","                                                                                                                                                                                                         argument  \\\n","0  `people reach their limit when it comes to their quality of life and should be able to end their suffering. this can be done with little or no suffering by assistance and the person is able to say good bye.   \n","1                                                                                                                                            A patient should be able to decide when they have had enough \"care\".   \n","2                                                                       a person has the right to end their suffering and if somebody takes pity on them and chooses to help, that person should not be punished.   \n","3                                                                                                                                 a person should have the right to be able to choose if they want to live or die   \n","4                                                                                                                                                        a person should have the right to die on their own terms   \n","\n","                                           topic  stance  \\\n","0  Assisted suicide should be a criminal offence      -1   \n","1  Assisted suicide should be a criminal offence      -1   \n","2  Assisted suicide should be a criminal offence      -1   \n","3  Assisted suicide should be a criminal offence      -1   \n","4  Assisted suicide should be a criminal offence      -1   \n","\n","                                                              key_point  \n","0  Assisted suicide gives dignity to the person that wants to commit it  \n","1  Assisted suicide gives dignity to the person that wants to commit it  \n","2  Assisted suicide gives dignity to the person that wants to commit it  \n","3  Assisted suicide gives dignity to the person that wants to commit it  \n","4  Assisted suicide gives dignity to the person that wants to commit it  "],"text/html":["\n","  <div id=\"df-5f4b97ee-12b9-47d4-bbe8-100e19d2d31b\">\n","    <div class=\"colab-df-container\">\n","      <div>\n","<style scoped>\n","    .dataframe tbody tr th:only-of-type {\n","        vertical-align: middle;\n","    }\n","\n","    .dataframe tbody tr th {\n","        vertical-align: top;\n","    }\n","\n","    .dataframe thead th {\n","        text-align: right;\n","    }\n","</style>\n","<table border=\"1\" class=\"dataframe\">\n","  <thead>\n","    <tr style=\"text-align: right;\">\n","      <th></th>\n","      <th>arg_id</th>\n","      <th>key_point_id</th>\n","      <th>label</th>\n","      <th>argument</th>\n","      <th>topic</th>\n","      <th>stance</th>\n","      <th>key_point</th>\n","    </tr>\n","  </thead>\n","  <tbody>\n","    <tr>\n","      <th>0</th>\n","      <td>arg_0_0</td>\n","      <td>kp_0_0</td>\n","      <td>0</td>\n","      <td>`people reach their limit when it comes to their quality of life and should be able to end their suffering. this can be done with little or no suffering by assistance and the person is able to say good bye.</td>\n","      <td>Assisted suicide should be a criminal offence</td>\n","      <td>-1</td>\n","      <td>Assisted suicide gives dignity to the person that wants to commit it</td>\n","    </tr>\n","    <tr>\n","      <th>1</th>\n","      <td>arg_0_1</td>\n","      <td>kp_0_0</td>\n","      <td>0</td>\n","      <td>A patient should be able to decide when they have had enough \"care\".</td>\n","      <td>Assisted suicide should be a criminal offence</td>\n","      <td>-1</td>\n","      <td>Assisted suicide gives dignity to the person that wants to commit it</td>\n","    </tr>\n","    <tr>\n","      <th>2</th>\n","      <td>arg_0_2</td>\n","      <td>kp_0_0</td>\n","      <td>0</td>\n","      <td>a person has the right to end their suffering and if somebody takes pity on them and chooses to help, that person should not be punished.</td>\n","      <td>Assisted suicide should be a criminal offence</td>\n","      <td>-1</td>\n","      <td>Assisted suicide gives dignity to the person that wants to commit it</td>\n","    </tr>\n","    <tr>\n","      <th>3</th>\n","      <td>arg_0_4</td>\n","      <td>kp_0_0</td>\n","      <td>0</td>\n","      <td>a person should have the right to be able to choose if they want to live or die</td>\n","      <td>Assisted suicide should be a criminal offence</td>\n","      <td>-1</td>\n","      <td>Assisted suicide gives dignity to the person that wants to commit it</td>\n","    </tr>\n","    <tr>\n","      <th>4</th>\n","      <td>arg_0_5</td>\n","      <td>kp_0_0</td>\n","      <td>0</td>\n","      <td>a person should have the right to die on their own terms</td>\n","      <td>Assisted suicide should be a criminal offence</td>\n","      <td>-1</td>\n","      <td>Assisted suicide gives dignity to the person that wants to commit it</td>\n","    </tr>\n","  </tbody>\n","</table>\n","</div>\n","      <button class=\"colab-df-convert\" onclick=\"convertToInteractive('df-5f4b97ee-12b9-47d4-bbe8-100e19d2d31b')\"\n","              title=\"Convert this dataframe to an interactive table.\"\n","              style=\"display:none;\">\n","        \n","  <svg xmlns=\"http://www.w3.org/2000/svg\" height=\"24px\"viewBox=\"0 0 24 24\"\n","       width=\"24px\">\n","    <path d=\"M0 0h24v24H0V0z\" fill=\"none\"/>\n","    <path d=\"M18.56 5.44l.94 2.06.94-2.06 2.06-.94-2.06-.94-.94-2.06-.94 2.06-2.06.94zm-11 1L8.5 8.5l.94-2.06 2.06-.94-2.06-.94L8.5 2.5l-.94 2.06-2.06.94zm10 10l.94 2.06.94-2.06 2.06-.94-2.06-.94-.94-2.06-.94 2.06-2.06.94z\"/><path d=\"M17.41 7.96l-1.37-1.37c-.4-.4-.92-.59-1.43-.59-.52 0-1.04.2-1.43.59L10.3 9.45l-7.72 7.72c-.78.78-.78 2.05 0 2.83L4 21.41c.39.39.9.59 1.41.59.51 0 1.02-.2 1.41-.59l7.78-7.78 2.81-2.81c.8-.78.8-2.07 0-2.86zM5.41 20L4 18.59l7.72-7.72 1.47 1.35L5.41 20z\"/>\n","  </svg>\n","      </button>\n","      \n","  <style>\n","    .colab-df-container {\n","      display:flex;\n","      flex-wrap:wrap;\n","      gap: 12px;\n","    }\n","\n","    .colab-df-convert {\n","      background-color: #E8F0FE;\n","      border: none;\n","      border-radius: 50%;\n","      cursor: pointer;\n","      display: none;\n","      fill: #1967D2;\n","      height: 32px;\n","      padding: 0 0 0 0;\n","      width: 32px;\n","    }\n","\n","    .colab-df-convert:hover {\n","      background-color: #E2EBFA;\n","      box-shadow: 0px 1px 2px rgba(60, 64, 67, 0.3), 0px 1px 3px 1px rgba(60, 64, 67, 0.15);\n","      fill: #174EA6;\n","    }\n","\n","    [theme=dark] .colab-df-convert {\n","      background-color: #3B4455;\n","      fill: #D2E3FC;\n","    }\n","\n","    [theme=dark] .colab-df-convert:hover {\n","      background-color: #434B5C;\n","      box-shadow: 0px 1px 3px 1px rgba(0, 0, 0, 0.15);\n","      filter: drop-shadow(0px 1px 2px rgba(0, 0, 0, 0.3));\n","      fill: #FFFFFF;\n","    }\n","  </style>\n","\n","      <script>\n","        const buttonEl =\n","          document.querySelector('#df-5f4b97ee-12b9-47d4-bbe8-100e19d2d31b button.colab-df-convert');\n","        buttonEl.style.display =\n","          google.colab.kernel.accessAllowed ? 'block' : 'none';\n","\n","        async function convertToInteractive(key) {\n","          const element = document.querySelector('#df-5f4b97ee-12b9-47d4-bbe8-100e19d2d31b');\n","          const dataTable =\n","            await google.colab.kernel.invokeFunction('convertToInteractive',\n","                                                     [key], {});\n","          if (!dataTable) return;\n","\n","          const docLinkHtml = 'Like what you see? Visit the ' +\n","            '<a target=\"_blank\" href=https://colab.research.google.com/notebooks/data_table.ipynb>data table notebook</a>'\n","            + ' to learn more about interactive tables.';\n","          element.innerHTML = '';\n","          dataTable['output_type'] = 'display_data';\n","          await google.colab.output.renderOutput(dataTable, element);\n","          const docLink = document.createElement('div');\n","          docLink.innerHTML = docLinkHtml;\n","          element.appendChild(docLink);\n","        }\n","      </script>\n","    </div>\n","  </div>\n","  "]},"metadata":{},"execution_count":6}],"source":["training_df.head()"]},{"cell_type":"code","execution_count":null,"id":"515ce47c-a0eb-4604-933d-03502f20d41a","metadata":{"colab":{"base_uri":"https://localhost:8080/","height":265},"id":"515ce47c-a0eb-4604-933d-03502f20d41a","executionInfo":{"status":"ok","timestamp":1652872603339,"user_tz":-120,"elapsed":25,"user":{"displayName":"Valentina Izrailevitch","userId":"09588376943340163507"}},"outputId":"76e942d7-1dce-4ede-97f4-8a525fbac8d5"},"outputs":[{"output_type":"display_data","data":{"text/plain":["<Figure size 432x288 with 1 Axes>"],"image/png":"iVBORw0KGgoAAAANSUhEUgAAAX0AAAD4CAYAAAAAczaOAAAABHNCSVQICAgIfAhkiAAAAAlwSFlzAAALEgAACxIB0t1+/AAAADh0RVh0U29mdHdhcmUAbWF0cGxvdGxpYiB2ZXJzaW9uMy4yLjIsIGh0dHA6Ly9tYXRwbG90bGliLm9yZy+WH4yJAAATyElEQVR4nO3df4xd5Z3f8fcnhpA0iWKzzFLXdtd062plVo1BrmE3UcUGBQzpykTajYyqxEJI3rZGSqTVqpA/lg0pUlbqLhVSwspb3JhVNsTKj8ZinSVegpSmET+G1AEMocwCKbYcPBsTEkpLZfrtH/dxc3FmPHfsmTuQ5/2Srubc73nOOc85fvyZe885906qCklSH96y1B2QJI2PoS9JHTH0Jakjhr4kdcTQl6SOnLXUHTiV8847r9auXbvU3ZCkN5VHHnnk76pqYqZ5b+jQX7t2LZOTk0vdDUl6U0nyg9nmeXpHkjpi6EtSRwx9SeqIoS9JHTH0Jakjhr4kdcTQl6SOGPqS1BFDX5I68ob+RO6ZWnvjXy3Jdp/79AeXZLuSNBdf6UtSRwx9SeqIoS9JHTH0Jakjhr4kdcTQl6SOGPqS1BFDX5I6YuhLUkcMfUnqiKEvSR2ZM/STvC3JQ0m+l+Rgkk+2+ueSPJvkQHtsaPUkuT3JVJJHk1w8tK5tSZ5uj22Lt1uSpJmM8oVrrwLvr6qXk5wNfDvJ19u8P6iqL53U/ipgXXtcAtwBXJLkXOBmYCNQwCNJ9lbViwuxI5Kkuc35Sr8GXm5Pz26POsUiW4C72nIPAMuTrASuBPZX1bEW9PuBzWfWfUnSfIx0Tj/JsiQHgKMMgvvBNuvWdgrntiTntNoq4PmhxQ+12mz1k7e1Pclkksnp6el57o4k6VRGCv2qeq2qNgCrgU1Jfh24Cfg14J8B5wL/diE6VFU7q2pjVW2cmJhYiFVKkpp53b1TVT8G7gc2V9WRdgrnVeA/AZtas8PAmqHFVrfabHVJ0piMcvfORJLlbfrtwAeA77fz9CQJcA3weFtkL/DRdhfPpcBLVXUEuBe4IsmKJCuAK1pNkjQmo9y9sxLYnWQZg18Se6rqniTfTDIBBDgA/KvWfh9wNTAFvAJcB1BVx5J8Cni4tbulqo4t3K5IkuYyZ+hX1aPARTPU3z9L+wJ2zDJvF7Brnn2UJC0QP5ErSR0x9CWpI4a+JHXE0Jekjhj6ktQRQ1+SOmLoS1JHDH1J6oihL0kdMfQlqSOGviR1xNCXpI4Y+pLUEUNfkjpi6EtSRwx9SeqIoS9JHTH0Jakjo/xh9LcleSjJ95IcTPLJVr8gyYNJppJ8MclbW/2c9nyqzV87tK6bWv2pJFcu1k5JkmY2yiv9V4H3V9V7gA3A5iSXAn8M3FZV/xh4Ebi+tb8eeLHVb2vtSLIe2ApcCGwGPtv+2LokaUzmDP0aeLk9Pbs9Cng/8KVW3w1c06a3tOe0+ZcnSavfXVWvVtWzwBSwaUH2QpI0kpHO6SdZluQAcBTYD/wt8OOqOt6aHAJWtelVwPMAbf5LwC8N12dYZnhb25NMJpmcnp6e/x5JkmY1UuhX1WtVtQFYzeDV+a8tVoeqamdVbayqjRMTE4u1GUnq0rzu3qmqHwP3A78BLE9yVpu1Gjjcpg8DawDa/HcDPxquz7CMJGkMRrl7ZyLJ8jb9duADwJMMwv93WrNtwNfa9N72nDb/m1VVrb613d1zAbAOeGihdkSSNLez5m7CSmB3u9PmLcCeqronyRPA3Un+HfDfgDtb+zuBv0gyBRxjcMcOVXUwyR7gCeA4sKOqXlvY3ZEkncqcoV9VjwIXzVB/hhnuvqmq/w387izruhW4df7dlCQtBD+RK0kdMfQlqSOGviR1xNCXpI4Y+pLUEUNfkjpi6EtSRwx9SeqIoS9JHTH0Jakjhr4kdcTQl6SOGPqS1BFDX5I6YuhLUkcMfUnqiKEvSR0x9CWpI4a+JHVkztBPsibJ/UmeSHIwycda/Y+SHE5yoD2uHlrmpiRTSZ5KcuVQfXOrTSW5cXF2SZI0mzn/MDpwHPj9qvpukncBjyTZ3+bdVlX/frhxkvXAVuBC4B8Af5Pkn7TZnwE+ABwCHk6yt6qeWIgdkSTNbc7Qr6ojwJE2/dMkTwKrTrHIFuDuqnoVeDbJFLCpzZuqqmcAktzd2hr6kjQm8zqnn2QtcBHwYCvdkOTRJLuSrGi1VcDzQ4sdarXZ6idvY3uSySST09PT8+meJGkOI4d+kncCXwY+XlU/Ae4AfhXYwOCdwJ8sRIeqamdVbayqjRMTEwuxSklSM8o5fZKczSDwP19VXwGoqheG5v85cE97ehhYM7T46lbjFHVJ0hiMcvdOgDuBJ6vqT4fqK4eafQh4vE3vBbYmOSfJBcA64CHgYWBdkguSvJXBxd69C7MbkqRRjPJK/73AR4DHkhxotU8A1ybZABTwHPB7AFV1MMkeBhdojwM7quo1gCQ3APcCy4BdVXVwAfdFkjSHUe7e+TaQGWbtO8UytwK3zlDfd6rlJEmLy0/kSlJHDH1J6oihL0kdMfQlqSOGviR1xNCXpI4Y+pLUEUNfkjpi6EtSRwx9SeqIoS9JHTH0Jakjhr4kdcTQl6SOGPqS1BFDX5I6YuhLUkcMfUnqyCh/GH1NkvuTPJHkYJKPtfq5SfYnebr9XNHqSXJ7kqkkjya5eGhd21r7p5NsW7zdkiTNZJRX+seB36+q9cClwI4k64Ebgfuqah1wX3sOcBWwrj22A3fA4JcEcDNwCbAJuPnELwpJ0njMGfpVdaSqvtumfwo8CawCtgC7W7PdwDVtegtwVw08ACxPshK4EthfVceq6kVgP7B5QfdGknRK8zqnn2QtcBHwIHB+VR1ps34InN+mVwHPDy12qNVmq5+8je1JJpNMTk9Pz6d7kqQ5jBz6Sd4JfBn4eFX9ZHheVRVQC9GhqtpZVRurauPExMRCrFKS1IwU+knOZhD4n6+qr7TyC+20De3n0VY/DKwZWnx1q81WlySNySh37wS4E3iyqv50aNZe4MQdONuArw3VP9ru4rkUeKmdBroXuCLJinYB94pWkySNyVkjtHkv8BHgsSQHWu0TwKeBPUmuB34AfLjN2wdcDUwBrwDXAVTVsSSfAh5u7W6pqmMLsheSpJHMGfpV9W0gs8y+fIb2BeyYZV27gF3z6aAkaeH4iVxJ6oihL0kdMfQlqSOGviR1xNCXpI4Y+pLUEUNfkjpi6EtSRwx9SeqIoS9JHTH0Jakjhr4kdcTQl6SOGPqS1BFDX5I6YuhLUkcMfUnqiKEvSR0Z5Q+j70pyNMnjQ7U/SnI4yYH2uHpo3k1JppI8leTKofrmVptKcuPC74okaS6jvNL/HLB5hvptVbWhPfYBJFkPbAUubMt8NsmyJMuAzwBXAeuBa1tbSdIYjfKH0b+VZO2I69sC3F1VrwLPJpkCNrV5U1X1DECSu1vbJ+bdY0nSaTuTc/o3JHm0nf5Z0WqrgOeH2hxqtdnqkqQxOt3QvwP4VWADcAT4k4XqUJLtSSaTTE5PTy/UaiVJnGboV9ULVfVaVf1f4M/52Smcw8CaoaarW222+kzr3llVG6tq48TExOl0T5I0i9MK/SQrh55+CDhxZ89eYGuSc5JcAKwDHgIeBtYluSDJWxlc7N17+t2WJJ2OOS/kJvkCcBlwXpJDwM3AZUk2AAU8B/weQFUdTLKHwQXa48COqnqtrecG4F5gGbCrqg4u+N5Ikk5plLt3rp2hfOcp2t8K3DpDfR+wb169kyQtKD+RK0kdMfQlqSOGviR1xNCXpI4Y+pLUEUNfkjpi6EtSRwx9SeqIoS9JHTH0Jakjhr4kdcTQl6SOGPqS1BFDX5I6YuhLUkcMfUnqiKEvSR0x9CWpI4a+JHVkztBPsivJ0SSPD9XOTbI/ydPt54pWT5Lbk0wleTTJxUPLbGvtn06ybXF2R5J0KqO80v8csPmk2o3AfVW1DrivPQe4CljXHtuBO2DwSwK4GbgE2ATcfOIXhSRpfOYM/ar6FnDspPIWYHeb3g1cM1S/qwYeAJYnWQlcCeyvqmNV9SKwn5//RSJJWmSne07//Ko60qZ/CJzfplcBzw+1O9Rqs9V/TpLtSSaTTE5PT59m9yRJMznjC7lVVUAtQF9OrG9nVW2sqo0TExMLtVpJEqcf+i+00za0n0db/TCwZqjd6labrS5JGqPTDf29wIk7cLYBXxuqf7TdxXMp8FI7DXQvcEWSFe0C7hWtJkkao7PmapDkC8BlwHlJDjG4C+fTwJ4k1wM/AD7cmu8DrgamgFeA6wCq6liSTwEPt3a3VNXJF4clSYtsztCvqmtnmXX5DG0L2DHLenYBu+bVO0nSgvITuZLUEUNfkjpi6EtSRwx9SeqIoS9JHTH0Jakjhr4kdcTQl6SOGPqS1BFDX5I6YuhLUkcMfUnqiKEvSR0x9CWpI4a+JHXE0Jekjhj6ktQRQ1+SOnJGoZ/kuSSPJTmQZLLVzk2yP8nT7eeKVk+S25NMJXk0ycULsQOSpNEtxCv936qqDVW1sT2/EbivqtYB97XnAFcB69pjO3DHAmxbkjQPi3F6Zwuwu03vBq4Zqt9VAw8Ay5OsXITtS5JmcaahX8A3kjySZHurnV9VR9r0D4Hz2/Qq4PmhZQ+12usk2Z5kMsnk9PT0GXZPkjTsrDNc/n1VdTjJLwP7k3x/eGZVVZKazwqraiewE2Djxo3zWlaSdGpn9Eq/qg63n0eBrwKbgBdOnLZpP4+25oeBNUOLr241SdKYnHboJ3lHknedmAauAB4H9gLbWrNtwNfa9F7go+0unkuBl4ZOA0mSxuBMTu+cD3w1yYn1/GVV/XWSh4E9Sa4HfgB8uLXfB1wNTAGvANedwbYlSafhtEO/qp4B3jND/UfA5TPUC9hxutuTJJ05P5ErSR0x9CWpI4a+JHXE0Jekjhj6ktQRQ1+SOmLoS1JHDH1J6oihL0kdOdNv2ZS6tfbGv1qS7T736Q8uyXb1i8FX+pLUEUNfkjpi6EtSRwx9SeqIoS9JHTH0Jakjhr4kdcTQl6SOGPqS1JGxh36SzUmeSjKV5MZxb1+SejbW0E+yDPgMcBWwHrg2yfpx9kGSejbuV/qbgKmqeqaq/g9wN7BlzH2QpG6N+wvXVgHPDz0/BFwy3CDJdmB7e/pykqfOYHvnAX93BsuflvzxnE2WpF8jsF/z4/iaH/s1P2fSr1+ZbcYb7ls2q2onsHMh1pVksqo2LsS6FpL9mh/7NT/2a35669e4T+8cBtYMPV/dapKkMRh36D8MrEtyQZK3AluBvWPugyR1a6ynd6rqeJIbgHuBZcCuqjq4iJtckNNEi8B+zY/9mh/7NT9d9StVtRjrlSS9AfmJXEnqiKEvSR15U4Z+kl1JjiZ5fJb5SXJ7+6qHR5NcPDRvW5Kn22PbmPv1L1t/HkvynSTvGZr3XKsfSDI55n5dluSltu0DSf5waN6ifW3GCP36g6E+PZ7ktSTntnmLebzWJLk/yRNJDib52AxtxjrGRuzTUo2vUfo29jE2Yr/GPsaSvC3JQ0m+1/r1yRnanJPki+2YPJhk7dC8m1r9qSRXzrsDVfWmewD/HLgYeHyW+VcDXwcCXAo82OrnAs+0nyva9Iox9us3T2yPwVdRPDg07zngvCU6XpcB98xQXwb8LfCPgLcC3wPWj6tfJ7X9beCbYzpeK4GL2/S7gP9+8n6Pe4yN2KelGl+j9G3sY2yUfi3FGGtj5p1t+mzgQeDSk9r8G+DP2vRW4Itten07RucAF7Rjt2w+239TvtKvqm8Bx07RZAtwVw08ACxPshK4EthfVceq6kVgP7B5XP2qqu+07QI8wOBzCotuhOM1m0X92ox59uta4AsLte1TqaojVfXdNv1T4EkGnyYfNtYxNkqflnB8jXK8ZrNoY+w0+jWWMdbGzMvt6dntcfIdNVuA3W36S8DlSdLqd1fVq1X1LDDF4BiO7E0Z+iOY6eseVp2ivhSuZ/BK8YQCvpHkkQy+imLcfqO93fx6kgtb7Q1xvJL8PQbB+eWh8liOV3tbfRGDV2PDlmyMnaJPw5ZkfM3RtyUbY3Mds3GPsSTLkhwAjjJ4kTDr+Kqq48BLwC+xAMfrDfc1DD1I8lsM/lO+b6j8vqo6nOSXgf1Jvt9eCY/Dd4FfqaqXk1wN/Gdg3Zi2PYrfBv5rVQ2/K1j045XknQxC4ONV9ZOFXPfpGqVPSzW+5ujbko2xEf8dxzrGquo1YEOS5cBXk/x6Vc14bWuh/aK+0p/t6x6W/GsgkvxT4D8CW6rqRyfqVXW4/TwKfJV5vmU7E1X1kxNvN6tqH3B2kvN4AxyvZisnve1e7OOV5GwGQfH5qvrKDE3GPsZG6NOSja+5+rZUY2yUY9aMfYy1df8YuJ+fPwX4/49LkrOAdwM/YiGO10JfpBjXA1jL7BcmP8jrL7I91OrnAs8yuMC2ok2fO8Z+/UMG5+B+86T6O4B3DU1/B9g8xn79fX72Qb1NwP9ox+4sBhciL+BnF9kuHFe/2vx3Mzjv/45xHa+273cB/+EUbcY6xkbs05KMrxH7NvYxNkq/lmKMARPA8jb9duC/AP/ipDY7eP2F3D1t+kJefyH3GeZ5IfdNeXonyRcY3A1wXpJDwM0MLoZQVX8G7GNwd8UU8ApwXZt3LMmnGHwHEMAt9fq3c4vdrz9kcF7us4NrMhyvwbfonc/gLR4M/hP8ZVX99Rj79TvAv05yHPhfwNYajLBF/dqMEfoF8CHgG1X1P4cWXdTjBbwX+AjwWDvvCvAJBqG6VGNslD4tyfgasW9LMcZG6ReMf4ytBHZn8Eel3sIg0O9JcgswWVV7gTuBv0gyxeAX0tbW54NJ9gBPAMeBHTU4VTQyv4ZBkjryi3pOX5I0A0Nfkjpi6EtSRwx9SeqIoS9JHTH0Jakjhr4kdeT/AWnSfC7CdJRDAAAAAElFTkSuQmCC\n"},"metadata":{"needs_background":"light"}}],"source":["keypoints_per_arg = [x[1] for x in training_df[training_df.label == 1].arg_id.value_counts().to_dict().items()]\n","plt.hist(keypoints_per_arg)\n","plt.show()"]},{"cell_type":"code","execution_count":null,"id":"9809cfe2-3bd3-450c-8a6a-755ab267cc3d","metadata":{"colab":{"base_uri":"https://localhost:8080/","height":265},"id":"9809cfe2-3bd3-450c-8a6a-755ab267cc3d","executionInfo":{"status":"ok","timestamp":1652872603945,"user_tz":-120,"elapsed":626,"user":{"displayName":"Valentina Izrailevitch","userId":"09588376943340163507"}},"outputId":"a41769be-7632-4b48-d28e-2a4539cffe93"},"outputs":[{"output_type":"display_data","data":{"text/plain":["<Figure size 432x288 with 1 Axes>"],"image/png":"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\n"},"metadata":{"needs_background":"light"}}],"source":["args_per_keypoints = [x[1] for x in training_df[training_df.label == 1].key_point_id.value_counts().to_dict().items()]\n","plt.hist(args_per_keypoints)\n","plt.show()"]},{"cell_type":"markdown","id":"d3dd6803-1787-40e2-a853-6ef63037aa36","metadata":{"id":"d3dd6803-1787-40e2-a853-6ef63037aa36"},"source":["-------------"]},{"cell_type":"markdown","id":"bddf73c0-55a2-49b7-aca3-830f8c138945","metadata":{"id":"bddf73c0-55a2-49b7-aca3-830f8c138945"},"source":["### Creating data for ContrastiveLoss:"]},{"cell_type":"code","execution_count":null,"id":"7e4340ce-ad26-4a1c-be96-99bec75de9ea","metadata":{"scrolled":true,"tags":[],"colab":{"base_uri":"https://localhost:8080/","height":354},"id":"7e4340ce-ad26-4a1c-be96-99bec75de9ea","executionInfo":{"status":"ok","timestamp":1652872603947,"user_tz":-120,"elapsed":23,"user":{"displayName":"Valentina Izrailevitch","userId":"09588376943340163507"}},"outputId":"1093d5e9-5245-4603-f34d-f525286031cc"},"outputs":[{"output_type":"execute_result","data":{"text/plain":["    arg_id key_point_id  label  \\\n","0  arg_0_0       kp_0_0      0   \n","1  arg_0_1       kp_0_0      0   \n","2  arg_0_2       kp_0_0      0   \n","3  arg_0_4       kp_0_0      0   \n","4  arg_0_5       kp_0_0      0   \n","\n","                                                                                                                                                                                                         argument  \\\n","0  `people reach their limit when it comes to their quality of life and should be able to end their suffering. this can be done with little or no suffering by assistance and the person is able to say good bye.   \n","1                                                                                                                                            A patient should be able to decide when they have had enough \"care\".   \n","2                                                                       a person has the right to end their suffering and if somebody takes pity on them and chooses to help, that person should not be punished.   \n","3                                                                                                                                 a person should have the right to be able to choose if they want to live or die   \n","4                                                                                                                                                        a person should have the right to die on their own terms   \n","\n","                                           topic  stance  \\\n","0  Assisted suicide should be a criminal offence      -1   \n","1  Assisted suicide should be a criminal offence      -1   \n","2  Assisted suicide should be a criminal offence      -1   \n","3  Assisted suicide should be a criminal offence      -1   \n","4  Assisted suicide should be a criminal offence      -1   \n","\n","                                                              key_point  \n","0  Assisted suicide gives dignity to the person that wants to commit it  \n","1  Assisted suicide gives dignity to the person that wants to commit it  \n","2  Assisted suicide gives dignity to the person that wants to commit it  \n","3  Assisted suicide gives dignity to the person that wants to commit it  \n","4  Assisted suicide gives dignity to the person that wants to commit it  "],"text/html":["\n","  <div id=\"df-6b585f11-d22c-495d-8480-32498139c888\">\n","    <div class=\"colab-df-container\">\n","      <div>\n","<style scoped>\n","    .dataframe tbody tr th:only-of-type {\n","        vertical-align: middle;\n","    }\n","\n","    .dataframe tbody tr th {\n","        vertical-align: top;\n","    }\n","\n","    .dataframe thead th {\n","        text-align: right;\n","    }\n","</style>\n","<table border=\"1\" class=\"dataframe\">\n","  <thead>\n","    <tr style=\"text-align: right;\">\n","      <th></th>\n","      <th>arg_id</th>\n","      <th>key_point_id</th>\n","      <th>label</th>\n","      <th>argument</th>\n","      <th>topic</th>\n","      <th>stance</th>\n","      <th>key_point</th>\n","    </tr>\n","  </thead>\n","  <tbody>\n","    <tr>\n","      <th>0</th>\n","      <td>arg_0_0</td>\n","      <td>kp_0_0</td>\n","      <td>0</td>\n","      <td>`people reach their limit when it comes to their quality of life and should be able to end their suffering. this can be done with little or no suffering by assistance and the person is able to say good bye.</td>\n","      <td>Assisted suicide should be a criminal offence</td>\n","      <td>-1</td>\n","      <td>Assisted suicide gives dignity to the person that wants to commit it</td>\n","    </tr>\n","    <tr>\n","      <th>1</th>\n","      <td>arg_0_1</td>\n","      <td>kp_0_0</td>\n","      <td>0</td>\n","      <td>A patient should be able to decide when they have had enough \"care\".</td>\n","      <td>Assisted suicide should be a criminal offence</td>\n","      <td>-1</td>\n","      <td>Assisted suicide gives dignity to the person that wants to commit it</td>\n","    </tr>\n","    <tr>\n","      <th>2</th>\n","      <td>arg_0_2</td>\n","      <td>kp_0_0</td>\n","      <td>0</td>\n","      <td>a person has the right to end their suffering and if somebody takes pity on them and chooses to help, that person should not be punished.</td>\n","      <td>Assisted suicide should be a criminal offence</td>\n","      <td>-1</td>\n","      <td>Assisted suicide gives dignity to the person that wants to commit it</td>\n","    </tr>\n","    <tr>\n","      <th>3</th>\n","      <td>arg_0_4</td>\n","      <td>kp_0_0</td>\n","      <td>0</td>\n","      <td>a person should have the right to be able to choose if they want to live or die</td>\n","      <td>Assisted suicide should be a criminal offence</td>\n","      <td>-1</td>\n","      <td>Assisted suicide gives dignity to the person that wants to commit it</td>\n","    </tr>\n","    <tr>\n","      <th>4</th>\n","      <td>arg_0_5</td>\n","      <td>kp_0_0</td>\n","      <td>0</td>\n","      <td>a person should have the right to die on their own terms</td>\n","      <td>Assisted suicide should be a criminal offence</td>\n","      <td>-1</td>\n","      <td>Assisted suicide gives dignity to the person that wants to commit it</td>\n","    </tr>\n","  </tbody>\n","</table>\n","</div>\n","      <button class=\"colab-df-convert\" onclick=\"convertToInteractive('df-6b585f11-d22c-495d-8480-32498139c888')\"\n","              title=\"Convert this dataframe to an interactive table.\"\n","              style=\"display:none;\">\n","        \n","  <svg xmlns=\"http://www.w3.org/2000/svg\" height=\"24px\"viewBox=\"0 0 24 24\"\n","       width=\"24px\">\n","    <path d=\"M0 0h24v24H0V0z\" fill=\"none\"/>\n","    <path d=\"M18.56 5.44l.94 2.06.94-2.06 2.06-.94-2.06-.94-.94-2.06-.94 2.06-2.06.94zm-11 1L8.5 8.5l.94-2.06 2.06-.94-2.06-.94L8.5 2.5l-.94 2.06-2.06.94zm10 10l.94 2.06.94-2.06 2.06-.94-2.06-.94-.94-2.06-.94 2.06-2.06.94z\"/><path d=\"M17.41 7.96l-1.37-1.37c-.4-.4-.92-.59-1.43-.59-.52 0-1.04.2-1.43.59L10.3 9.45l-7.72 7.72c-.78.78-.78 2.05 0 2.83L4 21.41c.39.39.9.59 1.41.59.51 0 1.02-.2 1.41-.59l7.78-7.78 2.81-2.81c.8-.78.8-2.07 0-2.86zM5.41 20L4 18.59l7.72-7.72 1.47 1.35L5.41 20z\"/>\n","  </svg>\n","      </button>\n","      \n","  <style>\n","    .colab-df-container {\n","      display:flex;\n","      flex-wrap:wrap;\n","      gap: 12px;\n","    }\n","\n","    .colab-df-convert {\n","      background-color: #E8F0FE;\n","      border: none;\n","      border-radius: 50%;\n","      cursor: pointer;\n","      display: none;\n","      fill: #1967D2;\n","      height: 32px;\n","      padding: 0 0 0 0;\n","      width: 32px;\n","    }\n","\n","    .colab-df-convert:hover {\n","      background-color: #E2EBFA;\n","      box-shadow: 0px 1px 2px rgba(60, 64, 67, 0.3), 0px 1px 3px 1px rgba(60, 64, 67, 0.15);\n","      fill: #174EA6;\n","    }\n","\n","    [theme=dark] .colab-df-convert {\n","      background-color: #3B4455;\n","      fill: #D2E3FC;\n","    }\n","\n","    [theme=dark] .colab-df-convert:hover {\n","      background-color: #434B5C;\n","      box-shadow: 0px 1px 3px 1px rgba(0, 0, 0, 0.15);\n","      filter: drop-shadow(0px 1px 2px rgba(0, 0, 0, 0.3));\n","      fill: #FFFFFF;\n","    }\n","  </style>\n","\n","      <script>\n","        const buttonEl =\n","          document.querySelector('#df-6b585f11-d22c-495d-8480-32498139c888 button.colab-df-convert');\n","        buttonEl.style.display =\n","          google.colab.kernel.accessAllowed ? 'block' : 'none';\n","\n","        async function convertToInteractive(key) {\n","          const element = document.querySelector('#df-6b585f11-d22c-495d-8480-32498139c888');\n","          const dataTable =\n","            await google.colab.kernel.invokeFunction('convertToInteractive',\n","                                                     [key], {});\n","          if (!dataTable) return;\n","\n","          const docLinkHtml = 'Like what you see? Visit the ' +\n","            '<a target=\"_blank\" href=https://colab.research.google.com/notebooks/data_table.ipynb>data table notebook</a>'\n","            + ' to learn more about interactive tables.';\n","          element.innerHTML = '';\n","          dataTable['output_type'] = 'display_data';\n","          await google.colab.output.renderOutput(dataTable, element);\n","          const docLink = document.createElement('div');\n","          docLink.innerHTML = docLinkHtml;\n","          element.appendChild(docLink);\n","        }\n","      </script>\n","    </div>\n","  </div>\n","  "]},"metadata":{},"execution_count":9}],"source":["training_df.head()"]},{"cell_type":"code","execution_count":null,"id":"8dd11760-4e22-4188-9bf0-2972a7e41235","metadata":{"id":"8dd11760-4e22-4188-9bf0-2972a7e41235"},"outputs":[],"source":["df = training_df.copy()\n","df['keypoint'] = df.apply(lambda x: x['topic'] + ' <SEP> ' + x['key_point'], axis=1)\n","df['label'] = df.label.apply(lambda x: int(x))\n","#df[['argument', 'keypoint', 'label']].to_csv('/workspace/ceph_data/keypoint-analysis-sharedtask/siamese-data/training_df_contrastive.csv')\n","df[['argument', 'keypoint', 'label']].to_csv('../../data/training_df_contrastive.csv')\n","\n","df = valid_df.copy()\n","df['keypoint'] = df.apply(lambda x: x['topic'] + ' <SEP> ' + x['key_point'], axis=1)\n","df['label'] = df.label.apply(lambda x: int(x))\n","#df[['argument', 'keypoint', 'label']].to_csv('/workspace/ceph_data/keypoint-analysis-sharedtask/siamese-data/valid_df_contrastive.csv')\n","df[['argument', 'keypoint', 'label']].to_csv('../../data/valid_df_contrastive.csv')"]},{"cell_type":"code","execution_count":null,"id":"7d1abc06-20db-4b0a-a71e-46eaea9861dc","metadata":{"scrolled":true,"tags":[],"colab":{"base_uri":"https://localhost:8080/","height":424},"id":"7d1abc06-20db-4b0a-a71e-46eaea9861dc","executionInfo":{"status":"ok","timestamp":1652872605966,"user_tz":-120,"elapsed":9,"user":{"displayName":"Valentina Izrailevitch","userId":"09588376943340163507"}},"outputId":"e251048d-599e-4e5d-957e-a59d87ab687e"},"outputs":[{"output_type":"execute_result","data":{"text/plain":["      arg_id key_point_id  label  \\\n","0  arg_4_121       kp_4_5      1   \n","1  arg_4_122       kp_4_5      1   \n","2  arg_4_123       kp_4_5      1   \n","3  arg_4_124       kp_4_5      1   \n","4  arg_4_126       kp_4_5      1   \n","\n","                                                                                                                                                                                             argument  \\\n","0  A real education is about giving students the tools to learn, think, and express themselves; dictating to them what to wear sends a strong message that we don't trust them to think on their own.   \n","1                                                                                                   children express themselves through the clothes they wear and should be able to do this at school   \n","2                                              children should be able to dress as they wish, within reason, at school rather than being restricted from expressing themselves through their clothes.   \n","3                                                                                                                                                    children should be allowed to express themselves   \n","4                                                                                  freedom of expression extends to the right to choose one's own clothing and a school uniform prevents this choice.   \n","\n","                                         topic  stance  \\\n","0  We should abandon the use of school uniform       1   \n","1  We should abandon the use of school uniform       1   \n","2  We should abandon the use of school uniform       1   \n","3  We should abandon the use of school uniform       1   \n","4  We should abandon the use of school uniform       1   \n","\n","                                                 key_point  \\\n","0  School uniform is harming the student's self expression   \n","1  School uniform is harming the student's self expression   \n","2  School uniform is harming the student's self expression   \n","3  School uniform is harming the student's self expression   \n","4  School uniform is harming the student's self expression   \n","\n","                                                                                                    keypoint  \n","0  We should abandon the use of school uniform <SEP> School uniform is harming the student's self expression  \n","1  We should abandon the use of school uniform <SEP> School uniform is harming the student's self expression  \n","2  We should abandon the use of school uniform <SEP> School uniform is harming the student's self expression  \n","3  We should abandon the use of school uniform <SEP> School uniform is harming the student's self expression  \n","4  We should abandon the use of school uniform <SEP> School uniform is harming the student's self expression  "],"text/html":["\n","  <div id=\"df-95d3325c-dbe8-448f-be0f-9612ff3d770b\">\n","    <div class=\"colab-df-container\">\n","      <div>\n","<style scoped>\n","    .dataframe tbody tr th:only-of-type {\n","        vertical-align: middle;\n","    }\n","\n","    .dataframe tbody tr th {\n","        vertical-align: top;\n","    }\n","\n","    .dataframe thead th {\n","        text-align: right;\n","    }\n","</style>\n","<table border=\"1\" class=\"dataframe\">\n","  <thead>\n","    <tr style=\"text-align: right;\">\n","      <th></th>\n","      <th>arg_id</th>\n","      <th>key_point_id</th>\n","      <th>label</th>\n","      <th>argument</th>\n","      <th>topic</th>\n","      <th>stance</th>\n","      <th>key_point</th>\n","      <th>keypoint</th>\n","    </tr>\n","  </thead>\n","  <tbody>\n","    <tr>\n","      <th>0</th>\n","      <td>arg_4_121</td>\n","      <td>kp_4_5</td>\n","      <td>1</td>\n","      <td>A real education is about giving students the tools to learn, think, and express themselves; dictating to them what to wear sends a strong message that we don't trust them to think on their own.</td>\n","      <td>We should abandon the use of school uniform</td>\n","      <td>1</td>\n","      <td>School uniform is harming the student's self expression</td>\n","      <td>We should abandon the use of school uniform &lt;SEP&gt; School uniform is harming the student's self expression</td>\n","    </tr>\n","    <tr>\n","      <th>1</th>\n","      <td>arg_4_122</td>\n","      <td>kp_4_5</td>\n","      <td>1</td>\n","      <td>children express themselves through the clothes they wear and should be able to do this at school</td>\n","      <td>We should abandon the use of school uniform</td>\n","      <td>1</td>\n","      <td>School uniform is harming the student's self expression</td>\n","      <td>We should abandon the use of school uniform &lt;SEP&gt; School uniform is harming the student's self expression</td>\n","    </tr>\n","    <tr>\n","      <th>2</th>\n","      <td>arg_4_123</td>\n","      <td>kp_4_5</td>\n","      <td>1</td>\n","      <td>children should be able to dress as they wish, within reason, at school rather than being restricted from expressing themselves through their clothes.</td>\n","      <td>We should abandon the use of school uniform</td>\n","      <td>1</td>\n","      <td>School uniform is harming the student's self expression</td>\n","      <td>We should abandon the use of school uniform &lt;SEP&gt; School uniform is harming the student's self expression</td>\n","    </tr>\n","    <tr>\n","      <th>3</th>\n","      <td>arg_4_124</td>\n","      <td>kp_4_5</td>\n","      <td>1</td>\n","      <td>children should be allowed to express themselves</td>\n","      <td>We should abandon the use of school uniform</td>\n","      <td>1</td>\n","      <td>School uniform is harming the student's self expression</td>\n","      <td>We should abandon the use of school uniform &lt;SEP&gt; School uniform is harming the student's self expression</td>\n","    </tr>\n","    <tr>\n","      <th>4</th>\n","      <td>arg_4_126</td>\n","      <td>kp_4_5</td>\n","      <td>1</td>\n","      <td>freedom of expression extends to the right to choose one's own clothing and a school uniform prevents this choice.</td>\n","      <td>We should abandon the use of school uniform</td>\n","      <td>1</td>\n","      <td>School uniform is harming the student's self expression</td>\n","      <td>We should abandon the use of school uniform &lt;SEP&gt; School uniform is harming the student's self expression</td>\n","    </tr>\n","  </tbody>\n","</table>\n","</div>\n","      <button class=\"colab-df-convert\" onclick=\"convertToInteractive('df-95d3325c-dbe8-448f-be0f-9612ff3d770b')\"\n","              title=\"Convert this dataframe to an interactive table.\"\n","              style=\"display:none;\">\n","        \n","  <svg xmlns=\"http://www.w3.org/2000/svg\" height=\"24px\"viewBox=\"0 0 24 24\"\n","       width=\"24px\">\n","    <path d=\"M0 0h24v24H0V0z\" fill=\"none\"/>\n","    <path d=\"M18.56 5.44l.94 2.06.94-2.06 2.06-.94-2.06-.94-.94-2.06-.94 2.06-2.06.94zm-11 1L8.5 8.5l.94-2.06 2.06-.94-2.06-.94L8.5 2.5l-.94 2.06-2.06.94zm10 10l.94 2.06.94-2.06 2.06-.94-2.06-.94-.94-2.06-.94 2.06-2.06.94z\"/><path d=\"M17.41 7.96l-1.37-1.37c-.4-.4-.92-.59-1.43-.59-.52 0-1.04.2-1.43.59L10.3 9.45l-7.72 7.72c-.78.78-.78 2.05 0 2.83L4 21.41c.39.39.9.59 1.41.59.51 0 1.02-.2 1.41-.59l7.78-7.78 2.81-2.81c.8-.78.8-2.07 0-2.86zM5.41 20L4 18.59l7.72-7.72 1.47 1.35L5.41 20z\"/>\n","  </svg>\n","      </button>\n","      \n","  <style>\n","    .colab-df-container {\n","      display:flex;\n","      flex-wrap:wrap;\n","      gap: 12px;\n","    }\n","\n","    .colab-df-convert {\n","      background-color: #E8F0FE;\n","      border: none;\n","      border-radius: 50%;\n","      cursor: pointer;\n","      display: none;\n","      fill: #1967D2;\n","      height: 32px;\n","      padding: 0 0 0 0;\n","      width: 32px;\n","    }\n","\n","    .colab-df-convert:hover {\n","      background-color: #E2EBFA;\n","      box-shadow: 0px 1px 2px rgba(60, 64, 67, 0.3), 0px 1px 3px 1px rgba(60, 64, 67, 0.15);\n","      fill: #174EA6;\n","    }\n","\n","    [theme=dark] .colab-df-convert {\n","      background-color: #3B4455;\n","      fill: #D2E3FC;\n","    }\n","\n","    [theme=dark] .colab-df-convert:hover {\n","      background-color: #434B5C;\n","      box-shadow: 0px 1px 3px 1px rgba(0, 0, 0, 0.15);\n","      filter: drop-shadow(0px 1px 2px rgba(0, 0, 0, 0.3));\n","      fill: #FFFFFF;\n","    }\n","  </style>\n","\n","      <script>\n","        const buttonEl =\n","          document.querySelector('#df-95d3325c-dbe8-448f-be0f-9612ff3d770b button.colab-df-convert');\n","        buttonEl.style.display =\n","          google.colab.kernel.accessAllowed ? 'block' : 'none';\n","\n","        async function convertToInteractive(key) {\n","          const element = document.querySelector('#df-95d3325c-dbe8-448f-be0f-9612ff3d770b');\n","          const dataTable =\n","            await google.colab.kernel.invokeFunction('convertToInteractive',\n","                                                     [key], {});\n","          if (!dataTable) return;\n","\n","          const docLinkHtml = 'Like what you see? Visit the ' +\n","            '<a target=\"_blank\" href=https://colab.research.google.com/notebooks/data_table.ipynb>data table notebook</a>'\n","            + ' to learn more about interactive tables.';\n","          element.innerHTML = '';\n","          dataTable['output_type'] = 'display_data';\n","          await google.colab.output.renderOutput(dataTable, element);\n","          const docLink = document.createElement('div');\n","          docLink.innerHTML = docLinkHtml;\n","          element.appendChild(docLink);\n","        }\n","      </script>\n","    </div>\n","  </div>\n","  "]},"metadata":{},"execution_count":11}],"source":["df.head()"]},{"cell_type":"markdown","id":"80cc2745-6ab1-4eab-947d-f24a3aa687e4","metadata":{"id":"80cc2745-6ab1-4eab-947d-f24a3aa687e4"},"source":["----------"]}],"metadata":{"kernelspec":{"display_name":"Python 3","language":"python","name":"python3"},"language_info":{"codemirror_mode":{"name":"ipython","version":3},"file_extension":".py","mimetype":"text/x-python","name":"python","nbconvert_exporter":"python","pygments_lexer":"ipython3","version":"3.6.8"},"colab":{"name":"experiment-data-prep.ipynb","provenance":[],"collapsed_sections":[]}},"nbformat":4,"nbformat_minor":5}
=======
{
 "cells": [
  {
   "cell_type": "code",
   "execution_count": 1,
   "id": "333830a6-c203-4276-8c9f-e6bcfe4ad787",
   "metadata": {},
   "outputs": [
    {
     "ename": "ModuleNotFoundError",
     "evalue": "No module named 'pandas'",
     "output_type": "error",
     "traceback": [
      "\u001b[0;31m---------------------------------------------------------------------------\u001b[0m",
      "\u001b[0;31mModuleNotFoundError\u001b[0m                       Traceback (most recent call last)",
      "Input \u001b[0;32mIn [1]\u001b[0m, in \u001b[0;36m<cell line: 2>\u001b[0;34m()\u001b[0m\n\u001b[1;32m      1\u001b[0m \u001b[38;5;28;01mimport\u001b[39;00m \u001b[38;5;21;01mjson\u001b[39;00m\n\u001b[0;32m----> 2\u001b[0m \u001b[38;5;28;01mimport\u001b[39;00m \u001b[38;5;21;01mpandas\u001b[39;00m \u001b[38;5;28;01mas\u001b[39;00m \u001b[38;5;21;01mpd\u001b[39;00m\n\u001b[1;32m      3\u001b[0m \u001b[38;5;28;01mimport\u001b[39;00m \u001b[38;5;21;01mnumpy\u001b[39;00m \u001b[38;5;28;01mas\u001b[39;00m \u001b[38;5;21;01mnp\u001b[39;00m\n\u001b[1;32m      4\u001b[0m \u001b[38;5;28;01mimport\u001b[39;00m \u001b[38;5;21;01mmatplotlib\u001b[39;00m\u001b[38;5;21;01m.\u001b[39;00m\u001b[38;5;21;01mpyplot\u001b[39;00m \u001b[38;5;28;01mas\u001b[39;00m \u001b[38;5;21;01mplt\u001b[39;00m\n",
      "\u001b[0;31mModuleNotFoundError\u001b[0m: No module named 'pandas'"
     ]
    }
   ],
   "source": [
    "import json\n",
    "import pandas as pd\n",
    "import numpy as np\n",
    "import matplotlib.pyplot as plt\n",
    "\n",
    "pd.set_option('display.max_colwidth', None)"
   ]
  },
  {
   "cell_type": "code",
   "execution_count": 31,
   "id": "36de71e7-6132-4127-b2a0-96d1ef15af8e",
   "metadata": {},
   "outputs": [],
   "source": [
    "training_df = pd.read_csv('path_to_training_file')\n",
    "valid_df = pd.read_csv('path_to_validation_file')"
   ]
  },
  {
   "cell_type": "code",
   "execution_count": 32,
   "id": "5326e7c9-06f9-48d3-9c85-ae420f0e6e29",
   "metadata": {},
   "outputs": [
    {
     "data": {
      "text/plain": [
       "People should be allowed to do whatever they want to their own bodies       132\n",
       "Alcohol and tobacco are more harmful drugs yet remain legal                 131\n",
       "Cannabis is safe/healthy/pain-relief                                        130\n",
       "If cannabis was legalized it could be regulated                             128\n",
       "Cannabis is financially beneficial                                          127\n",
       "                                                                           ... \n",
       "The government is essential to protect the rights of citizens                64\n",
       "Intellectual property restricts access to important information/products     61\n",
       "Religions are immoral and people should not follow them                      61\n",
       "Men are better suited to combat roles than women                             59\n",
       "The terminally ill would benefit from assisted suicide                       58\n",
       "Name: key_point, Length: 207, dtype: int64"
      ]
     },
     "execution_count": 32,
     "metadata": {},
     "output_type": "execute_result"
    }
   ],
   "source": [
    "training_df.key_point.value_counts()"
   ]
  },
  {
   "cell_type": "code",
   "execution_count": 6,
   "id": "2527c629-f707-4fdc-82da-554739d4e75b",
   "metadata": {
    "scrolled": true,
    "tags": []
   },
   "outputs": [
    {
     "data": {
      "text/html": [
       "<div>\n",
       "<style scoped>\n",
       "    .dataframe tbody tr th:only-of-type {\n",
       "        vertical-align: middle;\n",
       "    }\n",
       "\n",
       "    .dataframe tbody tr th {\n",
       "        vertical-align: top;\n",
       "    }\n",
       "\n",
       "    .dataframe thead th {\n",
       "        text-align: right;\n",
       "    }\n",
       "</style>\n",
       "<table border=\"1\" class=\"dataframe\">\n",
       "  <thead>\n",
       "    <tr style=\"text-align: right;\">\n",
       "      <th></th>\n",
       "      <th>arg_id</th>\n",
       "      <th>key_point_id</th>\n",
       "      <th>label</th>\n",
       "      <th>argument</th>\n",
       "      <th>topic</th>\n",
       "      <th>stance</th>\n",
       "      <th>key_point</th>\n",
       "    </tr>\n",
       "  </thead>\n",
       "  <tbody>\n",
       "    <tr>\n",
       "      <th>0</th>\n",
       "      <td>arg_0_0</td>\n",
       "      <td>kp_0_0</td>\n",
       "      <td>0</td>\n",
       "      <td>`people reach their limit when it comes to their quality of life and should be able to end their suffering. this can be done with little or no suffering by assistance and the person is able to say good bye.</td>\n",
       "      <td>Assisted suicide should be a criminal offence</td>\n",
       "      <td>-1</td>\n",
       "      <td>Assisted suicide gives dignity to the person that wants to commit it</td>\n",
       "    </tr>\n",
       "    <tr>\n",
       "      <th>1</th>\n",
       "      <td>arg_0_1</td>\n",
       "      <td>kp_0_0</td>\n",
       "      <td>0</td>\n",
       "      <td>A patient should be able to decide when they have had enough \"care\".</td>\n",
       "      <td>Assisted suicide should be a criminal offence</td>\n",
       "      <td>-1</td>\n",
       "      <td>Assisted suicide gives dignity to the person that wants to commit it</td>\n",
       "    </tr>\n",
       "    <tr>\n",
       "      <th>2</th>\n",
       "      <td>arg_0_2</td>\n",
       "      <td>kp_0_0</td>\n",
       "      <td>0</td>\n",
       "      <td>a person has the right to end their suffering and if somebody takes pity on them and chooses to help, that person should not be punished.</td>\n",
       "      <td>Assisted suicide should be a criminal offence</td>\n",
       "      <td>-1</td>\n",
       "      <td>Assisted suicide gives dignity to the person that wants to commit it</td>\n",
       "    </tr>\n",
       "    <tr>\n",
       "      <th>3</th>\n",
       "      <td>arg_0_4</td>\n",
       "      <td>kp_0_0</td>\n",
       "      <td>0</td>\n",
       "      <td>a person should have the right to be able to choose if they want to live or die</td>\n",
       "      <td>Assisted suicide should be a criminal offence</td>\n",
       "      <td>-1</td>\n",
       "      <td>Assisted suicide gives dignity to the person that wants to commit it</td>\n",
       "    </tr>\n",
       "    <tr>\n",
       "      <th>4</th>\n",
       "      <td>arg_0_5</td>\n",
       "      <td>kp_0_0</td>\n",
       "      <td>0</td>\n",
       "      <td>a person should have the right to die on their own terms</td>\n",
       "      <td>Assisted suicide should be a criminal offence</td>\n",
       "      <td>-1</td>\n",
       "      <td>Assisted suicide gives dignity to the person that wants to commit it</td>\n",
       "    </tr>\n",
       "  </tbody>\n",
       "</table>\n",
       "</div>"
      ],
      "text/plain": [
       "    arg_id key_point_id  label  \\\n",
       "0  arg_0_0       kp_0_0      0   \n",
       "1  arg_0_1       kp_0_0      0   \n",
       "2  arg_0_2       kp_0_0      0   \n",
       "3  arg_0_4       kp_0_0      0   \n",
       "4  arg_0_5       kp_0_0      0   \n",
       "\n",
       "                                                                                                                                                                                                         argument  \\\n",
       "0  `people reach their limit when it comes to their quality of life and should be able to end their suffering. this can be done with little or no suffering by assistance and the person is able to say good bye.   \n",
       "1                                                                                                                                            A patient should be able to decide when they have had enough \"care\".   \n",
       "2                                                                       a person has the right to end their suffering and if somebody takes pity on them and chooses to help, that person should not be punished.   \n",
       "3                                                                                                                                 a person should have the right to be able to choose if they want to live or die   \n",
       "4                                                                                                                                                        a person should have the right to die on their own terms   \n",
       "\n",
       "                                           topic  stance  \\\n",
       "0  Assisted suicide should be a criminal offence      -1   \n",
       "1  Assisted suicide should be a criminal offence      -1   \n",
       "2  Assisted suicide should be a criminal offence      -1   \n",
       "3  Assisted suicide should be a criminal offence      -1   \n",
       "4  Assisted suicide should be a criminal offence      -1   \n",
       "\n",
       "                                                              key_point  \n",
       "0  Assisted suicide gives dignity to the person that wants to commit it  \n",
       "1  Assisted suicide gives dignity to the person that wants to commit it  \n",
       "2  Assisted suicide gives dignity to the person that wants to commit it  \n",
       "3  Assisted suicide gives dignity to the person that wants to commit it  \n",
       "4  Assisted suicide gives dignity to the person that wants to commit it  "
      ]
     },
     "execution_count": 6,
     "metadata": {},
     "output_type": "execute_result"
    }
   ],
   "source": [
    "training_df.head()"
   ]
  },
  {
   "cell_type": "code",
   "execution_count": 6,
   "id": "515ce47c-a0eb-4604-933d-03502f20d41a",
   "metadata": {},
   "outputs": [
    {
     "data": {
      "image/png": "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\n",
      "text/plain": [
       "<Figure size 432x288 with 1 Axes>"
      ]
     },
     "metadata": {
      "needs_background": "light"
     },
     "output_type": "display_data"
    }
   ],
   "source": [
    "keypoints_per_arg = [x[1] for x in training_df[training_df.label == 1].arg_id.value_counts().to_dict().items()]\n",
    "plt.hist(keypoints_per_arg)\n",
    "plt.show()"
   ]
  },
  {
   "cell_type": "code",
   "execution_count": 118,
   "id": "9809cfe2-3bd3-450c-8a6a-755ab267cc3d",
   "metadata": {},
   "outputs": [
    {
     "data": {
      "image/png": "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\n",
      "text/plain": [
       "<Figure size 432x288 with 1 Axes>"
      ]
     },
     "metadata": {
      "needs_background": "light"
     },
     "output_type": "display_data"
    }
   ],
   "source": [
    "args_per_keypoints = [x[1] for x in training_df[training_df.label == 1].key_point_id.value_counts().to_dict().items()]\n",
    "plt.hist(args_per_keypoints)\n",
    "plt.show()"
   ]
  },
  {
   "cell_type": "markdown",
   "id": "d3dd6803-1787-40e2-a853-6ef63037aa36",
   "metadata": {},
   "source": [
    "-------------"
   ]
  },
  {
   "cell_type": "markdown",
   "id": "bddf73c0-55a2-49b7-aca3-830f8c138945",
   "metadata": {},
   "source": [
    "### Creating data for ContrastiveLoss:"
   ]
  },
  {
   "cell_type": "code",
   "execution_count": 9,
   "id": "7e4340ce-ad26-4a1c-be96-99bec75de9ea",
   "metadata": {
    "scrolled": true,
    "tags": []
   },
   "outputs": [
    {
     "data": {
      "text/html": [
       "<div>\n",
       "<style scoped>\n",
       "    .dataframe tbody tr th:only-of-type {\n",
       "        vertical-align: middle;\n",
       "    }\n",
       "\n",
       "    .dataframe tbody tr th {\n",
       "        vertical-align: top;\n",
       "    }\n",
       "\n",
       "    .dataframe thead th {\n",
       "        text-align: right;\n",
       "    }\n",
       "</style>\n",
       "<table border=\"1\" class=\"dataframe\">\n",
       "  <thead>\n",
       "    <tr style=\"text-align: right;\">\n",
       "      <th></th>\n",
       "      <th>arg_id</th>\n",
       "      <th>key_point_id</th>\n",
       "      <th>label</th>\n",
       "      <th>argument</th>\n",
       "      <th>topic</th>\n",
       "      <th>stance</th>\n",
       "      <th>key_point</th>\n",
       "    </tr>\n",
       "  </thead>\n",
       "  <tbody>\n",
       "    <tr>\n",
       "      <th>0</th>\n",
       "      <td>arg_0_0</td>\n",
       "      <td>kp_0_0</td>\n",
       "      <td>0</td>\n",
       "      <td>`people reach their limit when it comes to their quality of life and should be able to end their suffering. this can be done with little or no suffering by assistance and the person is able to say good bye.</td>\n",
       "      <td>Assisted suicide should be a criminal offence</td>\n",
       "      <td>-1</td>\n",
       "      <td>Assisted suicide gives dignity to the person that wants to commit it</td>\n",
       "    </tr>\n",
       "    <tr>\n",
       "      <th>1</th>\n",
       "      <td>arg_0_1</td>\n",
       "      <td>kp_0_0</td>\n",
       "      <td>0</td>\n",
       "      <td>A patient should be able to decide when they have had enough \"care\".</td>\n",
       "      <td>Assisted suicide should be a criminal offence</td>\n",
       "      <td>-1</td>\n",
       "      <td>Assisted suicide gives dignity to the person that wants to commit it</td>\n",
       "    </tr>\n",
       "    <tr>\n",
       "      <th>2</th>\n",
       "      <td>arg_0_2</td>\n",
       "      <td>kp_0_0</td>\n",
       "      <td>0</td>\n",
       "      <td>a person has the right to end their suffering and if somebody takes pity on them and chooses to help, that person should not be punished.</td>\n",
       "      <td>Assisted suicide should be a criminal offence</td>\n",
       "      <td>-1</td>\n",
       "      <td>Assisted suicide gives dignity to the person that wants to commit it</td>\n",
       "    </tr>\n",
       "    <tr>\n",
       "      <th>3</th>\n",
       "      <td>arg_0_4</td>\n",
       "      <td>kp_0_0</td>\n",
       "      <td>0</td>\n",
       "      <td>a person should have the right to be able to choose if they want to live or die</td>\n",
       "      <td>Assisted suicide should be a criminal offence</td>\n",
       "      <td>-1</td>\n",
       "      <td>Assisted suicide gives dignity to the person that wants to commit it</td>\n",
       "    </tr>\n",
       "    <tr>\n",
       "      <th>4</th>\n",
       "      <td>arg_0_5</td>\n",
       "      <td>kp_0_0</td>\n",
       "      <td>0</td>\n",
       "      <td>a person should have the right to die on their own terms</td>\n",
       "      <td>Assisted suicide should be a criminal offence</td>\n",
       "      <td>-1</td>\n",
       "      <td>Assisted suicide gives dignity to the person that wants to commit it</td>\n",
       "    </tr>\n",
       "  </tbody>\n",
       "</table>\n",
       "</div>"
      ],
      "text/plain": [
       "    arg_id key_point_id  label  \\\n",
       "0  arg_0_0       kp_0_0      0   \n",
       "1  arg_0_1       kp_0_0      0   \n",
       "2  arg_0_2       kp_0_0      0   \n",
       "3  arg_0_4       kp_0_0      0   \n",
       "4  arg_0_5       kp_0_0      0   \n",
       "\n",
       "                                                                                                                                                                                                         argument  \\\n",
       "0  `people reach their limit when it comes to their quality of life and should be able to end their suffering. this can be done with little or no suffering by assistance and the person is able to say good bye.   \n",
       "1                                                                                                                                            A patient should be able to decide when they have had enough \"care\".   \n",
       "2                                                                       a person has the right to end their suffering and if somebody takes pity on them and chooses to help, that person should not be punished.   \n",
       "3                                                                                                                                 a person should have the right to be able to choose if they want to live or die   \n",
       "4                                                                                                                                                        a person should have the right to die on their own terms   \n",
       "\n",
       "                                           topic  stance  \\\n",
       "0  Assisted suicide should be a criminal offence      -1   \n",
       "1  Assisted suicide should be a criminal offence      -1   \n",
       "2  Assisted suicide should be a criminal offence      -1   \n",
       "3  Assisted suicide should be a criminal offence      -1   \n",
       "4  Assisted suicide should be a criminal offence      -1   \n",
       "\n",
       "                                                              key_point  \n",
       "0  Assisted suicide gives dignity to the person that wants to commit it  \n",
       "1  Assisted suicide gives dignity to the person that wants to commit it  \n",
       "2  Assisted suicide gives dignity to the person that wants to commit it  \n",
       "3  Assisted suicide gives dignity to the person that wants to commit it  \n",
       "4  Assisted suicide gives dignity to the person that wants to commit it  "
      ]
     },
     "execution_count": 9,
     "metadata": {},
     "output_type": "execute_result"
    }
   ],
   "source": [
    "training_df.head()"
   ]
  },
  {
   "cell_type": "code",
   "execution_count": 52,
   "id": "8dd11760-4e22-4188-9bf0-2972a7e41235",
   "metadata": {},
   "outputs": [],
   "source": [
    "df = training_df.copy()\n",
    "df['keypoint'] = df.apply(lambda x: x['topic'] + ' <SEP> ' + x['key_point'], axis=1)\n",
    "df['label'] = df.label.apply(lambda x: int(x))\n",
    "df[['argument', 'keypoint', 'label']].to_csv('/workspace/ceph_data/keypoint-analysis-sharedtask/siamese-data/training_df_contrastive.csv')\n",
    "\n",
    "df = valid_df.copy()\n",
    "df['keypoint'] = df.apply(lambda x: x['topic'] + ' <SEP> ' + x['key_point'], axis=1)\n",
    "df['label'] = df.label.apply(lambda x: int(x))\n",
    "df[['argument', 'keypoint', 'label']].to_csv('/workspace/ceph_data/keypoint-analysis-sharedtask/siamese-data/valid_df_contrastive.csv')"
   ]
  },
  {
   "cell_type": "code",
   "execution_count": 51,
   "id": "7d1abc06-20db-4b0a-a71e-46eaea9861dc",
   "metadata": {
    "scrolled": true,
    "tags": []
   },
   "outputs": [
    {
     "data": {
      "text/html": [
       "<div>\n",
       "<style scoped>\n",
       "    .dataframe tbody tr th:only-of-type {\n",
       "        vertical-align: middle;\n",
       "    }\n",
       "\n",
       "    .dataframe tbody tr th {\n",
       "        vertical-align: top;\n",
       "    }\n",
       "\n",
       "    .dataframe thead th {\n",
       "        text-align: right;\n",
       "    }\n",
       "</style>\n",
       "<table border=\"1\" class=\"dataframe\">\n",
       "  <thead>\n",
       "    <tr style=\"text-align: right;\">\n",
       "      <th></th>\n",
       "      <th>Unnamed: 0</th>\n",
       "      <th>arg_id</th>\n",
       "      <th>key_point_id</th>\n",
       "      <th>label</th>\n",
       "      <th>argument</th>\n",
       "      <th>topic</th>\n",
       "      <th>stance</th>\n",
       "      <th>key_point</th>\n",
       "      <th>keypoint</th>\n",
       "    </tr>\n",
       "  </thead>\n",
       "  <tbody>\n",
       "    <tr>\n",
       "      <th>0</th>\n",
       "      <td>0</td>\n",
       "      <td>arg_4_121</td>\n",
       "      <td>kp_4_5</td>\n",
       "      <td>1</td>\n",
       "      <td>A real education is about giving students the tools to learn, think, and express themselves; dictating to them what to wear sends a strong message that we don't trust them to think on their own.</td>\n",
       "      <td>We should abandon the use of school uniform</td>\n",
       "      <td>1</td>\n",
       "      <td>School uniform is harming the student's self expression</td>\n",
       "      <td>We should abandon the use of school uniform &lt;SEP&gt; School uniform is harming the student's self expression</td>\n",
       "    </tr>\n",
       "    <tr>\n",
       "      <th>1</th>\n",
       "      <td>1</td>\n",
       "      <td>arg_4_122</td>\n",
       "      <td>kp_4_5</td>\n",
       "      <td>1</td>\n",
       "      <td>children express themselves through the clothes they wear and should be able to do this at school</td>\n",
       "      <td>We should abandon the use of school uniform</td>\n",
       "      <td>1</td>\n",
       "      <td>School uniform is harming the student's self expression</td>\n",
       "      <td>We should abandon the use of school uniform &lt;SEP&gt; School uniform is harming the student's self expression</td>\n",
       "    </tr>\n",
       "    <tr>\n",
       "      <th>2</th>\n",
       "      <td>3</td>\n",
       "      <td>arg_4_124</td>\n",
       "      <td>kp_4_5</td>\n",
       "      <td>1</td>\n",
       "      <td>children should be allowed to express themselves</td>\n",
       "      <td>We should abandon the use of school uniform</td>\n",
       "      <td>1</td>\n",
       "      <td>School uniform is harming the student's self expression</td>\n",
       "      <td>We should abandon the use of school uniform &lt;SEP&gt; School uniform is harming the student's self expression</td>\n",
       "    </tr>\n",
       "    <tr>\n",
       "      <th>3</th>\n",
       "      <td>5</td>\n",
       "      <td>arg_4_129</td>\n",
       "      <td>kp_4_5</td>\n",
       "      <td>1</td>\n",
       "      <td>it is not fair to not allow children to express their personality through dress as long as it is appropriate.</td>\n",
       "      <td>We should abandon the use of school uniform</td>\n",
       "      <td>1</td>\n",
       "      <td>School uniform is harming the student's self expression</td>\n",
       "      <td>We should abandon the use of school uniform &lt;SEP&gt; School uniform is harming the student's self expression</td>\n",
       "    </tr>\n",
       "    <tr>\n",
       "      <th>4</th>\n",
       "      <td>7</td>\n",
       "      <td>arg_4_131</td>\n",
       "      <td>kp_4_5</td>\n",
       "      <td>1</td>\n",
       "      <td>kids should be able to express them selves with their clothing</td>\n",
       "      <td>We should abandon the use of school uniform</td>\n",
       "      <td>1</td>\n",
       "      <td>School uniform is harming the student's self expression</td>\n",
       "      <td>We should abandon the use of school uniform &lt;SEP&gt; School uniform is harming the student's self expression</td>\n",
       "    </tr>\n",
       "  </tbody>\n",
       "</table>\n",
       "</div>"
      ],
      "text/plain": [
       "   Unnamed: 0     arg_id key_point_id  label  \\\n",
       "0           0  arg_4_121       kp_4_5      1   \n",
       "1           1  arg_4_122       kp_4_5      1   \n",
       "2           3  arg_4_124       kp_4_5      1   \n",
       "3           5  arg_4_129       kp_4_5      1   \n",
       "4           7  arg_4_131       kp_4_5      1   \n",
       "\n",
       "                                                                                                                                                                                             argument  \\\n",
       "0  A real education is about giving students the tools to learn, think, and express themselves; dictating to them what to wear sends a strong message that we don't trust them to think on their own.   \n",
       "1                                                                                                   children express themselves through the clothes they wear and should be able to do this at school   \n",
       "2                                                                                                                                                    children should be allowed to express themselves   \n",
       "3                                                                                       it is not fair to not allow children to express their personality through dress as long as it is appropriate.   \n",
       "4                                                                                                                                      kids should be able to express them selves with their clothing   \n",
       "\n",
       "                                         topic  stance  \\\n",
       "0  We should abandon the use of school uniform       1   \n",
       "1  We should abandon the use of school uniform       1   \n",
       "2  We should abandon the use of school uniform       1   \n",
       "3  We should abandon the use of school uniform       1   \n",
       "4  We should abandon the use of school uniform       1   \n",
       "\n",
       "                                                 key_point  \\\n",
       "0  School uniform is harming the student's self expression   \n",
       "1  School uniform is harming the student's self expression   \n",
       "2  School uniform is harming the student's self expression   \n",
       "3  School uniform is harming the student's self expression   \n",
       "4  School uniform is harming the student's self expression   \n",
       "\n",
       "                                                                                                    keypoint  \n",
       "0  We should abandon the use of school uniform <SEP> School uniform is harming the student's self expression  \n",
       "1  We should abandon the use of school uniform <SEP> School uniform is harming the student's self expression  \n",
       "2  We should abandon the use of school uniform <SEP> School uniform is harming the student's self expression  \n",
       "3  We should abandon the use of school uniform <SEP> School uniform is harming the student's self expression  \n",
       "4  We should abandon the use of school uniform <SEP> School uniform is harming the student's self expression  "
      ]
     },
     "execution_count": 51,
     "metadata": {},
     "output_type": "execute_result"
    }
   ],
   "source": [
    "df.head()"
   ]
  },
  {
   "cell_type": "markdown",
   "id": "80cc2745-6ab1-4eab-947d-f24a3aa687e4",
   "metadata": {},
   "source": [
    "----------"
   ]
  }
 ],
 "metadata": {
  "kernelspec": {
   "display_name": "Python 3",
   "language": "python",
   "name": "python3"
  },
  "language_info": {
   "codemirror_mode": {
    "name": "ipython",
    "version": 3
   },
   "file_extension": ".py",
   "mimetype": "text/x-python",
   "name": "python",
   "nbconvert_exporter": "python",
   "pygments_lexer": "ipython3",
   "version": "3.9.12"
  }
 },
 "nbformat": 4,
 "nbformat_minor": 5
}
>>>>>>> f87edddce0c2e4f9c43659796169506daaf2f686
