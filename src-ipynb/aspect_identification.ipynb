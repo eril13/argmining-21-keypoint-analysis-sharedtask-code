{
 "cells": [
  {
   "cell_type": "code",
   "execution_count": 13,
   "metadata": {},
   "outputs": [
    {
     "name": "stderr",
     "output_type": "stream",
     "text": [
      "/home/vija1705/.pyenv/versions/3.8.6/envs/transformers-test/lib/python3.8/site-packages/tqdm/std.py:699: FutureWarning: The Panel class is removed from pandas. Accessing it from the top-level namespace will also be removed in the next version\n",
      "  from pandas import Panel\n"
     ]
    }
   ],
   "source": [
    "import requests\n",
    "import json\n",
    "import nltk\n",
    "import pandas as pd\n",
    "from tqdm.notebook import tqdm\n",
    "tqdm.pandas()\n",
    "pd.set_option(\"display.max_colwidth\", None)"
   ]
  },
  {
   "cell_type": "code",
   "execution_count": 36,
   "metadata": {},
   "outputs": [],
   "source": [
    "train_df = pd.read_csv(\"../data/training_df.csv\", keep_default_na=False)\n",
    "val_df = pd.read_csv(\"../data/valid_df.csv\", keep_default_na=False)"
   ]
  },
  {
   "cell_type": "code",
   "execution_count": 35,
   "metadata": {},
   "outputs": [
    {
     "data": {
      "text/plain": [
       "arg_id          20635\n",
       "key_point_id    20635\n",
       "label           20635\n",
       "argument        20635\n",
       "topic           20635\n",
       "stance          20635\n",
       "key_point       20635\n",
       "dtype: int64"
      ]
     },
     "execution_count": 35,
     "metadata": {},
     "output_type": "execute_result"
    }
   ],
   "source": [
    "train_df.count()"
   ]
  },
  {
   "cell_type": "code",
   "execution_count": 33,
   "metadata": {},
   "outputs": [
    {
     "data": {
      "text/html": [
       "<div>\n",
       "<style scoped>\n",
       "    .dataframe tbody tr th:only-of-type {\n",
       "        vertical-align: middle;\n",
       "    }\n",
       "\n",
       "    .dataframe tbody tr th {\n",
       "        vertical-align: top;\n",
       "    }\n",
       "\n",
       "    .dataframe thead th {\n",
       "        text-align: right;\n",
       "    }\n",
       "</style>\n",
       "<table border=\"1\" class=\"dataframe\">\n",
       "  <thead>\n",
       "    <tr style=\"text-align: right;\">\n",
       "      <th></th>\n",
       "      <th>key_point_id</th>\n",
       "      <th>key_point</th>\n",
       "      <th>topic</th>\n",
       "      <th>stance</th>\n",
       "    </tr>\n",
       "  </thead>\n",
       "  <tbody>\n",
       "    <tr>\n",
       "      <th>0</th>\n",
       "      <td>kp_0_0</td>\n",
       "      <td>Routine child vaccinations, or their side effects, are dangerous</td>\n",
       "      <td>Routine child vaccinations should be mandatory</td>\n",
       "      <td>-1</td>\n",
       "    </tr>\n",
       "    <tr>\n",
       "      <th>1</th>\n",
       "      <td>kp_0_1</td>\n",
       "      <td>Mandatory vaccination contradicts basic rights</td>\n",
       "      <td>Routine child vaccinations should be mandatory</td>\n",
       "      <td>-1</td>\n",
       "    </tr>\n",
       "    <tr>\n",
       "      <th>2</th>\n",
       "      <td>kp_0_2</td>\n",
       "      <td>The parents and not the state should decide</td>\n",
       "      <td>Routine child vaccinations should be mandatory</td>\n",
       "      <td>-1</td>\n",
       "    </tr>\n",
       "    <tr>\n",
       "      <th>3</th>\n",
       "      <td>kp_0_3</td>\n",
       "      <td>Routine child vaccinations are not necessary to keep children healthy</td>\n",
       "      <td>Routine child vaccinations should be mandatory</td>\n",
       "      <td>-1</td>\n",
       "    </tr>\n",
       "    <tr>\n",
       "      <th>4</th>\n",
       "      <td>kp_0_4</td>\n",
       "      <td>Routine child vaccinations are effective</td>\n",
       "      <td>Routine child vaccinations should be mandatory</td>\n",
       "      <td>1</td>\n",
       "    </tr>\n",
       "  </tbody>\n",
       "</table>\n",
       "</div>"
      ],
      "text/plain": [
       "  key_point_id  \\\n",
       "0       kp_0_0   \n",
       "1       kp_0_1   \n",
       "2       kp_0_2   \n",
       "3       kp_0_3   \n",
       "4       kp_0_4   \n",
       "\n",
       "                                                               key_point  \\\n",
       "0       Routine child vaccinations, or their side effects, are dangerous   \n",
       "1                         Mandatory vaccination contradicts basic rights   \n",
       "2                            The parents and not the state should decide   \n",
       "3  Routine child vaccinations are not necessary to keep children healthy   \n",
       "4                               Routine child vaccinations are effective   \n",
       "\n",
       "                                            topic  stance  \n",
       "0  Routine child vaccinations should be mandatory      -1  \n",
       "1  Routine child vaccinations should be mandatory      -1  \n",
       "2  Routine child vaccinations should be mandatory      -1  \n",
       "3  Routine child vaccinations should be mandatory      -1  \n",
       "4  Routine child vaccinations should be mandatory       1  "
      ]
     },
     "execution_count": 33,
     "metadata": {},
     "output_type": "execute_result"
    }
   ],
   "source": [
    "labels_test.head()"
   ]
  },
  {
   "cell_type": "code",
   "execution_count": 8,
   "metadata": {},
   "outputs": [
    {
     "data": {
      "text/plain": [
       "key_point_id    33\n",
       "key_point       33\n",
       "topic           33\n",
       "stance          33\n",
       "dtype: int64"
      ]
     },
     "execution_count": 8,
     "metadata": {},
     "output_type": "execute_result"
    }
   ],
   "source": [
    "labels_test.count()"
   ]
  },
  {
   "cell_type": "code",
   "execution_count": 10,
   "metadata": {},
   "outputs": [],
   "source": [
    "def sentence_segmentation_dict(text):\n",
    "    sentences = nltk.sent_tokenize(text)\n",
    "    return {idx:sent for idx, sent in enumerate(sentences, start=1)}"
   ]
  },
  {
   "cell_type": "code",
   "execution_count": 4,
   "metadata": {},
   "outputs": [],
   "source": [
    "userID = \"UV4HkxoP\"\n",
    "apiKey = \"CAg9J7zNCfCr+6yhVOSvUARf8R9KuxkP\""
   ]
  },
  {
   "cell_type": "code",
   "execution_count": 5,
   "metadata": {},
   "outputs": [],
   "source": [
    "def identify_aspects(text, topic):\n",
    "    arguments= sentence_segmentation_dict(text)\n",
    "    payload = {\n",
    "        \"query\": topic,\n",
    "        \"arguments\": arguments,\n",
    "        \"userID\": userID,\n",
    "        \"apiKey\": apiKey\n",
    "    }\n",
    "    is_timed_out = True\n",
    "    timed_out_ctr = 5\n",
    "    while is_timed_out == True:\n",
    "        try:\n",
    "            json_dict = requests.post(\"https://api.argumentsearch.com/en/get_aspects\", timeout=1000, data=json.dumps(payload),\n",
    "                                      headers={'Content-Type': 'application/json'}).json()\n",
    "            is_timed_out = False\n",
    "        except requests.exceptions.Timeout or ConnectionError or json.decoder.JSONDecodeError:\n",
    "            print(\"Timed out for {0} times.\".format(str(timed_out_ctr)))\n",
    "        except Exception as e:\n",
    "            print(e)\n",
    "    return json_dict"
   ]
  },
  {
   "cell_type": "code",
   "execution_count": 39,
   "metadata": {},
   "outputs": [],
   "source": [
    "def aspect_identification(row):\n",
    "    topic = row['topic']\n",
    "    argument = row['argument']\n",
    "    response_dict = identify_aspects(argument, topic)\n",
    "    aspects = response_dict[\"aspects\"] if \"aspects\" in response_dict else []\n",
    "    row['aspects'] = aspects if len(aspects) else None\n",
    "    return row"
   ]
  },
  {
   "cell_type": "code",
   "execution_count": 20,
   "metadata": {},
   "outputs": [],
   "source": [
    "tmp_df = args_test"
   ]
  },
  {
   "cell_type": "code",
   "execution_count": 40,
   "metadata": {},
   "outputs": [
    {
     "data": {
      "application/vnd.jupyter.widget-view+json": {
       "model_id": "3feba55e57e24aa9a198680b3585fb63",
       "version_major": 2,
       "version_minor": 0
      },
      "text/plain": [
       "HBox(children=(HTML(value=''), FloatProgress(value=0.0, max=723.0), HTML(value='')))"
      ]
     },
     "metadata": {},
     "output_type": "display_data"
    },
    {
     "name": "stdout",
     "output_type": "stream",
     "text": [
      "\n"
     ]
    }
   ],
   "source": [
    "tmp_df = tmp_df.progress_apply(aspect_identification, axis=1)"
   ]
  },
  {
   "cell_type": "code",
   "execution_count": 30,
   "metadata": {},
   "outputs": [
    {
     "data": {
      "text/plain": [
       "arg_id      723\n",
       "argument    723\n",
       "topic       723\n",
       "stance      723\n",
       "aspects     723\n",
       "dtype: int64"
      ]
     },
     "execution_count": 30,
     "metadata": {},
     "output_type": "execute_result"
    }
   ],
   "source": [
    "tmp_df.count()"
   ]
  },
  {
   "cell_type": "code",
   "execution_count": null,
   "metadata": {},
   "outputs": [],
   "source": [
    "tmp_df"
   ]
  },
  {
   "cell_type": "code",
   "execution_count": 18,
   "metadata": {},
   "outputs": [
    {
     "data": {
      "text/html": [
       "<div>\n",
       "<style scoped>\n",
       "    .dataframe tbody tr th:only-of-type {\n",
       "        vertical-align: middle;\n",
       "    }\n",
       "\n",
       "    .dataframe tbody tr th {\n",
       "        vertical-align: top;\n",
       "    }\n",
       "\n",
       "    .dataframe thead th {\n",
       "        text-align: right;\n",
       "    }\n",
       "</style>\n",
       "<table border=\"1\" class=\"dataframe\">\n",
       "  <thead>\n",
       "    <tr style=\"text-align: right;\">\n",
       "      <th></th>\n",
       "      <th>arg_id</th>\n",
       "      <th>argument</th>\n",
       "      <th>topic</th>\n",
       "      <th>stance</th>\n",
       "      <th>aspects</th>\n",
       "    </tr>\n",
       "  </thead>\n",
       "  <tbody>\n",
       "    <tr>\n",
       "      <th>0</th>\n",
       "      <td>arg_0_0</td>\n",
       "      <td>Routine child vaccinations isn't mandatory since children don't spread the virus</td>\n",
       "      <td>Routine child vaccinations should be mandatory</td>\n",
       "      <td>-1</td>\n",
       "      <td>[spread, child vaccinations, mandatory]</td>\n",
       "    </tr>\n",
       "    <tr>\n",
       "      <th>1</th>\n",
       "      <td>arg_0_1</td>\n",
       "      <td>Routine child vaccinations should not be mandatory because children may not bear the side effects of it.</td>\n",
       "      <td>Routine child vaccinations should be mandatory</td>\n",
       "      <td>-1</td>\n",
       "      <td>[child vaccinations, side effects]</td>\n",
       "    </tr>\n",
       "    <tr>\n",
       "      <th>2</th>\n",
       "      <td>arg_0_2</td>\n",
       "      <td>Routine child vaccinations should not be necessary as children can't catch the disease</td>\n",
       "      <td>Routine child vaccinations should be mandatory</td>\n",
       "      <td>-1</td>\n",
       "      <td>[child vaccinations, catch]</td>\n",
       "    </tr>\n",
       "    <tr>\n",
       "      <th>3</th>\n",
       "      <td>arg_0_3</td>\n",
       "      <td>A vaccine that has not been sufficiently tested and without knowledge of side effects is not recommended for children</td>\n",
       "      <td>Routine child vaccinations should be mandatory</td>\n",
       "      <td>-1</td>\n",
       "      <td>[side effects]</td>\n",
       "    </tr>\n",
       "    <tr>\n",
       "      <th>4</th>\n",
       "      <td>arg_0_4</td>\n",
       "      <td>As long as vaccines are not free of side effects, it cannot make them mandatory for our children.</td>\n",
       "      <td>Routine child vaccinations should be mandatory</td>\n",
       "      <td>-1</td>\n",
       "      <td>[free, mandatory, side effects]</td>\n",
       "    </tr>\n",
       "    <tr>\n",
       "      <th>5</th>\n",
       "      <td>arg_0_5</td>\n",
       "      <td>Child vaccination is not necessary, and should not be mandatory, because vaccines are a lie. Let them decide if they want to be vaccinated.</td>\n",
       "      <td>Routine child vaccinations should be mandatory</td>\n",
       "      <td>-1</td>\n",
       "      <td>[child vaccination, vaccinated]</td>\n",
       "    </tr>\n",
       "    <tr>\n",
       "      <th>6</th>\n",
       "      <td>arg_0_6</td>\n",
       "      <td>Child vaccination isn't necessary and may result in other diseases for children</td>\n",
       "      <td>Routine child vaccinations should be mandatory</td>\n",
       "      <td>-1</td>\n",
       "      <td>[child vaccination, diseases]</td>\n",
       "    </tr>\n",
       "    <tr>\n",
       "      <th>7</th>\n",
       "      <td>arg_0_7</td>\n",
       "      <td>Child vaccination should not be mandatory as there are often side effects from them</td>\n",
       "      <td>Routine child vaccinations should be mandatory</td>\n",
       "      <td>-1</td>\n",
       "      <td>[child vaccination, side effects]</td>\n",
       "    </tr>\n",
       "    <tr>\n",
       "      <th>8</th>\n",
       "      <td>arg_0_8</td>\n",
       "      <td>Child vaccination should not be mandatory because they don't suffer from symptoms</td>\n",
       "      <td>Routine child vaccinations should be mandatory</td>\n",
       "      <td>-1</td>\n",
       "      <td>[child vaccination, mandatory]</td>\n",
       "    </tr>\n",
       "    <tr>\n",
       "      <th>9</th>\n",
       "      <td>arg_0_9</td>\n",
       "      <td>Child vaccination should not be mandatory, it should be the parents' decision, since the adverse effects that the vaccine can cause to the infant are not known</td>\n",
       "      <td>Routine child vaccinations should be mandatory</td>\n",
       "      <td>-1</td>\n",
       "      <td>[adverse effects, child vaccination]</td>\n",
       "    </tr>\n",
       "  </tbody>\n",
       "</table>\n",
       "</div>"
      ],
      "text/plain": [
       "    arg_id  \\\n",
       "0  arg_0_0   \n",
       "1  arg_0_1   \n",
       "2  arg_0_2   \n",
       "3  arg_0_3   \n",
       "4  arg_0_4   \n",
       "5  arg_0_5   \n",
       "6  arg_0_6   \n",
       "7  arg_0_7   \n",
       "8  arg_0_8   \n",
       "9  arg_0_9   \n",
       "\n",
       "                                                                                                                                                          argument  \\\n",
       "0                                                                                 Routine child vaccinations isn't mandatory since children don't spread the virus   \n",
       "1                                                         Routine child vaccinations should not be mandatory because children may not bear the side effects of it.   \n",
       "2                                                                           Routine child vaccinations should not be necessary as children can't catch the disease   \n",
       "3                                            A vaccine that has not been sufficiently tested and without knowledge of side effects is not recommended for children   \n",
       "4                                                                As long as vaccines are not free of side effects, it cannot make them mandatory for our children.   \n",
       "5                      Child vaccination is not necessary, and should not be mandatory, because vaccines are a lie. Let them decide if they want to be vaccinated.   \n",
       "6                                                                                  Child vaccination isn't necessary and may result in other diseases for children   \n",
       "7                                                                              Child vaccination should not be mandatory as there are often side effects from them   \n",
       "8                                                                                Child vaccination should not be mandatory because they don't suffer from symptoms   \n",
       "9  Child vaccination should not be mandatory, it should be the parents' decision, since the adverse effects that the vaccine can cause to the infant are not known   \n",
       "\n",
       "                                            topic  stance  \\\n",
       "0  Routine child vaccinations should be mandatory      -1   \n",
       "1  Routine child vaccinations should be mandatory      -1   \n",
       "2  Routine child vaccinations should be mandatory      -1   \n",
       "3  Routine child vaccinations should be mandatory      -1   \n",
       "4  Routine child vaccinations should be mandatory      -1   \n",
       "5  Routine child vaccinations should be mandatory      -1   \n",
       "6  Routine child vaccinations should be mandatory      -1   \n",
       "7  Routine child vaccinations should be mandatory      -1   \n",
       "8  Routine child vaccinations should be mandatory      -1   \n",
       "9  Routine child vaccinations should be mandatory      -1   \n",
       "\n",
       "                                   aspects  \n",
       "0  [spread, child vaccinations, mandatory]  \n",
       "1       [child vaccinations, side effects]  \n",
       "2              [child vaccinations, catch]  \n",
       "3                           [side effects]  \n",
       "4          [free, mandatory, side effects]  \n",
       "5          [child vaccination, vaccinated]  \n",
       "6            [child vaccination, diseases]  \n",
       "7        [child vaccination, side effects]  \n",
       "8           [child vaccination, mandatory]  \n",
       "9     [adverse effects, child vaccination]  "
      ]
     },
     "execution_count": 18,
     "metadata": {},
     "output_type": "execute_result"
    }
   ],
   "source": [
    "tmp_df.head(10)"
   ]
  },
  {
   "cell_type": "code",
   "execution_count": 38,
   "metadata": {},
   "outputs": [
    {
     "data": {
      "text/plain": [
       "arg_id      723\n",
       "argument    723\n",
       "topic       723\n",
       "stance      723\n",
       "aspects     723\n",
       "dtype: int64"
      ]
     },
     "execution_count": 38,
     "metadata": {},
     "output_type": "execute_result"
    }
   ],
   "source": [
    "tmp_df.count()"
   ]
  },
  {
   "cell_type": "code",
   "execution_count": 41,
   "metadata": {},
   "outputs": [],
   "source": [
    "tmp_df.to_csv(\"../data/sample_aspects.csv\", index=False)"
   ]
  },
  {
   "cell_type": "code",
   "execution_count": null,
   "metadata": {},
   "outputs": [],
   "source": [
    "all_df = labels_test.merge(arg_df, how='inner', left_on='arg_id', right_on='arg_id')\n",
    "all_df = all_df.merge(kp_df[['key_point_id', 'key_point']], how='inner', left_on='key_point_id', right_on='key_point_id')"
   ]
  }
 ],
 "metadata": {
  "kernelspec": {
   "display_name": "3.8.6",
   "language": "python",
   "name": "3.8.6"
  },
  "language_info": {
   "codemirror_mode": {
    "name": "ipython",
    "version": 3
   },
   "file_extension": ".py",
   "mimetype": "text/x-python",
   "name": "python",
   "nbconvert_exporter": "python",
   "pygments_lexer": "ipython3",
   "version": "3.8.6"
  }
 },
 "nbformat": 4,
 "nbformat_minor": 4
}
