<<<<<<< HEAD
{"cells":[{"cell_type":"markdown","id":"fe3efa9e-c2a7-468d-934f-4c8f04325dff","metadata":{"id":"fe3efa9e-c2a7-468d-934f-4c8f04325dff"},"source":["### Training:"]},{"cell_type":"code","execution_count":23,"id":"e4aee413-213c-48fb-97ec-1f5377c2f392","metadata":{"id":"e4aee413-213c-48fb-97ec-1f5377c2f392","colab":{"base_uri":"https://localhost:8080/"},"executionInfo":{"status":"ok","timestamp":1654524403968,"user_tz":-120,"elapsed":266,"user":{"displayName":"Valentina Izrailevitch","userId":"09588376943340163507"}},"outputId":"08160114-51c7-46e7-c3ca-bb8e2f8ee217"},"outputs":[{"output_type":"stream","name":"stdout","text":["The autoreload extension is already loaded. To reload it, use:\n","  %reload_ext autoreload\n"]}],"source":["%load_ext autoreload"]},{"cell_type":"code","source":["from google.colab import drive\n","drive.mount('/content/drive/')\n"],"metadata":{"colab":{"base_uri":"https://localhost:8080/"},"id":"5h2TZt3mHiB0","executionInfo":{"status":"ok","timestamp":1654524407631,"user_tz":-120,"elapsed":1927,"user":{"displayName":"Valentina Izrailevitch","userId":"09588376943340163507"}},"outputId":"ce469c81-fe75-48d4-ef61-60954945ff68"},"id":"5h2TZt3mHiB0","execution_count":24,"outputs":[{"output_type":"stream","name":"stdout","text":["Drive already mounted at /content/drive/; to attempt to forcibly remount, call drive.mount(\"/content/drive/\", force_remount=True).\n"]}]},{"cell_type":"code","source":["root_path = '/content/drive/MyDrive/_TUM/Github/argmining-21-keypoint-analysis-sharedtask-code'"],"metadata":{"id":"hmNGJyhPQIQ1","executionInfo":{"status":"ok","timestamp":1654524410020,"user_tz":-120,"elapsed":259,"user":{"displayName":"Valentina Izrailevitch","userId":"09588376943340163507"}}},"id":"hmNGJyhPQIQ1","execution_count":25,"outputs":[]},{"cell_type":"code","execution_count":26,"id":"9926c22f-838f-4361-bd2e-d16241995fc1","metadata":{"colab":{"base_uri":"https://localhost:8080/"},"id":"9926c22f-838f-4361-bd2e-d16241995fc1","executionInfo":{"status":"ok","timestamp":1654524415071,"user_tz":-120,"elapsed":3644,"user":{"displayName":"Valentina Izrailevitch","userId":"09588376943340163507"}},"outputId":"0c857786-6622-489e-8b79-7c56945f966a"},"outputs":[{"output_type":"stream","name":"stdout","text":["Looking in indexes: https://pypi.org/simple, https://us-python.pkg.dev/colab-wheels/public/simple/\n","Requirement already satisfied: sentence-transformers in /usr/local/lib/python3.7/dist-packages (2.2.0)\n","Requirement already satisfied: tqdm in /usr/local/lib/python3.7/dist-packages (from sentence-transformers) (4.64.0)\n","Requirement already satisfied: scipy in /usr/local/lib/python3.7/dist-packages (from sentence-transformers) (1.4.1)\n","Requirement already satisfied: sentencepiece in /usr/local/lib/python3.7/dist-packages (from sentence-transformers) (0.1.96)\n","Requirement already satisfied: scikit-learn in /usr/local/lib/python3.7/dist-packages (from sentence-transformers) (1.0.2)\n","Requirement already satisfied: nltk in /usr/local/lib/python3.7/dist-packages (from sentence-transformers) (3.2.5)\n","Requirement already satisfied: huggingface-hub in /usr/local/lib/python3.7/dist-packages (from sentence-transformers) (0.7.0)\n","Requirement already satisfied: torchvision in /usr/local/lib/python3.7/dist-packages (from sentence-transformers) (0.12.0+cu113)\n","Requirement already satisfied: numpy in /usr/local/lib/python3.7/dist-packages (from sentence-transformers) (1.21.6)\n","Requirement already satisfied: transformers<5.0.0,>=4.6.0 in /usr/local/lib/python3.7/dist-packages (from sentence-transformers) (4.19.2)\n","Requirement already satisfied: torch>=1.6.0 in /usr/local/lib/python3.7/dist-packages (from sentence-transformers) (1.11.0+cu113)\n","Requirement already satisfied: typing-extensions in /usr/local/lib/python3.7/dist-packages (from torch>=1.6.0->sentence-transformers) (4.2.0)\n","Requirement already satisfied: tokenizers!=0.11.3,<0.13,>=0.11.1 in /usr/local/lib/python3.7/dist-packages (from transformers<5.0.0,>=4.6.0->sentence-transformers) (0.12.1)\n","Requirement already satisfied: importlib-metadata in /usr/local/lib/python3.7/dist-packages (from transformers<5.0.0,>=4.6.0->sentence-transformers) (4.11.4)\n","Requirement already satisfied: regex!=2019.12.17 in /usr/local/lib/python3.7/dist-packages (from transformers<5.0.0,>=4.6.0->sentence-transformers) (2019.12.20)\n","Requirement already satisfied: pyyaml>=5.1 in /usr/local/lib/python3.7/dist-packages (from transformers<5.0.0,>=4.6.0->sentence-transformers) (6.0)\n","Requirement already satisfied: filelock in /usr/local/lib/python3.7/dist-packages (from transformers<5.0.0,>=4.6.0->sentence-transformers) (3.7.0)\n","Requirement already satisfied: packaging>=20.0 in /usr/local/lib/python3.7/dist-packages (from transformers<5.0.0,>=4.6.0->sentence-transformers) (21.3)\n","Requirement already satisfied: requests in /usr/local/lib/python3.7/dist-packages (from transformers<5.0.0,>=4.6.0->sentence-transformers) (2.23.0)\n","Requirement already satisfied: pyparsing!=3.0.5,>=2.0.2 in /usr/local/lib/python3.7/dist-packages (from packaging>=20.0->transformers<5.0.0,>=4.6.0->sentence-transformers) (3.0.9)\n","Requirement already satisfied: zipp>=0.5 in /usr/local/lib/python3.7/dist-packages (from importlib-metadata->transformers<5.0.0,>=4.6.0->sentence-transformers) (3.8.0)\n","Requirement already satisfied: six in /usr/local/lib/python3.7/dist-packages (from nltk->sentence-transformers) (1.15.0)\n","Requirement already satisfied: chardet<4,>=3.0.2 in /usr/local/lib/python3.7/dist-packages (from requests->transformers<5.0.0,>=4.6.0->sentence-transformers) (3.0.4)\n","Requirement already satisfied: urllib3!=1.25.0,!=1.25.1,<1.26,>=1.21.1 in /usr/local/lib/python3.7/dist-packages (from requests->transformers<5.0.0,>=4.6.0->sentence-transformers) (1.24.3)\n","Requirement already satisfied: idna<3,>=2.5 in /usr/local/lib/python3.7/dist-packages (from requests->transformers<5.0.0,>=4.6.0->sentence-transformers) (2.10)\n","Requirement already satisfied: certifi>=2017.4.17 in /usr/local/lib/python3.7/dist-packages (from requests->transformers<5.0.0,>=4.6.0->sentence-transformers) (2022.5.18.1)\n","Requirement already satisfied: threadpoolctl>=2.0.0 in /usr/local/lib/python3.7/dist-packages (from scikit-learn->sentence-transformers) (3.1.0)\n","Requirement already satisfied: joblib>=0.11 in /usr/local/lib/python3.7/dist-packages (from scikit-learn->sentence-transformers) (1.1.0)\n","Requirement already satisfied: pillow!=8.3.*,>=5.3.0 in /usr/local/lib/python3.7/dist-packages (from torchvision->sentence-transformers) (7.1.2)\n"]}],"source":["%autoreload\n","\n","import sys\n","import os\n","!pip install -U sentence-transformers\n","\n","os.environ['CUDA_VISIBLE_DEVICES'] = '5'\n","#sys.path.insert(0, \"../src-py\")\n","sys.path.insert(0, \"/content/drive/MyDrive/_TUM/Github/argmining-21-keypoint-analysis-sharedtask-code/code/src-py\")\n","\n","#!pwd\n","\n","import sbert_training"]},{"cell_type":"code","execution_count":22,"id":"b9b14f1b-554e-43fa-93f1-a9e6b9973588","metadata":{"scrolled":true,"tags":[],"colab":{"base_uri":"https://localhost:8080/","height":494},"id":"b9b14f1b-554e-43fa-93f1-a9e6b9973588","executionInfo":{"status":"error","timestamp":1654523813685,"user_tz":-120,"elapsed":8675,"user":{"displayName":"Valentina Izrailevitch","userId":"09588376943340163507"}},"outputId":"668949a5-181e-49fc-9fe4-a4915ef15eed"},"outputs":[{"output_type":"stream","name":"stderr","text":["Some weights of the model checkpoint at roberta-base were not used when initializing RobertaModel: ['lm_head.layer_norm.bias', 'lm_head.decoder.weight', 'lm_head.dense.bias', 'lm_head.bias', 'lm_head.layer_norm.weight', 'lm_head.dense.weight']\n","- This IS expected if you are initializing RobertaModel from the checkpoint of a model trained on another task or with another architecture (e.g. initializing a BertForSequenceClassification model from a BertForPreTraining model).\n","- This IS NOT expected if you are initializing RobertaModel from the checkpoint of a model that you expect to be exactly identical (initializing a BertForSequenceClassification model from a BertForSequenceClassification model).\n"]},{"output_type":"stream","name":"stdout","text":["2022-06-06 13:56:52 - Use pytorch device: cpu\n","2022-06-06 13:56:52 - Read Triplet train dataset\n"]},{"output_type":"error","ename":"FileNotFoundError","evalue":"ignored","traceback":["\u001b[0;31m---------------------------------------------------------------------------\u001b[0m","\u001b[0;31mFileNotFoundError\u001b[0m                         Traceback (most recent call last)","\u001b[0;32m<ipython-input-22-bd4bdeb1d191>\u001b[0m in \u001b[0;36m<module>\u001b[0;34m()\u001b[0m\n\u001b[1;32m      6\u001b[0m                            \u001b[0mmodel_suffix\u001b[0m\u001b[0;34m=\u001b[0m\u001b[0;34m'contrastive-1-epochs'\u001b[0m\u001b[0;34m,\u001b[0m\u001b[0;34m\u001b[0m\u001b[0;34m\u001b[0m\u001b[0m\n\u001b[1;32m      7\u001b[0m                            \u001b[0mdata_file_suffix\u001b[0m\u001b[0;34m=\u001b[0m\u001b[0;34m'contrastive'\u001b[0m\u001b[0;34m,\u001b[0m\u001b[0;34m\u001b[0m\u001b[0;34m\u001b[0m\u001b[0m\n\u001b[0;32m----> 8\u001b[0;31m                            num_epochs=1, max_seq_length=70, add_special_token=True, train_batch_size=32, loss='ContrastiveLoss')\n\u001b[0m","\u001b[0;32m/content/drive/MyDrive/_TUM/Github/argmining-21-keypoint-analysis-sharedtask-code/code/src-py/sbert_training.py\u001b[0m in \u001b[0;36mtrain_model\u001b[0;34m(dataset_path, eval_data_path, subset_name, output_path, model_name, num_epochs, train_batch_size, model_suffix, data_file_suffix, max_seq_length, add_special_token, loss, sentence_transformer)\u001b[0m\n\u001b[1;32m     89\u001b[0m \u001b[0;34m\u001b[0m\u001b[0m\n\u001b[1;32m     90\u001b[0m \u001b[0;34m\u001b[0m\u001b[0m\n\u001b[0;32m---> 91\u001b[0;31m     \u001b[0mevaluator\u001b[0m \u001b[0;34m=\u001b[0m \u001b[0mKeyPointEvaluator\u001b[0m\u001b[0;34m.\u001b[0m\u001b[0mfrom_eval_data_path\u001b[0m\u001b[0;34m(\u001b[0m\u001b[0meval_data_path\u001b[0m\u001b[0;34m,\u001b[0m \u001b[0msubset_name\u001b[0m\u001b[0;34m,\u001b[0m \u001b[0madd_special_token\u001b[0m\u001b[0;34m,\u001b[0m \u001b[0mname\u001b[0m\u001b[0;34m=\u001b[0m\u001b[0;34m'dev'\u001b[0m\u001b[0;34m,\u001b[0m \u001b[0mshow_progress_bar\u001b[0m\u001b[0;34m=\u001b[0m\u001b[0;32mFalse\u001b[0m\u001b[0;34m)\u001b[0m\u001b[0;34m\u001b[0m\u001b[0;34m\u001b[0m\u001b[0m\n\u001b[0m\u001b[1;32m     92\u001b[0m \u001b[0;34m\u001b[0m\u001b[0m\n\u001b[1;32m     93\u001b[0m \u001b[0;34m\u001b[0m\u001b[0m\n","\u001b[0;32m/content/drive/MyDrive/_TUM/Github/argmining-21-keypoint-analysis-sharedtask-code/code/src-py/KeyPointEvaluator.py\u001b[0m in \u001b[0;36mfrom_eval_data_path\u001b[0;34m(cls, eval_data_path, subset_name, append_topic, **kwargs)\u001b[0m\n\u001b[1;32m    156\u001b[0m     \u001b[0;34m@\u001b[0m\u001b[0mclassmethod\u001b[0m\u001b[0;34m\u001b[0m\u001b[0;34m\u001b[0m\u001b[0m\n\u001b[1;32m    157\u001b[0m     \u001b[0;32mdef\u001b[0m \u001b[0mfrom_eval_data_path\u001b[0m\u001b[0;34m(\u001b[0m\u001b[0mcls\u001b[0m\u001b[0;34m,\u001b[0m \u001b[0meval_data_path\u001b[0m\u001b[0;34m,\u001b[0m \u001b[0msubset_name\u001b[0m\u001b[0;34m,\u001b[0m \u001b[0mappend_topic\u001b[0m\u001b[0;34m,\u001b[0m \u001b[0;34m**\u001b[0m\u001b[0mkwargs\u001b[0m\u001b[0;34m)\u001b[0m\u001b[0;34m:\u001b[0m\u001b[0;34m\u001b[0m\u001b[0;34m\u001b[0m\u001b[0m\n\u001b[0;32m--> 158\u001b[0;31m         \u001b[0marg_df\u001b[0m\u001b[0;34m,\u001b[0m \u001b[0mkp_df\u001b[0m\u001b[0;34m,\u001b[0m \u001b[0mlabels_df\u001b[0m \u001b[0;34m=\u001b[0m \u001b[0mload_kpm_data\u001b[0m\u001b[0;34m(\u001b[0m\u001b[0meval_data_path\u001b[0m\u001b[0;34m,\u001b[0m \u001b[0msubset\u001b[0m\u001b[0;34m=\u001b[0m\u001b[0msubset_name\u001b[0m\u001b[0;34m)\u001b[0m\u001b[0;34m\u001b[0m\u001b[0;34m\u001b[0m\u001b[0m\n\u001b[0m\u001b[1;32m    159\u001b[0m \u001b[0;34m\u001b[0m\u001b[0m\n\u001b[1;32m    160\u001b[0m         \u001b[0;32mreturn\u001b[0m \u001b[0mcls\u001b[0m\u001b[0;34m(\u001b[0m\u001b[0marg_df\u001b[0m\u001b[0;34m,\u001b[0m \u001b[0mkp_df\u001b[0m\u001b[0;34m,\u001b[0m \u001b[0mlabels_df\u001b[0m\u001b[0;34m,\u001b[0m \u001b[0mappend_topic\u001b[0m\u001b[0;34m,\u001b[0m \u001b[0;34m**\u001b[0m\u001b[0mkwargs\u001b[0m\u001b[0;34m)\u001b[0m\u001b[0;34m\u001b[0m\u001b[0;34m\u001b[0m\u001b[0m\n","\u001b[0;32m/content/drive/MyDrive/_TUM/Github/argmining-21-keypoint-analysis-sharedtask-code/code/src-py/KeyPointEvaluator.py\u001b[0m in \u001b[0;36mload_kpm_data\u001b[0;34m(gold_data_dir, subset)\u001b[0m\n\u001b[1;32m     41\u001b[0m     \u001b[0mlabels_file\u001b[0m \u001b[0;34m=\u001b[0m \u001b[0mos\u001b[0m\u001b[0;34m.\u001b[0m\u001b[0mpath\u001b[0m\u001b[0;34m.\u001b[0m\u001b[0mjoin\u001b[0m\u001b[0;34m(\u001b[0m\u001b[0mgold_data_dir\u001b[0m\u001b[0;34m,\u001b[0m \u001b[0;34mf\"labels_{subset}.csv\"\u001b[0m\u001b[0;34m)\u001b[0m\u001b[0;34m\u001b[0m\u001b[0;34m\u001b[0m\u001b[0m\n\u001b[1;32m     42\u001b[0m \u001b[0;34m\u001b[0m\u001b[0m\n\u001b[0;32m---> 43\u001b[0;31m     \u001b[0marguments_df\u001b[0m \u001b[0;34m=\u001b[0m \u001b[0mpd\u001b[0m\u001b[0;34m.\u001b[0m\u001b[0mread_csv\u001b[0m\u001b[0;34m(\u001b[0m\u001b[0marguments_file\u001b[0m\u001b[0;34m)\u001b[0m\u001b[0;34m\u001b[0m\u001b[0;34m\u001b[0m\u001b[0m\n\u001b[0m\u001b[1;32m     44\u001b[0m     \u001b[0mkey_points_df\u001b[0m \u001b[0;34m=\u001b[0m \u001b[0mpd\u001b[0m\u001b[0;34m.\u001b[0m\u001b[0mread_csv\u001b[0m\u001b[0;34m(\u001b[0m\u001b[0mkey_points_file\u001b[0m\u001b[0;34m)\u001b[0m\u001b[0;34m\u001b[0m\u001b[0;34m\u001b[0m\u001b[0m\n\u001b[1;32m     45\u001b[0m     \u001b[0mlabels_file_df\u001b[0m \u001b[0;34m=\u001b[0m \u001b[0mpd\u001b[0m\u001b[0;34m.\u001b[0m\u001b[0mread_csv\u001b[0m\u001b[0;34m(\u001b[0m\u001b[0mlabels_file\u001b[0m\u001b[0;34m)\u001b[0m\u001b[0;34m\u001b[0m\u001b[0;34m\u001b[0m\u001b[0m\n","\u001b[0;32m/usr/local/lib/python3.7/dist-packages/pandas/util/_decorators.py\u001b[0m in \u001b[0;36mwrapper\u001b[0;34m(*args, **kwargs)\u001b[0m\n\u001b[1;32m    309\u001b[0m                     \u001b[0mstacklevel\u001b[0m\u001b[0;34m=\u001b[0m\u001b[0mstacklevel\u001b[0m\u001b[0;34m,\u001b[0m\u001b[0;34m\u001b[0m\u001b[0;34m\u001b[0m\u001b[0m\n\u001b[1;32m    310\u001b[0m                 )\n\u001b[0;32m--> 311\u001b[0;31m             \u001b[0;32mreturn\u001b[0m \u001b[0mfunc\u001b[0m\u001b[0;34m(\u001b[0m\u001b[0;34m*\u001b[0m\u001b[0margs\u001b[0m\u001b[0;34m,\u001b[0m \u001b[0;34m**\u001b[0m\u001b[0mkwargs\u001b[0m\u001b[0;34m)\u001b[0m\u001b[0;34m\u001b[0m\u001b[0;34m\u001b[0m\u001b[0m\n\u001b[0m\u001b[1;32m    312\u001b[0m \u001b[0;34m\u001b[0m\u001b[0m\n\u001b[1;32m    313\u001b[0m         \u001b[0;32mreturn\u001b[0m \u001b[0mwrapper\u001b[0m\u001b[0;34m\u001b[0m\u001b[0;34m\u001b[0m\u001b[0m\n","\u001b[0;32m/usr/local/lib/python3.7/dist-packages/pandas/io/parsers/readers.py\u001b[0m in \u001b[0;36mread_csv\u001b[0;34m(filepath_or_buffer, sep, delimiter, header, names, index_col, usecols, squeeze, prefix, mangle_dupe_cols, dtype, engine, converters, true_values, false_values, skipinitialspace, skiprows, skipfooter, nrows, na_values, keep_default_na, na_filter, verbose, skip_blank_lines, parse_dates, infer_datetime_format, keep_date_col, date_parser, dayfirst, cache_dates, iterator, chunksize, compression, thousands, decimal, lineterminator, quotechar, quoting, doublequote, escapechar, comment, encoding, encoding_errors, dialect, error_bad_lines, warn_bad_lines, on_bad_lines, delim_whitespace, low_memory, memory_map, float_precision, storage_options)\u001b[0m\n\u001b[1;32m    584\u001b[0m     \u001b[0mkwds\u001b[0m\u001b[0;34m.\u001b[0m\u001b[0mupdate\u001b[0m\u001b[0;34m(\u001b[0m\u001b[0mkwds_defaults\u001b[0m\u001b[0;34m)\u001b[0m\u001b[0;34m\u001b[0m\u001b[0;34m\u001b[0m\u001b[0m\n\u001b[1;32m    585\u001b[0m \u001b[0;34m\u001b[0m\u001b[0m\n\u001b[0;32m--> 586\u001b[0;31m     \u001b[0;32mreturn\u001b[0m \u001b[0m_read\u001b[0m\u001b[0;34m(\u001b[0m\u001b[0mfilepath_or_buffer\u001b[0m\u001b[0;34m,\u001b[0m \u001b[0mkwds\u001b[0m\u001b[0;34m)\u001b[0m\u001b[0;34m\u001b[0m\u001b[0;34m\u001b[0m\u001b[0m\n\u001b[0m\u001b[1;32m    587\u001b[0m \u001b[0;34m\u001b[0m\u001b[0m\n\u001b[1;32m    588\u001b[0m \u001b[0;34m\u001b[0m\u001b[0m\n","\u001b[0;32m/usr/local/lib/python3.7/dist-packages/pandas/io/parsers/readers.py\u001b[0m in \u001b[0;36m_read\u001b[0;34m(filepath_or_buffer, kwds)\u001b[0m\n\u001b[1;32m    480\u001b[0m \u001b[0;34m\u001b[0m\u001b[0m\n\u001b[1;32m    481\u001b[0m     \u001b[0;31m# Create the parser.\u001b[0m\u001b[0;34m\u001b[0m\u001b[0;34m\u001b[0m\u001b[0;34m\u001b[0m\u001b[0m\n\u001b[0;32m--> 482\u001b[0;31m     \u001b[0mparser\u001b[0m \u001b[0;34m=\u001b[0m \u001b[0mTextFileReader\u001b[0m\u001b[0;34m(\u001b[0m\u001b[0mfilepath_or_buffer\u001b[0m\u001b[0;34m,\u001b[0m \u001b[0;34m**\u001b[0m\u001b[0mkwds\u001b[0m\u001b[0;34m)\u001b[0m\u001b[0;34m\u001b[0m\u001b[0;34m\u001b[0m\u001b[0m\n\u001b[0m\u001b[1;32m    483\u001b[0m \u001b[0;34m\u001b[0m\u001b[0m\n\u001b[1;32m    484\u001b[0m     \u001b[0;32mif\u001b[0m \u001b[0mchunksize\u001b[0m \u001b[0;32mor\u001b[0m \u001b[0miterator\u001b[0m\u001b[0;34m:\u001b[0m\u001b[0;34m\u001b[0m\u001b[0;34m\u001b[0m\u001b[0m\n","\u001b[0;32m/usr/local/lib/python3.7/dist-packages/pandas/io/parsers/readers.py\u001b[0m in \u001b[0;36m__init__\u001b[0;34m(self, f, engine, **kwds)\u001b[0m\n\u001b[1;32m    809\u001b[0m             \u001b[0mself\u001b[0m\u001b[0;34m.\u001b[0m\u001b[0moptions\u001b[0m\u001b[0;34m[\u001b[0m\u001b[0;34m\"has_index_names\"\u001b[0m\u001b[0;34m]\u001b[0m \u001b[0;34m=\u001b[0m \u001b[0mkwds\u001b[0m\u001b[0;34m[\u001b[0m\u001b[0;34m\"has_index_names\"\u001b[0m\u001b[0;34m]\u001b[0m\u001b[0;34m\u001b[0m\u001b[0;34m\u001b[0m\u001b[0m\n\u001b[1;32m    810\u001b[0m \u001b[0;34m\u001b[0m\u001b[0m\n\u001b[0;32m--> 811\u001b[0;31m         \u001b[0mself\u001b[0m\u001b[0;34m.\u001b[0m\u001b[0m_engine\u001b[0m \u001b[0;34m=\u001b[0m \u001b[0mself\u001b[0m\u001b[0;34m.\u001b[0m\u001b[0m_make_engine\u001b[0m\u001b[0;34m(\u001b[0m\u001b[0mself\u001b[0m\u001b[0;34m.\u001b[0m\u001b[0mengine\u001b[0m\u001b[0;34m)\u001b[0m\u001b[0;34m\u001b[0m\u001b[0;34m\u001b[0m\u001b[0m\n\u001b[0m\u001b[1;32m    812\u001b[0m \u001b[0;34m\u001b[0m\u001b[0m\n\u001b[1;32m    813\u001b[0m     \u001b[0;32mdef\u001b[0m \u001b[0mclose\u001b[0m\u001b[0;34m(\u001b[0m\u001b[0mself\u001b[0m\u001b[0;34m)\u001b[0m\u001b[0;34m:\u001b[0m\u001b[0;34m\u001b[0m\u001b[0;34m\u001b[0m\u001b[0m\n","\u001b[0;32m/usr/local/lib/python3.7/dist-packages/pandas/io/parsers/readers.py\u001b[0m in \u001b[0;36m_make_engine\u001b[0;34m(self, engine)\u001b[0m\n\u001b[1;32m   1038\u001b[0m             )\n\u001b[1;32m   1039\u001b[0m         \u001b[0;31m# error: Too many arguments for \"ParserBase\"\u001b[0m\u001b[0;34m\u001b[0m\u001b[0;34m\u001b[0m\u001b[0;34m\u001b[0m\u001b[0m\n\u001b[0;32m-> 1040\u001b[0;31m         \u001b[0;32mreturn\u001b[0m \u001b[0mmapping\u001b[0m\u001b[0;34m[\u001b[0m\u001b[0mengine\u001b[0m\u001b[0;34m]\u001b[0m\u001b[0;34m(\u001b[0m\u001b[0mself\u001b[0m\u001b[0;34m.\u001b[0m\u001b[0mf\u001b[0m\u001b[0;34m,\u001b[0m \u001b[0;34m**\u001b[0m\u001b[0mself\u001b[0m\u001b[0;34m.\u001b[0m\u001b[0moptions\u001b[0m\u001b[0;34m)\u001b[0m  \u001b[0;31m# type: ignore[call-arg]\u001b[0m\u001b[0;34m\u001b[0m\u001b[0;34m\u001b[0m\u001b[0m\n\u001b[0m\u001b[1;32m   1041\u001b[0m \u001b[0;34m\u001b[0m\u001b[0m\n\u001b[1;32m   1042\u001b[0m     \u001b[0;32mdef\u001b[0m \u001b[0m_failover_to_python\u001b[0m\u001b[0;34m(\u001b[0m\u001b[0mself\u001b[0m\u001b[0;34m)\u001b[0m\u001b[0;34m:\u001b[0m\u001b[0;34m\u001b[0m\u001b[0;34m\u001b[0m\u001b[0m\n","\u001b[0;32m/usr/local/lib/python3.7/dist-packages/pandas/io/parsers/c_parser_wrapper.py\u001b[0m in \u001b[0;36m__init__\u001b[0;34m(self, src, **kwds)\u001b[0m\n\u001b[1;32m     49\u001b[0m \u001b[0;34m\u001b[0m\u001b[0m\n\u001b[1;32m     50\u001b[0m         \u001b[0;31m# open handles\u001b[0m\u001b[0;34m\u001b[0m\u001b[0;34m\u001b[0m\u001b[0;34m\u001b[0m\u001b[0m\n\u001b[0;32m---> 51\u001b[0;31m         \u001b[0mself\u001b[0m\u001b[0;34m.\u001b[0m\u001b[0m_open_handles\u001b[0m\u001b[0;34m(\u001b[0m\u001b[0msrc\u001b[0m\u001b[0;34m,\u001b[0m \u001b[0mkwds\u001b[0m\u001b[0;34m)\u001b[0m\u001b[0;34m\u001b[0m\u001b[0;34m\u001b[0m\u001b[0m\n\u001b[0m\u001b[1;32m     52\u001b[0m         \u001b[0;32massert\u001b[0m \u001b[0mself\u001b[0m\u001b[0;34m.\u001b[0m\u001b[0mhandles\u001b[0m \u001b[0;32mis\u001b[0m \u001b[0;32mnot\u001b[0m \u001b[0;32mNone\u001b[0m\u001b[0;34m\u001b[0m\u001b[0;34m\u001b[0m\u001b[0m\n\u001b[1;32m     53\u001b[0m \u001b[0;34m\u001b[0m\u001b[0m\n","\u001b[0;32m/usr/local/lib/python3.7/dist-packages/pandas/io/parsers/base_parser.py\u001b[0m in \u001b[0;36m_open_handles\u001b[0;34m(self, src, kwds)\u001b[0m\n\u001b[1;32m    227\u001b[0m             \u001b[0mmemory_map\u001b[0m\u001b[0;34m=\u001b[0m\u001b[0mkwds\u001b[0m\u001b[0;34m.\u001b[0m\u001b[0mget\u001b[0m\u001b[0;34m(\u001b[0m\u001b[0;34m\"memory_map\"\u001b[0m\u001b[0;34m,\u001b[0m \u001b[0;32mFalse\u001b[0m\u001b[0;34m)\u001b[0m\u001b[0;34m,\u001b[0m\u001b[0;34m\u001b[0m\u001b[0;34m\u001b[0m\u001b[0m\n\u001b[1;32m    228\u001b[0m             \u001b[0mstorage_options\u001b[0m\u001b[0;34m=\u001b[0m\u001b[0mkwds\u001b[0m\u001b[0;34m.\u001b[0m\u001b[0mget\u001b[0m\u001b[0;34m(\u001b[0m\u001b[0;34m\"storage_options\"\u001b[0m\u001b[0;34m,\u001b[0m \u001b[0;32mNone\u001b[0m\u001b[0;34m)\u001b[0m\u001b[0;34m,\u001b[0m\u001b[0;34m\u001b[0m\u001b[0;34m\u001b[0m\u001b[0m\n\u001b[0;32m--> 229\u001b[0;31m             \u001b[0merrors\u001b[0m\u001b[0;34m=\u001b[0m\u001b[0mkwds\u001b[0m\u001b[0;34m.\u001b[0m\u001b[0mget\u001b[0m\u001b[0;34m(\u001b[0m\u001b[0;34m\"encoding_errors\"\u001b[0m\u001b[0;34m,\u001b[0m \u001b[0;34m\"strict\"\u001b[0m\u001b[0;34m)\u001b[0m\u001b[0;34m,\u001b[0m\u001b[0;34m\u001b[0m\u001b[0;34m\u001b[0m\u001b[0m\n\u001b[0m\u001b[1;32m    230\u001b[0m         )\n\u001b[1;32m    231\u001b[0m \u001b[0;34m\u001b[0m\u001b[0m\n","\u001b[0;32m/usr/local/lib/python3.7/dist-packages/pandas/io/common.py\u001b[0m in \u001b[0;36mget_handle\u001b[0;34m(path_or_buf, mode, encoding, compression, memory_map, is_text, errors, storage_options)\u001b[0m\n\u001b[1;32m    705\u001b[0m                 \u001b[0mencoding\u001b[0m\u001b[0;34m=\u001b[0m\u001b[0mioargs\u001b[0m\u001b[0;34m.\u001b[0m\u001b[0mencoding\u001b[0m\u001b[0;34m,\u001b[0m\u001b[0;34m\u001b[0m\u001b[0;34m\u001b[0m\u001b[0m\n\u001b[1;32m    706\u001b[0m                 \u001b[0merrors\u001b[0m\u001b[0;34m=\u001b[0m\u001b[0merrors\u001b[0m\u001b[0;34m,\u001b[0m\u001b[0;34m\u001b[0m\u001b[0;34m\u001b[0m\u001b[0m\n\u001b[0;32m--> 707\u001b[0;31m                 \u001b[0mnewline\u001b[0m\u001b[0;34m=\u001b[0m\u001b[0;34m\"\"\u001b[0m\u001b[0;34m,\u001b[0m\u001b[0;34m\u001b[0m\u001b[0;34m\u001b[0m\u001b[0m\n\u001b[0m\u001b[1;32m    708\u001b[0m             )\n\u001b[1;32m    709\u001b[0m         \u001b[0;32melse\u001b[0m\u001b[0;34m:\u001b[0m\u001b[0;34m\u001b[0m\u001b[0;34m\u001b[0m\u001b[0m\n","\u001b[0;31mFileNotFoundError\u001b[0m: [Errno 2] No such file or directory: '/content/drive/MyDrive/_TUM/Github/argmining-21-keypoint-analysis-sharedtask-code/KPA_2021_shared_task/kpm_data/arguments_dev.csv'"]}],"source":["sbert_training.train_model(root_path +'/data/',\n","                           root_path + '/KPA_2021_shared_task/kpm_data/',\n","                           'dev',\n","                           root_path+ '/output/',\n","                           'roberta-base',\n","                           model_suffix='contrastive-1-epochs', \n","                           data_file_suffix='contrastive',\n","                           num_epochs=1, max_seq_length=70, add_special_token=True, train_batch_size=32, loss='ContrastiveLoss')\n"]},{"cell_type":"code","source":["!pwd"],"metadata":{"colab":{"base_uri":"https://localhost:8080/"},"id":"IVfYw1ARRq4K","executionInfo":{"status":"ok","timestamp":1654523497931,"user_tz":-120,"elapsed":277,"user":{"displayName":"Valentina Izrailevitch","userId":"09588376943340163507"}},"outputId":"a9de6405-002e-42dc-bc32-d626f9cee590"},"id":"IVfYw1ARRq4K","execution_count":11,"outputs":[{"output_type":"stream","name":"stdout","text":["/content/drive/MyDrive/_TUM/Github/argmining-21-keypoint-analysis-sharedtask-code/code/src-ipynb\n"]}]},{"cell_type":"code","source":["!git status"],"metadata":{"id":"xMlzSfgtI4gO","colab":{"base_uri":"https://localhost:8080/"},"executionInfo":{"status":"ok","timestamp":1654524518913,"user_tz":-120,"elapsed":42517,"user":{"displayName":"Valentina Izrailevitch","userId":"09588376943340163507"}},"outputId":"7998ba0b-c46f-4796-d7b1-57119ede1d45"},"id":"xMlzSfgtI4gO","execution_count":27,"outputs":[{"output_type":"stream","name":"stdout","text":["On branch master\n","Your branch is up to date with 'origin/master'.\n","\n","Changes not staged for commit:\n","  (use \"git add <file>...\" to update what will be committed)\n","  (use \"git checkout -- <file>...\" to discard changes in working directory)\n","\n","\t\u001b[31mmodified:   experiment-data-prep.ipynb\u001b[m\n","\t\u001b[31mmodified:   experiment-sbert-training.ipynb\u001b[m\n","\n","Untracked files:\n","  (use \"git add <file>...\" to include in what will be committed)\n","\n","\t\u001b[31m../src-py/__pycache__/\u001b[m\n","\t\u001b[31m../../data/training_df_contrastive.csv\u001b[m\n","\t\u001b[31m../../data/valid_df_contrastive.csv\u001b[m\n","\n","no changes added to commit (use \"git add\" and/or \"git commit -a\")\n"]}]},{"cell_type":"code","source":["!git status"],"metadata":{"colab":{"base_uri":"https://localhost:8080/"},"id":"0fFrwg_qSwOJ","executionInfo":{"status":"ok","timestamp":1654524864031,"user_tz":-120,"elapsed":373,"user":{"displayName":"Valentina Izrailevitch","userId":"09588376943340163507"}},"outputId":"65cb8e37-cf8c-4dd2-9b91-c817720d7ed4"},"id":"0fFrwg_qSwOJ","execution_count":35,"outputs":[{"output_type":"stream","name":"stdout","text":["On branch master\n","Your branch and 'origin/master' have diverged,\n","and have 1 and 1 different commits each, respectively.\n","  (use \"git pull\" to merge the remote branch into yours)\n","\n","Changes not staged for commit:\n","  (use \"git add <file>...\" to update what will be committed)\n","  (use \"git checkout -- <file>...\" to discard changes in working directory)\n","\n","\t\u001b[31mmodified:   experiment-sbert-training.ipynb\u001b[m\n","\n","Untracked files:\n","  (use \"git add <file>...\" to include in what will be committed)\n","\n","\t\u001b[31m../src-py/__pycache__/\u001b[m\n","\t\u001b[31m../../data/training_df_contrastive.csv\u001b[m\n","\t\u001b[31m../../data/valid_df_contrastive.csv\u001b[m\n","\n","no changes added to commit (use \"git add\" and/or \"git commit -a\")\n"]}]},{"cell_type":"code","source":["!git add"],"metadata":{"id":"ip4DieEMXeGD"},"id":"ip4DieEMXeGD","execution_count":null,"outputs":[]}],"metadata":{"kernelspec":{"display_name":"Python 3","language":"python","name":"python3"},"language_info":{"codemirror_mode":{"name":"ipython","version":3},"file_extension":".py","mimetype":"text/x-python","name":"python","nbconvert_exporter":"python","pygments_lexer":"ipython3","version":"3.6.8"},"colab":{"name":"experiment-sbert-training.ipynb","provenance":[],"collapsed_sections":[]},"accelerator":"TPU"},"nbformat":4,"nbformat_minor":5}
=======
{
 "cells": [
  {
   "cell_type": "markdown",
   "id": "fe3efa9e-c2a7-468d-934f-4c8f04325dff",
   "metadata": {},
   "source": [
    "### Training:"
   ]
  },
  {
   "cell_type": "code",
   "execution_count": 3,
   "id": "e4aee413-213c-48fb-97ec-1f5377c2f392",
   "metadata": {},
   "outputs": [],
   "source": [
    "%load_ext autoreload"
   ]
  },
  {
   "cell_type": "code",
   "execution_count": 4,
   "id": "9926c22f-838f-4361-bd2e-d16241995fc1",
   "metadata": {},
   "outputs": [],
   "source": [
    "%autoreload\n",
    "\n",
    "import sys\n",
    "import os\n",
    "\n",
    "os.environ['CUDA_VISIBLE_DEVICES'] = '5'\n",
    "sys.path.insert(0, \"../src-py\")\n",
    "\n",
    "import sbert_training"
   ]
  },
  {
   "cell_type": "code",
   "execution_count": 43,
   "id": "b9b14f1b-554e-43fa-93f1-a9e6b9973588",
   "metadata": {
    "scrolled": true,
    "tags": []
   },
   "outputs": [
    {
     "name": "stdout",
     "output_type": "stream",
     "text": [
      "2021-05-28 16:41:07 - Use pytorch device: cuda\n",
      "2021-05-28 16:41:07 - Read Triplet train dataset\n"
     ]
    },
    {
     "data": {
      "application/vnd.jupyter.widget-view+json": {
       "model_id": "bc64abb2fb424980874d1879cdf68f08",
       "version_major": 2,
       "version_minor": 0
      },
      "text/plain": [
       "HBox(children=(FloatProgress(value=0.0, description='Epoch', max=10.0, style=ProgressStyle(description_width='…"
      ]
     },
     "metadata": {},
     "output_type": "display_data"
    },
    {
     "data": {
      "application/vnd.jupyter.widget-view+json": {
       "model_id": "21c96f9b667f4071bbe7d5e51038fb22",
       "version_major": 2,
       "version_minor": 0
      },
      "text/plain": [
       "HBox(children=(FloatProgress(value=0.0, description='Iteration', max=645.0, style=ProgressStyle(description_wi…"
      ]
     },
     "metadata": {},
     "output_type": "display_data"
    },
    {
     "name": "stdout",
     "output_type": "stream",
     "text": [
      "2021-05-28 16:43:37 - TripletEvaluator: Evaluating the model on dev dataset in epoch 0 after 500 steps:\n",
      "mAP strict= 0.7952519106026769 ; mAP relaxed = 0.9668009029686272\n",
      "2021-05-28 16:43:40 - mAP strict:   \t79.53\n",
      "2021-05-28 16:43:40 - mAP relaxed:   \t96.68\n",
      "2021-05-28 16:43:40 - Save model to /workspace/ceph_data/keypoint-analysis-sharedtask/siamese-models/roberta-base-contrastive-10-epochs-2021-05-28_16-41-01\n",
      "\n",
      "2021-05-28 16:44:24 - TripletEvaluator: Evaluating the model on dev dataset after epoch 0:\n",
      "mAP strict= 0.8342435579723064 ; mAP relaxed = 0.9696185558523551\n",
      "2021-05-28 16:44:26 - mAP strict:   \t83.42\n",
      "2021-05-28 16:44:26 - mAP relaxed:   \t96.96\n",
      "2021-05-28 16:44:26 - Save model to /workspace/ceph_data/keypoint-analysis-sharedtask/siamese-models/roberta-base-contrastive-10-epochs-2021-05-28_16-41-01\n"
     ]
    },
    {
     "data": {
      "application/vnd.jupyter.widget-view+json": {
       "model_id": "fcd29cb55b014288a935c02c6443de81",
       "version_major": 2,
       "version_minor": 0
      },
      "text/plain": [
       "HBox(children=(FloatProgress(value=0.0, description='Iteration', max=645.0, style=ProgressStyle(description_wi…"
      ]
     },
     "metadata": {},
     "output_type": "display_data"
    },
    {
     "name": "stdout",
     "output_type": "stream",
     "text": [
      "2021-05-28 16:46:57 - TripletEvaluator: Evaluating the model on dev dataset in epoch 1 after 500 steps:\n",
      "mAP strict= 0.8131806570604801 ; mAP relaxed = 0.9631507751654879\n",
      "2021-05-28 16:47:00 - mAP strict:   \t81.32\n",
      "2021-05-28 16:47:00 - mAP relaxed:   \t96.32\n",
      "\n",
      "2021-05-28 16:47:43 - TripletEvaluator: Evaluating the model on dev dataset after epoch 1:\n",
      "mAP strict= 0.8396659871968146 ; mAP relaxed = 0.9705824390309555\n",
      "2021-05-28 16:47:45 - mAP strict:   \t83.97\n",
      "2021-05-28 16:47:45 - mAP relaxed:   \t97.06\n",
      "2021-05-28 16:47:45 - Save model to /workspace/ceph_data/keypoint-analysis-sharedtask/siamese-models/roberta-base-contrastive-10-epochs-2021-05-28_16-41-01\n"
     ]
    },
    {
     "data": {
      "application/vnd.jupyter.widget-view+json": {
       "model_id": "524936c713854286b810d93a7504e89d",
       "version_major": 2,
       "version_minor": 0
      },
      "text/plain": [
       "HBox(children=(FloatProgress(value=0.0, description='Iteration', max=645.0, style=ProgressStyle(description_wi…"
      ]
     },
     "metadata": {},
     "output_type": "display_data"
    },
    {
     "name": "stdout",
     "output_type": "stream",
     "text": [
      "2021-05-28 16:50:16 - TripletEvaluator: Evaluating the model on dev dataset in epoch 2 after 500 steps:\n",
      "mAP strict= 0.7878916205040375 ; mAP relaxed = 0.9640971922939092\n",
      "2021-05-28 16:50:18 - mAP strict:   \t78.79\n",
      "2021-05-28 16:50:18 - mAP relaxed:   \t96.41\n",
      "\n",
      "2021-05-28 16:51:01 - TripletEvaluator: Evaluating the model on dev dataset after epoch 2:\n",
      "mAP strict= 0.8055851837749841 ; mAP relaxed = 0.9626366184268267\n",
      "2021-05-28 16:51:04 - mAP strict:   \t80.56\n",
      "2021-05-28 16:51:04 - mAP relaxed:   \t96.26\n"
     ]
    },
    {
     "data": {
      "application/vnd.jupyter.widget-view+json": {
       "model_id": "bcab1dd557f644c8a1d7775707fe55bc",
       "version_major": 2,
       "version_minor": 0
      },
      "text/plain": [
       "HBox(children=(FloatProgress(value=0.0, description='Iteration', max=645.0, style=ProgressStyle(description_wi…"
      ]
     },
     "metadata": {},
     "output_type": "display_data"
    },
    {
     "name": "stdout",
     "output_type": "stream",
     "text": [
      "2021-05-28 16:53:33 - TripletEvaluator: Evaluating the model on dev dataset in epoch 3 after 500 steps:\n",
      "mAP strict= 0.7969782339766143 ; mAP relaxed = 0.9727907332049299\n",
      "2021-05-28 16:53:35 - mAP strict:   \t79.70\n",
      "2021-05-28 16:53:35 - mAP relaxed:   \t97.28\n",
      "\n",
      "2021-05-28 16:54:18 - TripletEvaluator: Evaluating the model on dev dataset after epoch 3:\n",
      "mAP strict= 0.8309058125868565 ; mAP relaxed = 0.9672322762452008\n",
      "2021-05-28 16:54:21 - mAP strict:   \t83.09\n",
      "2021-05-28 16:54:21 - mAP relaxed:   \t96.72\n"
     ]
    },
    {
     "data": {
      "application/vnd.jupyter.widget-view+json": {
       "model_id": "dca841c371974ccfbb2824975f03bd52",
       "version_major": 2,
       "version_minor": 0
      },
      "text/plain": [
       "HBox(children=(FloatProgress(value=0.0, description='Iteration', max=645.0, style=ProgressStyle(description_wi…"
      ]
     },
     "metadata": {},
     "output_type": "display_data"
    },
    {
     "name": "stdout",
     "output_type": "stream",
     "text": [
      "2021-05-28 16:56:51 - TripletEvaluator: Evaluating the model on dev dataset in epoch 4 after 500 steps:\n",
      "mAP strict= 0.7980472441428121 ; mAP relaxed = 0.9738388941944832\n",
      "2021-05-28 16:56:53 - mAP strict:   \t79.80\n",
      "2021-05-28 16:56:53 - mAP relaxed:   \t97.38\n",
      "\n",
      "2021-05-28 16:57:36 - TripletEvaluator: Evaluating the model on dev dataset after epoch 4:\n",
      "mAP strict= 0.7892972001805253 ; mAP relaxed = 0.9362984408280655\n",
      "2021-05-28 16:57:38 - mAP strict:   \t78.93\n",
      "2021-05-28 16:57:38 - mAP relaxed:   \t93.63\n"
     ]
    },
    {
     "data": {
      "application/vnd.jupyter.widget-view+json": {
       "model_id": "92e6db7262ef46eaaaf482b680c5b151",
       "version_major": 2,
       "version_minor": 0
      },
      "text/plain": [
       "HBox(children=(FloatProgress(value=0.0, description='Iteration', max=645.0, style=ProgressStyle(description_wi…"
      ]
     },
     "metadata": {},
     "output_type": "display_data"
    },
    {
     "name": "stdout",
     "output_type": "stream",
     "text": [
      "2021-05-28 17:00:08 - TripletEvaluator: Evaluating the model on dev dataset in epoch 5 after 500 steps:\n",
      "mAP strict= 0.7888528773609202 ; mAP relaxed = 0.9652691585854614\n",
      "2021-05-28 17:00:10 - mAP strict:   \t78.89\n",
      "2021-05-28 17:00:10 - mAP relaxed:   \t96.53\n",
      "\n",
      "2021-05-28 17:00:53 - TripletEvaluator: Evaluating the model on dev dataset after epoch 5:\n",
      "mAP strict= 0.7939577046307215 ; mAP relaxed = 0.9558754484549591\n",
      "2021-05-28 17:00:55 - mAP strict:   \t79.40\n",
      "2021-05-28 17:00:55 - mAP relaxed:   \t95.59\n"
     ]
    },
    {
     "data": {
      "application/vnd.jupyter.widget-view+json": {
       "model_id": "fddf09fff09e44ee9a9c98b8b85ab1e5",
       "version_major": 2,
       "version_minor": 0
      },
      "text/plain": [
       "HBox(children=(FloatProgress(value=0.0, description='Iteration', max=645.0, style=ProgressStyle(description_wi…"
      ]
     },
     "metadata": {},
     "output_type": "display_data"
    },
    {
     "name": "stdout",
     "output_type": "stream",
     "text": [
      "2021-05-28 17:03:25 - TripletEvaluator: Evaluating the model on dev dataset in epoch 6 after 500 steps:\n",
      "mAP strict= 0.7903550206134541 ; mAP relaxed = 0.968211376623856\n",
      "2021-05-28 17:03:27 - mAP strict:   \t79.04\n",
      "2021-05-28 17:03:27 - mAP relaxed:   \t96.82\n",
      "\n",
      "2021-05-28 17:04:10 - TripletEvaluator: Evaluating the model on dev dataset after epoch 6:\n",
      "mAP strict= 0.7984175247708589 ; mAP relaxed = 0.9671560242785627\n",
      "2021-05-28 17:04:12 - mAP strict:   \t79.84\n",
      "2021-05-28 17:04:12 - mAP relaxed:   \t96.72\n"
     ]
    },
    {
     "data": {
      "application/vnd.jupyter.widget-view+json": {
       "model_id": "61c0567746914842b2eaa255a76e7c37",
       "version_major": 2,
       "version_minor": 0
      },
      "text/plain": [
       "HBox(children=(FloatProgress(value=0.0, description='Iteration', max=645.0, style=ProgressStyle(description_wi…"
      ]
     },
     "metadata": {},
     "output_type": "display_data"
    },
    {
     "name": "stdout",
     "output_type": "stream",
     "text": [
      "2021-05-28 17:06:41 - TripletEvaluator: Evaluating the model on dev dataset in epoch 7 after 500 steps:\n",
      "mAP strict= 0.7854417782247485 ; mAP relaxed = 0.9612125025364464\n",
      "2021-05-28 17:06:44 - mAP strict:   \t78.54\n",
      "2021-05-28 17:06:44 - mAP relaxed:   \t96.12\n",
      "\n",
      "2021-05-28 17:07:27 - TripletEvaluator: Evaluating the model on dev dataset after epoch 7:\n",
      "mAP strict= 0.78476257881283 ; mAP relaxed = 0.9543083300387903\n",
      "2021-05-28 17:07:29 - mAP strict:   \t78.48\n",
      "2021-05-28 17:07:29 - mAP relaxed:   \t95.43\n"
     ]
    },
    {
     "data": {
      "application/vnd.jupyter.widget-view+json": {
       "model_id": "cafbb9fbb6164d6c977b5c1209b9a95b",
       "version_major": 2,
       "version_minor": 0
      },
      "text/plain": [
       "HBox(children=(FloatProgress(value=0.0, description='Iteration', max=645.0, style=ProgressStyle(description_wi…"
      ]
     },
     "metadata": {},
     "output_type": "display_data"
    },
    {
     "name": "stdout",
     "output_type": "stream",
     "text": [
      "2021-05-28 17:09:58 - TripletEvaluator: Evaluating the model on dev dataset in epoch 8 after 500 steps:\n",
      "mAP strict= 0.7829577252267919 ; mAP relaxed = 0.9623990868394958\n",
      "2021-05-28 17:10:01 - mAP strict:   \t78.30\n",
      "2021-05-28 17:10:01 - mAP relaxed:   \t96.24\n",
      "\n",
      "2021-05-28 17:10:44 - TripletEvaluator: Evaluating the model on dev dataset after epoch 8:\n",
      "mAP strict= 0.7839283128445473 ; mAP relaxed = 0.9620014119435017\n",
      "2021-05-28 17:10:46 - mAP strict:   \t78.39\n",
      "2021-05-28 17:10:46 - mAP relaxed:   \t96.20\n"
     ]
    },
    {
     "data": {
      "application/vnd.jupyter.widget-view+json": {
       "model_id": "4309fae76c8f4bdebe37efd1abeff784",
       "version_major": 2,
       "version_minor": 0
      },
      "text/plain": [
       "HBox(children=(FloatProgress(value=0.0, description='Iteration', max=645.0, style=ProgressStyle(description_wi…"
      ]
     },
     "metadata": {},
     "output_type": "display_data"
    },
    {
     "name": "stdout",
     "output_type": "stream",
     "text": [
      "2021-05-28 17:13:15 - TripletEvaluator: Evaluating the model on dev dataset in epoch 9 after 500 steps:\n",
      "mAP strict= 0.7864138474398386 ; mAP relaxed = 0.9629793053657515\n",
      "2021-05-28 17:13:17 - mAP strict:   \t78.64\n",
      "2021-05-28 17:13:17 - mAP relaxed:   \t96.30\n",
      "\n",
      "2021-05-28 17:14:00 - TripletEvaluator: Evaluating the model on dev dataset after epoch 9:\n",
      "mAP strict= 0.7853380811271349 ; mAP relaxed = 0.9620852406086736\n",
      "2021-05-28 17:14:03 - mAP strict:   \t78.53\n",
      "2021-05-28 17:14:03 - mAP relaxed:   \t96.21\n",
      "\n"
     ]
    }
   ],
   "source": [
    "sbert_training.train_model('/workspace/ceph_data/keypoint-analysis-sharedtask/siamese-data/',\n",
    "                           '../../KPA_2021_shared_task/kpm_data/',\n",
    "                           'dev',\n",
    "                           '/workspace/ceph_data/keypoint-analysis-sharedtask/siamese-models/',\n",
    "                           'roberta-base',\n",
    "                           model_suffix='contrastive-10-epochs', \n",
    "                           data_file_suffix='contrastive',\n",
    "                           num_epochs=10, max_seq_length=70, add_special_token=True, train_batch_size=32, loss='ContrastiveLoss')\n"
   ]
  }
 ],
 "metadata": {
  "kernelspec": {
   "display_name": "Python 3",
   "language": "python",
   "name": "python3"
  },
  "language_info": {
   "codemirror_mode": {
    "name": "ipython",
    "version": 3
   },
   "file_extension": ".py",
   "mimetype": "text/x-python",
   "name": "python",
   "nbconvert_exporter": "python",
   "pygments_lexer": "ipython3",
   "version": "3.9.12"
  }
 },
 "nbformat": 4,
 "nbformat_minor": 5
}
>>>>>>> f87edddce0c2e4f9c43659796169506daaf2f686
