{
 "cells": [
  {
   "cell_type": "markdown",
   "id": "fe3efa9e-c2a7-468d-934f-4c8f04325dff",
   "metadata": {},
   "source": [
    "### Training:"
   ]
  },
  {
   "cell_type": "code",
   "execution_count": 3,
   "id": "e4aee413-213c-48fb-97ec-1f5377c2f392",
   "metadata": {},
   "outputs": [],
   "source": [
    "%load_ext autoreload"
   ]
  },
  {
   "cell_type": "code",
   "execution_count": 4,
   "id": "9926c22f-838f-4361-bd2e-d16241995fc1",
   "metadata": {},
   "outputs": [],
   "source": [
    "%autoreload\n",
    "\n",
    "import sys\n",
    "import os\n",
    "\n",
    "os.environ['CUDA_VISIBLE_DEVICES'] = '5'\n",
    "sys.path.insert(0, \"../src-py\")\n",
    "\n",
    "import sbert_training"
   ]
  },
  {
   "cell_type": "code",
   "execution_count": 43,
   "id": "b9b14f1b-554e-43fa-93f1-a9e6b9973588",
   "metadata": {
    "scrolled": true,
    "tags": []
   },
   "outputs": [
    {
     "name": "stdout",
     "output_type": "stream",
     "text": [
      "2021-05-28 16:41:07 - Use pytorch device: cuda\n",
      "2021-05-28 16:41:07 - Read Triplet train dataset\n"
     ]
    },
    {
     "data": {
      "application/vnd.jupyter.widget-view+json": {
       "model_id": "bc64abb2fb424980874d1879cdf68f08",
       "version_major": 2,
       "version_minor": 0
      },
      "text/plain": [
       "HBox(children=(FloatProgress(value=0.0, description='Epoch', max=10.0, style=ProgressStyle(description_width='…"
      ]
     },
     "metadata": {},
     "output_type": "display_data"
    },
    {
     "data": {
      "application/vnd.jupyter.widget-view+json": {
       "model_id": "21c96f9b667f4071bbe7d5e51038fb22",
       "version_major": 2,
       "version_minor": 0
      },
      "text/plain": [
       "HBox(children=(FloatProgress(value=0.0, description='Iteration', max=645.0, style=ProgressStyle(description_wi…"
      ]
     },
     "metadata": {},
     "output_type": "display_data"
    },
    {
     "name": "stdout",
     "output_type": "stream",
     "text": [
      "2021-05-28 16:43:37 - TripletEvaluator: Evaluating the model on dev dataset in epoch 0 after 500 steps:\n",
      "mAP strict= 0.7952519106026769 ; mAP relaxed = 0.9668009029686272\n",
      "2021-05-28 16:43:40 - mAP strict:   \t79.53\n",
      "2021-05-28 16:43:40 - mAP relaxed:   \t96.68\n",
      "2021-05-28 16:43:40 - Save model to /workspace/ceph_data/keypoint-analysis-sharedtask/siamese-models/roberta-base-contrastive-10-epochs-2021-05-28_16-41-01\n",
      "\n",
      "2021-05-28 16:44:24 - TripletEvaluator: Evaluating the model on dev dataset after epoch 0:\n",
      "mAP strict= 0.8342435579723064 ; mAP relaxed = 0.9696185558523551\n",
      "2021-05-28 16:44:26 - mAP strict:   \t83.42\n",
      "2021-05-28 16:44:26 - mAP relaxed:   \t96.96\n",
      "2021-05-28 16:44:26 - Save model to /workspace/ceph_data/keypoint-analysis-sharedtask/siamese-models/roberta-base-contrastive-10-epochs-2021-05-28_16-41-01\n"
     ]
    },
    {
     "data": {
      "application/vnd.jupyter.widget-view+json": {
       "model_id": "fcd29cb55b014288a935c02c6443de81",
       "version_major": 2,
       "version_minor": 0
      },
      "text/plain": [
       "HBox(children=(FloatProgress(value=0.0, description='Iteration', max=645.0, style=ProgressStyle(description_wi…"
      ]
     },
     "metadata": {},
     "output_type": "display_data"
    },
    {
     "name": "stdout",
     "output_type": "stream",
     "text": [
      "2021-05-28 16:46:57 - TripletEvaluator: Evaluating the model on dev dataset in epoch 1 after 500 steps:\n",
      "mAP strict= 0.8131806570604801 ; mAP relaxed = 0.9631507751654879\n",
      "2021-05-28 16:47:00 - mAP strict:   \t81.32\n",
      "2021-05-28 16:47:00 - mAP relaxed:   \t96.32\n",
      "\n",
      "2021-05-28 16:47:43 - TripletEvaluator: Evaluating the model on dev dataset after epoch 1:\n",
      "mAP strict= 0.8396659871968146 ; mAP relaxed = 0.9705824390309555\n",
      "2021-05-28 16:47:45 - mAP strict:   \t83.97\n",
      "2021-05-28 16:47:45 - mAP relaxed:   \t97.06\n",
      "2021-05-28 16:47:45 - Save model to /workspace/ceph_data/keypoint-analysis-sharedtask/siamese-models/roberta-base-contrastive-10-epochs-2021-05-28_16-41-01\n"
     ]
    },
    {
     "data": {
      "application/vnd.jupyter.widget-view+json": {
       "model_id": "524936c713854286b810d93a7504e89d",
       "version_major": 2,
       "version_minor": 0
      },
      "text/plain": [
       "HBox(children=(FloatProgress(value=0.0, description='Iteration', max=645.0, style=ProgressStyle(description_wi…"
      ]
     },
     "metadata": {},
     "output_type": "display_data"
    },
    {
     "name": "stdout",
     "output_type": "stream",
     "text": [
      "2021-05-28 16:50:16 - TripletEvaluator: Evaluating the model on dev dataset in epoch 2 after 500 steps:\n",
      "mAP strict= 0.7878916205040375 ; mAP relaxed = 0.9640971922939092\n",
      "2021-05-28 16:50:18 - mAP strict:   \t78.79\n",
      "2021-05-28 16:50:18 - mAP relaxed:   \t96.41\n",
      "\n",
      "2021-05-28 16:51:01 - TripletEvaluator: Evaluating the model on dev dataset after epoch 2:\n",
      "mAP strict= 0.8055851837749841 ; mAP relaxed = 0.9626366184268267\n",
      "2021-05-28 16:51:04 - mAP strict:   \t80.56\n",
      "2021-05-28 16:51:04 - mAP relaxed:   \t96.26\n"
     ]
    },
    {
     "data": {
      "application/vnd.jupyter.widget-view+json": {
       "model_id": "bcab1dd557f644c8a1d7775707fe55bc",
       "version_major": 2,
       "version_minor": 0
      },
      "text/plain": [
       "HBox(children=(FloatProgress(value=0.0, description='Iteration', max=645.0, style=ProgressStyle(description_wi…"
      ]
     },
     "metadata": {},
     "output_type": "display_data"
    },
    {
     "name": "stdout",
     "output_type": "stream",
     "text": [
      "2021-05-28 16:53:33 - TripletEvaluator: Evaluating the model on dev dataset in epoch 3 after 500 steps:\n",
      "mAP strict= 0.7969782339766143 ; mAP relaxed = 0.9727907332049299\n",
      "2021-05-28 16:53:35 - mAP strict:   \t79.70\n",
      "2021-05-28 16:53:35 - mAP relaxed:   \t97.28\n",
      "\n",
      "2021-05-28 16:54:18 - TripletEvaluator: Evaluating the model on dev dataset after epoch 3:\n",
      "mAP strict= 0.8309058125868565 ; mAP relaxed = 0.9672322762452008\n",
      "2021-05-28 16:54:21 - mAP strict:   \t83.09\n",
      "2021-05-28 16:54:21 - mAP relaxed:   \t96.72\n"
     ]
    },
    {
     "data": {
      "application/vnd.jupyter.widget-view+json": {
       "model_id": "dca841c371974ccfbb2824975f03bd52",
       "version_major": 2,
       "version_minor": 0
      },
      "text/plain": [
       "HBox(children=(FloatProgress(value=0.0, description='Iteration', max=645.0, style=ProgressStyle(description_wi…"
      ]
     },
     "metadata": {},
     "output_type": "display_data"
    },
    {
     "name": "stdout",
     "output_type": "stream",
     "text": [
      "2021-05-28 16:56:51 - TripletEvaluator: Evaluating the model on dev dataset in epoch 4 after 500 steps:\n",
      "mAP strict= 0.7980472441428121 ; mAP relaxed = 0.9738388941944832\n",
      "2021-05-28 16:56:53 - mAP strict:   \t79.80\n",
      "2021-05-28 16:56:53 - mAP relaxed:   \t97.38\n",
      "\n",
      "2021-05-28 16:57:36 - TripletEvaluator: Evaluating the model on dev dataset after epoch 4:\n",
      "mAP strict= 0.7892972001805253 ; mAP relaxed = 0.9362984408280655\n",
      "2021-05-28 16:57:38 - mAP strict:   \t78.93\n",
      "2021-05-28 16:57:38 - mAP relaxed:   \t93.63\n"
     ]
    },
    {
     "data": {
      "application/vnd.jupyter.widget-view+json": {
       "model_id": "92e6db7262ef46eaaaf482b680c5b151",
       "version_major": 2,
       "version_minor": 0
      },
      "text/plain": [
       "HBox(children=(FloatProgress(value=0.0, description='Iteration', max=645.0, style=ProgressStyle(description_wi…"
      ]
     },
     "metadata": {},
     "output_type": "display_data"
    },
    {
     "name": "stdout",
     "output_type": "stream",
     "text": [
      "2021-05-28 17:00:08 - TripletEvaluator: Evaluating the model on dev dataset in epoch 5 after 500 steps:\n",
      "mAP strict= 0.7888528773609202 ; mAP relaxed = 0.9652691585854614\n",
      "2021-05-28 17:00:10 - mAP strict:   \t78.89\n",
      "2021-05-28 17:00:10 - mAP relaxed:   \t96.53\n",
      "\n",
      "2021-05-28 17:00:53 - TripletEvaluator: Evaluating the model on dev dataset after epoch 5:\n",
      "mAP strict= 0.7939577046307215 ; mAP relaxed = 0.9558754484549591\n",
      "2021-05-28 17:00:55 - mAP strict:   \t79.40\n",
      "2021-05-28 17:00:55 - mAP relaxed:   \t95.59\n"
     ]
    },
    {
     "data": {
      "application/vnd.jupyter.widget-view+json": {
       "model_id": "fddf09fff09e44ee9a9c98b8b85ab1e5",
       "version_major": 2,
       "version_minor": 0
      },
      "text/plain": [
       "HBox(children=(FloatProgress(value=0.0, description='Iteration', max=645.0, style=ProgressStyle(description_wi…"
      ]
     },
     "metadata": {},
     "output_type": "display_data"
    },
    {
     "name": "stdout",
     "output_type": "stream",
     "text": [
      "2021-05-28 17:03:25 - TripletEvaluator: Evaluating the model on dev dataset in epoch 6 after 500 steps:\n",
      "mAP strict= 0.7903550206134541 ; mAP relaxed = 0.968211376623856\n",
      "2021-05-28 17:03:27 - mAP strict:   \t79.04\n",
      "2021-05-28 17:03:27 - mAP relaxed:   \t96.82\n",
      "\n",
      "2021-05-28 17:04:10 - TripletEvaluator: Evaluating the model on dev dataset after epoch 6:\n",
      "mAP strict= 0.7984175247708589 ; mAP relaxed = 0.9671560242785627\n",
      "2021-05-28 17:04:12 - mAP strict:   \t79.84\n",
      "2021-05-28 17:04:12 - mAP relaxed:   \t96.72\n"
     ]
    },
    {
     "data": {
      "application/vnd.jupyter.widget-view+json": {
       "model_id": "61c0567746914842b2eaa255a76e7c37",
       "version_major": 2,
       "version_minor": 0
      },
      "text/plain": [
       "HBox(children=(FloatProgress(value=0.0, description='Iteration', max=645.0, style=ProgressStyle(description_wi…"
      ]
     },
     "metadata": {},
     "output_type": "display_data"
    },
    {
     "name": "stdout",
     "output_type": "stream",
     "text": [
      "2021-05-28 17:06:41 - TripletEvaluator: Evaluating the model on dev dataset in epoch 7 after 500 steps:\n",
      "mAP strict= 0.7854417782247485 ; mAP relaxed = 0.9612125025364464\n",
      "2021-05-28 17:06:44 - mAP strict:   \t78.54\n",
      "2021-05-28 17:06:44 - mAP relaxed:   \t96.12\n",
      "\n",
      "2021-05-28 17:07:27 - TripletEvaluator: Evaluating the model on dev dataset after epoch 7:\n",
      "mAP strict= 0.78476257881283 ; mAP relaxed = 0.9543083300387903\n",
      "2021-05-28 17:07:29 - mAP strict:   \t78.48\n",
      "2021-05-28 17:07:29 - mAP relaxed:   \t95.43\n"
     ]
    },
    {
     "data": {
      "application/vnd.jupyter.widget-view+json": {
       "model_id": "cafbb9fbb6164d6c977b5c1209b9a95b",
       "version_major": 2,
       "version_minor": 0
      },
      "text/plain": [
       "HBox(children=(FloatProgress(value=0.0, description='Iteration', max=645.0, style=ProgressStyle(description_wi…"
      ]
     },
     "metadata": {},
     "output_type": "display_data"
    },
    {
     "name": "stdout",
     "output_type": "stream",
     "text": [
      "2021-05-28 17:09:58 - TripletEvaluator: Evaluating the model on dev dataset in epoch 8 after 500 steps:\n",
      "mAP strict= 0.7829577252267919 ; mAP relaxed = 0.9623990868394958\n",
      "2021-05-28 17:10:01 - mAP strict:   \t78.30\n",
      "2021-05-28 17:10:01 - mAP relaxed:   \t96.24\n",
      "\n",
      "2021-05-28 17:10:44 - TripletEvaluator: Evaluating the model on dev dataset after epoch 8:\n",
      "mAP strict= 0.7839283128445473 ; mAP relaxed = 0.9620014119435017\n",
      "2021-05-28 17:10:46 - mAP strict:   \t78.39\n",
      "2021-05-28 17:10:46 - mAP relaxed:   \t96.20\n"
     ]
    },
    {
     "data": {
      "application/vnd.jupyter.widget-view+json": {
       "model_id": "4309fae76c8f4bdebe37efd1abeff784",
       "version_major": 2,
       "version_minor": 0
      },
      "text/plain": [
       "HBox(children=(FloatProgress(value=0.0, description='Iteration', max=645.0, style=ProgressStyle(description_wi…"
      ]
     },
     "metadata": {},
     "output_type": "display_data"
    },
    {
     "name": "stdout",
     "output_type": "stream",
     "text": [
      "2021-05-28 17:13:15 - TripletEvaluator: Evaluating the model on dev dataset in epoch 9 after 500 steps:\n",
      "mAP strict= 0.7864138474398386 ; mAP relaxed = 0.9629793053657515\n",
      "2021-05-28 17:13:17 - mAP strict:   \t78.64\n",
      "2021-05-28 17:13:17 - mAP relaxed:   \t96.30\n",
      "\n",
      "2021-05-28 17:14:00 - TripletEvaluator: Evaluating the model on dev dataset after epoch 9:\n",
      "mAP strict= 0.7853380811271349 ; mAP relaxed = 0.9620852406086736\n",
      "2021-05-28 17:14:03 - mAP strict:   \t78.53\n",
      "2021-05-28 17:14:03 - mAP relaxed:   \t96.21\n",
      "\n"
     ]
    }
   ],
   "source": [
    "sbert_training.train_model('/workspace/ceph_data/keypoint-analysis-sharedtask/siamese-data/',\n",
    "                           '../../KPA_2021_shared_task/kpm_data/',\n",
    "                           'dev',\n",
    "                           '/workspace/ceph_data/keypoint-analysis-sharedtask/siamese-models/',\n",
    "                           'roberta-base',\n",
    "                           model_suffix='contrastive-10-epochs', \n",
    "                           data_file_suffix='contrastive',\n",
    "                           num_epochs=10, max_seq_length=70, add_special_token=True, train_batch_size=32, loss='ContrastiveLoss')\n"
   ]
  }
 ],
 "metadata": {
  "kernelspec": {
   "display_name": "Python 3",
   "language": "python",
   "name": "python3"
  },
  "language_info": {
   "codemirror_mode": {
    "name": "ipython",
    "version": 3
   },
   "file_extension": ".py",
   "mimetype": "text/x-python",
   "name": "python",
   "nbconvert_exporter": "python",
   "pygments_lexer": "ipython3",
   "version": "3.6.8"
  }
 },
 "nbformat": 4,
 "nbformat_minor": 5
}
