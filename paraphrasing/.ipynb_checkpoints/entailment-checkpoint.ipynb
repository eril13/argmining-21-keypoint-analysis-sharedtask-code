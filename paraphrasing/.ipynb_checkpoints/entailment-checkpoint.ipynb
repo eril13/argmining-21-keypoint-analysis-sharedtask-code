{
 "cells": [
  {
   "cell_type": "code",
   "execution_count": 63,
   "metadata": {},
   "outputs": [],
   "source": [
    "from tqdm.notebook import tqdm\n",
    "import pandas as pd\n",
    "pd.set_option(\"display.max_colwidth\", None)\n",
    "import json\n",
    "import torch\n",
    "from transformers import AutoModelForSeq2SeqLM, AutoTokenizer, AutoModelForSequenceClassification"
   ]
  },
  {
   "cell_type": "code",
   "execution_count": 56,
   "metadata": {},
   "outputs": [],
   "source": [
    "df = pd.read_csv(\"../data/our_valid.csv\", keep_default_na=False)"
   ]
  },
  {
   "cell_type": "code",
   "execution_count": 57,
   "metadata": {},
   "outputs": [
    {
     "data": {
      "text/plain": [
       "Unnamed: 0      2400\n",
       "Unnamed: 0.1    2400\n",
       "arg_id          2400\n",
       "key_point_id    2400\n",
       "label           2400\n",
       "argument        2400\n",
       "topic           2400\n",
       "stance          2400\n",
       "key_point       2400\n",
       "dtype: int64"
      ]
     },
     "execution_count": 57,
     "metadata": {},
     "output_type": "execute_result"
    }
   ],
   "source": [
    "df.count()"
   ]
  },
  {
   "cell_type": "code",
   "execution_count": 38,
   "metadata": {},
   "outputs": [
    {
     "name": "stderr",
     "output_type": "stream",
     "text": [
      "Some weights of the model checkpoint at ynie/roberta-large-snli_mnli_fever_anli_R1_R2_R3-nli were not used when initializing RobertaForSequenceClassification: ['roberta.pooler.dense.weight', 'roberta.pooler.dense.bias']\n",
      "- This IS expected if you are initializing RobertaForSequenceClassification from the checkpoint of a model trained on another task or with another architecture (e.g. initializing a BertForSequenceClassification model from a BertForPreTraining model).\n",
      "- This IS NOT expected if you are initializing RobertaForSequenceClassification from the checkpoint of a model that you expect to be exactly identical (initializing a BertForSequenceClassification model from a BertForSequenceClassification model).\n"
     ]
    }
   ],
   "source": [
    "entailment_model = \"ynie/roberta-large-snli_mnli_fever_anli_R1_R2_R3-nli\"\n",
    "tokenizer = AutoTokenizer.from_pretrained(entailment_model)\n",
    "model = AutoModelForSequenceClassification.from_pretrained(entailment_model).to(\"cuda:0\")"
   ]
  },
  {
   "cell_type": "code",
   "execution_count": 53,
   "metadata": {},
   "outputs": [],
   "source": [
    "MAX_LENGTH=256\n",
    "\n",
    "def compute_entailment(premise, hypothesis):\n",
    "        tokenized_input_seq_pair = tokenizer.encode_plus(premise, hypothesis, max_length=MAX_LENGTH, return_token_type_ids=True, truncation=True)\n",
    "        input_ids = torch.Tensor(tokenized_input_seq_pair['input_ids']).long().unsqueeze(0).cuda()\n",
    "        token_type_ids = torch.Tensor(tokenized_input_seq_pair['token_type_ids']).long().unsqueeze(0).cuda()\n",
    "        attention_mask = torch.Tensor(tokenized_input_seq_pair['attention_mask']).long().unsqueeze(0).cuda()\n",
    "        outputs = model(input_ids, attention_mask=attention_mask, token_type_ids=token_type_ids, labels=None)\n",
    "        predicted_probability  =torch.softmax(outputs[0], dim=1)[0].tolist()\n",
    "        entailment_prob = predicted_probability[0]\n",
    "        neutral_prob = predicted_probability[1]\n",
    "        contradiction_prob = predicted_probability[2]\n",
    "        #result = {'entail':entailment_prob, 'neutral':neutral_prob, 'contradict':contradiction_prob}\n",
    "        return entailment_prob"
   ]
  },
  {
   "cell_type": "code",
   "execution_count": 50,
   "metadata": {},
   "outputs": [
    {
     "data": {
      "text/html": [
       "<div>\n",
       "<style scoped>\n",
       "    .dataframe tbody tr th:only-of-type {\n",
       "        vertical-align: middle;\n",
       "    }\n",
       "\n",
       "    .dataframe tbody tr th {\n",
       "        vertical-align: top;\n",
       "    }\n",
       "\n",
       "    .dataframe thead th {\n",
       "        text-align: right;\n",
       "    }\n",
       "</style>\n",
       "<table border=\"1\" class=\"dataframe\">\n",
       "  <thead>\n",
       "    <tr style=\"text-align: right;\">\n",
       "      <th></th>\n",
       "      <th>Unnamed: 0</th>\n",
       "      <th>arg_id</th>\n",
       "      <th>key_point_id</th>\n",
       "      <th>label</th>\n",
       "      <th>argument</th>\n",
       "      <th>topic</th>\n",
       "      <th>stance</th>\n",
       "      <th>key_point</th>\n",
       "    </tr>\n",
       "  </thead>\n",
       "  <tbody>\n",
       "    <tr>\n",
       "      <th>2301</th>\n",
       "      <td>2301</td>\n",
       "      <td>arg_8_136</td>\n",
       "      <td>kp_8_5</td>\n",
       "      <td>1</td>\n",
       "      <td>an austerity regime would help set our economy back on the right track.</td>\n",
       "      <td>We should adopt an austerity regime</td>\n",
       "      <td>1</td>\n",
       "      <td>Austerity improves the economic measures</td>\n",
       "    </tr>\n",
       "    <tr>\n",
       "      <th>3431</th>\n",
       "      <td>3431</td>\n",
       "      <td>arg_15_193</td>\n",
       "      <td>kp_15_7</td>\n",
       "      <td>0</td>\n",
       "      <td>the affirmative action is discriminatory for those people who do not enter their parameters</td>\n",
       "      <td>We should end affirmative action</td>\n",
       "      <td>1</td>\n",
       "      <td>Affirmative action reduces quality</td>\n",
       "    </tr>\n",
       "    <tr>\n",
       "      <th>713</th>\n",
       "      <td>713</td>\n",
       "      <td>arg_4_99</td>\n",
       "      <td>kp_4_1</td>\n",
       "      <td>0</td>\n",
       "      <td>Uniforms give school children a feeling of being on the same team.</td>\n",
       "      <td>We should abandon the use of school uniform</td>\n",
       "      <td>-1</td>\n",
       "      <td>School uniform reduces bullying</td>\n",
       "    </tr>\n",
       "    <tr>\n",
       "      <th>646</th>\n",
       "      <td>646</td>\n",
       "      <td>arg_4_27</td>\n",
       "      <td>kp_4_1</td>\n",
       "      <td>1</td>\n",
       "      <td>school uniforms cut down on bulling and keep everyone the same.</td>\n",
       "      <td>We should abandon the use of school uniform</td>\n",
       "      <td>-1</td>\n",
       "      <td>School uniform reduces bullying</td>\n",
       "    </tr>\n",
       "    <tr>\n",
       "      <th>693</th>\n",
       "      <td>693</td>\n",
       "      <td>arg_4_77</td>\n",
       "      <td>kp_4_1</td>\n",
       "      <td>0</td>\n",
       "      <td>school uniforms trains young students to be professional in education and the workforce</td>\n",
       "      <td>We should abandon the use of school uniform</td>\n",
       "      <td>-1</td>\n",
       "      <td>School uniform reduces bullying</td>\n",
       "    </tr>\n",
       "  </tbody>\n",
       "</table>\n",
       "</div>"
      ],
      "text/plain": [
       "      Unnamed: 0      arg_id key_point_id  label  \\\n",
       "2301        2301   arg_8_136       kp_8_5      1   \n",
       "3431        3431  arg_15_193      kp_15_7      0   \n",
       "713          713    arg_4_99       kp_4_1      0   \n",
       "646          646    arg_4_27       kp_4_1      1   \n",
       "693          693    arg_4_77       kp_4_1      0   \n",
       "\n",
       "                                                                                         argument  \\\n",
       "2301                      an austerity regime would help set our economy back on the right track.   \n",
       "3431  the affirmative action is discriminatory for those people who do not enter their parameters   \n",
       "713                            Uniforms give school children a feeling of being on the same team.   \n",
       "646                               school uniforms cut down on bulling and keep everyone the same.   \n",
       "693       school uniforms trains young students to be professional in education and the workforce   \n",
       "\n",
       "                                            topic  stance  \\\n",
       "2301          We should adopt an austerity regime       1   \n",
       "3431             We should end affirmative action       1   \n",
       "713   We should abandon the use of school uniform      -1   \n",
       "646   We should abandon the use of school uniform      -1   \n",
       "693   We should abandon the use of school uniform      -1   \n",
       "\n",
       "                                     key_point  \n",
       "2301  Austerity improves the economic measures  \n",
       "3431        Affirmative action reduces quality  \n",
       "713            School uniform reduces bullying  \n",
       "646            School uniform reduces bullying  \n",
       "693            School uniform reduces bullying  "
      ]
     },
     "execution_count": 50,
     "metadata": {},
     "output_type": "execute_result"
    }
   ],
   "source": [
    "df.sample(5)"
   ]
  },
  {
   "cell_type": "code",
   "execution_count": 51,
   "metadata": {},
   "outputs": [],
   "source": [
    "arg = \"\"\"school uniforms cut down on bulling and keep everyone the same.\"\"\"\n",
    "kp = \"\"\"School uniform reduces bullying\"\"\""
   ]
  },
  {
   "cell_type": "code",
   "execution_count": 54,
   "metadata": {},
   "outputs": [
    {
     "data": {
      "text/plain": [
       "0.9748885631561279"
      ]
     },
     "execution_count": 54,
     "metadata": {},
     "output_type": "execute_result"
    }
   ],
   "source": [
    "compute_entailment(arg, kp)"
   ]
  },
  {
   "cell_type": "code",
   "execution_count": 58,
   "metadata": {},
   "outputs": [],
   "source": [
    "valid_df = df"
   ]
  },
  {
   "cell_type": "code",
   "execution_count": 60,
   "metadata": {},
   "outputs": [],
   "source": [
    "def match_argument_with_keypoints(result, kp_dict, arg_dict):\n",
    "    for arg_id, arg in arg_dict.items():\n",
    "        result[arg_id] = {}\n",
    "        for kp_id, kp in kp_dict.items():\n",
    "            result[arg_id][kp_id] = compute_entailment(arg, kp)\n",
    "    return result"
   ]
  },
  {
   "cell_type": "code",
   "execution_count": 64,
   "metadata": {},
   "outputs": [
    {
     "data": {
      "application/vnd.jupyter.widget-view+json": {
       "model_id": "3cdc8b604b9541ec9cc86fb1cb6dab83",
       "version_major": 2,
       "version_minor": 0
      },
      "text/plain": [
       "HBox(children=(FloatProgress(value=0.0, max=4.0), HTML(value='')))"
      ]
     },
     "metadata": {},
     "output_type": "display_data"
    },
    {
     "name": "stdout",
     "output_type": "stream",
     "text": [
      "\n"
     ]
    }
   ],
   "source": [
    "argument_keypoints = {}\n",
    "for topic in tqdm(valid_df.topic.unique()):\n",
    "    for stance in [-1, 1]:\n",
    "        topic_keypoint_ids = valid_df[(valid_df.topic==topic) & (valid_df.stance==stance)]['key_point_id'].tolist()\n",
    "        topic_keypoints = valid_df[(valid_df.topic==topic) & (valid_df.stance==stance)]['key_point'].tolist()\n",
    "        topic_kp_dict = dict(zip(topic_keypoint_ids, topic_keypoints))\n",
    "        \n",
    "        topic_argument_ids = valid_df[(valid_df.topic==topic) & (valid_df.stance==stance)]['arg_id'].tolist()\n",
    "        topic_arguments = valid_df[(valid_df.topic==topic) & (valid_df.stance==stance)]['argument'].tolist()\n",
    "        topic_arg_dict= dict(zip(topic_argument_ids, topic_arguments))\n",
    "        # match \n",
    "        argument_keypoints = match_argument_with_keypoints(argument_keypoints, topic_kp_dict, topic_arg_dict)"
   ]
  },
  {
   "cell_type": "code",
   "execution_count": 67,
   "metadata": {},
   "outputs": [],
   "source": [
    "json.dump(argument_keypoints, open(\"entailment_our_valid_predictions.json\", \"w\",encoding='utf-8'))"
   ]
  },
  {
   "cell_type": "code",
   "execution_count": 72,
   "metadata": {},
   "outputs": [
    {
     "name": "stdout",
     "output_type": "stream",
     "text": [
      "mAP strict= 0.6893564141187134 ; mAP relaxed = 0.8970236914678582\n"
     ]
    }
   ],
   "source": [
    "! python3 ../src-py/track_1_kp_matching.py ../data entailment_our_valid_predictions.json our_valid"
   ]
  },
  {
   "cell_type": "code",
   "execution_count": null,
   "metadata": {},
   "outputs": [],
   "source": []
  }
 ],
 "metadata": {
  "kernelspec": {
   "display_name": "Python 3",
   "language": "python",
   "name": "python3"
  },
  "language_info": {
   "codemirror_mode": {
    "name": "ipython",
    "version": 3
   },
   "file_extension": ".py",
   "mimetype": "text/x-python",
   "name": "python",
   "nbconvert_exporter": "python",
   "pygments_lexer": "ipython3",
   "version": "3.8.5"
  }
 },
 "nbformat": 4,
 "nbformat_minor": 4
}
