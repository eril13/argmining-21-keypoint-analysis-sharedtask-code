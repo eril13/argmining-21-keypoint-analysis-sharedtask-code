{
 "cells": [
  {
   "cell_type": "code",
   "execution_count": 41,
   "metadata": {},
   "outputs": [],
   "source": [
    "from rouge_score import rouge_scorer\n",
    "import pandas as pd\n",
    "pd.set_option(\"display.max_colwidth\", None)\n",
    "from itertools import product\n",
    "from statistics import mean"
   ]
  },
  {
   "cell_type": "code",
   "execution_count": 44,
   "metadata": {},
   "outputs": [],
   "source": [
    "# Pagerank predictions\n",
    "df = pd.read_pickle(\"../data/pagerank-test-keypoints.pkl\")"
   ]
  },
  {
   "cell_type": "code",
   "execution_count": 3,
   "metadata": {},
   "outputs": [
    {
     "data": {
      "text/plain": [
       "topic         6\n",
       "stance        6\n",
       "ranked_kps    6\n",
       "gt-kps        6\n",
       "dtype: int64"
      ]
     },
     "execution_count": 3,
     "metadata": {},
     "output_type": "execute_result"
    }
   ],
   "source": [
    "df.count()"
   ]
  },
  {
   "cell_type": "code",
   "execution_count": 28,
   "metadata": {},
   "outputs": [],
   "source": [
    "generated = df['ranked_kps'].tolist()\n",
    "references  = df['gt-kps'].tolist()\n",
    "# take top 10 ranked sentences\n",
    "top_10_generated = [g[:10] for g in generated]\n",
    "\n",
    "predictions = []\n",
    "for item in top_10_generated:\n",
    "    # get only the sentence and exclude the score\n",
    "    keypoints = [a for a, b in item]\n",
    "    predictions.append(keypoints)"
   ]
  },
  {
   "cell_type": "code",
   "execution_count": 43,
   "metadata": {},
   "outputs": [
    {
     "name": "stdout",
     "output_type": "stream",
     "text": [
      "Rouge 1: 0.202\n",
      "Rouge 2: 0.042\n",
      "Rouge L: 0.186\n"
     ]
    }
   ],
   "source": [
    "rouge1_scores = []\n",
    "rouge2_scores = []\n",
    "rougel_scores = []\n",
    "scorer = rouge_scorer.RougeScorer(['rouge1', 'rouge2', 'rougeL'], use_stemmer=True)\n",
    "for preds, refs in zip(predictions, references):\n",
    "    # compute per topic avg scores on all unique combinations of generated keypoints and ground-truth\n",
    "    r_1 = []\n",
    "    r_2 = []\n",
    "    r_l = []\n",
    "    for a,b in product(preds, refs):\n",
    "        scores  = scorer.score(a,b)\n",
    "        r_1.append(round(scores['rouge1'].fmeasure,3))\n",
    "        r_2.append(round(scores['rouge2'].fmeasure,3))\n",
    "        r_l.append(round(scores['rougeL'].fmeasure,3))\n",
    "    \n",
    "    # save per topic scores to compute average over all topics as the final score\n",
    "    rouge1_scores.append(round(mean(r_1),3))\n",
    "    rouge2_scores.append(round(mean(r_2),3))\n",
    "    rougel_scores.append(round(mean(r_l),3))\n",
    "print(\"Rouge 1: {}\".format(round(mean(rouge1_scores),3)))\n",
    "print(\"Rouge 2: {}\".format(round(mean(rouge2_scores),3)))\n",
    "print(\"Rouge L: {}\".format(round(mean(rougel_scores),3)))"
   ]
  },
  {
   "cell_type": "code",
   "execution_count": null,
   "metadata": {},
   "outputs": [],
   "source": []
  }
 ],
 "metadata": {
  "kernelspec": {
   "display_name": "Python 3",
   "language": "python",
   "name": "python3"
  },
  "language_info": {
   "codemirror_mode": {
    "name": "ipython",
    "version": 3
   },
   "file_extension": ".py",
   "mimetype": "text/x-python",
   "name": "python",
   "nbconvert_exporter": "python",
   "pygments_lexer": "ipython3",
   "version": "3.8.5"
  }
 },
 "nbformat": 4,
 "nbformat_minor": 4
}
