{
 "cells": [
  {
   "cell_type": "code",
   "execution_count": 1,
   "id": "333830a6-c203-4276-8c9f-e6bcfe4ad787",
   "metadata": {},
   "outputs": [],
   "source": [
    "import json\n",
    "import pandas as pd\n",
    "import numpy as np\n",
    "import matplotlib.pyplot as plt\n",
    "\n",
    "pd.set_option('display.max_colwidth', None)"
   ]
  },
  {
   "cell_type": "code",
   "execution_count": 54,
   "id": "461a2712-8cfe-4810-b485-d1006940468b",
   "metadata": {},
   "outputs": [
    {
     "name": "stdout",
     "output_type": "stream",
     "text": [
      "\u001b[0m\u001b[01;34marg-kp\u001b[0m/                  key_points_our_test.csv   our_test.csv\n",
      "\u001b[01;34marg-quality\u001b[0m/             key_points_our_valid.csv  our_valid.csv\n",
      "arguments_our_test.csv   labels_our_test.csv       training_df.csv\n",
      "arguments_our_valid.csv  labels_our_valid.csv      valid_df.csv\n"
     ]
    }
   ],
   "source": [
    "ls ../../data"
   ]
  },
  {
   "cell_type": "code",
   "execution_count": null,
   "id": "bda28f15-3c0d-4325-80e1-921ea8deb71d",
   "metadata": {},
   "outputs": [],
   "source": [
    "argument_df = pd.read_csv('../../data/argum')"
   ]
  },
  {
   "cell_type": "code",
   "execution_count": 53,
   "id": "36de71e7-6132-4127-b2a0-96d1ef15af8e",
   "metadata": {},
   "outputs": [],
   "source": [
    "training_df = pd.read_csv('../../data/training_df.csv')\n",
    "valid_df = pd.read_csv('../../data/our_valid.csv')"
   ]
  },
  {
   "cell_type": "code",
   "execution_count": 3,
   "id": "2527c629-f707-4fdc-82da-554739d4e75b",
   "metadata": {
    "scrolled": true,
    "tags": []
   },
   "outputs": [
    {
     "data": {
      "text/html": [
       "<div>\n",
       "<style scoped>\n",
       "    .dataframe tbody tr th:only-of-type {\n",
       "        vertical-align: middle;\n",
       "    }\n",
       "\n",
       "    .dataframe tbody tr th {\n",
       "        vertical-align: top;\n",
       "    }\n",
       "\n",
       "    .dataframe thead th {\n",
       "        text-align: right;\n",
       "    }\n",
       "</style>\n",
       "<table border=\"1\" class=\"dataframe\">\n",
       "  <thead>\n",
       "    <tr style=\"text-align: right;\">\n",
       "      <th></th>\n",
       "      <th>Unnamed: 0</th>\n",
       "      <th>arg_id</th>\n",
       "      <th>key_point_id</th>\n",
       "      <th>label</th>\n",
       "      <th>argument</th>\n",
       "      <th>topic</th>\n",
       "      <th>stance</th>\n",
       "      <th>key_point</th>\n",
       "    </tr>\n",
       "  </thead>\n",
       "  <tbody>\n",
       "    <tr>\n",
       "      <th>0</th>\n",
       "      <td>0</td>\n",
       "      <td>arg_0_0</td>\n",
       "      <td>kp_0_0</td>\n",
       "      <td>0</td>\n",
       "      <td>`people reach their limit when it comes to their quality of life and should be able to end their suffering. this can be done with little or no suffering by assistance and the person is able to say good bye.</td>\n",
       "      <td>Assisted suicide should be a criminal offence</td>\n",
       "      <td>-1</td>\n",
       "      <td>Assisted suicide gives dignity to the person that wants to commit it</td>\n",
       "    </tr>\n",
       "    <tr>\n",
       "      <th>1</th>\n",
       "      <td>1</td>\n",
       "      <td>arg_0_1</td>\n",
       "      <td>kp_0_0</td>\n",
       "      <td>0</td>\n",
       "      <td>A patient should be able to decide when they have had enough \"care\".</td>\n",
       "      <td>Assisted suicide should be a criminal offence</td>\n",
       "      <td>-1</td>\n",
       "      <td>Assisted suicide gives dignity to the person that wants to commit it</td>\n",
       "    </tr>\n",
       "    <tr>\n",
       "      <th>2</th>\n",
       "      <td>2</td>\n",
       "      <td>arg_0_2</td>\n",
       "      <td>kp_0_0</td>\n",
       "      <td>0</td>\n",
       "      <td>a person has the right to end their suffering and if somebody takes pity on them and chooses to help, that person should not be punished.</td>\n",
       "      <td>Assisted suicide should be a criminal offence</td>\n",
       "      <td>-1</td>\n",
       "      <td>Assisted suicide gives dignity to the person that wants to commit it</td>\n",
       "    </tr>\n",
       "    <tr>\n",
       "      <th>3</th>\n",
       "      <td>3</td>\n",
       "      <td>arg_0_4</td>\n",
       "      <td>kp_0_0</td>\n",
       "      <td>0</td>\n",
       "      <td>a person should have the right to be able to choose if they want to live or die</td>\n",
       "      <td>Assisted suicide should be a criminal offence</td>\n",
       "      <td>-1</td>\n",
       "      <td>Assisted suicide gives dignity to the person that wants to commit it</td>\n",
       "    </tr>\n",
       "    <tr>\n",
       "      <th>4</th>\n",
       "      <td>4</td>\n",
       "      <td>arg_0_5</td>\n",
       "      <td>kp_0_0</td>\n",
       "      <td>0</td>\n",
       "      <td>a person should have the right to die on their own terms</td>\n",
       "      <td>Assisted suicide should be a criminal offence</td>\n",
       "      <td>-1</td>\n",
       "      <td>Assisted suicide gives dignity to the person that wants to commit it</td>\n",
       "    </tr>\n",
       "  </tbody>\n",
       "</table>\n",
       "</div>"
      ],
      "text/plain": [
       "   Unnamed: 0   arg_id key_point_id  label  \\\n",
       "0           0  arg_0_0       kp_0_0      0   \n",
       "1           1  arg_0_1       kp_0_0      0   \n",
       "2           2  arg_0_2       kp_0_0      0   \n",
       "3           3  arg_0_4       kp_0_0      0   \n",
       "4           4  arg_0_5       kp_0_0      0   \n",
       "\n",
       "                                                                                                                                                                                                         argument  \\\n",
       "0  `people reach their limit when it comes to their quality of life and should be able to end their suffering. this can be done with little or no suffering by assistance and the person is able to say good bye.   \n",
       "1                                                                                                                                            A patient should be able to decide when they have had enough \"care\".   \n",
       "2                                                                       a person has the right to end their suffering and if somebody takes pity on them and chooses to help, that person should not be punished.   \n",
       "3                                                                                                                                 a person should have the right to be able to choose if they want to live or die   \n",
       "4                                                                                                                                                        a person should have the right to die on their own terms   \n",
       "\n",
       "                                           topic  stance  \\\n",
       "0  Assisted suicide should be a criminal offence      -1   \n",
       "1  Assisted suicide should be a criminal offence      -1   \n",
       "2  Assisted suicide should be a criminal offence      -1   \n",
       "3  Assisted suicide should be a criminal offence      -1   \n",
       "4  Assisted suicide should be a criminal offence      -1   \n",
       "\n",
       "                                                              key_point  \n",
       "0  Assisted suicide gives dignity to the person that wants to commit it  \n",
       "1  Assisted suicide gives dignity to the person that wants to commit it  \n",
       "2  Assisted suicide gives dignity to the person that wants to commit it  \n",
       "3  Assisted suicide gives dignity to the person that wants to commit it  \n",
       "4  Assisted suicide gives dignity to the person that wants to commit it  "
      ]
     },
     "execution_count": 3,
     "metadata": {},
     "output_type": "execute_result"
    }
   ],
   "source": [
    "training_df.head()"
   ]
  },
  {
   "cell_type": "code",
   "execution_count": 117,
   "id": "515ce47c-a0eb-4604-933d-03502f20d41a",
   "metadata": {},
   "outputs": [
    {
     "data": {
      "image/png": "[encoded data removed]",
      "text/plain": [
       "<Figure size 432x288 with 1 Axes>"
      ]
     },
     "metadata": {
      "needs_background": "light"
     },
     "output_type": "display_data"
    }
   ],
   "source": [
    "keypoints_per_arg = [x[1] for x in training_df[training_df.label == 1].arg_id.value_counts().to_dict().items()]\n",
    "plt.hist(keypoints_per_arg)\n",
    "plt.show()"
   ]
  },
  {
   "cell_type": "code",
   "execution_count": 118,
   "id": "9809cfe2-3bd3-450c-8a6a-755ab267cc3d",
   "metadata": {},
   "outputs": [
    {
     "data": {
      "image/png": "[encoded data removed]",
      "text/plain": [
       "<Figure size 432x288 with 1 Axes>"
      ]
     },
     "metadata": {
      "needs_background": "light"
     },
     "output_type": "display_data"
    }
   ],
   "source": [
    "args_per_keypoints = [x[1] for x in training_df[training_df.label == 1].key_point_id.value_counts().to_dict().items()]\n",
    "plt.hist(args_per_keypoints)\n",
    "plt.show()"
   ]
  },
  {
   "cell_type": "code",
   "execution_count": null,
   "id": "68144c9b-51c1-410d-a4cc-e7fd1bbabec2",
   "metadata": {},
   "outputs": [],
   "source": [
    "#Add to the dataframe 0 labels for non-matched argument/keypoint\n"
   ]
  },
  {
   "cell_type": "markdown",
   "id": "d3dd6803-1787-40e2-a853-6ef63037aa36",
   "metadata": {},
   "source": [
    "-------------"
   ]
  },
  {
   "cell_type": "markdown",
   "id": "ef58508c-8b86-496f-bf44-30dd5f4d3ea5",
   "metadata": {},
   "source": [
    "### Data Preparation:"
   ]
  },
  {
   "cell_type": "code",
   "execution_count": 4,
   "id": "f8fc9287-1700-493f-94e2-73e4a4c17909",
   "metadata": {},
   "outputs": [],
   "source": [
    "import random\n",
    "import nltk\n",
    "from nltk.corpus import stopwords"
   ]
  },
  {
   "cell_type": "code",
   "execution_count": 56,
   "id": "c649ec27-8ea3-44d5-a68f-9f78081d59f1",
   "metadata": {},
   "outputs": [],
   "source": [
    "def overlap(t1, t2):\n",
    "    t1_words = set([w for w in nltk.word_tokenize(t1.lower()) if w not in stopwords.words('english')])\n",
    "    t2_words = set([w for w in nltk.word_tokenize(t2.lower()) if w not in stopwords.words('english')])\n",
    "    return len(set(t1_words).intersection(t2_words))/len(t1_words.union(t2_words))\n",
    "\n",
    "def get_cand_neg(argument, key_points, not_allowed_keypoints, count=3):\n",
    "    #remove the matching keypoints\n",
    "    cand_keypoints = [item[1] for item in key_points.items() if item[1] not in not_allowed_keypoints]\n",
    "    scored_cand_keypoints = sorted([(cp, overlap(cp, argument)) for cp in cand_keypoints], key=lambda x: x[1])\n",
    "    \n",
    "    hard_cand_keypoints = scored_cand_keypoints[0:count]\n",
    "    easy_cand_keypoints = scored_cand_keypoints[-count:]\n",
    "#     print(argument)\n",
    "#     print(cand_keypoints[0:10])\n",
    "#     print('======')\n",
    "    selected_kp = hard_cand_keypoints + easy_cand_keypoints\n",
    "    return selected_kp\n",
    "    \n",
    "    #return [random.sample(cand_keypoints, count)]\n",
    "\n",
    "def gen_kp_triplet(labels_df, max_neg_samples=5, sample_extra=False, add_topic=False):\n",
    "    arguments = pd.Series(labels_df.argument.values, index=labels_df.arg_id).to_dict()\n",
    "    keypoints= pd.Series(labels_df.key_point.values, index=labels_df.key_point_id).to_dict()\n",
    "\n",
    "    triplets = []\n",
    "    for kp_id, keypoint in list(keypoints.items()):\n",
    "        neg_args = [row['argument'] for idx, row in labels_df[labels_df.key_point_id == kp_id].iterrows() if row['label'] == 0]\n",
    "        pos_args = [row['argument'] for idx, row in labels_df[labels_df.key_point_id == kp_id].iterrows() if row['label'] == 1]\n",
    "        \n",
    "        topic = labels_df[labels_df.key_point_id==kp_id]['topic'].tolist()[0]\n",
    "        \n",
    "        if len(pos_args) == 0:\n",
    "            print('Skipping keypoint with no arguments!')\n",
    "            continue\n",
    "\n",
    "        if sample_extra:\n",
    "            #Add randomly sampled negative key-points\n",
    "            cand_neg_arguments = get_cand_neg(keypoint, arguments, pos_arguments + neg_arguments)\n",
    "        \n",
    "        \n",
    "        for pos_arg in pos_args:\n",
    "            #sort the neg_arg\n",
    "            neg_args = sorted(neg_args, key= lambda x: - overlap(x, pos_arg))\n",
    "            #sample half hard and half easy neg_args\n",
    "            neg_args = neg_args[0:max_neg_samples] + neg_args[-max_neg_samples:]\n",
    "\n",
    "            #first add the gt negative key-point\n",
    "            if len(neg_args) > 0:\n",
    "                for neg_arg in neg_args:\n",
    "                    triplets.append([topic+' <SEP> '+keypoint, pos_arg, neg_arg])\n",
    "            \n",
    "            if sample_extra:\n",
    "                #Add some negative examples\n",
    "                for cand_neg_arg in cand_neg_arguments:\n",
    "                    triplets.append([keypoint, pos_arg, cand_neg_arg ])\n",
    "    \n",
    "    return triplets"
   ]
  },
  {
   "cell_type": "code",
   "execution_count": 58,
   "id": "0a31b813-e632-4167-9b50-2c2862d92296",
   "metadata": {},
   "outputs": [
    {
     "name": "stdout",
     "output_type": "stream",
     "text": [
      "Skipping keypoint with no arguments!\n"
     ]
    }
   ],
   "source": [
    "train_triplets_data = gen_kp_triplet(training_df, max_neg_samples=10)\n",
    "valid_triplets_data = gen_kp_triplet(valid_df, max_neg_samples=1)\n",
    "\n",
    "training_triplet_kp_as_anchor_df = pd.DataFrame(train_triplets_data, columns=['anchor', 'pos', 'neg'])\n",
    "valid_triplet_kp_as_anchor_df = pd.DataFrame(valid_triplets_data, columns=['anchor', 'pos', 'neg'])"
   ]
  },
  {
   "cell_type": "code",
   "execution_count": 59,
   "id": "ed400d8a-fead-4a78-8049-0bf8cb3cd521",
   "metadata": {},
   "outputs": [],
   "source": [
    "training_triplet_kp_as_anchor_df.to_csv('/workspace/ceph_data/keypoint-analysis-sharedtask/siamese-data/training_df_kp_as_anchor.csv')\n",
    "valid_triplet_kp_as_anchor_df.to_csv('/workspace/ceph_data/keypoint-analysis-sharedtask/siamese-data/valid_df_kp_as_anchor.csv')"
   ]
  },
  {
   "cell_type": "code",
   "execution_count": 60,
   "id": "a5eabb0c-1958-4808-97c8-176e03e12c66",
   "metadata": {},
   "outputs": [
    {
     "name": "stdout",
     "output_type": "stream",
     "text": [
      "Skipping keypoint with no arguments!\n"
     ]
    }
   ],
   "source": [
    "train_triplets_data = gen_kp_triplet(training_df, max_neg_samples=10, add_topic=True)\n",
    "valid_triplets_data = gen_kp_triplet(valid_df, max_neg_samples=1, add_topic=True)\n",
    "\n",
    "training_triplet_kp_as_anchor_df = pd.DataFrame(train_triplets_data, columns=['anchor', 'pos', 'neg'])\n",
    "valid_triplet_kp_as_anchor_df = pd.DataFrame(valid_triplets_data, columns=['anchor', 'pos', 'neg'])\n",
    "\n",
    "training_triplet_kp_as_anchor_df.to_csv('/workspace/ceph_data/keypoint-analysis-sharedtask/siamese-data/training_df_kp_as_anchor_topic_added.csv')\n",
    "valid_triplet_kp_as_anchor_df.to_csv('/workspace/ceph_data/keypoint-analysis-sharedtask/siamese-data/valid_df_kp_as_anchor_topic_added.csv')"
   ]
  },
  {
   "cell_type": "markdown",
   "id": "bd4cb272-1760-4684-bd65-c5869c0929ca",
   "metadata": {},
   "source": [
    "#### Creating data for the batch-triplet:"
   ]
  },
  {
   "cell_type": "code",
   "execution_count": 53,
   "id": "bbabb342-af8c-4347-b458-9c5fcd6f36ca",
   "metadata": {},
   "outputs": [],
   "source": [
    "map_labels={x[1]: int(x[0]) for x in enumerate(set(training_df.key_point_id.tolist()))}"
   ]
  },
  {
   "cell_type": "code",
   "execution_count": 54,
   "id": "f845f88d-b54b-496a-9482-b4fba020d24b",
   "metadata": {},
   "outputs": [],
   "source": [
    "pos_df = training_df[training_df.label != 0]\n",
    "pos_arguments = [(x[0], 'arg', x[1], (map_labels[x[1]]*2)) for x in pos_df[['argument', 'key_point_id']].values.tolist()]\n",
    "\n",
    "kp_seriese = pd.Series(training_df.key_point_id.values, index= training_df.key_point).to_dict()\n",
    "key_points    = [(x[0], 'kp', x[1], (map_labels[x[1]]*2)+1) for x in kp_seriese.items()]\n",
    "all_instances_df = pd.DataFrame(pos_arguments + key_points, columns=['text', 'type', 'kp_id', 'label'])"
   ]
  },
  {
   "cell_type": "code",
   "execution_count": 55,
   "id": "80526fb3-967c-4e38-afad-95fe03d7604b",
   "metadata": {},
   "outputs": [],
   "source": [
    "np.random.shuffle(all_instances_df.values)"
   ]
  },
  {
   "cell_type": "code",
   "execution_count": 56,
   "id": "54940b58-3e40-4077-a2a6-73a6f23aff22",
   "metadata": {},
   "outputs": [
    {
     "data": {
      "text/html": [
       "<div>\n",
       "<style scoped>\n",
       "    .dataframe tbody tr th:only-of-type {\n",
       "        vertical-align: middle;\n",
       "    }\n",
       "\n",
       "    .dataframe tbody tr th {\n",
       "        vertical-align: top;\n",
       "    }\n",
       "\n",
       "    .dataframe thead th {\n",
       "        text-align: right;\n",
       "    }\n",
       "</style>\n",
       "<table border=\"1\" class=\"dataframe\">\n",
       "  <thead>\n",
       "    <tr style=\"text-align: right;\">\n",
       "      <th></th>\n",
       "      <th>text</th>\n",
       "      <th>type</th>\n",
       "      <th>kp_id</th>\n",
       "      <th>label</th>\n",
       "    </tr>\n",
       "  </thead>\n",
       "  <tbody>\n",
       "    <tr>\n",
       "      <th>0</th>\n",
       "      <td>assisted suicide allows people who have terrible health conditions to die with dignity. if assisted suicide is a crime they may have to endure many more years living in agony.</td>\n",
       "      <td>arg</td>\n",
       "      <td>kp_0_0</td>\n",
       "      <td>410</td>\n",
       "    </tr>\n",
       "    <tr>\n",
       "      <th>1</th>\n",
       "      <td>assisted suicide allows terminally ill people to die with dignity and should not be criminalized</td>\n",
       "      <td>arg</td>\n",
       "      <td>kp_0_0</td>\n",
       "      <td>410</td>\n",
       "    </tr>\n",
       "    <tr>\n",
       "      <th>2</th>\n",
       "      <td>assisted suicide allows terminally ill persons to choose when to die and do it with dignity. it lets people decide not to live in a state of pain and misery and choose to pass on with human intervention.</td>\n",
       "      <td>arg</td>\n",
       "      <td>kp_0_0</td>\n",
       "      <td>410</td>\n",
       "    </tr>\n",
       "    <tr>\n",
       "      <th>3</th>\n",
       "      <td>assisted suicide gives people control over their life in terrible circumstances. it allows them dignity in death rather than living in terrible conditions for many years.</td>\n",
       "      <td>arg</td>\n",
       "      <td>kp_0_0</td>\n",
       "      <td>410</td>\n",
       "    </tr>\n",
       "    <tr>\n",
       "      <th>4</th>\n",
       "      <td>assisted suicide should be allowed because it allows people with terminal illnesses to die with dignity before suffering a long and painful death.</td>\n",
       "      <td>arg</td>\n",
       "      <td>kp_0_0</td>\n",
       "      <td>410</td>\n",
       "    </tr>\n",
       "  </tbody>\n",
       "</table>\n",
       "</div>"
      ],
      "text/plain": [
       "                                                                                                                                                                                                          text  \\\n",
       "0                              assisted suicide allows people who have terrible health conditions to die with dignity. if assisted suicide is a crime they may have to endure many more years living in agony.   \n",
       "1                                                                                                             assisted suicide allows terminally ill people to die with dignity and should not be criminalized   \n",
       "2  assisted suicide allows terminally ill persons to choose when to die and do it with dignity. it lets people decide not to live in a state of pain and misery and choose to pass on with human intervention.   \n",
       "3                                   assisted suicide gives people control over their life in terrible circumstances. it allows them dignity in death rather than living in terrible conditions for many years.   \n",
       "4                                                           assisted suicide should be allowed because it allows people with terminal illnesses to die with dignity before suffering a long and painful death.   \n",
       "\n",
       "  type   kp_id  label  \n",
       "0  arg  kp_0_0    410  \n",
       "1  arg  kp_0_0    410  \n",
       "2  arg  kp_0_0    410  \n",
       "3  arg  kp_0_0    410  \n",
       "4  arg  kp_0_0    410  "
      ]
     },
     "execution_count": 56,
     "metadata": {},
     "output_type": "execute_result"
    }
   ],
   "source": [
    "all_instances_df.head()"
   ]
  },
  {
   "cell_type": "code",
   "execution_count": 57,
   "id": "0c63bf93-250e-4e6d-9631-cb6cb20d4dd8",
   "metadata": {},
   "outputs": [],
   "source": [
    "all_instances_df[['text', 'label']].to_csv('/workspace/ceph_data/keypoint-analysis-sharedtask/siamese-data/training_df_batch_hard.csv')"
   ]
  },
  {
   "cell_type": "code",
   "execution_count": 60,
   "id": "d2d6ad0a-8c41-47c7-9129-15bb1fb0598c",
   "metadata": {},
   "outputs": [],
   "source": [
    "#DONT run it because the validation file should be of form argument, pos_keypoint, con_keypoint\n",
    "# map_labels={x[1]: int(x[0]) for x in enumerate(valid_df.key_point_id.tolist())}\n",
    "# pos_df = valid_df[valid_df.label != 0]\n",
    "# pos_arguments = [(x[0], (map_labels[x[1]]*2)+1) for x in pos_df[['argument', 'key_point_id']].values.tolist()]\n",
    "# key_points    = [(x[0], (map_labels[x[1]]*2)+1) for x in valid_df[['key_point', 'key_point_id']].values.tolist()]\n",
    "\n",
    "# all_instances_df = pd.DataFrame(pos_arguments + key_points, columns=['text', 'label'])\n",
    "\n",
    "# all_instances_df.to_csv('/workspace/ceph_data/keypoint-analysis-sharedtask/siamese-data/valid_df_batch_hard.csv')\n",
    "#valid_triplet_df.to_csv('/workspace/ceph_data/keypoint-analysis-sharedtask/siamese-data/valid_df_batch_hard.csv')"
   ]
  },
  {
   "cell_type": "markdown",
   "id": "80cc2745-6ab1-4eab-947d-f24a3aa687e4",
   "metadata": {},
   "source": [
    "----------"
   ]
  },
  {
   "cell_type": "markdown",
   "id": "fe3efa9e-c2a7-468d-934f-4c8f04325dff",
   "metadata": {},
   "source": [
    "### Training:"
   ]
  },
  {
   "cell_type": "code",
   "execution_count": 36,
   "id": "e4aee413-213c-48fb-97ec-1f5377c2f392",
   "metadata": {},
   "outputs": [
    {
     "name": "stdout",
     "output_type": "stream",
     "text": [
      "The autoreload extension is already loaded. To reload it, use:\n",
      "  %reload_ext autoreload\n"
     ]
    }
   ],
   "source": [
    "%load_ext autoreload"
   ]
  },
  {
   "cell_type": "code",
   "execution_count": 64,
   "id": "9926c22f-838f-4361-bd2e-d16241995fc1",
   "metadata": {},
   "outputs": [],
   "source": [
    "%autoreload\n",
    "\n",
    "import sys\n",
    "import os\n",
    "\n",
    "os.environ['CUDA_VISIBLE_DEVICES'] = '7'\n",
    "sys.path.insert(0, \"../src-py\")\n",
    "\n",
    "import sbert_training"
   ]
  },
  {
   "cell_type": "markdown",
   "id": "13d0cdd7-f398-426f-a3ed-21674f42940b",
   "metadata": {},
   "source": [
    "#### Training on simple triplets:"
   ]
  },
  {
   "cell_type": "code",
   "execution_count": 65,
   "id": "4d63c7df-f466-4e0f-b963-58a64ff6be43",
   "metadata": {
    "scrolled": true,
    "tags": []
   },
   "outputs": [
    {
     "name": "stdout",
     "output_type": "stream",
     "text": [
      "2021-05-24 13:52:17 - Use pytorch device: cuda\n",
      "2021-05-24 13:52:17 - Read Triplet train dataset\n"
     ]
    },
    {
     "data": {
      "application/vnd.jupyter.widget-view+json": {
       "model_id": "7725d07e4d4447efa9b56f8f84039f9e",
       "version_major": 2,
       "version_minor": 0
      },
      "text/plain": [
       "HBox(children=(FloatProgress(value=0.0, description='Epoch', max=5.0, style=ProgressStyle(description_width='i…"
      ]
     },
     "metadata": {},
     "output_type": "display_data"
    },
    {
     "data": {
      "application/vnd.jupyter.widget-view+json": {
       "model_id": "5a3a4bef21ee4fd1811881ce8dce1d8f",
       "version_major": 2,
       "version_minor": 0
      },
      "text/plain": [
       "HBox(children=(FloatProgress(value=0.0, description='Iteration', max=5325.0, style=ProgressStyle(description_w…"
      ]
     },
     "metadata": {},
     "output_type": "display_data"
    },
    {
     "name": "stdout",
     "output_type": "stream",
     "text": [
      "2021-05-24 13:54:39 - TripletEvaluator: Evaluating the model on dev dataset in epoch 0 after 500 steps:\n",
      "mAP strict= 0.6525086774407545 ; mAP relaxed = 0.8833763402356452\n",
      "2021-05-24 13:54:41 - mAP strict:   \t65.25\n",
      "2021-05-24 13:54:41 - mAP relaxed:   \t88.34\n",
      "2021-05-24 13:54:41 - Save model to /workspace/ceph_data/keypoint-analysis-sharedtask/siamese-models/bert-base-uncased-kp_as_anchor_topic_added-2021-05-24_13-52-11\n",
      "2021-05-24 13:57:04 - TripletEvaluator: Evaluating the model on dev dataset in epoch 0 after 1000 steps:\n",
      "mAP strict= 0.7760948021706726 ; mAP relaxed = 0.9150671785222195\n",
      "2021-05-24 13:57:06 - mAP strict:   \t77.61\n",
      "2021-05-24 13:57:06 - mAP relaxed:   \t91.51\n",
      "2021-05-24 13:57:06 - Save model to /workspace/ceph_data/keypoint-analysis-sharedtask/siamese-models/bert-base-uncased-kp_as_anchor_topic_added-2021-05-24_13-52-11\n",
      "2021-05-24 13:59:28 - TripletEvaluator: Evaluating the model on dev dataset in epoch 0 after 1500 steps:\n",
      "mAP strict= 0.7370553936484664 ; mAP relaxed = 0.8851018479631367\n",
      "2021-05-24 13:59:30 - mAP strict:   \t73.71\n",
      "2021-05-24 13:59:30 - mAP relaxed:   \t88.51\n",
      "2021-05-24 14:01:51 - TripletEvaluator: Evaluating the model on dev dataset in epoch 0 after 2000 steps:\n",
      "mAP strict= 0.7745338149144914 ; mAP relaxed = 0.9017714563373045\n",
      "2021-05-24 14:01:53 - mAP strict:   \t77.45\n",
      "2021-05-24 14:01:53 - mAP relaxed:   \t90.18\n",
      "2021-05-24 14:04:15 - TripletEvaluator: Evaluating the model on dev dataset in epoch 0 after 2500 steps:\n",
      "mAP strict= 0.7683335933010331 ; mAP relaxed = 0.9096073034963842\n",
      "2021-05-24 14:04:17 - mAP strict:   \t76.83\n",
      "2021-05-24 14:04:17 - mAP relaxed:   \t90.96\n",
      "2021-05-24 14:06:38 - TripletEvaluator: Evaluating the model on dev dataset in epoch 0 after 3000 steps:\n",
      "mAP strict= 0.7890992606815793 ; mAP relaxed = 0.9149239853451747\n",
      "2021-05-24 14:06:39 - mAP strict:   \t78.91\n",
      "2021-05-24 14:06:39 - mAP relaxed:   \t91.49\n",
      "2021-05-24 14:06:39 - Save model to /workspace/ceph_data/keypoint-analysis-sharedtask/siamese-models/bert-base-uncased-kp_as_anchor_topic_added-2021-05-24_13-52-11\n",
      "2021-05-24 14:09:01 - TripletEvaluator: Evaluating the model on dev dataset in epoch 0 after 3500 steps:\n",
      "mAP strict= 0.778137344308919 ; mAP relaxed = 0.9003607959079876\n",
      "2021-05-24 14:09:03 - mAP strict:   \t77.81\n",
      "2021-05-24 14:09:03 - mAP relaxed:   \t90.04\n",
      "2021-05-24 14:11:24 - TripletEvaluator: Evaluating the model on dev dataset in epoch 0 after 4000 steps:\n",
      "mAP strict= 0.7861867859538941 ; mAP relaxed = 0.910441532108409\n",
      "2021-05-24 14:11:26 - mAP strict:   \t78.62\n",
      "2021-05-24 14:11:26 - mAP relaxed:   \t91.04\n",
      "2021-05-24 14:13:46 - TripletEvaluator: Evaluating the model on dev dataset in epoch 0 after 4500 steps:\n",
      "mAP strict= 0.8007169955441589 ; mAP relaxed = 0.9140364823053402\n",
      "2021-05-24 14:13:48 - mAP strict:   \t80.07\n",
      "2021-05-24 14:13:48 - mAP relaxed:   \t91.40\n",
      "2021-05-24 14:13:48 - Save model to /workspace/ceph_data/keypoint-analysis-sharedtask/siamese-models/bert-base-uncased-kp_as_anchor_topic_added-2021-05-24_13-52-11\n",
      "2021-05-24 14:16:09 - TripletEvaluator: Evaluating the model on dev dataset in epoch 0 after 5000 steps:\n",
      "mAP strict= 0.8053752996459863 ; mAP relaxed = 0.9377146136061709\n",
      "2021-05-24 14:16:11 - mAP strict:   \t80.54\n",
      "2021-05-24 14:16:11 - mAP relaxed:   \t93.77\n",
      "2021-05-24 14:16:11 - Save model to /workspace/ceph_data/keypoint-analysis-sharedtask/siamese-models/bert-base-uncased-kp_as_anchor_topic_added-2021-05-24_13-52-11\n",
      "\n",
      "2021-05-24 14:17:43 - TripletEvaluator: Evaluating the model on dev dataset after epoch 0:\n",
      "mAP strict= 0.811535955108852 ; mAP relaxed = 0.9469145824472445\n",
      "2021-05-24 14:17:45 - mAP strict:   \t81.15\n",
      "2021-05-24 14:17:45 - mAP relaxed:   \t94.69\n",
      "2021-05-24 14:17:45 - Save model to /workspace/ceph_data/keypoint-analysis-sharedtask/siamese-models/bert-base-uncased-kp_as_anchor_topic_added-2021-05-24_13-52-11\n"
     ]
    },
    {
     "data": {
      "application/vnd.jupyter.widget-view+json": {
       "model_id": "c69b8ac2eba44e4db99186975cbefefb",
       "version_major": 2,
       "version_minor": 0
      },
      "text/plain": [
       "HBox(children=(FloatProgress(value=0.0, description='Iteration', max=5325.0, style=ProgressStyle(description_w…"
      ]
     },
     "metadata": {},
     "output_type": "display_data"
    },
    {
     "name": "stdout",
     "output_type": "stream",
     "text": [
      "2021-05-24 14:20:06 - TripletEvaluator: Evaluating the model on dev dataset in epoch 1 after 500 steps:\n",
      "mAP strict= 0.813926868774498 ; mAP relaxed = 0.9424348119617398\n",
      "2021-05-24 14:20:08 - mAP strict:   \t81.39\n",
      "2021-05-24 14:20:08 - mAP relaxed:   \t94.24\n",
      "2021-05-24 14:20:08 - Save model to /workspace/ceph_data/keypoint-analysis-sharedtask/siamese-models/bert-base-uncased-kp_as_anchor_topic_added-2021-05-24_13-52-11\n",
      "2021-05-24 14:22:29 - TripletEvaluator: Evaluating the model on dev dataset in epoch 1 after 1000 steps:\n",
      "mAP strict= 0.785464232400237 ; mAP relaxed = 0.9305795127482848\n",
      "2021-05-24 14:22:31 - mAP strict:   \t78.55\n",
      "2021-05-24 14:22:31 - mAP relaxed:   \t93.06\n",
      "2021-05-24 14:24:51 - TripletEvaluator: Evaluating the model on dev dataset in epoch 1 after 1500 steps:\n",
      "mAP strict= 0.8259432196789906 ; mAP relaxed = 0.9355831901854779\n",
      "2021-05-24 14:24:53 - mAP strict:   \t82.59\n",
      "2021-05-24 14:24:53 - mAP relaxed:   \t93.56\n",
      "2021-05-24 14:24:53 - Save model to /workspace/ceph_data/keypoint-analysis-sharedtask/siamese-models/bert-base-uncased-kp_as_anchor_topic_added-2021-05-24_13-52-11\n",
      "2021-05-24 14:27:15 - TripletEvaluator: Evaluating the model on dev dataset in epoch 1 after 2000 steps:\n",
      "mAP strict= 0.8123011020934123 ; mAP relaxed = 0.9392408647709285\n",
      "2021-05-24 14:27:17 - mAP strict:   \t81.23\n",
      "2021-05-24 14:27:17 - mAP relaxed:   \t93.92\n",
      "2021-05-24 14:29:37 - TripletEvaluator: Evaluating the model on dev dataset in epoch 1 after 2500 steps:\n",
      "mAP strict= 0.7899397351546806 ; mAP relaxed = 0.8962887853531031\n",
      "2021-05-24 14:29:39 - mAP strict:   \t78.99\n",
      "2021-05-24 14:29:39 - mAP relaxed:   \t89.63\n",
      "2021-05-24 14:31:59 - TripletEvaluator: Evaluating the model on dev dataset in epoch 1 after 3000 steps:\n",
      "mAP strict= 0.8081519945418065 ; mAP relaxed = 0.9219055338667645\n",
      "2021-05-24 14:32:01 - mAP strict:   \t80.82\n",
      "2021-05-24 14:32:01 - mAP relaxed:   \t92.19\n",
      "2021-05-24 14:34:21 - TripletEvaluator: Evaluating the model on dev dataset in epoch 1 after 3500 steps:\n",
      "mAP strict= 0.7939916495232953 ; mAP relaxed = 0.9206766799500392\n",
      "2021-05-24 14:34:23 - mAP strict:   \t79.40\n",
      "2021-05-24 14:34:23 - mAP relaxed:   \t92.07\n",
      "2021-05-24 14:36:43 - TripletEvaluator: Evaluating the model on dev dataset in epoch 1 after 4000 steps:\n",
      "mAP strict= 0.7830591575153589 ; mAP relaxed = 0.8972963870753087\n",
      "2021-05-24 14:36:45 - mAP strict:   \t78.31\n",
      "2021-05-24 14:36:45 - mAP relaxed:   \t89.73\n",
      "2021-05-24 14:39:05 - TripletEvaluator: Evaluating the model on dev dataset in epoch 1 after 4500 steps:\n",
      "mAP strict= 0.784766271901038 ; mAP relaxed = 0.9413236094891497\n",
      "2021-05-24 14:39:06 - mAP strict:   \t78.48\n",
      "2021-05-24 14:39:06 - mAP relaxed:   \t94.13\n",
      "2021-05-24 14:41:27 - TripletEvaluator: Evaluating the model on dev dataset in epoch 1 after 5000 steps:\n",
      "mAP strict= 0.8119493046565471 ; mAP relaxed = 0.9367108709359722\n",
      "2021-05-24 14:41:29 - mAP strict:   \t81.19\n",
      "2021-05-24 14:41:29 - mAP relaxed:   \t93.67\n",
      "\n",
      "2021-05-24 14:42:59 - TripletEvaluator: Evaluating the model on dev dataset after epoch 1:\n",
      "mAP strict= 0.8202452679782659 ; mAP relaxed = 0.930842900924364\n",
      "2021-05-24 14:43:01 - mAP strict:   \t82.02\n",
      "2021-05-24 14:43:01 - mAP relaxed:   \t93.08\n"
     ]
    },
    {
     "data": {
      "application/vnd.jupyter.widget-view+json": {
       "model_id": "c5315c98408d44278a1c147daf53e860",
       "version_major": 2,
       "version_minor": 0
      },
      "text/plain": [
       "HBox(children=(FloatProgress(value=0.0, description='Iteration', max=5325.0, style=ProgressStyle(description_w…"
      ]
     },
     "metadata": {},
     "output_type": "display_data"
    },
    {
     "name": "stdout",
     "output_type": "stream",
     "text": [
      "2021-05-24 14:45:22 - TripletEvaluator: Evaluating the model on dev dataset in epoch 2 after 500 steps:\n",
      "mAP strict= 0.7539634100062211 ; mAP relaxed = 0.8978257090898848\n",
      "2021-05-24 14:45:24 - mAP strict:   \t75.40\n",
      "2021-05-24 14:45:24 - mAP relaxed:   \t89.78\n",
      "2021-05-24 14:47:44 - TripletEvaluator: Evaluating the model on dev dataset in epoch 2 after 1000 steps:\n",
      "mAP strict= 0.7244299442080883 ; mAP relaxed = 0.8708668235002641\n",
      "2021-05-24 14:47:46 - mAP strict:   \t72.44\n",
      "2021-05-24 14:47:46 - mAP relaxed:   \t87.09\n",
      "2021-05-24 14:50:06 - TripletEvaluator: Evaluating the model on dev dataset in epoch 2 after 1500 steps:\n",
      "mAP strict= 0.7439922280935364 ; mAP relaxed = 0.9005285132239339\n",
      "2021-05-24 14:50:08 - mAP strict:   \t74.40\n",
      "2021-05-24 14:50:08 - mAP relaxed:   \t90.05\n",
      "2021-05-24 14:52:28 - TripletEvaluator: Evaluating the model on dev dataset in epoch 2 after 2000 steps:\n",
      "mAP strict= 0.7390911856316752 ; mAP relaxed = 0.8894154378516844\n",
      "2021-05-24 14:52:29 - mAP strict:   \t73.91\n",
      "2021-05-24 14:52:29 - mAP relaxed:   \t88.94\n",
      "2021-05-24 14:54:50 - TripletEvaluator: Evaluating the model on dev dataset in epoch 2 after 2500 steps:\n",
      "mAP strict= 0.7564690256771813 ; mAP relaxed = 0.8965365458796115\n",
      "2021-05-24 14:54:51 - mAP strict:   \t75.65\n",
      "2021-05-24 14:54:51 - mAP relaxed:   \t89.65\n",
      "2021-05-24 14:57:12 - TripletEvaluator: Evaluating the model on dev dataset in epoch 2 after 3000 steps:\n",
      "mAP strict= 0.7572640267148145 ; mAP relaxed = 0.9051576503843495\n",
      "2021-05-24 14:57:13 - mAP strict:   \t75.73\n",
      "2021-05-24 14:57:13 - mAP relaxed:   \t90.52\n",
      "2021-05-24 14:59:33 - TripletEvaluator: Evaluating the model on dev dataset in epoch 2 after 3500 steps:\n",
      "mAP strict= 0.7081195756891924 ; mAP relaxed = 0.8652942744782629\n",
      "2021-05-24 14:59:35 - mAP strict:   \t70.81\n",
      "2021-05-24 14:59:35 - mAP relaxed:   \t86.53\n",
      "2021-05-24 15:01:55 - TripletEvaluator: Evaluating the model on dev dataset in epoch 2 after 4000 steps:\n",
      "mAP strict= 0.775747484503466 ; mAP relaxed = 0.9159290937834156\n",
      "2021-05-24 15:01:57 - mAP strict:   \t77.57\n",
      "2021-05-24 15:01:57 - mAP relaxed:   \t91.59\n",
      "2021-05-24 15:04:17 - TripletEvaluator: Evaluating the model on dev dataset in epoch 2 after 4500 steps:\n",
      "mAP strict= 0.78977725798908 ; mAP relaxed = 0.927538155148152\n",
      "2021-05-24 15:04:18 - mAP strict:   \t78.98\n",
      "2021-05-24 15:04:18 - mAP relaxed:   \t92.75\n",
      "2021-05-24 15:06:39 - TripletEvaluator: Evaluating the model on dev dataset in epoch 2 after 5000 steps:\n",
      "mAP strict= 0.7550846259218267 ; mAP relaxed = 0.8908951055341596\n",
      "2021-05-24 15:06:41 - mAP strict:   \t75.51\n",
      "2021-05-24 15:06:41 - mAP relaxed:   \t89.09\n",
      "\n",
      "2021-05-24 15:08:12 - TripletEvaluator: Evaluating the model on dev dataset after epoch 2:\n",
      "mAP strict= 0.7843882824281464 ; mAP relaxed = 0.9061424752427101\n",
      "2021-05-24 15:08:13 - mAP strict:   \t78.44\n",
      "2021-05-24 15:08:13 - mAP relaxed:   \t90.61\n"
     ]
    },
    {
     "data": {
      "application/vnd.jupyter.widget-view+json": {
       "model_id": "b64e5f2677bb4995b00fff7ca215721f",
       "version_major": 2,
       "version_minor": 0
      },
      "text/plain": [
       "HBox(children=(FloatProgress(value=0.0, description='Iteration', max=5325.0, style=ProgressStyle(description_w…"
      ]
     },
     "metadata": {},
     "output_type": "display_data"
    },
    {
     "name": "stdout",
     "output_type": "stream",
     "text": [
      "2021-05-24 15:10:33 - TripletEvaluator: Evaluating the model on dev dataset in epoch 3 after 500 steps:\n",
      "mAP strict= 0.7526969039799162 ; mAP relaxed = 0.913401463946678\n",
      "2021-05-24 15:10:35 - mAP strict:   \t75.27\n",
      "2021-05-24 15:10:35 - mAP relaxed:   \t91.34\n",
      "2021-05-24 15:12:55 - TripletEvaluator: Evaluating the model on dev dataset in epoch 3 after 1000 steps:\n",
      "mAP strict= 0.733605330554933 ; mAP relaxed = 0.901143253930593\n",
      "2021-05-24 15:12:57 - mAP strict:   \t73.36\n",
      "2021-05-24 15:12:57 - mAP relaxed:   \t90.11\n",
      "2021-05-24 15:15:17 - TripletEvaluator: Evaluating the model on dev dataset in epoch 3 after 1500 steps:\n",
      "mAP strict= 0.747195264352604 ; mAP relaxed = 0.9232803383346073\n",
      "2021-05-24 15:15:19 - mAP strict:   \t74.72\n",
      "2021-05-24 15:15:19 - mAP relaxed:   \t92.33\n",
      "2021-05-24 15:17:39 - TripletEvaluator: Evaluating the model on dev dataset in epoch 3 after 2000 steps:\n",
      "mAP strict= 0.8006172818255533 ; mAP relaxed = 0.9391717593917799\n",
      "2021-05-24 15:17:41 - mAP strict:   \t80.06\n",
      "2021-05-24 15:17:41 - mAP relaxed:   \t93.92\n",
      "2021-05-24 15:20:00 - TripletEvaluator: Evaluating the model on dev dataset in epoch 3 after 2500 steps:\n",
      "mAP strict= 0.7777221889191113 ; mAP relaxed = 0.9366059059411476\n",
      "2021-05-24 15:20:02 - mAP strict:   \t77.77\n",
      "2021-05-24 15:20:02 - mAP relaxed:   \t93.66\n",
      "2021-05-24 15:22:22 - TripletEvaluator: Evaluating the model on dev dataset in epoch 3 after 3000 steps:\n",
      "mAP strict= 0.7913486081810387 ; mAP relaxed = 0.9447198306168535\n",
      "2021-05-24 15:22:24 - mAP strict:   \t79.13\n",
      "2021-05-24 15:22:24 - mAP relaxed:   \t94.47\n",
      "2021-05-24 15:24:44 - TripletEvaluator: Evaluating the model on dev dataset in epoch 3 after 3500 steps:\n",
      "mAP strict= 0.7874610378573689 ; mAP relaxed = 0.9384539835683383\n",
      "2021-05-24 15:24:46 - mAP strict:   \t78.75\n",
      "2021-05-24 15:24:46 - mAP relaxed:   \t93.85\n",
      "2021-05-24 15:27:06 - TripletEvaluator: Evaluating the model on dev dataset in epoch 3 after 4000 steps:\n",
      "mAP strict= 0.773965768589516 ; mAP relaxed = 0.9332371469481497\n",
      "2021-05-24 15:27:08 - mAP strict:   \t77.40\n",
      "2021-05-24 15:27:08 - mAP relaxed:   \t93.32\n",
      "2021-05-24 15:29:28 - TripletEvaluator: Evaluating the model on dev dataset in epoch 3 after 4500 steps:\n",
      "mAP strict= 0.7819374026792361 ; mAP relaxed = 0.9320880019631844\n",
      "2021-05-24 15:29:30 - mAP strict:   \t78.19\n",
      "2021-05-24 15:29:30 - mAP relaxed:   \t93.21\n",
      "2021-05-24 15:31:50 - TripletEvaluator: Evaluating the model on dev dataset in epoch 3 after 5000 steps:\n",
      "mAP strict= 0.7693531892707806 ; mAP relaxed = 0.9285703256639861\n",
      "2021-05-24 15:31:51 - mAP strict:   \t76.94\n",
      "2021-05-24 15:31:51 - mAP relaxed:   \t92.86\n",
      "\n",
      "2021-05-24 15:33:22 - TripletEvaluator: Evaluating the model on dev dataset after epoch 3:\n",
      "mAP strict= 0.7741422753355292 ; mAP relaxed = 0.92989083596432\n",
      "2021-05-24 15:33:24 - mAP strict:   \t77.41\n",
      "2021-05-24 15:33:24 - mAP relaxed:   \t92.99\n"
     ]
    },
    {
     "data": {
      "application/vnd.jupyter.widget-view+json": {
       "model_id": "41af90b70542409f84c3855765a528fb",
       "version_major": 2,
       "version_minor": 0
      },
      "text/plain": [
       "HBox(children=(FloatProgress(value=0.0, description='Iteration', max=5325.0, style=ProgressStyle(description_w…"
      ]
     },
     "metadata": {},
     "output_type": "display_data"
    },
    {
     "name": "stdout",
     "output_type": "stream",
     "text": [
      "2021-05-24 15:35:44 - TripletEvaluator: Evaluating the model on dev dataset in epoch 4 after 500 steps:\n",
      "mAP strict= 0.7827402041298065 ; mAP relaxed = 0.9323579740388318\n",
      "2021-05-24 15:35:45 - mAP strict:   \t78.27\n",
      "2021-05-24 15:35:45 - mAP relaxed:   \t93.24\n",
      "2021-05-24 15:38:06 - TripletEvaluator: Evaluating the model on dev dataset in epoch 4 after 1000 steps:\n",
      "mAP strict= 0.7656385940455468 ; mAP relaxed = 0.9263486466550253\n",
      "2021-05-24 15:38:07 - mAP strict:   \t76.56\n",
      "2021-05-24 15:38:07 - mAP relaxed:   \t92.63\n",
      "2021-05-24 15:40:27 - TripletEvaluator: Evaluating the model on dev dataset in epoch 4 after 1500 steps:\n",
      "mAP strict= 0.7711084251261706 ; mAP relaxed = 0.9299628374654267\n",
      "2021-05-24 15:40:29 - mAP strict:   \t77.11\n",
      "2021-05-24 15:40:29 - mAP relaxed:   \t93.00\n",
      "2021-05-24 15:42:49 - TripletEvaluator: Evaluating the model on dev dataset in epoch 4 after 2000 steps:\n",
      "mAP strict= 0.7580226420088969 ; mAP relaxed = 0.9189880898966981\n",
      "2021-05-24 15:42:51 - mAP strict:   \t75.80\n",
      "2021-05-24 15:42:51 - mAP relaxed:   \t91.90\n",
      "2021-05-24 15:45:11 - TripletEvaluator: Evaluating the model on dev dataset in epoch 4 after 2500 steps:\n",
      "mAP strict= 0.7579898210041893 ; mAP relaxed = 0.9167219228820787\n",
      "2021-05-24 15:45:13 - mAP strict:   \t75.80\n",
      "2021-05-24 15:45:13 - mAP relaxed:   \t91.67\n",
      "2021-05-24 15:47:33 - TripletEvaluator: Evaluating the model on dev dataset in epoch 4 after 3000 steps:\n",
      "mAP strict= 0.7586111371266506 ; mAP relaxed = 0.9187414970019251\n",
      "2021-05-24 15:47:35 - mAP strict:   \t75.86\n",
      "2021-05-24 15:47:35 - mAP relaxed:   \t91.87\n",
      "2021-05-24 15:49:55 - TripletEvaluator: Evaluating the model on dev dataset in epoch 4 after 3500 steps:\n",
      "mAP strict= 0.7648314588042986 ; mAP relaxed = 0.9216936334631625\n",
      "2021-05-24 15:49:57 - mAP strict:   \t76.48\n",
      "2021-05-24 15:49:57 - mAP relaxed:   \t92.17\n",
      "2021-05-24 15:52:17 - TripletEvaluator: Evaluating the model on dev dataset in epoch 4 after 4000 steps:\n",
      "mAP strict= 0.7688293001139774 ; mAP relaxed = 0.9257893994458151\n",
      "2021-05-24 15:52:19 - mAP strict:   \t76.88\n",
      "2021-05-24 15:52:19 - mAP relaxed:   \t92.58\n",
      "2021-05-24 15:54:39 - TripletEvaluator: Evaluating the model on dev dataset in epoch 4 after 4500 steps:\n",
      "mAP strict= 0.7640154376296991 ; mAP relaxed = 0.9251544695252302\n",
      "2021-05-24 15:54:41 - mAP strict:   \t76.40\n",
      "2021-05-24 15:54:41 - mAP relaxed:   \t92.52\n",
      "2021-05-24 15:57:00 - TripletEvaluator: Evaluating the model on dev dataset in epoch 4 after 5000 steps:\n",
      "mAP strict= 0.7632324653753809 ; mAP relaxed = 0.924232854714774\n",
      "2021-05-24 15:57:02 - mAP strict:   \t76.32\n",
      "2021-05-24 15:57:02 - mAP relaxed:   \t92.42\n",
      "\n",
      "2021-05-24 15:58:33 - TripletEvaluator: Evaluating the model on dev dataset after epoch 4:\n",
      "mAP strict= 0.7639840193636104 ; mAP relaxed = 0.9242686975958452\n",
      "2021-05-24 15:58:35 - mAP strict:   \t76.40\n",
      "2021-05-24 15:58:35 - mAP relaxed:   \t92.43\n",
      "\n"
     ]
    }
   ],
   "source": [
    "sbert_training.train_model('/workspace/ceph_data/keypoint-analysis-sharedtask/siamese-data/',\n",
    "                           '../../data',\n",
    "                           'our_valid',\n",
    "                           '/workspace/ceph_data/keypoint-analysis-sharedtask/siamese-models/',\n",
    "                           'bert-base-uncased', model_suffix='kp_as_anchor_topic_added', data_file_suffix='kp_as_anchor_topic_added',\n",
    "                           num_epochs=5, add_special_token=True, train_batch_size=16)"
   ]
  },
  {
   "cell_type": "code",
   "execution_count": null,
   "id": "4300f25a-1e5f-4118-9656-354a11dba9f5",
   "metadata": {
    "scrolled": true,
    "tags": []
   },
   "outputs": [
    {
     "name": "stdout",
     "output_type": "stream",
     "text": [
      "2021-05-24 15:58:40 - Use pytorch device: cuda\n",
      "2021-05-24 15:58:40 - Read Triplet train dataset\n"
     ]
    },
    {
     "data": {
      "application/vnd.jupyter.widget-view+json": {
       "model_id": "5c244f81129447c48c5e3e1fcff0f587",
       "version_major": 2,
       "version_minor": 0
      },
      "text/plain": [
       "HBox(children=(FloatProgress(value=0.0, description='Epoch', max=5.0, style=ProgressStyle(description_width='i…"
      ]
     },
     "metadata": {},
     "output_type": "display_data"
    },
    {
     "data": {
      "application/vnd.jupyter.widget-view+json": {
       "model_id": "e9501d7cd8b945bda4fb032d01e411d6",
       "version_major": 2,
       "version_minor": 0
      },
      "text/plain": [
       "HBox(children=(FloatProgress(value=0.0, description='Iteration', max=5325.0, style=ProgressStyle(description_w…"
      ]
     },
     "metadata": {},
     "output_type": "display_data"
    },
    {
     "name": "stdout",
     "output_type": "stream",
     "text": [
      "2021-05-24 16:01:05 - TripletEvaluator: Evaluating the model on dev dataset in epoch 0 after 500 steps:\n",
      "mAP strict= 0.6957150637360908 ; mAP relaxed = 0.88475060070072\n",
      "2021-05-24 16:01:07 - mAP strict:   \t69.57\n",
      "2021-05-24 16:01:07 - mAP relaxed:   \t88.48\n",
      "2021-05-24 16:01:07 - Save model to /workspace/ceph_data/keypoint-analysis-sharedtask/siamese-models/bert-base-uncased-kp_as_anchor-2021-05-24_15-58-35\n",
      "2021-05-24 16:03:31 - TripletEvaluator: Evaluating the model on dev dataset in epoch 0 after 1000 steps:\n",
      "mAP strict= 0.7408105367274198 ; mAP relaxed = 0.9066931765131134\n",
      "2021-05-24 16:03:32 - mAP strict:   \t74.08\n",
      "2021-05-24 16:03:32 - mAP relaxed:   \t90.67\n",
      "2021-05-24 16:03:32 - Save model to /workspace/ceph_data/keypoint-analysis-sharedtask/siamese-models/bert-base-uncased-kp_as_anchor-2021-05-24_15-58-35\n",
      "2021-05-24 16:05:56 - TripletEvaluator: Evaluating the model on dev dataset in epoch 0 after 1500 steps:\n",
      "mAP strict= 0.7764079384312422 ; mAP relaxed = 0.8981600294504914\n",
      "2021-05-24 16:05:58 - mAP strict:   \t77.64\n",
      "2021-05-24 16:05:58 - mAP relaxed:   \t89.82\n",
      "2021-05-24 16:05:58 - Save model to /workspace/ceph_data/keypoint-analysis-sharedtask/siamese-models/bert-base-uncased-kp_as_anchor-2021-05-24_15-58-35\n",
      "2021-05-24 16:08:22 - TripletEvaluator: Evaluating the model on dev dataset in epoch 0 after 2000 steps:\n",
      "mAP strict= 0.7929136765364679 ; mAP relaxed = 0.9088828384322263\n",
      "2021-05-24 16:08:24 - mAP strict:   \t79.29\n",
      "2021-05-24 16:08:24 - mAP relaxed:   \t90.89\n",
      "2021-05-24 16:08:24 - Save model to /workspace/ceph_data/keypoint-analysis-sharedtask/siamese-models/bert-base-uncased-kp_as_anchor-2021-05-24_15-58-35\n",
      "2021-05-24 16:10:46 - TripletEvaluator: Evaluating the model on dev dataset in epoch 0 after 2500 steps:\n",
      "mAP strict= 0.8029522192597727 ; mAP relaxed = 0.9349129885666099\n",
      "2021-05-24 16:10:48 - mAP strict:   \t80.30\n",
      "2021-05-24 16:10:48 - mAP relaxed:   \t93.49\n",
      "2021-05-24 16:10:48 - Save model to /workspace/ceph_data/keypoint-analysis-sharedtask/siamese-models/bert-base-uncased-kp_as_anchor-2021-05-24_15-58-35\n",
      "2021-05-24 16:13:11 - TripletEvaluator: Evaluating the model on dev dataset in epoch 0 after 3000 steps:\n",
      "mAP strict= 0.80465753460113 ; mAP relaxed = 0.9156286653809942\n",
      "2021-05-24 16:13:13 - mAP strict:   \t80.47\n",
      "2021-05-24 16:13:13 - mAP relaxed:   \t91.56\n",
      "2021-05-24 16:13:13 - Save model to /workspace/ceph_data/keypoint-analysis-sharedtask/siamese-models/bert-base-uncased-kp_as_anchor-2021-05-24_15-58-35\n",
      "2021-05-24 16:15:36 - TripletEvaluator: Evaluating the model on dev dataset in epoch 0 after 3500 steps:\n",
      "mAP strict= 0.8433542654917299 ; mAP relaxed = 0.9342768741197307\n",
      "2021-05-24 16:15:38 - mAP strict:   \t84.34\n",
      "2021-05-24 16:15:38 - mAP relaxed:   \t93.43\n",
      "2021-05-24 16:15:38 - Save model to /workspace/ceph_data/keypoint-analysis-sharedtask/siamese-models/bert-base-uncased-kp_as_anchor-2021-05-24_15-58-35\n",
      "2021-05-24 16:18:01 - TripletEvaluator: Evaluating the model on dev dataset in epoch 0 after 4000 steps:\n",
      "mAP strict= 0.8170062485780212 ; mAP relaxed = 0.9377295196925148\n",
      "2021-05-24 16:18:03 - mAP strict:   \t81.70\n",
      "2021-05-24 16:18:03 - mAP relaxed:   \t93.77\n",
      "2021-05-24 16:20:25 - TripletEvaluator: Evaluating the model on dev dataset in epoch 0 after 4500 steps:\n",
      "mAP strict= 0.8008581402918663 ; mAP relaxed = 0.9104951714151029\n",
      "2021-05-24 16:20:26 - mAP strict:   \t80.09\n",
      "2021-05-24 16:20:26 - mAP relaxed:   \t91.05\n",
      "2021-05-24 16:22:48 - TripletEvaluator: Evaluating the model on dev dataset in epoch 0 after 5000 steps:\n",
      "mAP strict= 0.789080033372102 ; mAP relaxed = 0.9361238099319632\n",
      "2021-05-24 16:22:50 - mAP strict:   \t78.91\n",
      "2021-05-24 16:22:50 - mAP relaxed:   \t93.61\n",
      "\n",
      "2021-05-24 16:24:22 - TripletEvaluator: Evaluating the model on dev dataset after epoch 0:\n",
      "mAP strict= 0.7835472571510662 ; mAP relaxed = 0.906500463768732\n",
      "2021-05-24 16:24:24 - mAP strict:   \t78.35\n",
      "2021-05-24 16:24:24 - mAP relaxed:   \t90.65\n"
     ]
    },
    {
     "data": {
      "application/vnd.jupyter.widget-view+json": {
       "model_id": "336aeb467de74df6b3eaaa6e7a8a979e",
       "version_major": 2,
       "version_minor": 0
      },
      "text/plain": [
       "HBox(children=(FloatProgress(value=0.0, description='Iteration', max=5325.0, style=ProgressStyle(description_w…"
      ]
     },
     "metadata": {},
     "output_type": "display_data"
    },
    {
     "name": "stdout",
     "output_type": "stream",
     "text": [
      "2021-05-24 16:26:45 - TripletEvaluator: Evaluating the model on dev dataset in epoch 1 after 500 steps:\n",
      "mAP strict= 0.7831499013154375 ; mAP relaxed = 0.8973968215326857\n",
      "2021-05-24 16:26:47 - mAP strict:   \t78.31\n",
      "2021-05-24 16:26:47 - mAP relaxed:   \t89.74\n",
      "2021-05-24 16:29:07 - TripletEvaluator: Evaluating the model on dev dataset in epoch 1 after 1000 steps:\n",
      "mAP strict= 0.826656808102099 ; mAP relaxed = 0.9423307274425334\n",
      "2021-05-24 16:29:09 - mAP strict:   \t82.67\n",
      "2021-05-24 16:29:09 - mAP relaxed:   \t94.23\n",
      "2021-05-24 16:31:31 - TripletEvaluator: Evaluating the model on dev dataset in epoch 1 after 1500 steps:\n",
      "mAP strict= 0.7594846463194747 ; mAP relaxed = 0.8919999387886378\n",
      "2021-05-24 16:31:33 - mAP strict:   \t75.95\n",
      "2021-05-24 16:31:33 - mAP relaxed:   \t89.20\n",
      "2021-05-24 16:33:54 - TripletEvaluator: Evaluating the model on dev dataset in epoch 1 after 2000 steps:\n",
      "mAP strict= 0.8175044228151906 ; mAP relaxed = 0.9345407819023106\n",
      "2021-05-24 16:33:56 - mAP strict:   \t81.75\n",
      "2021-05-24 16:33:56 - mAP relaxed:   \t93.45\n",
      "2021-05-24 16:36:17 - TripletEvaluator: Evaluating the model on dev dataset in epoch 1 after 2500 steps:\n",
      "mAP strict= 0.8231844736087043 ; mAP relaxed = 0.927825479651883\n",
      "2021-05-24 16:36:18 - mAP strict:   \t82.32\n",
      "2021-05-24 16:36:18 - mAP relaxed:   \t92.78\n",
      "2021-05-24 16:38:40 - TripletEvaluator: Evaluating the model on dev dataset in epoch 1 after 3000 steps:\n",
      "mAP strict= 0.7566965336455419 ; mAP relaxed = 0.9168685879575076\n",
      "2021-05-24 16:38:41 - mAP strict:   \t75.67\n",
      "2021-05-24 16:38:41 - mAP relaxed:   \t91.69\n",
      "2021-05-24 16:41:02 - TripletEvaluator: Evaluating the model on dev dataset in epoch 1 after 3500 steps:\n",
      "mAP strict= 0.7834151413543565 ; mAP relaxed = 0.9355659695851941\n",
      "2021-05-24 16:41:04 - mAP strict:   \t78.34\n",
      "2021-05-24 16:41:04 - mAP relaxed:   \t93.56\n",
      "2021-05-24 16:43:25 - TripletEvaluator: Evaluating the model on dev dataset in epoch 1 after 4000 steps:\n",
      "mAP strict= 0.7884398599632473 ; mAP relaxed = 0.921326651234431\n",
      "2021-05-24 16:43:27 - mAP strict:   \t78.84\n",
      "2021-05-24 16:43:27 - mAP relaxed:   \t92.13\n",
      "2021-05-24 16:45:48 - TripletEvaluator: Evaluating the model on dev dataset in epoch 1 after 4500 steps:\n",
      "mAP strict= 0.7659679946245104 ; mAP relaxed = 0.9085325955349062\n",
      "2021-05-24 16:45:50 - mAP strict:   \t76.60\n",
      "2021-05-24 16:45:50 - mAP relaxed:   \t90.85\n",
      "2021-05-24 16:48:11 - TripletEvaluator: Evaluating the model on dev dataset in epoch 1 after 5000 steps:\n",
      "mAP strict= 0.7782912236327737 ; mAP relaxed = 0.9496556185898839\n",
      "2021-05-24 16:48:13 - mAP strict:   \t77.83\n",
      "2021-05-24 16:48:13 - mAP relaxed:   \t94.97\n",
      "\n",
      "2021-05-24 16:49:45 - TripletEvaluator: Evaluating the model on dev dataset after epoch 1:\n",
      "mAP strict= 0.7949920951895006 ; mAP relaxed = 0.9383745841554765\n",
      "2021-05-24 16:49:46 - mAP strict:   \t79.50\n",
      "2021-05-24 16:49:46 - mAP relaxed:   \t93.84\n"
     ]
    },
    {
     "data": {
      "application/vnd.jupyter.widget-view+json": {
       "model_id": "d7302058e0e54c5a9b0ad1540eda2afc",
       "version_major": 2,
       "version_minor": 0
      },
      "text/plain": [
       "HBox(children=(FloatProgress(value=0.0, description='Iteration', max=5325.0, style=ProgressStyle(description_w…"
      ]
     },
     "metadata": {},
     "output_type": "display_data"
    },
    {
     "name": "stdout",
     "output_type": "stream",
     "text": [
      "2021-05-24 16:52:08 - TripletEvaluator: Evaluating the model on dev dataset in epoch 2 after 500 steps:\n",
      "mAP strict= 0.755083936410658 ; mAP relaxed = 0.9217472127508177\n",
      "2021-05-24 16:52:10 - mAP strict:   \t75.51\n",
      "2021-05-24 16:52:10 - mAP relaxed:   \t92.17\n",
      "2021-05-24 16:54:31 - TripletEvaluator: Evaluating the model on dev dataset in epoch 2 after 1000 steps:\n",
      "mAP strict= 0.7578878676352415 ; mAP relaxed = 0.923946055904084\n",
      "2021-05-24 16:54:33 - mAP strict:   \t75.79\n",
      "2021-05-24 16:54:33 - mAP relaxed:   \t92.39\n",
      "2021-05-24 16:56:53 - TripletEvaluator: Evaluating the model on dev dataset in epoch 2 after 1500 steps:\n",
      "mAP strict= 0.7930537079452806 ; mAP relaxed = 0.9239580395192255\n",
      "2021-05-24 16:56:55 - mAP strict:   \t79.31\n",
      "2021-05-24 16:56:55 - mAP relaxed:   \t92.40\n",
      "2021-05-24 16:59:16 - TripletEvaluator: Evaluating the model on dev dataset in epoch 2 after 2000 steps:\n",
      "mAP strict= 0.807549743757945 ; mAP relaxed = 0.9199285927500856\n",
      "2021-05-24 16:59:18 - mAP strict:   \t80.75\n",
      "2021-05-24 16:59:18 - mAP relaxed:   \t91.99\n",
      "2021-05-24 17:01:38 - TripletEvaluator: Evaluating the model on dev dataset in epoch 2 after 2500 steps:\n",
      "mAP strict= 0.844355603203168 ; mAP relaxed = 0.947050810808719\n",
      "2021-05-24 17:01:40 - mAP strict:   \t84.44\n",
      "2021-05-24 17:01:40 - mAP relaxed:   \t94.71\n",
      "2021-05-24 17:01:40 - Save model to /workspace/ceph_data/keypoint-analysis-sharedtask/siamese-models/bert-base-uncased-kp_as_anchor-2021-05-24_15-58-35\n",
      "2021-05-24 17:04:02 - TripletEvaluator: Evaluating the model on dev dataset in epoch 2 after 3000 steps:\n",
      "mAP strict= 0.7980702491597066 ; mAP relaxed = 0.9290624580245663\n",
      "2021-05-24 17:04:04 - mAP strict:   \t79.81\n",
      "2021-05-24 17:04:04 - mAP relaxed:   \t92.91\n",
      "2021-05-24 17:06:25 - TripletEvaluator: Evaluating the model on dev dataset in epoch 2 after 3500 steps:\n",
      "mAP strict= 0.7887014514707622 ; mAP relaxed = 0.9294247585301011\n",
      "2021-05-24 17:06:27 - mAP strict:   \t78.87\n",
      "2021-05-24 17:06:27 - mAP relaxed:   \t92.94\n",
      "2021-05-24 17:08:48 - TripletEvaluator: Evaluating the model on dev dataset in epoch 2 after 4000 steps:\n",
      "mAP strict= 0.8050257253154789 ; mAP relaxed = 0.9355972214144955\n",
      "2021-05-24 17:08:50 - mAP strict:   \t80.50\n",
      "2021-05-24 17:08:50 - mAP relaxed:   \t93.56\n",
      "2021-05-24 17:11:10 - TripletEvaluator: Evaluating the model on dev dataset in epoch 2 after 4500 steps:\n",
      "mAP strict= 0.7947442979305037 ; mAP relaxed = 0.9171445302235991\n",
      "2021-05-24 17:11:12 - mAP strict:   \t79.47\n",
      "2021-05-24 17:11:12 - mAP relaxed:   \t91.71\n",
      "2021-05-24 17:13:33 - TripletEvaluator: Evaluating the model on dev dataset in epoch 2 after 5000 steps:\n",
      "mAP strict= 0.7934735448604248 ; mAP relaxed = 0.9398171406321392\n",
      "2021-05-24 17:13:35 - mAP strict:   \t79.35\n",
      "2021-05-24 17:13:35 - mAP relaxed:   \t93.98\n",
      "\n",
      "2021-05-24 17:15:06 - TripletEvaluator: Evaluating the model on dev dataset after epoch 2:\n",
      "mAP strict= 0.7867438315281667 ; mAP relaxed = 0.9342970096762785\n",
      "2021-05-24 17:15:08 - mAP strict:   \t78.67\n",
      "2021-05-24 17:15:08 - mAP relaxed:   \t93.43\n"
     ]
    },
    {
     "data": {
      "application/vnd.jupyter.widget-view+json": {
       "model_id": "f2db84b1c8f04950a68510d169be7319",
       "version_major": 2,
       "version_minor": 0
      },
      "text/plain": [
       "HBox(children=(FloatProgress(value=0.0, description='Iteration', max=5325.0, style=ProgressStyle(description_w…"
      ]
     },
     "metadata": {},
     "output_type": "display_data"
    },
    {
     "name": "stdout",
     "output_type": "stream",
     "text": [
      "2021-05-24 17:17:29 - TripletEvaluator: Evaluating the model on dev dataset in epoch 3 after 500 steps:\n",
      "mAP strict= 0.7988080486558804 ; mAP relaxed = 0.9406999461216321\n",
      "2021-05-24 17:17:31 - mAP strict:   \t79.88\n",
      "2021-05-24 17:17:31 - mAP relaxed:   \t94.07\n",
      "2021-05-24 17:19:52 - TripletEvaluator: Evaluating the model on dev dataset in epoch 3 after 1000 steps:\n",
      "mAP strict= 0.8048112362240838 ; mAP relaxed = 0.9115288627160275\n",
      "2021-05-24 17:19:54 - mAP strict:   \t80.48\n",
      "2021-05-24 17:19:54 - mAP relaxed:   \t91.15\n",
      "2021-05-24 17:22:14 - TripletEvaluator: Evaluating the model on dev dataset in epoch 3 after 1500 steps:\n",
      "mAP strict= 0.7733251448326637 ; mAP relaxed = 0.9266818110665447\n",
      "2021-05-24 17:22:16 - mAP strict:   \t77.33\n",
      "2021-05-24 17:22:16 - mAP relaxed:   \t92.67\n",
      "2021-05-24 17:24:37 - TripletEvaluator: Evaluating the model on dev dataset in epoch 3 after 2000 steps:\n",
      "mAP strict= 0.7841401752512731 ; mAP relaxed = 0.9278293799771534\n",
      "2021-05-24 17:24:39 - mAP strict:   \t78.41\n",
      "2021-05-24 17:24:39 - mAP relaxed:   \t92.78\n",
      "2021-05-24 17:27:00 - TripletEvaluator: Evaluating the model on dev dataset in epoch 3 after 2500 steps:\n",
      "mAP strict= 0.8060747174129717 ; mAP relaxed = 0.9369618652565799\n",
      "2021-05-24 17:27:02 - mAP strict:   \t80.61\n",
      "2021-05-24 17:27:02 - mAP relaxed:   \t93.70\n",
      "2021-05-24 17:29:23 - TripletEvaluator: Evaluating the model on dev dataset in epoch 3 after 3000 steps:\n",
      "mAP strict= 0.7892069043514565 ; mAP relaxed = 0.9396831070987071\n",
      "2021-05-24 17:29:24 - mAP strict:   \t78.92\n",
      "2021-05-24 17:29:24 - mAP relaxed:   \t93.97\n",
      "2021-05-24 17:31:46 - TripletEvaluator: Evaluating the model on dev dataset in epoch 3 after 3500 steps:\n",
      "mAP strict= 0.7854587296062272 ; mAP relaxed = 0.933067693965819\n",
      "2021-05-24 17:31:48 - mAP strict:   \t78.55\n",
      "2021-05-24 17:31:48 - mAP relaxed:   \t93.31\n",
      "2021-05-24 17:34:08 - TripletEvaluator: Evaluating the model on dev dataset in epoch 3 after 4000 steps:\n",
      "mAP strict= 0.8020923793304 ; mAP relaxed = 0.9316139866931166\n",
      "2021-05-24 17:34:10 - mAP strict:   \t80.21\n",
      "2021-05-24 17:34:10 - mAP relaxed:   \t93.16\n",
      "2021-05-24 17:36:31 - TripletEvaluator: Evaluating the model on dev dataset in epoch 3 after 4500 steps:\n",
      "mAP strict= 0.7964285560405802 ; mAP relaxed = 0.927318682925838\n",
      "2021-05-24 17:36:33 - mAP strict:   \t79.64\n",
      "2021-05-24 17:36:33 - mAP relaxed:   \t92.73\n",
      "2021-05-24 17:38:53 - TripletEvaluator: Evaluating the model on dev dataset in epoch 3 after 5000 steps:\n",
      "mAP strict= 0.815225361940676 ; mAP relaxed = 0.9275557276696424\n",
      "2021-05-24 17:38:55 - mAP strict:   \t81.52\n",
      "2021-05-24 17:38:55 - mAP relaxed:   \t92.76\n",
      "\n",
      "2021-05-24 17:40:26 - TripletEvaluator: Evaluating the model on dev dataset after epoch 3:\n",
      "mAP strict= 0.8109258617195059 ; mAP relaxed = 0.9340261378677676\n",
      "2021-05-24 17:40:28 - mAP strict:   \t81.09\n",
      "2021-05-24 17:40:28 - mAP relaxed:   \t93.40\n"
     ]
    },
    {
     "data": {
      "application/vnd.jupyter.widget-view+json": {
       "model_id": "a10cebfd518e42f28351da32795d5b4e",
       "version_major": 2,
       "version_minor": 0
      },
      "text/plain": [
       "HBox(children=(FloatProgress(value=0.0, description='Iteration', max=5325.0, style=ProgressStyle(description_w…"
      ]
     },
     "metadata": {},
     "output_type": "display_data"
    },
    {
     "name": "stdout",
     "output_type": "stream",
     "text": [
      "2021-05-24 17:42:49 - TripletEvaluator: Evaluating the model on dev dataset in epoch 4 after 500 steps:\n",
      "mAP strict= 0.8210978779555843 ; mAP relaxed = 0.9397667726374137\n",
      "2021-05-24 17:42:51 - mAP strict:   \t82.11\n",
      "2021-05-24 17:42:51 - mAP relaxed:   \t93.98\n",
      "2021-05-24 17:45:11 - TripletEvaluator: Evaluating the model on dev dataset in epoch 4 after 1000 steps:\n",
      "mAP strict= 0.8130176195696459 ; mAP relaxed = 0.9286643929603751\n",
      "2021-05-24 17:45:13 - mAP strict:   \t81.30\n",
      "2021-05-24 17:45:13 - mAP relaxed:   \t92.87\n",
      "2021-05-24 17:47:34 - TripletEvaluator: Evaluating the model on dev dataset in epoch 4 after 1500 steps:\n",
      "mAP strict= 0.8170745477775863 ; mAP relaxed = 0.92338295662237\n",
      "2021-05-24 17:47:36 - mAP strict:   \t81.71\n",
      "2021-05-24 17:47:36 - mAP relaxed:   \t92.34\n",
      "2021-05-24 17:49:57 - TripletEvaluator: Evaluating the model on dev dataset in epoch 4 after 2000 steps:\n",
      "mAP strict= 0.8295022462047115 ; mAP relaxed = 0.9353016810344664\n",
      "2021-05-24 17:49:58 - mAP strict:   \t82.95\n",
      "2021-05-24 17:49:58 - mAP relaxed:   \t93.53\n",
      "2021-05-24 17:52:19 - TripletEvaluator: Evaluating the model on dev dataset in epoch 4 after 2500 steps:\n",
      "mAP strict= 0.8205781144352207 ; mAP relaxed = 0.9264455297575437\n",
      "2021-05-24 17:52:21 - mAP strict:   \t82.06\n",
      "2021-05-24 17:52:21 - mAP relaxed:   \t92.64\n",
      "2021-05-24 17:54:42 - TripletEvaluator: Evaluating the model on dev dataset in epoch 4 after 3000 steps:\n",
      "mAP strict= 0.8145402837633664 ; mAP relaxed = 0.925722256473286\n",
      "2021-05-24 17:54:44 - mAP strict:   \t81.45\n",
      "2021-05-24 17:54:44 - mAP relaxed:   \t92.57\n",
      "2021-05-24 17:57:05 - TripletEvaluator: Evaluating the model on dev dataset in epoch 4 after 3500 steps:\n",
      "mAP strict= 0.819249003567317 ; mAP relaxed = 0.9274144045660122\n",
      "2021-05-24 17:57:07 - mAP strict:   \t81.92\n",
      "2021-05-24 17:57:07 - mAP relaxed:   \t92.74\n",
      "2021-05-24 17:59:27 - TripletEvaluator: Evaluating the model on dev dataset in epoch 4 after 4000 steps:\n",
      "mAP strict= 0.8166166000237501 ; mAP relaxed = 0.9296411491897953\n",
      "2021-05-24 17:59:29 - mAP strict:   \t81.66\n",
      "2021-05-24 17:59:29 - mAP relaxed:   \t92.96\n",
      "2021-05-24 18:01:50 - TripletEvaluator: Evaluating the model on dev dataset in epoch 4 after 4500 steps:\n",
      "mAP strict= 0.8144044263833805 ; mAP relaxed = 0.9291303090107612\n",
      "2021-05-24 18:01:51 - mAP strict:   \t81.44\n",
      "2021-05-24 18:01:51 - mAP relaxed:   \t92.91\n",
      "2021-05-24 18:04:12 - TripletEvaluator: Evaluating the model on dev dataset in epoch 4 after 5000 steps:\n",
      "mAP strict= 0.8139212179286293 ; mAP relaxed = 0.9286979491856096\n",
      "2021-05-24 18:04:14 - mAP strict:   \t81.39\n",
      "2021-05-24 18:04:14 - mAP relaxed:   \t92.87\n",
      "\n",
      "2021-05-24 18:05:46 - TripletEvaluator: Evaluating the model on dev dataset after epoch 4:\n"
     ]
    }
   ],
   "source": [
    "sbert_training.train_model('/workspace/ceph_data/keypoint-analysis-sharedtask/siamese-data/',\n",
    "                           '../../data',\n",
    "                           'our_valid',\n",
    "                           '/workspace/ceph_data/keypoint-analysis-sharedtask/siamese-models/',\n",
    "                           'bert-base-uncased', model_suffix='kp_as_anchor', data_file_suffix='kp_as_anchor',\n",
    "                           num_epochs=5, add_special_token=False, train_batch_size=16)"
   ]
  },
  {
   "cell_type": "markdown",
   "id": "41d44e39-a811-4cce-ba24-4131ce87002f",
   "metadata": {},
   "source": [
    "### Training Batch Triplet Models:"
   ]
  },
  {
   "cell_type": "code",
   "execution_count": 7,
   "id": "82c67c95-983b-4908-9021-80750158e49a",
   "metadata": {
    "scrolled": true,
    "tags": []
   },
   "outputs": [
    {
     "name": "stdout",
     "output_type": "stream",
     "text": [
      "2021-05-18 10:29:35 - Read Triplet train dataset\n",
      "2021-05-18 10:29:35 - Read Triplet dev dataset\n",
      "2021-05-18 10:29:35 - SentenceLabelDataset: 4467 examples, from which 4260 examples could be used (those labels appeared at least 2 times). 207 different labels found.\n",
      "2021-05-18 10:29:35 - Load model\n",
      "2021-05-18 10:29:35 - Load pretrained SentenceTransformer: bert-base-uncased\n",
      "2021-05-18 10:29:35 - Did not find folder bert-base-uncased\n",
      "2021-05-18 10:29:35 - Search model on server: http://sbert.net/models/bert-base-uncased.zip\n",
      "2021-05-18 10:29:35 - Load SentenceTransformer from folder: /root/.cache/torch/sentence_transformers/sbert.net_models_bert-base-uncased\n",
      "2021-05-18 10:29:38 - Use pytorch device: cuda\n",
      "2021-05-18 10:29:38 - Performance before fine-tuning:\n",
      "2021-05-18 10:29:38 - TripletEvaluator: Evaluating the model on dev dataset:\n",
      "2021-05-18 10:29:46 - Accuracy Cosine Distance:   \t79.70\n",
      "2021-05-18 10:29:46 - Accuracy Manhatten Distance:\t79.50\n",
      "2021-05-18 10:29:46 - Accuracy Euclidean Distance:\t77.70\n",
      "\n"
     ]
    },
    {
     "data": {
      "application/vnd.jupyter.widget-view+json": {
       "model_id": "ccc9af638ae541ac82e83f876f1eb76d",
       "version_major": 2,
       "version_minor": 0
      },
      "text/plain": [
       "HBox(children=(FloatProgress(value=0.0, description='Epoch', max=5.0, style=ProgressStyle(description_width='i…"
      ]
     },
     "metadata": {},
     "output_type": "display_data"
    },
    {
     "data": {
      "application/vnd.jupyter.widget-view+json": {
       "model_id": "b36ed8f361a04cb09af774cbe937ac13",
       "version_major": 2,
       "version_minor": 0
      },
      "text/plain": [
       "HBox(children=(FloatProgress(value=0.0, description='Iteration', max=66.0, style=ProgressStyle(description_wid…"
      ]
     },
     "metadata": {},
     "output_type": "display_data"
    },
    {
     "name": "stdout",
     "output_type": "stream",
     "text": [
      "\n",
      "2021-05-18 10:30:11 - TripletEvaluator: Evaluating the model on dev dataset after epoch 0:\n",
      "2021-05-18 10:30:15 - Accuracy Cosine Distance:   \t84.80\n",
      "2021-05-18 10:30:15 - Accuracy Manhatten Distance:\t85.30\n",
      "2021-05-18 10:30:15 - Accuracy Euclidean Distance:\t84.80\n",
      "\n",
      "2021-05-18 10:30:15 - Save model to /workspace/ceph_data/keypoint-analysis-sharedtask/triplet-models/all-triplet-loss\n"
     ]
    },
    {
     "data": {
      "application/vnd.jupyter.widget-view+json": {
       "model_id": "352d9304ea84452582893b1da020b40a",
       "version_major": 2,
       "version_minor": 0
      },
      "text/plain": [
       "HBox(children=(FloatProgress(value=0.0, description='Iteration', max=66.0, style=ProgressStyle(description_wid…"
      ]
     },
     "metadata": {},
     "output_type": "display_data"
    },
    {
     "name": "stdout",
     "output_type": "stream",
     "text": [
      "\n",
      "2021-05-18 10:30:42 - TripletEvaluator: Evaluating the model on dev dataset after epoch 1:\n",
      "2021-05-18 10:30:46 - Accuracy Cosine Distance:   \t86.10\n",
      "2021-05-18 10:30:46 - Accuracy Manhatten Distance:\t85.60\n",
      "2021-05-18 10:30:46 - Accuracy Euclidean Distance:\t85.20\n",
      "\n",
      "2021-05-18 10:30:46 - Save model to /workspace/ceph_data/keypoint-analysis-sharedtask/triplet-models/all-triplet-loss\n"
     ]
    },
    {
     "data": {
      "application/vnd.jupyter.widget-view+json": {
       "model_id": "7762274bfc454c91932afd73c9290bb4",
       "version_major": 2,
       "version_minor": 0
      },
      "text/plain": [
       "HBox(children=(FloatProgress(value=0.0, description='Iteration', max=66.0, style=ProgressStyle(description_wid…"
      ]
     },
     "metadata": {},
     "output_type": "display_data"
    },
    {
     "name": "stdout",
     "output_type": "stream",
     "text": [
      "\n",
      "2021-05-18 10:31:13 - TripletEvaluator: Evaluating the model on dev dataset after epoch 2:\n",
      "2021-05-18 10:31:18 - Accuracy Cosine Distance:   \t87.00\n",
      "2021-05-18 10:31:18 - Accuracy Manhatten Distance:\t87.30\n",
      "2021-05-18 10:31:18 - Accuracy Euclidean Distance:\t87.50\n",
      "\n",
      "2021-05-18 10:31:18 - Save model to /workspace/ceph_data/keypoint-analysis-sharedtask/triplet-models/all-triplet-loss\n"
     ]
    },
    {
     "data": {
      "application/vnd.jupyter.widget-view+json": {
       "model_id": "cab01e59cda44e619d2022fc87b16800",
       "version_major": 2,
       "version_minor": 0
      },
      "text/plain": [
       "HBox(children=(FloatProgress(value=0.0, description='Iteration', max=66.0, style=ProgressStyle(description_wid…"
      ]
     },
     "metadata": {},
     "output_type": "display_data"
    },
    {
     "name": "stdout",
     "output_type": "stream",
     "text": [
      "\n",
      "2021-05-18 10:31:45 - TripletEvaluator: Evaluating the model on dev dataset after epoch 3:\n",
      "2021-05-18 10:31:50 - Accuracy Cosine Distance:   \t87.80\n",
      "2021-05-18 10:31:50 - Accuracy Manhatten Distance:\t87.30\n",
      "2021-05-18 10:31:50 - Accuracy Euclidean Distance:\t88.10\n",
      "\n",
      "2021-05-18 10:31:50 - Save model to /workspace/ceph_data/keypoint-analysis-sharedtask/triplet-models/all-triplet-loss\n"
     ]
    },
    {
     "data": {
      "application/vnd.jupyter.widget-view+json": {
       "model_id": "0471994084d64d3085172c12b021c87a",
       "version_major": 2,
       "version_minor": 0
      },
      "text/plain": [
       "HBox(children=(FloatProgress(value=0.0, description='Iteration', max=66.0, style=ProgressStyle(description_wid…"
      ]
     },
     "metadata": {},
     "output_type": "display_data"
    },
    {
     "name": "stdout",
     "output_type": "stream",
     "text": [
      "\n",
      "2021-05-18 10:32:16 - TripletEvaluator: Evaluating the model on dev dataset after epoch 4:\n",
      "2021-05-18 10:32:21 - Accuracy Cosine Distance:   \t87.60\n",
      "2021-05-18 10:32:21 - Accuracy Manhatten Distance:\t87.80\n",
      "2021-05-18 10:32:21 - Accuracy Euclidean Distance:\t88.30\n",
      "\n",
      "2021-05-18 10:32:21 - Save model to /workspace/ceph_data/keypoint-analysis-sharedtask/triplet-models/all-triplet-loss\n",
      "\n"
     ]
    }
   ],
   "source": [
    "sbert_training.train_hard_triplet_modle('/workspace/ceph_data/keypoint-analysis-sharedtask/siamese-data/', \n",
    "                                        '/workspace/ceph_data/keypoint-analysis-sharedtask/triplet-models/all-triplet-loss', \n",
    "                                        'bert-base-uncased', training_loss='BatchAllTripletLoss',  \n",
    "                                        num_epochs=5, train_batch_size=64, data_file_suffix='batch_hard')"
   ]
  },
  {
   "cell_type": "code",
   "execution_count": 8,
   "id": "17c553a5-196f-42f8-a02f-71097121acc0",
   "metadata": {
    "scrolled": true,
    "tags": []
   },
   "outputs": [
    {
     "name": "stdout",
     "output_type": "stream",
     "text": [
      "2021-05-18 10:32:22 - Read Triplet train dataset\n",
      "2021-05-18 10:32:22 - Read Triplet dev dataset\n",
      "2021-05-18 10:32:22 - SentenceLabelDataset: 4467 examples, from which 4260 examples could be used (those labels appeared at least 2 times). 207 different labels found.\n",
      "2021-05-18 10:32:22 - Load model\n",
      "2021-05-18 10:32:22 - Load pretrained SentenceTransformer: bert-base-uncased\n",
      "2021-05-18 10:32:22 - Did not find folder bert-base-uncased\n",
      "2021-05-18 10:32:22 - Search model on server: http://sbert.net/models/bert-base-uncased.zip\n",
      "2021-05-18 10:32:22 - Load SentenceTransformer from folder: /root/.cache/torch/sentence_transformers/sbert.net_models_bert-base-uncased\n",
      "2021-05-18 10:32:25 - Use pytorch device: cuda\n",
      "2021-05-18 10:32:25 - Performance before fine-tuning:\n",
      "2021-05-18 10:32:25 - TripletEvaluator: Evaluating the model on dev dataset:\n",
      "2021-05-18 10:32:29 - Accuracy Cosine Distance:   \t79.70\n",
      "2021-05-18 10:32:29 - Accuracy Manhatten Distance:\t79.50\n",
      "2021-05-18 10:32:29 - Accuracy Euclidean Distance:\t77.70\n",
      "\n"
     ]
    },
    {
     "data": {
      "application/vnd.jupyter.widget-view+json": {
       "model_id": "35bd9a105efd475e80c34f5f625eccfd",
       "version_major": 2,
       "version_minor": 0
      },
      "text/plain": [
       "HBox(children=(FloatProgress(value=0.0, description='Epoch', max=5.0, style=ProgressStyle(description_width='i…"
      ]
     },
     "metadata": {},
     "output_type": "display_data"
    },
    {
     "data": {
      "application/vnd.jupyter.widget-view+json": {
       "model_id": "e672bd157a1e45caa0699d0275487218",
       "version_major": 2,
       "version_minor": 0
      },
      "text/plain": [
       "HBox(children=(FloatProgress(value=0.0, description='Iteration', max=66.0, style=ProgressStyle(description_wid…"
      ]
     },
     "metadata": {},
     "output_type": "display_data"
    },
    {
     "name": "stdout",
     "output_type": "stream",
     "text": [
      "\n",
      "2021-05-18 10:32:54 - TripletEvaluator: Evaluating the model on dev dataset after epoch 0:\n",
      "2021-05-18 10:32:59 - Accuracy Cosine Distance:   \t79.70\n",
      "2021-05-18 10:32:59 - Accuracy Manhatten Distance:\t79.50\n",
      "2021-05-18 10:32:59 - Accuracy Euclidean Distance:\t77.70\n",
      "\n",
      "2021-05-18 10:32:59 - Save model to /workspace/ceph_data/keypoint-analysis-sharedtask/triplet-models/hard-triplet-loss\n"
     ]
    },
    {
     "data": {
      "application/vnd.jupyter.widget-view+json": {
       "model_id": "a1ea2a5b92a84ca696347b93537980ba",
       "version_major": 2,
       "version_minor": 0
      },
      "text/plain": [
       "HBox(children=(FloatProgress(value=0.0, description='Iteration', max=66.0, style=ProgressStyle(description_wid…"
      ]
     },
     "metadata": {},
     "output_type": "display_data"
    },
    {
     "name": "stdout",
     "output_type": "stream",
     "text": [
      "\n",
      "2021-05-18 10:33:24 - TripletEvaluator: Evaluating the model on dev dataset after epoch 1:\n",
      "2021-05-18 10:33:28 - Accuracy Cosine Distance:   \t79.70\n",
      "2021-05-18 10:33:28 - Accuracy Manhatten Distance:\t79.50\n",
      "2021-05-18 10:33:28 - Accuracy Euclidean Distance:\t77.70\n",
      "\n"
     ]
    },
    {
     "data": {
      "application/vnd.jupyter.widget-view+json": {
       "model_id": "f99271ff9988483386a3e5794a640d69",
       "version_major": 2,
       "version_minor": 0
      },
      "text/plain": [
       "HBox(children=(FloatProgress(value=0.0, description='Iteration', max=66.0, style=ProgressStyle(description_wid…"
      ]
     },
     "metadata": {},
     "output_type": "display_data"
    },
    {
     "name": "stdout",
     "output_type": "stream",
     "text": [
      "\n",
      "2021-05-18 10:33:53 - TripletEvaluator: Evaluating the model on dev dataset after epoch 2:\n",
      "2021-05-18 10:33:58 - Accuracy Cosine Distance:   \t79.70\n",
      "2021-05-18 10:33:58 - Accuracy Manhatten Distance:\t79.50\n",
      "2021-05-18 10:33:58 - Accuracy Euclidean Distance:\t77.70\n",
      "\n"
     ]
    },
    {
     "data": {
      "application/vnd.jupyter.widget-view+json": {
       "model_id": "8b267ce93b0042e38091288e8ea1919c",
       "version_major": 2,
       "version_minor": 0
      },
      "text/plain": [
       "HBox(children=(FloatProgress(value=0.0, description='Iteration', max=66.0, style=ProgressStyle(description_wid…"
      ]
     },
     "metadata": {},
     "output_type": "display_data"
    },
    {
     "name": "stdout",
     "output_type": "stream",
     "text": [
      "\n",
      "2021-05-18 10:34:22 - TripletEvaluator: Evaluating the model on dev dataset after epoch 3:\n",
      "2021-05-18 10:34:27 - Accuracy Cosine Distance:   \t79.70\n",
      "2021-05-18 10:34:27 - Accuracy Manhatten Distance:\t79.50\n",
      "2021-05-18 10:34:27 - Accuracy Euclidean Distance:\t77.70\n",
      "\n"
     ]
    },
    {
     "data": {
      "application/vnd.jupyter.widget-view+json": {
       "model_id": "80e45ae658ce450d95af5345b9a60f26",
       "version_major": 2,
       "version_minor": 0
      },
      "text/plain": [
       "HBox(children=(FloatProgress(value=0.0, description='Iteration', max=66.0, style=ProgressStyle(description_wid…"
      ]
     },
     "metadata": {},
     "output_type": "display_data"
    },
    {
     "name": "stdout",
     "output_type": "stream",
     "text": [
      "\n",
      "2021-05-18 10:34:51 - TripletEvaluator: Evaluating the model on dev dataset after epoch 4:\n",
      "2021-05-18 10:34:56 - Accuracy Cosine Distance:   \t79.70\n",
      "2021-05-18 10:34:56 - Accuracy Manhatten Distance:\t79.50\n",
      "2021-05-18 10:34:56 - Accuracy Euclidean Distance:\t77.70\n",
      "\n",
      "\n"
     ]
    }
   ],
   "source": [
    "sbert_training.train_hard_triplet_modle('/workspace/ceph_data/keypoint-analysis-sharedtask/siamese-data/', \n",
    "                                        '/workspace/ceph_data/keypoint-analysis-sharedtask/triplet-models/hard-triplet-loss', \n",
    "                                        'bert-base-uncased', training_loss='BatchHardTripletLoss',  \n",
    "                                        num_epochs=5, train_batch_size=64, data_file_suffix='batch_hard')"
   ]
  },
  {
   "cell_type": "code",
   "execution_count": 9,
   "id": "9d3128f4-3716-412c-89b8-72d518a2747e",
   "metadata": {
    "scrolled": true,
    "tags": []
   },
   "outputs": [
    {
     "name": "stdout",
     "output_type": "stream",
     "text": [
      "2021-05-18 10:34:56 - Read Triplet train dataset\n",
      "2021-05-18 10:34:56 - Read Triplet dev dataset\n",
      "2021-05-18 10:34:56 - SentenceLabelDataset: 4467 examples, from which 4260 examples could be used (those labels appeared at least 2 times). 207 different labels found.\n",
      "2021-05-18 10:34:56 - Load model\n",
      "2021-05-18 10:34:56 - Load pretrained SentenceTransformer: bert-base-uncased\n",
      "2021-05-18 10:34:56 - Did not find folder bert-base-uncased\n",
      "2021-05-18 10:34:56 - Search model on server: http://sbert.net/models/bert-base-uncased.zip\n",
      "2021-05-18 10:34:56 - Load SentenceTransformer from folder: /root/.cache/torch/sentence_transformers/sbert.net_models_bert-base-uncased\n",
      "2021-05-18 10:34:59 - Use pytorch device: cuda\n",
      "2021-05-18 10:34:59 - Performance before fine-tuning:\n",
      "2021-05-18 10:34:59 - TripletEvaluator: Evaluating the model on dev dataset:\n",
      "2021-05-18 10:35:04 - Accuracy Cosine Distance:   \t79.70\n",
      "2021-05-18 10:35:04 - Accuracy Manhatten Distance:\t79.50\n",
      "2021-05-18 10:35:04 - Accuracy Euclidean Distance:\t77.70\n",
      "\n"
     ]
    },
    {
     "data": {
      "application/vnd.jupyter.widget-view+json": {
       "model_id": "bb5be8bcb9664d84a2a679114c8ac36a",
       "version_major": 2,
       "version_minor": 0
      },
      "text/plain": [
       "HBox(children=(FloatProgress(value=0.0, description='Epoch', max=5.0, style=ProgressStyle(description_width='i…"
      ]
     },
     "metadata": {},
     "output_type": "display_data"
    },
    {
     "data": {
      "application/vnd.jupyter.widget-view+json": {
       "model_id": "07527848778e41eca072ef31a5d4f361",
       "version_major": 2,
       "version_minor": 0
      },
      "text/plain": [
       "HBox(children=(FloatProgress(value=0.0, description='Iteration', max=66.0, style=ProgressStyle(description_wid…"
      ]
     },
     "metadata": {},
     "output_type": "display_data"
    },
    {
     "name": "stdout",
     "output_type": "stream",
     "text": [
      "\n",
      "2021-05-18 10:35:29 - TripletEvaluator: Evaluating the model on dev dataset after epoch 0:\n",
      "2021-05-18 10:35:33 - Accuracy Cosine Distance:   \t82.50\n",
      "2021-05-18 10:35:33 - Accuracy Manhatten Distance:\t78.20\n",
      "2021-05-18 10:35:33 - Accuracy Euclidean Distance:\t77.90\n",
      "\n",
      "2021-05-18 10:35:33 - Save model to /workspace/ceph_data/keypoint-analysis-sharedtask/triplet-models/hard-softmargin-triplet-loss\n"
     ]
    },
    {
     "data": {
      "application/vnd.jupyter.widget-view+json": {
       "model_id": "fe026c1d1a924901b198e9be8138cff0",
       "version_major": 2,
       "version_minor": 0
      },
      "text/plain": [
       "HBox(children=(FloatProgress(value=0.0, description='Iteration', max=66.0, style=ProgressStyle(description_wid…"
      ]
     },
     "metadata": {},
     "output_type": "display_data"
    },
    {
     "name": "stdout",
     "output_type": "stream",
     "text": [
      "\n",
      "2021-05-18 10:35:59 - TripletEvaluator: Evaluating the model on dev dataset after epoch 1:\n",
      "2021-05-18 10:36:04 - Accuracy Cosine Distance:   \t82.00\n",
      "2021-05-18 10:36:04 - Accuracy Manhatten Distance:\t79.10\n",
      "2021-05-18 10:36:04 - Accuracy Euclidean Distance:\t78.40\n",
      "\n"
     ]
    },
    {
     "data": {
      "application/vnd.jupyter.widget-view+json": {
       "model_id": "b1449417b11f404dacc407e98258f1ec",
       "version_major": 2,
       "version_minor": 0
      },
      "text/plain": [
       "HBox(children=(FloatProgress(value=0.0, description='Iteration', max=66.0, style=ProgressStyle(description_wid…"
      ]
     },
     "metadata": {},
     "output_type": "display_data"
    },
    {
     "name": "stdout",
     "output_type": "stream",
     "text": [
      "\n",
      "2021-05-18 10:36:28 - TripletEvaluator: Evaluating the model on dev dataset after epoch 2:\n",
      "2021-05-18 10:36:33 - Accuracy Cosine Distance:   \t81.90\n",
      "2021-05-18 10:36:33 - Accuracy Manhatten Distance:\t79.30\n",
      "2021-05-18 10:36:33 - Accuracy Euclidean Distance:\t78.80\n",
      "\n"
     ]
    },
    {
     "data": {
      "application/vnd.jupyter.widget-view+json": {
       "model_id": "e07f54c571294706923394baee143135",
       "version_major": 2,
       "version_minor": 0
      },
      "text/plain": [
       "HBox(children=(FloatProgress(value=0.0, description='Iteration', max=66.0, style=ProgressStyle(description_wid…"
      ]
     },
     "metadata": {},
     "output_type": "display_data"
    },
    {
     "name": "stdout",
     "output_type": "stream",
     "text": [
      "\n",
      "2021-05-18 10:36:58 - TripletEvaluator: Evaluating the model on dev dataset after epoch 3:\n",
      "2021-05-18 10:37:02 - Accuracy Cosine Distance:   \t81.30\n",
      "2021-05-18 10:37:02 - Accuracy Manhatten Distance:\t79.60\n",
      "2021-05-18 10:37:02 - Accuracy Euclidean Distance:\t78.70\n",
      "\n"
     ]
    },
    {
     "data": {
      "application/vnd.jupyter.widget-view+json": {
       "model_id": "43aa0a51af1f40deadcdff79d282580a",
       "version_major": 2,
       "version_minor": 0
      },
      "text/plain": [
       "HBox(children=(FloatProgress(value=0.0, description='Iteration', max=66.0, style=ProgressStyle(description_wid…"
      ]
     },
     "metadata": {},
     "output_type": "display_data"
    },
    {
     "name": "stdout",
     "output_type": "stream",
     "text": [
      "\n",
      "2021-05-18 10:37:27 - TripletEvaluator: Evaluating the model on dev dataset after epoch 4:\n",
      "2021-05-18 10:37:31 - Accuracy Cosine Distance:   \t81.40\n",
      "2021-05-18 10:37:31 - Accuracy Manhatten Distance:\t79.20\n",
      "2021-05-18 10:37:31 - Accuracy Euclidean Distance:\t78.80\n",
      "\n",
      "\n"
     ]
    }
   ],
   "source": [
    "sbert_training.train_hard_triplet_modle('/workspace/ceph_data/keypoint-analysis-sharedtask/siamese-data/', \n",
    "                                        '/workspace/ceph_data/keypoint-analysis-sharedtask/triplet-models/hard-softmargin-triplet-loss', \n",
    "                                        'bert-base-uncased', training_loss='BatchHardSoftMarginTripletLoss',  \n",
    "                                        num_epochs=5, train_batch_size=64, data_file_suffix='batch_hard')"
   ]
  },
  {
   "cell_type": "code",
   "execution_count": 10,
   "id": "5505a7c2-a6ae-4b31-bbaf-61ad0e4a8647",
   "metadata": {
    "scrolled": true,
    "tags": []
   },
   "outputs": [
    {
     "name": "stdout",
     "output_type": "stream",
     "text": [
      "2021-05-18 10:37:31 - Read Triplet train dataset\n",
      "2021-05-18 10:37:31 - Read Triplet dev dataset\n",
      "2021-05-18 10:37:31 - SentenceLabelDataset: 4467 examples, from which 4260 examples could be used (those labels appeared at least 2 times). 207 different labels found.\n",
      "2021-05-18 10:37:31 - Load model\n",
      "2021-05-18 10:37:31 - Load pretrained SentenceTransformer: bert-base-uncased\n",
      "2021-05-18 10:37:31 - Did not find folder bert-base-uncased\n",
      "2021-05-18 10:37:31 - Search model on server: http://sbert.net/models/bert-base-uncased.zip\n",
      "2021-05-18 10:37:31 - Load SentenceTransformer from folder: /root/.cache/torch/sentence_transformers/sbert.net_models_bert-base-uncased\n",
      "2021-05-18 10:37:34 - Use pytorch device: cuda\n",
      "2021-05-18 10:37:34 - Performance before fine-tuning:\n",
      "2021-05-18 10:37:34 - TripletEvaluator: Evaluating the model on dev dataset:\n",
      "2021-05-18 10:37:39 - Accuracy Cosine Distance:   \t79.70\n",
      "2021-05-18 10:37:39 - Accuracy Manhatten Distance:\t79.50\n",
      "2021-05-18 10:37:39 - Accuracy Euclidean Distance:\t77.70\n",
      "\n"
     ]
    },
    {
     "data": {
      "application/vnd.jupyter.widget-view+json": {
       "model_id": "772d88d4b22545318150c7c8974a4b3b",
       "version_major": 2,
       "version_minor": 0
      },
      "text/plain": [
       "HBox(children=(FloatProgress(value=0.0, description='Epoch', max=5.0, style=ProgressStyle(description_width='i…"
      ]
     },
     "metadata": {},
     "output_type": "display_data"
    },
    {
     "data": {
      "application/vnd.jupyter.widget-view+json": {
       "model_id": "162d0fc556f9499694050b94073b91a0",
       "version_major": 2,
       "version_minor": 0
      },
      "text/plain": [
       "HBox(children=(FloatProgress(value=0.0, description='Iteration', max=66.0, style=ProgressStyle(description_wid…"
      ]
     },
     "metadata": {},
     "output_type": "display_data"
    },
    {
     "name": "stdout",
     "output_type": "stream",
     "text": [
      "\n",
      "2021-05-18 10:38:04 - TripletEvaluator: Evaluating the model on dev dataset after epoch 0:\n",
      "2021-05-18 10:38:09 - Accuracy Cosine Distance:   \t88.10\n",
      "2021-05-18 10:38:09 - Accuracy Manhatten Distance:\t87.20\n",
      "2021-05-18 10:38:09 - Accuracy Euclidean Distance:\t87.60\n",
      "\n",
      "2021-05-18 10:38:09 - Save model to /workspace/ceph_data/keypoint-analysis-sharedtask/triplet-models/semi-hard-triplet-loss\n"
     ]
    },
    {
     "data": {
      "application/vnd.jupyter.widget-view+json": {
       "model_id": "971ab3ee62694f32ad43d051221ed510",
       "version_major": 2,
       "version_minor": 0
      },
      "text/plain": [
       "HBox(children=(FloatProgress(value=0.0, description='Iteration', max=66.0, style=ProgressStyle(description_wid…"
      ]
     },
     "metadata": {},
     "output_type": "display_data"
    },
    {
     "name": "stdout",
     "output_type": "stream",
     "text": [
      "\n",
      "2021-05-18 10:38:35 - TripletEvaluator: Evaluating the model on dev dataset after epoch 1:\n",
      "2021-05-18 10:38:39 - Accuracy Cosine Distance:   \t87.80\n",
      "2021-05-18 10:38:39 - Accuracy Manhatten Distance:\t88.10\n",
      "2021-05-18 10:38:39 - Accuracy Euclidean Distance:\t88.20\n",
      "\n",
      "2021-05-18 10:38:39 - Save model to /workspace/ceph_data/keypoint-analysis-sharedtask/triplet-models/semi-hard-triplet-loss\n"
     ]
    },
    {
     "data": {
      "application/vnd.jupyter.widget-view+json": {
       "model_id": "9f9b97775b3049b486f0a501dc0df03f",
       "version_major": 2,
       "version_minor": 0
      },
      "text/plain": [
       "HBox(children=(FloatProgress(value=0.0, description='Iteration', max=66.0, style=ProgressStyle(description_wid…"
      ]
     },
     "metadata": {},
     "output_type": "display_data"
    },
    {
     "name": "stdout",
     "output_type": "stream",
     "text": [
      "\n",
      "2021-05-18 10:39:06 - TripletEvaluator: Evaluating the model on dev dataset after epoch 2:\n",
      "2021-05-18 10:39:11 - Accuracy Cosine Distance:   \t91.00\n",
      "2021-05-18 10:39:11 - Accuracy Manhatten Distance:\t90.70\n",
      "2021-05-18 10:39:11 - Accuracy Euclidean Distance:\t90.70\n",
      "\n",
      "2021-05-18 10:39:11 - Save model to /workspace/ceph_data/keypoint-analysis-sharedtask/triplet-models/semi-hard-triplet-loss\n"
     ]
    },
    {
     "data": {
      "application/vnd.jupyter.widget-view+json": {
       "model_id": "77ebcf66ba3f478ebe5d60741be9d37e",
       "version_major": 2,
       "version_minor": 0
      },
      "text/plain": [
       "HBox(children=(FloatProgress(value=0.0, description='Iteration', max=66.0, style=ProgressStyle(description_wid…"
      ]
     },
     "metadata": {},
     "output_type": "display_data"
    },
    {
     "name": "stdout",
     "output_type": "stream",
     "text": [
      "\n",
      "2021-05-18 10:39:37 - TripletEvaluator: Evaluating the model on dev dataset after epoch 3:\n",
      "2021-05-18 10:39:41 - Accuracy Cosine Distance:   \t91.60\n",
      "2021-05-18 10:39:41 - Accuracy Manhatten Distance:\t91.40\n",
      "2021-05-18 10:39:41 - Accuracy Euclidean Distance:\t91.50\n",
      "\n",
      "2021-05-18 10:39:41 - Save model to /workspace/ceph_data/keypoint-analysis-sharedtask/triplet-models/semi-hard-triplet-loss\n"
     ]
    },
    {
     "data": {
      "application/vnd.jupyter.widget-view+json": {
       "model_id": "7e41be1c2c8b4476a35dc6daff53f433",
       "version_major": 2,
       "version_minor": 0
      },
      "text/plain": [
       "HBox(children=(FloatProgress(value=0.0, description='Iteration', max=66.0, style=ProgressStyle(description_wid…"
      ]
     },
     "metadata": {},
     "output_type": "display_data"
    },
    {
     "name": "stdout",
     "output_type": "stream",
     "text": [
      "\n",
      "2021-05-18 10:40:08 - TripletEvaluator: Evaluating the model on dev dataset after epoch 4:\n",
      "2021-05-18 10:40:12 - Accuracy Cosine Distance:   \t91.50\n",
      "2021-05-18 10:40:12 - Accuracy Manhatten Distance:\t91.60\n",
      "2021-05-18 10:40:12 - Accuracy Euclidean Distance:\t91.20\n",
      "\n",
      "\n"
     ]
    }
   ],
   "source": [
    "sbert_training.train_hard_triplet_modle('/workspace/ceph_data/keypoint-analysis-sharedtask/siamese-data/', \n",
    "                                        '/workspace/ceph_data/keypoint-analysis-sharedtask/triplet-models/semi-hard-triplet-loss', \n",
    "                                        'bert-base-uncased', training_loss='BatchSemiHardTripletLoss',  \n",
    "                                        num_epochs=5, train_batch_size=64, data_file_suffix='batch_hard')"
   ]
  },
  {
   "cell_type": "code",
   "execution_count": 14,
   "id": "0168013c-c8ed-49bc-87b9-24e6e543845e",
   "metadata": {
    "scrolled": true,
    "tags": []
   },
   "outputs": [
    {
     "name": "stdout",
     "output_type": "stream",
     "text": [
      "2021-05-18 11:47:12 - Read Triplet train dataset\n",
      "2021-05-18 11:47:12 - Read Triplet dev dataset\n",
      "2021-05-18 11:47:12 - SentenceLabelDataset: 4467 examples, from which 4260 examples could be used (those labels appeared at least 2 times). 207 different labels found.\n",
      "2021-05-18 11:47:12 - Load model\n",
      "2021-05-18 11:47:17 - Use pytorch device: cuda\n",
      "2021-05-18 11:47:17 - Performance before fine-tuning:\n",
      "2021-05-18 11:47:17 - TripletEvaluator: Evaluating the model on dev dataset:\n",
      "2021-05-18 11:47:22 - Accuracy Cosine Distance:   \t79.70\n",
      "2021-05-18 11:47:22 - Accuracy Manhatten Distance:\t79.50\n",
      "2021-05-18 11:47:22 - Accuracy Euclidean Distance:\t77.70\n",
      "\n"
     ]
    },
    {
     "data": {
      "application/vnd.jupyter.widget-view+json": {
       "model_id": "bd80f2f0328c4f9cbf1e1ede02ab8570",
       "version_major": 2,
       "version_minor": 0
      },
      "text/plain": [
       "HBox(children=(FloatProgress(value=0.0, description='Epoch', max=10.0, style=ProgressStyle(description_width='…"
      ]
     },
     "metadata": {},
     "output_type": "display_data"
    },
    {
     "data": {
      "application/vnd.jupyter.widget-view+json": {
       "model_id": "39b92e8afebf434da498274f7234b1af",
       "version_major": 2,
       "version_minor": 0
      },
      "text/plain": [
       "HBox(children=(FloatProgress(value=0.0, description='Iteration', max=66.0, style=ProgressStyle(description_wid…"
      ]
     },
     "metadata": {},
     "output_type": "display_data"
    },
    {
     "name": "stdout",
     "output_type": "stream",
     "text": [
      "\n",
      "2021-05-18 11:47:47 - TripletEvaluator: Evaluating the model on dev dataset after epoch 0:\n",
      "2021-05-18 11:47:51 - Accuracy Cosine Distance:   \t87.10\n",
      "2021-05-18 11:47:51 - Accuracy Manhatten Distance:\t86.40\n",
      "2021-05-18 11:47:51 - Accuracy Euclidean Distance:\t87.20\n",
      "\n",
      "2021-05-18 11:47:51 - Save model to /workspace/ceph_data/keypoint-analysis-sharedtask/triplet-models/semi-hard-triplet-loss\n"
     ]
    },
    {
     "data": {
      "application/vnd.jupyter.widget-view+json": {
       "model_id": "baf9b092713f42eba1311f5f0f936370",
       "version_major": 2,
       "version_minor": 0
      },
      "text/plain": [
       "HBox(children=(FloatProgress(value=0.0, description='Iteration', max=66.0, style=ProgressStyle(description_wid…"
      ]
     },
     "metadata": {},
     "output_type": "display_data"
    },
    {
     "name": "stdout",
     "output_type": "stream",
     "text": [
      "\n",
      "2021-05-18 11:48:17 - TripletEvaluator: Evaluating the model on dev dataset after epoch 1:\n",
      "2021-05-18 11:48:21 - Accuracy Cosine Distance:   \t87.70\n",
      "2021-05-18 11:48:21 - Accuracy Manhatten Distance:\t87.10\n",
      "2021-05-18 11:48:21 - Accuracy Euclidean Distance:\t87.50\n",
      "\n",
      "2021-05-18 11:48:21 - Save model to /workspace/ceph_data/keypoint-analysis-sharedtask/triplet-models/semi-hard-triplet-loss\n"
     ]
    },
    {
     "data": {
      "application/vnd.jupyter.widget-view+json": {
       "model_id": "670f57d83e18448ca67f2b658ce1d44c",
       "version_major": 2,
       "version_minor": 0
      },
      "text/plain": [
       "HBox(children=(FloatProgress(value=0.0, description='Iteration', max=66.0, style=ProgressStyle(description_wid…"
      ]
     },
     "metadata": {},
     "output_type": "display_data"
    },
    {
     "name": "stdout",
     "output_type": "stream",
     "text": [
      "\n",
      "2021-05-18 11:48:47 - TripletEvaluator: Evaluating the model on dev dataset after epoch 2:\n",
      "2021-05-18 11:48:51 - Accuracy Cosine Distance:   \t88.40\n",
      "2021-05-18 11:48:51 - Accuracy Manhatten Distance:\t88.30\n",
      "2021-05-18 11:48:51 - Accuracy Euclidean Distance:\t88.30\n",
      "\n",
      "2021-05-18 11:48:51 - Save model to /workspace/ceph_data/keypoint-analysis-sharedtask/triplet-models/semi-hard-triplet-loss\n"
     ]
    },
    {
     "data": {
      "application/vnd.jupyter.widget-view+json": {
       "model_id": "2821a90ea6b7482bbb5f23c9176ad892",
       "version_major": 2,
       "version_minor": 0
      },
      "text/plain": [
       "HBox(children=(FloatProgress(value=0.0, description='Iteration', max=66.0, style=ProgressStyle(description_wid…"
      ]
     },
     "metadata": {},
     "output_type": "display_data"
    },
    {
     "name": "stdout",
     "output_type": "stream",
     "text": [
      "\n",
      "2021-05-18 11:49:17 - TripletEvaluator: Evaluating the model on dev dataset after epoch 3:\n",
      "2021-05-18 11:49:21 - Accuracy Cosine Distance:   \t89.50\n",
      "2021-05-18 11:49:21 - Accuracy Manhatten Distance:\t90.10\n",
      "2021-05-18 11:49:21 - Accuracy Euclidean Distance:\t89.20\n",
      "\n",
      "2021-05-18 11:49:21 - Save model to /workspace/ceph_data/keypoint-analysis-sharedtask/triplet-models/semi-hard-triplet-loss\n"
     ]
    },
    {
     "data": {
      "application/vnd.jupyter.widget-view+json": {
       "model_id": "d339d40f396e448289a8d534a6f24c97",
       "version_major": 2,
       "version_minor": 0
      },
      "text/plain": [
       "HBox(children=(FloatProgress(value=0.0, description='Iteration', max=66.0, style=ProgressStyle(description_wid…"
      ]
     },
     "metadata": {},
     "output_type": "display_data"
    },
    {
     "name": "stdout",
     "output_type": "stream",
     "text": [
      "\n",
      "2021-05-18 11:49:47 - TripletEvaluator: Evaluating the model on dev dataset after epoch 4:\n",
      "2021-05-18 11:49:52 - Accuracy Cosine Distance:   \t89.60\n",
      "2021-05-18 11:49:52 - Accuracy Manhatten Distance:\t90.00\n",
      "2021-05-18 11:49:52 - Accuracy Euclidean Distance:\t89.60\n",
      "\n"
     ]
    },
    {
     "data": {
      "application/vnd.jupyter.widget-view+json": {
       "model_id": "82e994c9e0854bdf8915fd5514a40192",
       "version_major": 2,
       "version_minor": 0
      },
      "text/plain": [
       "HBox(children=(FloatProgress(value=0.0, description='Iteration', max=66.0, style=ProgressStyle(description_wid…"
      ]
     },
     "metadata": {},
     "output_type": "display_data"
    },
    {
     "name": "stdout",
     "output_type": "stream",
     "text": [
      "\n",
      "2021-05-18 11:50:16 - TripletEvaluator: Evaluating the model on dev dataset after epoch 5:\n",
      "2021-05-18 11:50:21 - Accuracy Cosine Distance:   \t90.70\n",
      "2021-05-18 11:50:21 - Accuracy Manhatten Distance:\t90.60\n",
      "2021-05-18 11:50:21 - Accuracy Euclidean Distance:\t90.20\n",
      "\n",
      "2021-05-18 11:50:21 - Save model to /workspace/ceph_data/keypoint-analysis-sharedtask/triplet-models/semi-hard-triplet-loss\n"
     ]
    },
    {
     "data": {
      "application/vnd.jupyter.widget-view+json": {
       "model_id": "8ec86584e0bb45c19de313b19927e1a3",
       "version_major": 2,
       "version_minor": 0
      },
      "text/plain": [
       "HBox(children=(FloatProgress(value=0.0, description='Iteration', max=66.0, style=ProgressStyle(description_wid…"
      ]
     },
     "metadata": {},
     "output_type": "display_data"
    },
    {
     "name": "stdout",
     "output_type": "stream",
     "text": [
      "\n",
      "2021-05-18 11:50:47 - TripletEvaluator: Evaluating the model on dev dataset after epoch 6:\n",
      "2021-05-18 11:50:52 - Accuracy Cosine Distance:   \t90.40\n",
      "2021-05-18 11:50:52 - Accuracy Manhatten Distance:\t90.80\n",
      "2021-05-18 11:50:52 - Accuracy Euclidean Distance:\t90.20\n",
      "\n",
      "2021-05-18 11:50:52 - Save model to /workspace/ceph_data/keypoint-analysis-sharedtask/triplet-models/semi-hard-triplet-loss\n"
     ]
    },
    {
     "data": {
      "application/vnd.jupyter.widget-view+json": {
       "model_id": "7882b6f5878245f3af483fd77b5c4652",
       "version_major": 2,
       "version_minor": 0
      },
      "text/plain": [
       "HBox(children=(FloatProgress(value=0.0, description='Iteration', max=66.0, style=ProgressStyle(description_wid…"
      ]
     },
     "metadata": {},
     "output_type": "display_data"
    },
    {
     "name": "stdout",
     "output_type": "stream",
     "text": [
      "\n",
      "2021-05-18 11:51:18 - TripletEvaluator: Evaluating the model on dev dataset after epoch 7:\n",
      "2021-05-18 11:51:22 - Accuracy Cosine Distance:   \t89.60\n",
      "2021-05-18 11:51:22 - Accuracy Manhatten Distance:\t89.80\n",
      "2021-05-18 11:51:22 - Accuracy Euclidean Distance:\t89.50\n",
      "\n"
     ]
    },
    {
     "data": {
      "application/vnd.jupyter.widget-view+json": {
       "model_id": "50ae31fe3dcc477fbd7ce91d12011ba7",
       "version_major": 2,
       "version_minor": 0
      },
      "text/plain": [
       "HBox(children=(FloatProgress(value=0.0, description='Iteration', max=66.0, style=ProgressStyle(description_wid…"
      ]
     },
     "metadata": {},
     "output_type": "display_data"
    },
    {
     "name": "stdout",
     "output_type": "stream",
     "text": [
      "\n",
      "2021-05-18 11:51:47 - TripletEvaluator: Evaluating the model on dev dataset after epoch 8:\n",
      "2021-05-18 11:51:52 - Accuracy Cosine Distance:   \t89.90\n",
      "2021-05-18 11:51:52 - Accuracy Manhatten Distance:\t90.40\n",
      "2021-05-18 11:51:52 - Accuracy Euclidean Distance:\t90.00\n",
      "\n"
     ]
    },
    {
     "data": {
      "application/vnd.jupyter.widget-view+json": {
       "model_id": "fbddeeb3069e48109154aaa4edd76395",
       "version_major": 2,
       "version_minor": 0
      },
      "text/plain": [
       "HBox(children=(FloatProgress(value=0.0, description='Iteration', max=66.0, style=ProgressStyle(description_wid…"
      ]
     },
     "metadata": {},
     "output_type": "display_data"
    },
    {
     "name": "stdout",
     "output_type": "stream",
     "text": [
      "\n",
      "2021-05-18 11:52:17 - TripletEvaluator: Evaluating the model on dev dataset after epoch 9:\n",
      "2021-05-18 11:52:21 - Accuracy Cosine Distance:   \t90.80\n",
      "2021-05-18 11:52:21 - Accuracy Manhatten Distance:\t90.60\n",
      "2021-05-18 11:52:21 - Accuracy Euclidean Distance:\t90.80\n",
      "\n",
      "\n"
     ]
    }
   ],
   "source": [
    "sbert_training.train_hard_triplet_modle('/workspace/ceph_data/keypoint-analysis-sharedtask/siamese-data/', \n",
    "                                        '/workspace/ceph_data/keypoint-analysis-sharedtask/triplet-models/semi-hard-triplet-loss', \n",
    "                                        'bert-base-uncased', training_loss='BatchSemiHardTripletLoss',  \n",
    "                                        num_epochs=10, train_batch_size=64, data_file_suffix='batch_hard')"
   ]
  },
  {
   "cell_type": "markdown",
   "id": "2847263d-1e99-48a7-b86a-975591f555a3",
   "metadata": {},
   "source": [
    "------------"
   ]
  }
 ],
 "metadata": {
  "kernelspec": {
   "display_name": "Python 3",
   "language": "python",
   "name": "python3"
  },
  "language_info": {
   "codemirror_mode": {
    "name": "ipython",
    "version": 3
   },
   "file_extension": ".py",
   "mimetype": "text/x-python",
   "name": "python",
   "nbconvert_exporter": "python",
   "pygments_lexer": "ipython3",
   "version": "3.6.9"
  }
 },
 "nbformat": 4,
 "nbformat_minor": 5
}
