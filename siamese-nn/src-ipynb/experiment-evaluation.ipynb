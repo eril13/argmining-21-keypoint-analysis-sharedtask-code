{
 "cells": [
  {
   "cell_type": "code",
   "execution_count": 1,
   "id": "333830a6-c203-4276-8c9f-e6bcfe4ad787",
   "metadata": {},
   "outputs": [],
   "source": [
    "import json\n",
    "import pandas as pd\n",
    "import numpy as np\n",
    "import matplotlib.pyplot as plt\n",
    "\n",
    "pd.set_option('display.max_colwidth', None)"
   ]
  },
  {
   "cell_type": "code",
   "execution_count": 2,
   "id": "36de71e7-6132-4127-b2a0-96d1ef15af8e",
   "metadata": {},
   "outputs": [],
   "source": [
    "training_df = pd.read_csv('../../data/training_df.csv')\n",
    "valid_df = pd.read_csv('../../data/our_valid.csv')"
   ]
  },
  {
   "cell_type": "code",
   "execution_count": 117,
   "id": "515ce47c-a0eb-4604-933d-03502f20d41a",
   "metadata": {},
   "outputs": [
    {
     "data": {
      "image/png": "[encoded data removed]",
      "text/plain": [
       "<Figure size 432x288 with 1 Axes>"
      ]
     },
     "metadata": {
      "needs_background": "light"
     },
     "output_type": "display_data"
    }
   ],
   "source": [
    "keypoints_per_arg = [x[1] for x in training_df[training_df.label == 1].arg_id.value_counts().to_dict().items()]\n",
    "plt.hist(keypoints_per_arg)\n",
    "plt.show()"
   ]
  },
  {
   "cell_type": "code",
   "execution_count": 118,
   "id": "9809cfe2-3bd3-450c-8a6a-755ab267cc3d",
   "metadata": {},
   "outputs": [
    {
     "data": {
      "image/png": "[encoded data removed]",
      "text/plain": [
       "<Figure size 432x288 with 1 Axes>"
      ]
     },
     "metadata": {
      "needs_background": "light"
     },
     "output_type": "display_data"
    }
   ],
   "source": [
    "args_per_keypoints = [x[1] for x in training_df[training_df.label == 1].key_point_id.value_counts().to_dict().items()]\n",
    "plt.hist(args_per_keypoints)\n",
    "plt.show()"
   ]
  },
  {
   "cell_type": "markdown",
   "id": "d3dd6803-1787-40e2-a853-6ef63037aa36",
   "metadata": {},
   "source": [
    "-------------"
   ]
  },
  {
   "cell_type": "markdown",
   "id": "8ad429b3-f236-4bb6-a707-569206d9a309",
   "metadata": {},
   "source": [
    "### Predicting:"
   ]
  },
  {
   "cell_type": "code",
   "execution_count": 3,
   "id": "42604acd-340f-4d86-8a90-e483f0323fcc",
   "metadata": {},
   "outputs": [],
   "source": [
    "import os\n",
    "import sys\n",
    "os.environ['CUDA_VISIBLE_DEVICES'] = '3'\n",
    "\n",
    "sys.path.insert(0, \"../../src-py\")"
   ]
  },
  {
   "cell_type": "code",
   "execution_count": 4,
   "id": "974169db-f674-402b-9974-0e1835f30b95",
   "metadata": {},
   "outputs": [],
   "source": [
    "from track_1_kp_matching import *"
   ]
  },
  {
   "cell_type": "code",
   "execution_count": 5,
   "id": "076715e9-5efe-45aa-9a35-ae7e1913940a",
   "metadata": {},
   "outputs": [],
   "source": [
    "from sentence_transformers import SentenceTransformer, InputExample, LoggingHandler, losses, models, util\n",
    "import torch"
   ]
  },
  {
   "cell_type": "code",
   "execution_count": 6,
   "id": "e97820cc-f2f1-4e1f-8eec-52676ce48570",
   "metadata": {},
   "outputs": [],
   "source": [
    "valid_df = pd.read_csv('../../data/our_valid.csv', index_col=0)\n",
    "valid_keypoints_df = pd.read_csv('../../data/key_points_our_valid.csv')\n",
    "valid_arguments_df = pd.read_csv('../../data/arguments_our_valid.csv')"
   ]
  },
  {
   "cell_type": "code",
   "execution_count": 13,
   "id": "793ef82f-bd93-4005-9c3c-06b446844dbd",
   "metadata": {},
   "outputs": [],
   "source": [
    "def match_argument_with_keypoints(result, kp_dict, arg_dict):\n",
    "    \n",
    "    for arg, arg_embedding in arg_dict.items():\n",
    "        result[arg] = {}\n",
    "        for kp, kp_embedding in kp_dict.items():\n",
    "            result[arg][kp] = util.pytorch_cos_sim(arg_embedding, kp_embedding).item()\n",
    "        \n",
    "        #Applying softmax\n",
    "        kp_scores = list(result[arg].items())\n",
    "        kp_ids, kp_scores = zip(*kp_scores)\n",
    "        #print(kp_ids)\n",
    "        #print(kp_scores)\n",
    "        #kp_scores = torch.softmax(torch.Tensor(kp_scores), 0).tolist()\n",
    "        #print(kp_scores)\n",
    "        result[arg] = {kp_id:score for kp_id, score in zip(kp_ids, kp_scores)}\n",
    "        \n",
    "\n",
    "    return result\n",
    "\n",
    "def predict(model, argument_df, keypoint_df, output_path, append_topic=False):\n",
    "    argument_keypoints = {}\n",
    "    for topic in argument_df.topic.unique():\n",
    "        for stance in [-1, 1]:\n",
    "            topic_keypoints_ids = keypoint_df[(keypoint_df.topic==topic) & (keypoint_df.stance==stance)]['key_point_id'].tolist()\n",
    "            topic_keypoints = keypoint_df[(keypoint_df.topic==topic) & (keypoint_df.stance==stance)]['key_point'].tolist()\n",
    "            if append_topic:\n",
    "                topic_keypoints = [topic + ' <SEP> ' + x for x in topic_keypoints]\n",
    "                \n",
    "            topic_keypoints_embeddings = model.encode(topic_keypoints)\n",
    "            topic_kp_embed = dict(zip(topic_keypoints_ids, topic_keypoints_embeddings))\n",
    "\n",
    "            topic_arguments_ids = argument_df[(argument_df.topic==topic) & (argument_df.stance==stance)]['arg_id'].tolist()\n",
    "            topic_arguments = argument_df[(argument_df.topic==topic) & (argument_df.stance==stance)]['argument'].tolist()\n",
    "            topic_arguments_embeddings = model.encode(topic_arguments)\n",
    "            topic_arg_embed= dict(zip(topic_arguments_ids, topic_arguments_embeddings))\n",
    "\n",
    "            argument_keypoints = match_argument_with_keypoints(argument_keypoints, topic_kp_embed, topic_arg_embed)\n",
    "    \n",
    "    json.dump(argument_keypoints, open(output_path, 'w'))\n",
    "    \n",
    "    return argument_keypoints"
   ]
  },
  {
   "cell_type": "code",
   "execution_count": 15,
   "id": "cfa80983-6afd-4641-9c99-ed1c2753b817",
   "metadata": {},
   "outputs": [],
   "source": [
    "models_list = [\n",
    "    '/workspace/ceph_data/keypoint-analysis-sharedtask/siamese-models/bert-base-uncased-kp_as_anchor_best_model',\n",
    "    '/workspace/ceph_data/keypoint-analysis-sharedtask/siamese-models/roberta-base-contrastive-10-epochs-2021-05-28_16-41-01',\n",
    "    '/workspace/ceph_data/keypoint-analysis-sharedtask/siamese-models/roberta-base-contrastive-2021-05-28_16-28-54',\n",
    "    '/workspace/ceph_data/keypoint-analysis-sharedtask/siamese-models/roberta-base-kp_as_anchor_topic_added_all_neg_samples_6_epochs-2021-05-28_14-16-54',\n",
    "    '/workspace/ceph_data/keypoint-analysis-sharedtask/siamese-models/roberta-base-kp_as_anchor_topic_added_max_10_neg_samples_10_epochs-2021-05-28_14-16-14',\n",
    "    '/workspace/ceph_data/keypoint-analysis-sharedtask/siamese-models/roberta-base-kp_as_anchor_topic_added_max_20_neg_samples_10_epochs-2021-05-28_15-56-49',\n",
    "    '/workspace/ceph_data/keypoint-analysis-sharedtask/siamese-models/roberta-base-kp_as_anchor_topic_added_max_40_neg_samples_10_epochs-2021-05-28_14-15-45',\n",
    "]\n",
    "\n",
    "pred_output_path = '/workspace/ceph_data/keypoint-analysis-sharedtask/siamese-data/preds/'\n",
    "subset_name= 'our_valid'"
   ]
  },
  {
   "cell_type": "code",
   "execution_count": 16,
   "id": "6a1ffaac-01ad-49e9-ab52-a1a2cc6381a1",
   "metadata": {
    "tags": []
   },
   "outputs": [],
   "source": [
    "def predict_and_evaluate(argument_df, keypoint_df, gold_data_dir, subset_name):\n",
    "    pred_df = {}\n",
    "    for model_path in models_list:\n",
    "        append_topic= 'topic_added' in model_path\n",
    "        #Predict\n",
    "        model = SentenceTransformer(model_path)\n",
    "        model_name = model_path.split('/')[-1]\n",
    "        predictions_file = pred_output_path+model_name+ '-' + subset_name + '-preds.json'\n",
    "        json_preds = predict(model, argument_df, keypoint_df, predictions_file, append_topic)\n",
    "\n",
    "        #Evaluate\n",
    "        arg_df, kp_df, labels_df = load_kpm_data(gold_data_dir, subset=subset_name)\n",
    "        merged_df = get_predictions(predictions_file, labels_df, arg_df)\n",
    "        print('Evaluating {}:'.format(model_name))\n",
    "        evaluate_predictions(merged_df)\n",
    "        \n",
    "        pred_df[model_name] = merged_df\n",
    "\n",
    "    return pred_df"
   ]
  },
  {
   "cell_type": "code",
   "execution_count": 73,
   "id": "d94139e0-a8ef-41fb-bff0-1bceac93f495",
   "metadata": {},
   "outputs": [
    {
     "name": "stdout",
     "output_type": "stream",
     "text": [
      "Evaluating bert-base-uncased-kp_as_anchor_topic_added_max_20_neg_samples-2021-05-27_11-20-47:\n",
      "mAP strict= 0.8123734434931347 ; mAP relaxed = 0.9333860691751199\n"
     ]
    }
   ],
   "source": [
    "pred_dfs = predict_and_evaluate(valid_arguments_df, valid_keypoints_df,  '../../data', 'our_valid')"
   ]
  },
  {
   "cell_type": "code",
   "execution_count": 74,
   "id": "ac377aea-ddcb-4c25-b20f-eb4ed89d7d24",
   "metadata": {},
   "outputs": [],
   "source": [
    "test_df = pd.read_csv('../../data/our_test.csv', index_col=0)\n",
    "test_keypoints_df = pd.read_csv('../../data/key_points_our_test.csv')\n",
    "test_arguments_df = pd.read_csv('../../data/arguments_our_test.csv')"
   ]
  },
  {
   "cell_type": "code",
   "execution_count": 75,
   "id": "e8487b9e-6e51-4776-a591-cfd0a7ad9cb4",
   "metadata": {},
   "outputs": [
    {
     "name": "stdout",
     "output_type": "stream",
     "text": [
      "Evaluating bert-base-uncased-kp_as_anchor_topic_added_max_20_neg_samples-2021-05-27_11-20-47:\n",
      "mAP strict= 0.80416708344701 ; mAP relaxed = 0.939979400446195\n"
     ]
    }
   ],
   "source": [
    "_=predict_and_evaluate(test_arguments_df, test_keypoints_df,  '../../data', 'our_test')"
   ]
  },
  {
   "cell_type": "code",
   "execution_count": 62,
   "id": "743bcb09-423e-4350-85fc-35101d6bce7e",
   "metadata": {},
   "outputs": [
    {
     "name": "stdout",
     "output_type": "stream",
     "text": [
      "Evaluating bert-base-uncased-kp_as_anchor-2021-05-24_15-58-35:\n",
      "mAP strict= 0.8884606072596714 ; mAP relaxed = 0.963442996320446\n",
      "Evaluating bert-base-uncased-kp_as_anchor_max_10_neg_samples-2021-05-26_11-20-51:\n",
      "mAP strict= 0.7762677078765092 ; mAP relaxed = 0.8882839976095311\n"
     ]
    }
   ],
   "source": [
    "_=predict_and_evaluate(test_arguments_df, test_keypoints_df,  '../../data', 'our_test')"
   ]
  },
  {
   "cell_type": "code",
   "execution_count": 17,
   "id": "5eafad7c-d5ac-4eed-915f-f99312e7fb41",
   "metadata": {
    "scrolled": true,
    "tags": []
   },
   "outputs": [],
   "source": [
    "all_valid_arg_df = pd.read_csv('../../KPA_2021_shared_task/kpm_data/arguments_dev.csv')\n",
    "all_valid_keypoints_df = pd.read_csv('../../KPA_2021_shared_task/kpm_data/key_points_dev.csv')"
   ]
  },
  {
   "cell_type": "code",
   "execution_count": 18,
   "id": "4fd96f36-0265-43c8-8b84-33d4d9ec12e9",
   "metadata": {},
   "outputs": [
    {
     "name": "stdout",
     "output_type": "stream",
     "text": [
      "Evaluating bert-base-uncased-kp_as_anchor_best_model:\n",
      "mAP strict= 0.854248407787326 ; mAP relaxed = 0.9531621481387572\n",
      "Evaluating roberta-base-contrastive-10-epochs-2021-05-28_16-41-01:\n",
      "mAP strict= 0.8407255406341027 ; mAP relaxed = 0.9605143550149072\n",
      "Evaluating roberta-base-contrastive-2021-05-28_16-28-54:\n",
      "mAP strict= 0.8149720295671921 ; mAP relaxed = 0.9679302049567932\n",
      "Evaluating roberta-base-kp_as_anchor_topic_added_all_neg_samples_6_epochs-2021-05-28_14-16-54:\n",
      "mAP strict= 0.7854198286778674 ; mAP relaxed = 0.9283123764701021\n",
      "Evaluating roberta-base-kp_as_anchor_topic_added_max_10_neg_samples_10_epochs-2021-05-28_14-16-14:\n",
      "mAP strict= 0.8222340891330479 ; mAP relaxed = 0.9557887606724625\n",
      "Evaluating roberta-base-kp_as_anchor_topic_added_max_20_neg_samples_10_epochs-2021-05-28_15-56-49:\n",
      "mAP strict= 0.8130741904715475 ; mAP relaxed = 0.9505769067183126\n",
      "Evaluating roberta-base-kp_as_anchor_topic_added_max_40_neg_samples_10_epochs-2021-05-28_14-15-45:\n",
      "mAP strict= 0.8205366719217393 ; mAP relaxed = 0.9606724299430038\n"
     ]
    }
   ],
   "source": [
    "results_df = predict_and_evaluate(all_valid_arg_df, all_valid_keypoints_df, '../../KPA_2021_shared_task/kpm_data/', 'dev')"
   ]
  },
  {
   "cell_type": "markdown",
   "id": "5b3ca289-6da2-4568-b68c-4799351621b4",
   "metadata": {},
   "source": [
    "-----------"
   ]
  },
  {
   "cell_type": "markdown",
   "id": "0c49d543-2453-4879-94ea-6fd6b20c08f2",
   "metadata": {},
   "source": [
    "### Analysis:"
   ]
  },
  {
   "cell_type": "code",
   "execution_count": 109,
   "id": "606ccbe5-e4fd-4c96-9521-cee5f3eae5d3",
   "metadata": {},
   "outputs": [],
   "source": [
    "results_df = results_df['bert-base-uncased-kp_as_anchor_best_model']"
   ]
  },
  {
   "cell_type": "code",
   "execution_count": 93,
   "id": "e555cd36-b9cf-4627-9a11-4f8db7bea37e",
   "metadata": {},
   "outputs": [
    {
     "data": {
      "text/html": [
       "<div>\n",
       "<style scoped>\n",
       "    .dataframe tbody tr th:only-of-type {\n",
       "        vertical-align: middle;\n",
       "    }\n",
       "\n",
       "    .dataframe tbody tr th {\n",
       "        vertical-align: top;\n",
       "    }\n",
       "\n",
       "    .dataframe thead th {\n",
       "        text-align: right;\n",
       "    }\n",
       "</style>\n",
       "<table border=\"1\" class=\"dataframe\">\n",
       "  <thead>\n",
       "    <tr style=\"text-align: right;\">\n",
       "      <th></th>\n",
       "      <th>arg_id</th>\n",
       "      <th>topic</th>\n",
       "      <th>stance</th>\n",
       "      <th>key_point_id</th>\n",
       "      <th>score</th>\n",
       "      <th>label</th>\n",
       "      <th>label_strict</th>\n",
       "      <th>label_relaxed</th>\n",
       "    </tr>\n",
       "  </thead>\n",
       "  <tbody>\n",
       "    <tr>\n",
       "      <th>0</th>\n",
       "      <td>arg_4_0</td>\n",
       "      <td>We should abandon the use of school uniform</td>\n",
       "      <td>-1</td>\n",
       "      <td>kp_4_1</td>\n",
       "      <td>0.833244</td>\n",
       "      <td>1.0</td>\n",
       "      <td>1.0</td>\n",
       "      <td>1.0</td>\n",
       "    </tr>\n",
       "    <tr>\n",
       "      <th>1</th>\n",
       "      <td>arg_4_1</td>\n",
       "      <td>We should abandon the use of school uniform</td>\n",
       "      <td>-1</td>\n",
       "      <td>kp_4_2</td>\n",
       "      <td>0.707487</td>\n",
       "      <td>1.0</td>\n",
       "      <td>1.0</td>\n",
       "      <td>1.0</td>\n",
       "    </tr>\n",
       "    <tr>\n",
       "      <th>2</th>\n",
       "      <td>arg_4_2</td>\n",
       "      <td>We should abandon the use of school uniform</td>\n",
       "      <td>-1</td>\n",
       "      <td>kp_4_3</td>\n",
       "      <td>0.822895</td>\n",
       "      <td>1.0</td>\n",
       "      <td>1.0</td>\n",
       "      <td>1.0</td>\n",
       "    </tr>\n",
       "    <tr>\n",
       "      <th>3</th>\n",
       "      <td>arg_4_3</td>\n",
       "      <td>We should abandon the use of school uniform</td>\n",
       "      <td>-1</td>\n",
       "      <td>kp_4_3</td>\n",
       "      <td>0.775373</td>\n",
       "      <td>1.0</td>\n",
       "      <td>1.0</td>\n",
       "      <td>1.0</td>\n",
       "    </tr>\n",
       "    <tr>\n",
       "      <th>4</th>\n",
       "      <td>arg_4_4</td>\n",
       "      <td>We should abandon the use of school uniform</td>\n",
       "      <td>-1</td>\n",
       "      <td>kp_4_2</td>\n",
       "      <td>0.708077</td>\n",
       "      <td>1.0</td>\n",
       "      <td>1.0</td>\n",
       "      <td>1.0</td>\n",
       "    </tr>\n",
       "  </tbody>\n",
       "</table>\n",
       "</div>"
      ],
      "text/plain": [
       "    arg_id                                        topic  stance key_point_id  \\\n",
       "0  arg_4_0  We should abandon the use of school uniform      -1       kp_4_1   \n",
       "1  arg_4_1  We should abandon the use of school uniform      -1       kp_4_2   \n",
       "2  arg_4_2  We should abandon the use of school uniform      -1       kp_4_3   \n",
       "3  arg_4_3  We should abandon the use of school uniform      -1       kp_4_3   \n",
       "4  arg_4_4  We should abandon the use of school uniform      -1       kp_4_2   \n",
       "\n",
       "      score  label  label_strict  label_relaxed  \n",
       "0  0.833244    1.0           1.0            1.0  \n",
       "1  0.707487    1.0           1.0            1.0  \n",
       "2  0.822895    1.0           1.0            1.0  \n",
       "3  0.775373    1.0           1.0            1.0  \n",
       "4  0.708077    1.0           1.0            1.0  "
      ]
     },
     "execution_count": 93,
     "metadata": {},
     "output_type": "execute_result"
    }
   ],
   "source": [
    "results_df['bert-base-uncased-kp_as_anchor_best_model'].head()"
   ]
  },
  {
   "cell_type": "code",
   "execution_count": 106,
   "id": "9e186266-f32b-4938-bf9e-c7090ce062e2",
   "metadata": {},
   "outputs": [],
   "source": [
    "def get_ap(df, label_column, top_percentile=0.5):\n",
    "    top = int(len(df)*top_percentile)\n",
    "    df = df.sort_values('score', ascending=False).head(top)\n",
    "    return average_precision_score(y_true=df[label_column], y_score=df[\"score\"])\n",
    "\n",
    "def calc_mean_average_precision(df, label_column):\n",
    "    precisions = [get_ap(group, label_column, top_percentile=0.5) for _, group in df.groupby([\"topic\", \"stance\"])]\n",
    "    return np.mean(precisions)"
   ]
  },
  {
   "cell_type": "code",
   "execution_count": 107,
   "id": "c7d5981f-77b9-40b5-9882-dbd6afc9659a",
   "metadata": {},
   "outputs": [
    {
     "data": {
      "text/plain": [
       "0.9531621481387572"
      ]
     },
     "execution_count": 107,
     "metadata": {},
     "output_type": "execute_result"
    }
   ],
   "source": [
    "calc_mean_average_precision(results_df['bert-base-uncased-kp_as_anchor_best_model'], 'label_relaxed')"
   ]
  },
  {
   "cell_type": "code",
   "execution_count": 113,
   "id": "78ea438a-8ffd-45b6-a020-5faad302d363",
   "metadata": {},
   "outputs": [
    {
     "data": {
      "text/html": [
       "<div>\n",
       "<style scoped>\n",
       "    .dataframe tbody tr th:only-of-type {\n",
       "        vertical-align: middle;\n",
       "    }\n",
       "\n",
       "    .dataframe tbody tr th {\n",
       "        vertical-align: top;\n",
       "    }\n",
       "\n",
       "    .dataframe thead th {\n",
       "        text-align: right;\n",
       "    }\n",
       "</style>\n",
       "<table border=\"1\" class=\"dataframe\">\n",
       "  <thead>\n",
       "    <tr style=\"text-align: right;\">\n",
       "      <th></th>\n",
       "      <th>arg_id</th>\n",
       "      <th>topic</th>\n",
       "      <th>stance</th>\n",
       "      <th>key_point_id</th>\n",
       "      <th>score</th>\n",
       "      <th>label</th>\n",
       "      <th>label_strict</th>\n",
       "      <th>label_relaxed</th>\n",
       "    </tr>\n",
       "  </thead>\n",
       "  <tbody>\n",
       "    <tr>\n",
       "      <th>214</th>\n",
       "      <td>arg_4_214</td>\n",
       "      <td>We should abandon the use of school uniform</td>\n",
       "      <td>1</td>\n",
       "      <td>kp_4_9</td>\n",
       "      <td>-0.038800</td>\n",
       "      <td>NaN</td>\n",
       "      <td>0.0</td>\n",
       "      <td>1.0</td>\n",
       "    </tr>\n",
       "    <tr>\n",
       "      <th>136</th>\n",
       "      <td>arg_4_136</td>\n",
       "      <td>We should abandon the use of school uniform</td>\n",
       "      <td>1</td>\n",
       "      <td>kp_4_9</td>\n",
       "      <td>0.015576</td>\n",
       "      <td>0.0</td>\n",
       "      <td>0.0</td>\n",
       "      <td>0.0</td>\n",
       "    </tr>\n",
       "    <tr>\n",
       "      <th>223</th>\n",
       "      <td>arg_4_223</td>\n",
       "      <td>We should abandon the use of school uniform</td>\n",
       "      <td>1</td>\n",
       "      <td>kp_4_9</td>\n",
       "      <td>0.041475</td>\n",
       "      <td>0.0</td>\n",
       "      <td>0.0</td>\n",
       "      <td>0.0</td>\n",
       "    </tr>\n",
       "    <tr>\n",
       "      <th>178</th>\n",
       "      <td>arg_4_178</td>\n",
       "      <td>We should abandon the use of school uniform</td>\n",
       "      <td>1</td>\n",
       "      <td>kp_4_5</td>\n",
       "      <td>0.052808</td>\n",
       "      <td>1.0</td>\n",
       "      <td>1.0</td>\n",
       "      <td>1.0</td>\n",
       "    </tr>\n",
       "    <tr>\n",
       "      <th>194</th>\n",
       "      <td>arg_4_194</td>\n",
       "      <td>We should abandon the use of school uniform</td>\n",
       "      <td>1</td>\n",
       "      <td>kp_4_9</td>\n",
       "      <td>0.077202</td>\n",
       "      <td>NaN</td>\n",
       "      <td>0.0</td>\n",
       "      <td>1.0</td>\n",
       "    </tr>\n",
       "    <tr>\n",
       "      <th>...</th>\n",
       "      <td>...</td>\n",
       "      <td>...</td>\n",
       "      <td>...</td>\n",
       "      <td>...</td>\n",
       "      <td>...</td>\n",
       "      <td>...</td>\n",
       "      <td>...</td>\n",
       "      <td>...</td>\n",
       "    </tr>\n",
       "    <tr>\n",
       "      <th>45</th>\n",
       "      <td>arg_4_45</td>\n",
       "      <td>We should abandon the use of school uniform</td>\n",
       "      <td>-1</td>\n",
       "      <td>kp_4_1</td>\n",
       "      <td>0.976696</td>\n",
       "      <td>1.0</td>\n",
       "      <td>1.0</td>\n",
       "      <td>1.0</td>\n",
       "    </tr>\n",
       "    <tr>\n",
       "      <th>82</th>\n",
       "      <td>arg_4_82</td>\n",
       "      <td>We should abandon the use of school uniform</td>\n",
       "      <td>-1</td>\n",
       "      <td>kp_4_1</td>\n",
       "      <td>0.981591</td>\n",
       "      <td>1.0</td>\n",
       "      <td>1.0</td>\n",
       "      <td>1.0</td>\n",
       "    </tr>\n",
       "    <tr>\n",
       "      <th>149</th>\n",
       "      <td>arg_4_149</td>\n",
       "      <td>We should abandon the use of school uniform</td>\n",
       "      <td>1</td>\n",
       "      <td>kp_4_6</td>\n",
       "      <td>0.982449</td>\n",
       "      <td>1.0</td>\n",
       "      <td>1.0</td>\n",
       "      <td>1.0</td>\n",
       "    </tr>\n",
       "    <tr>\n",
       "      <th>156</th>\n",
       "      <td>arg_4_156</td>\n",
       "      <td>We should abandon the use of school uniform</td>\n",
       "      <td>1</td>\n",
       "      <td>kp_4_6</td>\n",
       "      <td>0.984104</td>\n",
       "      <td>1.0</td>\n",
       "      <td>1.0</td>\n",
       "      <td>1.0</td>\n",
       "    </tr>\n",
       "    <tr>\n",
       "      <th>47</th>\n",
       "      <td>arg_4_47</td>\n",
       "      <td>We should abandon the use of school uniform</td>\n",
       "      <td>-1</td>\n",
       "      <td>kp_4_1</td>\n",
       "      <td>0.985228</td>\n",
       "      <td>1.0</td>\n",
       "      <td>1.0</td>\n",
       "      <td>1.0</td>\n",
       "    </tr>\n",
       "  </tbody>\n",
       "</table>\n",
       "<p>238 rows × 8 columns</p>\n",
       "</div>"
      ],
      "text/plain": [
       "        arg_id                                        topic  stance  \\\n",
       "214  arg_4_214  We should abandon the use of school uniform       1   \n",
       "136  arg_4_136  We should abandon the use of school uniform       1   \n",
       "223  arg_4_223  We should abandon the use of school uniform       1   \n",
       "178  arg_4_178  We should abandon the use of school uniform       1   \n",
       "194  arg_4_194  We should abandon the use of school uniform       1   \n",
       "..         ...                                          ...     ...   \n",
       "45    arg_4_45  We should abandon the use of school uniform      -1   \n",
       "82    arg_4_82  We should abandon the use of school uniform      -1   \n",
       "149  arg_4_149  We should abandon the use of school uniform       1   \n",
       "156  arg_4_156  We should abandon the use of school uniform       1   \n",
       "47    arg_4_47  We should abandon the use of school uniform      -1   \n",
       "\n",
       "    key_point_id     score  label  label_strict  label_relaxed  \n",
       "214       kp_4_9 -0.038800    NaN           0.0            1.0  \n",
       "136       kp_4_9  0.015576    0.0           0.0            0.0  \n",
       "223       kp_4_9  0.041475    0.0           0.0            0.0  \n",
       "178       kp_4_5  0.052808    1.0           1.0            1.0  \n",
       "194       kp_4_9  0.077202    NaN           0.0            1.0  \n",
       "..           ...       ...    ...           ...            ...  \n",
       "45        kp_4_1  0.976696    1.0           1.0            1.0  \n",
       "82        kp_4_1  0.981591    1.0           1.0            1.0  \n",
       "149       kp_4_6  0.982449    1.0           1.0            1.0  \n",
       "156       kp_4_6  0.984104    1.0           1.0            1.0  \n",
       "47        kp_4_1  0.985228    1.0           1.0            1.0  \n",
       "\n",
       "[238 rows x 8 columns]"
      ]
     },
     "execution_count": 113,
     "metadata": {},
     "output_type": "execute_result"
    }
   ],
   "source": [
    "results_df[results_df.topic == 'We should abandon the use of school uniform'].sort_values('score')"
   ]
  },
  {
   "cell_type": "code",
   "execution_count": 114,
   "id": "fa8f3f64-c99b-4eaf-9737-d3552b2c11a6",
   "metadata": {},
   "outputs": [
    {
     "data": {
      "text/html": [
       "<div>\n",
       "<style scoped>\n",
       "    .dataframe tbody tr th:only-of-type {\n",
       "        vertical-align: middle;\n",
       "    }\n",
       "\n",
       "    .dataframe tbody tr th {\n",
       "        vertical-align: top;\n",
       "    }\n",
       "\n",
       "    .dataframe thead th {\n",
       "        text-align: right;\n",
       "    }\n",
       "</style>\n",
       "<table border=\"1\" class=\"dataframe\">\n",
       "  <thead>\n",
       "    <tr style=\"text-align: right;\">\n",
       "      <th></th>\n",
       "      <th>arg_id</th>\n",
       "      <th>topic</th>\n",
       "      <th>stance</th>\n",
       "      <th>key_point_id</th>\n",
       "      <th>score</th>\n",
       "      <th>label</th>\n",
       "      <th>label_strict</th>\n",
       "      <th>label_relaxed</th>\n",
       "    </tr>\n",
       "  </thead>\n",
       "  <tbody>\n",
       "    <tr>\n",
       "      <th>178</th>\n",
       "      <td>arg_4_178</td>\n",
       "      <td>We should abandon the use of school uniform</td>\n",
       "      <td>1</td>\n",
       "      <td>kp_4_5</td>\n",
       "      <td>0.052808</td>\n",
       "      <td>1.0</td>\n",
       "      <td>1.0</td>\n",
       "      <td>1.0</td>\n",
       "    </tr>\n",
       "  </tbody>\n",
       "</table>\n",
       "</div>"
      ],
      "text/plain": [
       "        arg_id                                        topic  stance  \\\n",
       "178  arg_4_178  We should abandon the use of school uniform       1   \n",
       "\n",
       "    key_point_id     score  label  label_strict  label_relaxed  \n",
       "178       kp_4_5  0.052808    1.0           1.0            1.0  "
      ]
     },
     "execution_count": 114,
     "metadata": {},
     "output_type": "execute_result"
    }
   ],
   "source": [
    "results_df[results_df.arg_id == 'arg_4_178'].sort_values('score')"
   ]
  },
  {
   "cell_type": "code",
   "execution_count": 118,
   "id": "d5832bb4-8c24-4466-88e7-797a6f4cb281",
   "metadata": {},
   "outputs": [],
   "source": [
    "pred = json.load(open('/workspace/ceph_data/keypoint-analysis-sharedtask/siamese-data/preds/bert-base-uncased-kp_as_anchor_best_model-dev-preds.json'))"
   ]
  },
  {
   "cell_type": "code",
   "execution_count": 122,
   "id": "179fc342-84ef-465c-9128-2fa3c8e59ef5",
   "metadata": {},
   "outputs": [],
   "source": [
    "import torch"
   ]
  },
  {
   "cell_type": "code",
   "execution_count": null,
   "id": "a0ef3ff7-f8b7-4c04-9016-39182dbc6674",
   "metadata": {},
   "outputs": [],
   "source": [
    "[x]"
   ]
  },
  {
   "cell_type": "code",
   "execution_count": 131,
   "id": "aa06355b-8c31-4053-b7ee-4355252b8a5a",
   "metadata": {},
   "outputs": [
    {
     "data": {
      "text/plain": [
       "[0.05280778557062149,\n",
       " -0.18674007058143616,\n",
       " -0.1372978389263153,\n",
       " -0.2439197152853012,\n",
       " 0.04507965222001076]"
      ]
     },
     "execution_count": 131,
     "metadata": {},
     "output_type": "execute_result"
    }
   ],
   "source": [
    "list(pred['arg_4_178'].values())"
   ]
  },
  {
   "cell_type": "code",
   "execution_count": 145,
   "id": "b96f7287-60c2-49ca-b3cd-7a044b247ce7",
   "metadata": {},
   "outputs": [],
   "source": [
    "t = torch.tensor(list(pred['arg_4_178'].values()), dtype=torch.float)"
   ]
  },
  {
   "cell_type": "code",
   "execution_count": 148,
   "id": "202c6904-004d-4fd8-9d11-a98c9b5c6f30",
   "metadata": {},
   "outputs": [
    {
     "data": {
      "text/plain": [
       "tensor([0.2299, 0.1809, 0.1901, 0.1709, 0.2281])"
      ]
     },
     "execution_count": 148,
     "metadata": {},
     "output_type": "execute_result"
    }
   ],
   "source": [
    "torch.softmax(t, 0)"
   ]
  },
  {
   "cell_type": "code",
   "execution_count": 119,
   "id": "97d744b4-2a04-4da3-ac90-ddca4364f998",
   "metadata": {},
   "outputs": [
    {
     "data": {
      "text/plain": [
       "{'kp_4_5': 0.05280778557062149,\n",
       " 'kp_4_6': -0.18674007058143616,\n",
       " 'kp_4_7': -0.1372978389263153,\n",
       " 'kp_4_8': -0.2439197152853012,\n",
       " 'kp_4_9': 0.04507965222001076}"
      ]
     },
     "execution_count": 119,
     "metadata": {},
     "output_type": "execute_result"
    }
   ],
   "source": [
    "pred['arg_4_178']"
   ]
  },
  {
   "cell_type": "code",
   "execution_count": 120,
   "id": "713bda5d-0450-4761-be19-03f6e3f5d0e1",
   "metadata": {},
   "outputs": [
    {
     "data": {
      "text/plain": [
       "{'kp_4_5': -0.16205520927906036,\n",
       " 'kp_4_6': 0.9824493527412415,\n",
       " 'kp_4_7': -0.15135669708251953,\n",
       " 'kp_4_8': -0.015851741656661034,\n",
       " 'kp_4_9': -0.21924754977226257}"
      ]
     },
     "execution_count": 120,
     "metadata": {},
     "output_type": "execute_result"
    }
   ],
   "source": [
    "pred['arg_4_149']"
   ]
  },
  {
   "cell_type": "code",
   "execution_count": null,
   "id": "ce422a3a-6b19-4dcd-9401-c9aef6596e12",
   "metadata": {},
   "outputs": [],
   "source": []
  }
 ],
 "metadata": {
  "kernelspec": {
   "display_name": "Python 3",
   "language": "python",
   "name": "python3"
  },
  "language_info": {
   "codemirror_mode": {
    "name": "ipython",
    "version": 3
   },
   "file_extension": ".py",
   "mimetype": "text/x-python",
   "name": "python",
   "nbconvert_exporter": "python",
   "pygments_lexer": "ipython3",
   "version": "3.6.9"
  }
 },
 "nbformat": 4,
 "nbformat_minor": 5
}
