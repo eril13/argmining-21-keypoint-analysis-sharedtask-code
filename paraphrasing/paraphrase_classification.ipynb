{
 "cells": [
  {
   "cell_type": "code",
   "execution_count": 1,
   "metadata": {},
   "outputs": [],
   "source": [
    "from tqdm.notebook import tqdm\n",
    "import pandas as pd\n",
    "pd.set_option(\"display.max_colwidth\", None)\n",
    "import json\n",
    "from sentence_transformers import SentenceTransformer, util"
   ]
  },
  {
   "cell_type": "code",
   "execution_count": 2,
   "metadata": {},
   "outputs": [],
   "source": [
    "df = pd.read_csv(\"../data/valid_df.csv\", keep_default_na=False)"
   ]
  },
  {
   "cell_type": "code",
   "execution_count": 3,
   "metadata": {},
   "outputs": [
    {
     "data": {
      "text/html": [
       "<div>\n",
       "<style scoped>\n",
       "    .dataframe tbody tr th:only-of-type {\n",
       "        vertical-align: middle;\n",
       "    }\n",
       "\n",
       "    .dataframe tbody tr th {\n",
       "        vertical-align: top;\n",
       "    }\n",
       "\n",
       "    .dataframe thead th {\n",
       "        text-align: right;\n",
       "    }\n",
       "</style>\n",
       "<table border=\"1\" class=\"dataframe\">\n",
       "  <thead>\n",
       "    <tr style=\"text-align: right;\">\n",
       "      <th></th>\n",
       "      <th>Unnamed: 0</th>\n",
       "      <th>arg_id</th>\n",
       "      <th>key_point_id</th>\n",
       "      <th>label</th>\n",
       "      <th>argument</th>\n",
       "      <th>topic</th>\n",
       "      <th>stance</th>\n",
       "      <th>key_point</th>\n",
       "    </tr>\n",
       "  </thead>\n",
       "  <tbody>\n",
       "    <tr>\n",
       "      <th>0</th>\n",
       "      <td>0</td>\n",
       "      <td>arg_4_121</td>\n",
       "      <td>kp_4_5</td>\n",
       "      <td>1</td>\n",
       "      <td>A real education is about giving students the tools to learn, think, and express themselves; dictating to them what to wear sends a strong message that we don't trust them to think on their own.</td>\n",
       "      <td>We should abandon the use of school uniform</td>\n",
       "      <td>1</td>\n",
       "      <td>School uniform is harming the student's self expression</td>\n",
       "    </tr>\n",
       "    <tr>\n",
       "      <th>1</th>\n",
       "      <td>1</td>\n",
       "      <td>arg_4_122</td>\n",
       "      <td>kp_4_5</td>\n",
       "      <td>1</td>\n",
       "      <td>children express themselves through the clothes they wear and should be able to do this at school</td>\n",
       "      <td>We should abandon the use of school uniform</td>\n",
       "      <td>1</td>\n",
       "      <td>School uniform is harming the student's self expression</td>\n",
       "    </tr>\n",
       "    <tr>\n",
       "      <th>2</th>\n",
       "      <td>2</td>\n",
       "      <td>arg_4_123</td>\n",
       "      <td>kp_4_5</td>\n",
       "      <td>1</td>\n",
       "      <td>children should be able to dress as they wish, within reason, at school rather than being restricted from expressing themselves through their clothes.</td>\n",
       "      <td>We should abandon the use of school uniform</td>\n",
       "      <td>1</td>\n",
       "      <td>School uniform is harming the student's self expression</td>\n",
       "    </tr>\n",
       "    <tr>\n",
       "      <th>3</th>\n",
       "      <td>3</td>\n",
       "      <td>arg_4_124</td>\n",
       "      <td>kp_4_5</td>\n",
       "      <td>1</td>\n",
       "      <td>children should be allowed to express themselves</td>\n",
       "      <td>We should abandon the use of school uniform</td>\n",
       "      <td>1</td>\n",
       "      <td>School uniform is harming the student's self expression</td>\n",
       "    </tr>\n",
       "    <tr>\n",
       "      <th>4</th>\n",
       "      <td>4</td>\n",
       "      <td>arg_4_126</td>\n",
       "      <td>kp_4_5</td>\n",
       "      <td>1</td>\n",
       "      <td>freedom of expression extends to the right to choose one's own clothing and a school uniform prevents this choice.</td>\n",
       "      <td>We should abandon the use of school uniform</td>\n",
       "      <td>1</td>\n",
       "      <td>School uniform is harming the student's self expression</td>\n",
       "    </tr>\n",
       "  </tbody>\n",
       "</table>\n",
       "</div>"
      ],
      "text/plain": [
       "   Unnamed: 0     arg_id key_point_id  label  \\\n",
       "0           0  arg_4_121       kp_4_5      1   \n",
       "1           1  arg_4_122       kp_4_5      1   \n",
       "2           2  arg_4_123       kp_4_5      1   \n",
       "3           3  arg_4_124       kp_4_5      1   \n",
       "4           4  arg_4_126       kp_4_5      1   \n",
       "\n",
       "                                                                                                                                                                                             argument  \\\n",
       "0  A real education is about giving students the tools to learn, think, and express themselves; dictating to them what to wear sends a strong message that we don't trust them to think on their own.   \n",
       "1                                                                                                   children express themselves through the clothes they wear and should be able to do this at school   \n",
       "2                                              children should be able to dress as they wish, within reason, at school rather than being restricted from expressing themselves through their clothes.   \n",
       "3                                                                                                                                                    children should be allowed to express themselves   \n",
       "4                                                                                  freedom of expression extends to the right to choose one's own clothing and a school uniform prevents this choice.   \n",
       "\n",
       "                                         topic  stance  \\\n",
       "0  We should abandon the use of school uniform       1   \n",
       "1  We should abandon the use of school uniform       1   \n",
       "2  We should abandon the use of school uniform       1   \n",
       "3  We should abandon the use of school uniform       1   \n",
       "4  We should abandon the use of school uniform       1   \n",
       "\n",
       "                                                 key_point  \n",
       "0  School uniform is harming the student's self expression  \n",
       "1  School uniform is harming the student's self expression  \n",
       "2  School uniform is harming the student's self expression  \n",
       "3  School uniform is harming the student's self expression  \n",
       "4  School uniform is harming the student's self expression  "
      ]
     },
     "execution_count": 3,
     "metadata": {},
     "output_type": "execute_result"
    }
   ],
   "source": [
    "df.head()"
   ]
  },
  {
   "cell_type": "code",
   "execution_count": 4,
   "metadata": {},
   "outputs": [],
   "source": [
    "model = SentenceTransformer('paraphrase-distilroberta-base-v1')"
   ]
  },
  {
   "cell_type": "code",
   "execution_count": 5,
   "metadata": {},
   "outputs": [],
   "source": [
    "def get_paraphrase_score(argument, keypoint):\n",
    "    paraphrases = util.paraphrase_mining(model, [argument, keypoint])\n",
    "    score, i, j = paraphrases[0]\n",
    "    return score"
   ]
  },
  {
   "cell_type": "code",
   "execution_count": 6,
   "metadata": {},
   "outputs": [],
   "source": [
    "def match_argument_with_keypoints(result, kp_dict, arg_dict):\n",
    "    for arg_id, arg in arg_dict.items():\n",
    "        result[arg_id] = {}\n",
    "        for kp_id, kp in kp_dict.items():\n",
    "            result[arg_id][kp_id] = get_paraphrase_score(arg, kp)\n",
    "    return result"
   ]
  },
  {
   "cell_type": "code",
   "execution_count": 7,
   "metadata": {},
   "outputs": [],
   "source": [
    "valid_df = df"
   ]
  },
  {
   "cell_type": "code",
   "execution_count": 8,
   "metadata": {},
   "outputs": [
    {
     "data": {
      "application/vnd.jupyter.widget-view+json": {
       "model_id": "382f77c04e64406e9e6a41dee1a5b34a",
       "version_major": 2,
       "version_minor": 0
      },
      "text/plain": [
       "HBox(children=(FloatProgress(value=0.0, max=4.0), HTML(value='')))"
      ]
     },
     "metadata": {},
     "output_type": "display_data"
    },
    {
     "name": "stdout",
     "output_type": "stream",
     "text": [
      "\n"
     ]
    }
   ],
   "source": [
    "argument_keypoints = {}\n",
    "for topic in tqdm(valid_df.topic.unique()):\n",
    "    for stance in [-1, 1]:\n",
    "        topic_keypoint_ids = valid_df[(valid_df.topic==topic) & (valid_df.stance==stance)]['key_point_id'].tolist()\n",
    "        topic_keypoints = valid_df[(valid_df.topic==topic) & (valid_df.stance==stance)]['key_point'].tolist()\n",
    "        topic_kp_dict = dict(zip(topic_keypoint_ids, topic_keypoints))\n",
    "        \n",
    "        topic_argument_ids = valid_df[(valid_df.topic==topic) & (valid_df.stance==stance)]['arg_id'].tolist()\n",
    "        topic_arguments = valid_df[(valid_df.topic==topic) & (valid_df.stance==stance)]['argument'].tolist()\n",
    "        topic_arg_dict= dict(zip(topic_argument_ids, topic_arguments))\n",
    "        # match \n",
    "        argument_keypoints = match_argument_with_keypoints(argument_keypoints, topic_kp_dict, topic_arg_dict)"
   ]
  },
  {
   "cell_type": "code",
   "execution_count": 9,
   "metadata": {},
   "outputs": [
    {
     "data": {
      "text/plain": [
       "932"
      ]
     },
     "execution_count": 9,
     "metadata": {},
     "output_type": "execute_result"
    }
   ],
   "source": [
    "len(argument_keypoints)"
   ]
  },
  {
   "cell_type": "code",
   "execution_count": 10,
   "metadata": {},
   "outputs": [],
   "source": [
    "json.dump(argument_keypoints, open(\"paraphrase_detection_all_valid_predictions.json\", \"w\",encoding='utf-8'))"
   ]
  },
  {
   "cell_type": "code",
   "execution_count": 12,
   "metadata": {},
   "outputs": [
    {
     "name": "stdout",
     "output_type": "stream",
     "text": [
      "mAP strict= 0.7114848640492888 ; mAP relaxed = 0.878784591933353\n"
     ]
    }
   ],
   "source": [
    "! python3 ../src-py/track_1_kp_matching.py ../data paraphrase_detection_all_valid_predictions.json our_valid"
   ]
  },
  {
   "cell_type": "code",
   "execution_count": null,
   "metadata": {},
   "outputs": [],
   "source": []
  }
 ],
 "metadata": {
  "kernelspec": {
   "display_name": "Python 3",
   "language": "python",
   "name": "python3"
  },
  "language_info": {
   "codemirror_mode": {
    "name": "ipython",
    "version": 3
   },
   "file_extension": ".py",
   "mimetype": "text/x-python",
   "name": "python",
   "nbconvert_exporter": "python",
   "pygments_lexer": "ipython3",
   "version": "3.8.5"
  }
 },
 "nbformat": 4,
 "nbformat_minor": 4
}
