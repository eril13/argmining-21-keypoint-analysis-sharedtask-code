{
 "cells": [
  {
   "cell_type": "code",
   "execution_count": 2,
   "id": "333830a6-c203-4276-8c9f-e6bcfe4ad787",
   "metadata": {},
   "outputs": [],
   "source": [
    "import json\n",
    "import pandas as pd\n",
    "import numpy as np\n",
    "import matplotlib.pyplot as plt\n",
    "\n",
    "pd.set_option('display.max_colwidth', None)"
   ]
  },
  {
   "cell_type": "code",
   "execution_count": 31,
   "id": "36de71e7-6132-4127-b2a0-96d1ef15af8e",
   "metadata": {},
   "outputs": [],
   "source": [
    "training_df = pd.read_csv('path_to_training_file')\n",
    "valid_df = pd.read_csv('path_to_validation_file')"
   ]
  },
  {
   "cell_type": "code",
   "execution_count": 32,
   "id": "5326e7c9-06f9-48d3-9c85-ae420f0e6e29",
   "metadata": {},
   "outputs": [
    {
     "data": {
      "text/plain": [
       "People should be allowed to do whatever they want to their own bodies       132\n",
       "Alcohol and tobacco are more harmful drugs yet remain legal                 131\n",
       "Cannabis is safe/healthy/pain-relief                                        130\n",
       "If cannabis was legalized it could be regulated                             128\n",
       "Cannabis is financially beneficial                                          127\n",
       "                                                                           ... \n",
       "The government is essential to protect the rights of citizens                64\n",
       "Intellectual property restricts access to important information/products     61\n",
       "Religions are immoral and people should not follow them                      61\n",
       "Men are better suited to combat roles than women                             59\n",
       "The terminally ill would benefit from assisted suicide                       58\n",
       "Name: key_point, Length: 207, dtype: int64"
      ]
     },
     "execution_count": 32,
     "metadata": {},
     "output_type": "execute_result"
    }
   ],
   "source": [
    "training_df.key_point.value_counts()"
   ]
  },
  {
   "cell_type": "code",
   "execution_count": 6,
   "id": "2527c629-f707-4fdc-82da-554739d4e75b",
   "metadata": {
    "scrolled": true,
    "tags": []
   },
   "outputs": [
    {
     "data": {
      "text/html": [
       "<div>\n",
       "<style scoped>\n",
       "    .dataframe tbody tr th:only-of-type {\n",
       "        vertical-align: middle;\n",
       "    }\n",
       "\n",
       "    .dataframe tbody tr th {\n",
       "        vertical-align: top;\n",
       "    }\n",
       "\n",
       "    .dataframe thead th {\n",
       "        text-align: right;\n",
       "    }\n",
       "</style>\n",
       "<table border=\"1\" class=\"dataframe\">\n",
       "  <thead>\n",
       "    <tr style=\"text-align: right;\">\n",
       "      <th></th>\n",
       "      <th>arg_id</th>\n",
       "      <th>key_point_id</th>\n",
       "      <th>label</th>\n",
       "      <th>argument</th>\n",
       "      <th>topic</th>\n",
       "      <th>stance</th>\n",
       "      <th>key_point</th>\n",
       "    </tr>\n",
       "  </thead>\n",
       "  <tbody>\n",
       "    <tr>\n",
       "      <th>0</th>\n",
       "      <td>arg_0_0</td>\n",
       "      <td>kp_0_0</td>\n",
       "      <td>0</td>\n",
       "      <td>`people reach their limit when it comes to their quality of life and should be able to end their suffering. this can be done with little or no suffering by assistance and the person is able to say good bye.</td>\n",
       "      <td>Assisted suicide should be a criminal offence</td>\n",
       "      <td>-1</td>\n",
       "      <td>Assisted suicide gives dignity to the person that wants to commit it</td>\n",
       "    </tr>\n",
       "    <tr>\n",
       "      <th>1</th>\n",
       "      <td>arg_0_1</td>\n",
       "      <td>kp_0_0</td>\n",
       "      <td>0</td>\n",
       "      <td>A patient should be able to decide when they have had enough \"care\".</td>\n",
       "      <td>Assisted suicide should be a criminal offence</td>\n",
       "      <td>-1</td>\n",
       "      <td>Assisted suicide gives dignity to the person that wants to commit it</td>\n",
       "    </tr>\n",
       "    <tr>\n",
       "      <th>2</th>\n",
       "      <td>arg_0_2</td>\n",
       "      <td>kp_0_0</td>\n",
       "      <td>0</td>\n",
       "      <td>a person has the right to end their suffering and if somebody takes pity on them and chooses to help, that person should not be punished.</td>\n",
       "      <td>Assisted suicide should be a criminal offence</td>\n",
       "      <td>-1</td>\n",
       "      <td>Assisted suicide gives dignity to the person that wants to commit it</td>\n",
       "    </tr>\n",
       "    <tr>\n",
       "      <th>3</th>\n",
       "      <td>arg_0_4</td>\n",
       "      <td>kp_0_0</td>\n",
       "      <td>0</td>\n",
       "      <td>a person should have the right to be able to choose if they want to live or die</td>\n",
       "      <td>Assisted suicide should be a criminal offence</td>\n",
       "      <td>-1</td>\n",
       "      <td>Assisted suicide gives dignity to the person that wants to commit it</td>\n",
       "    </tr>\n",
       "    <tr>\n",
       "      <th>4</th>\n",
       "      <td>arg_0_5</td>\n",
       "      <td>kp_0_0</td>\n",
       "      <td>0</td>\n",
       "      <td>a person should have the right to die on their own terms</td>\n",
       "      <td>Assisted suicide should be a criminal offence</td>\n",
       "      <td>-1</td>\n",
       "      <td>Assisted suicide gives dignity to the person that wants to commit it</td>\n",
       "    </tr>\n",
       "  </tbody>\n",
       "</table>\n",
       "</div>"
      ],
      "text/plain": [
       "    arg_id key_point_id  label  \\\n",
       "0  arg_0_0       kp_0_0      0   \n",
       "1  arg_0_1       kp_0_0      0   \n",
       "2  arg_0_2       kp_0_0      0   \n",
       "3  arg_0_4       kp_0_0      0   \n",
       "4  arg_0_5       kp_0_0      0   \n",
       "\n",
       "                                                                                                                                                                                                         argument  \\\n",
       "0  `people reach their limit when it comes to their quality of life and should be able to end their suffering. this can be done with little or no suffering by assistance and the person is able to say good bye.   \n",
       "1                                                                                                                                            A patient should be able to decide when they have had enough \"care\".   \n",
       "2                                                                       a person has the right to end their suffering and if somebody takes pity on them and chooses to help, that person should not be punished.   \n",
       "3                                                                                                                                 a person should have the right to be able to choose if they want to live or die   \n",
       "4                                                                                                                                                        a person should have the right to die on their own terms   \n",
       "\n",
       "                                           topic  stance  \\\n",
       "0  Assisted suicide should be a criminal offence      -1   \n",
       "1  Assisted suicide should be a criminal offence      -1   \n",
       "2  Assisted suicide should be a criminal offence      -1   \n",
       "3  Assisted suicide should be a criminal offence      -1   \n",
       "4  Assisted suicide should be a criminal offence      -1   \n",
       "\n",
       "                                                              key_point  \n",
       "0  Assisted suicide gives dignity to the person that wants to commit it  \n",
       "1  Assisted suicide gives dignity to the person that wants to commit it  \n",
       "2  Assisted suicide gives dignity to the person that wants to commit it  \n",
       "3  Assisted suicide gives dignity to the person that wants to commit it  \n",
       "4  Assisted suicide gives dignity to the person that wants to commit it  "
      ]
     },
     "execution_count": 6,
     "metadata": {},
     "output_type": "execute_result"
    }
   ],
   "source": [
    "training_df.head()"
   ]
  },
  {
   "cell_type": "code",
   "execution_count": 6,
   "id": "515ce47c-a0eb-4604-933d-03502f20d41a",
   "metadata": {},
   "outputs": [
    {
     "data": {
      "image/png": "[encoded data removed]",
      "text/plain": [
       "<Figure size 432x288 with 1 Axes>"
      ]
     },
     "metadata": {
      "needs_background": "light"
     },
     "output_type": "display_data"
    }
   ],
   "source": [
    "keypoints_per_arg = [x[1] for x in training_df[training_df.label == 1].arg_id.value_counts().to_dict().items()]\n",
    "plt.hist(keypoints_per_arg)\n",
    "plt.show()"
   ]
  },
  {
   "cell_type": "code",
   "execution_count": 118,
   "id": "9809cfe2-3bd3-450c-8a6a-755ab267cc3d",
   "metadata": {},
   "outputs": [
    {
     "data": {
      "image/png": "[encoded data removed]",
      "text/plain": [
       "<Figure size 432x288 with 1 Axes>"
      ]
     },
     "metadata": {
      "needs_background": "light"
     },
     "output_type": "display_data"
    }
   ],
   "source": [
    "args_per_keypoints = [x[1] for x in training_df[training_df.label == 1].key_point_id.value_counts().to_dict().items()]\n",
    "plt.hist(args_per_keypoints)\n",
    "plt.show()"
   ]
  },
  {
   "cell_type": "markdown",
   "id": "d3dd6803-1787-40e2-a853-6ef63037aa36",
   "metadata": {},
   "source": [
    "-------------"
   ]
  },
  {
   "cell_type": "markdown",
   "id": "bddf73c0-55a2-49b7-aca3-830f8c138945",
   "metadata": {},
   "source": [
    "### Creating data for ContrastiveLoss:"
   ]
  },
  {
   "cell_type": "code",
   "execution_count": 9,
   "id": "7e4340ce-ad26-4a1c-be96-99bec75de9ea",
   "metadata": {
    "scrolled": true,
    "tags": []
   },
   "outputs": [
    {
     "data": {
      "text/html": [
       "<div>\n",
       "<style scoped>\n",
       "    .dataframe tbody tr th:only-of-type {\n",
       "        vertical-align: middle;\n",
       "    }\n",
       "\n",
       "    .dataframe tbody tr th {\n",
       "        vertical-align: top;\n",
       "    }\n",
       "\n",
       "    .dataframe thead th {\n",
       "        text-align: right;\n",
       "    }\n",
       "</style>\n",
       "<table border=\"1\" class=\"dataframe\">\n",
       "  <thead>\n",
       "    <tr style=\"text-align: right;\">\n",
       "      <th></th>\n",
       "      <th>arg_id</th>\n",
       "      <th>key_point_id</th>\n",
       "      <th>label</th>\n",
       "      <th>argument</th>\n",
       "      <th>topic</th>\n",
       "      <th>stance</th>\n",
       "      <th>key_point</th>\n",
       "    </tr>\n",
       "  </thead>\n",
       "  <tbody>\n",
       "    <tr>\n",
       "      <th>0</th>\n",
       "      <td>arg_0_0</td>\n",
       "      <td>kp_0_0</td>\n",
       "      <td>0</td>\n",
       "      <td>`people reach their limit when it comes to their quality of life and should be able to end their suffering. this can be done with little or no suffering by assistance and the person is able to say good bye.</td>\n",
       "      <td>Assisted suicide should be a criminal offence</td>\n",
       "      <td>-1</td>\n",
       "      <td>Assisted suicide gives dignity to the person that wants to commit it</td>\n",
       "    </tr>\n",
       "    <tr>\n",
       "      <th>1</th>\n",
       "      <td>arg_0_1</td>\n",
       "      <td>kp_0_0</td>\n",
       "      <td>0</td>\n",
       "      <td>A patient should be able to decide when they have had enough \"care\".</td>\n",
       "      <td>Assisted suicide should be a criminal offence</td>\n",
       "      <td>-1</td>\n",
       "      <td>Assisted suicide gives dignity to the person that wants to commit it</td>\n",
       "    </tr>\n",
       "    <tr>\n",
       "      <th>2</th>\n",
       "      <td>arg_0_2</td>\n",
       "      <td>kp_0_0</td>\n",
       "      <td>0</td>\n",
       "      <td>a person has the right to end their suffering and if somebody takes pity on them and chooses to help, that person should not be punished.</td>\n",
       "      <td>Assisted suicide should be a criminal offence</td>\n",
       "      <td>-1</td>\n",
       "      <td>Assisted suicide gives dignity to the person that wants to commit it</td>\n",
       "    </tr>\n",
       "    <tr>\n",
       "      <th>3</th>\n",
       "      <td>arg_0_4</td>\n",
       "      <td>kp_0_0</td>\n",
       "      <td>0</td>\n",
       "      <td>a person should have the right to be able to choose if they want to live or die</td>\n",
       "      <td>Assisted suicide should be a criminal offence</td>\n",
       "      <td>-1</td>\n",
       "      <td>Assisted suicide gives dignity to the person that wants to commit it</td>\n",
       "    </tr>\n",
       "    <tr>\n",
       "      <th>4</th>\n",
       "      <td>arg_0_5</td>\n",
       "      <td>kp_0_0</td>\n",
       "      <td>0</td>\n",
       "      <td>a person should have the right to die on their own terms</td>\n",
       "      <td>Assisted suicide should be a criminal offence</td>\n",
       "      <td>-1</td>\n",
       "      <td>Assisted suicide gives dignity to the person that wants to commit it</td>\n",
       "    </tr>\n",
       "  </tbody>\n",
       "</table>\n",
       "</div>"
      ],
      "text/plain": [
       "    arg_id key_point_id  label  \\\n",
       "0  arg_0_0       kp_0_0      0   \n",
       "1  arg_0_1       kp_0_0      0   \n",
       "2  arg_0_2       kp_0_0      0   \n",
       "3  arg_0_4       kp_0_0      0   \n",
       "4  arg_0_5       kp_0_0      0   \n",
       "\n",
       "                                                                                                                                                                                                         argument  \\\n",
       "0  `people reach their limit when it comes to their quality of life and should be able to end their suffering. this can be done with little or no suffering by assistance and the person is able to say good bye.   \n",
       "1                                                                                                                                            A patient should be able to decide when they have had enough \"care\".   \n",
       "2                                                                       a person has the right to end their suffering and if somebody takes pity on them and chooses to help, that person should not be punished.   \n",
       "3                                                                                                                                 a person should have the right to be able to choose if they want to live or die   \n",
       "4                                                                                                                                                        a person should have the right to die on their own terms   \n",
       "\n",
       "                                           topic  stance  \\\n",
       "0  Assisted suicide should be a criminal offence      -1   \n",
       "1  Assisted suicide should be a criminal offence      -1   \n",
       "2  Assisted suicide should be a criminal offence      -1   \n",
       "3  Assisted suicide should be a criminal offence      -1   \n",
       "4  Assisted suicide should be a criminal offence      -1   \n",
       "\n",
       "                                                              key_point  \n",
       "0  Assisted suicide gives dignity to the person that wants to commit it  \n",
       "1  Assisted suicide gives dignity to the person that wants to commit it  \n",
       "2  Assisted suicide gives dignity to the person that wants to commit it  \n",
       "3  Assisted suicide gives dignity to the person that wants to commit it  \n",
       "4  Assisted suicide gives dignity to the person that wants to commit it  "
      ]
     },
     "execution_count": 9,
     "metadata": {},
     "output_type": "execute_result"
    }
   ],
   "source": [
    "training_df.head()"
   ]
  },
  {
   "cell_type": "code",
   "execution_count": 52,
   "id": "8dd11760-4e22-4188-9bf0-2972a7e41235",
   "metadata": {},
   "outputs": [],
   "source": [
    "df = training_df.copy()\n",
    "df['keypoint'] = df.apply(lambda x: x['topic'] + ' <SEP> ' + x['key_point'], axis=1)\n",
    "df['label'] = df.label.apply(lambda x: int(x))\n",
    "df[['argument', 'keypoint', 'label']].to_csv('/workspace/ceph_data/keypoint-analysis-sharedtask/siamese-data/training_df_contrastive.csv')\n",
    "\n",
    "df = valid_df.copy()\n",
    "df['keypoint'] = df.apply(lambda x: x['topic'] + ' <SEP> ' + x['key_point'], axis=1)\n",
    "df['label'] = df.label.apply(lambda x: int(x))\n",
    "df[['argument', 'keypoint', 'label']].to_csv('/workspace/ceph_data/keypoint-analysis-sharedtask/siamese-data/valid_df_contrastive.csv')"
   ]
  },
  {
   "cell_type": "code",
   "execution_count": 51,
   "id": "7d1abc06-20db-4b0a-a71e-46eaea9861dc",
   "metadata": {
    "scrolled": true,
    "tags": []
   },
   "outputs": [
    {
     "data": {
      "text/html": [
       "<div>\n",
       "<style scoped>\n",
       "    .dataframe tbody tr th:only-of-type {\n",
       "        vertical-align: middle;\n",
       "    }\n",
       "\n",
       "    .dataframe tbody tr th {\n",
       "        vertical-align: top;\n",
       "    }\n",
       "\n",
       "    .dataframe thead th {\n",
       "        text-align: right;\n",
       "    }\n",
       "</style>\n",
       "<table border=\"1\" class=\"dataframe\">\n",
       "  <thead>\n",
       "    <tr style=\"text-align: right;\">\n",
       "      <th></th>\n",
       "      <th>Unnamed: 0</th>\n",
       "      <th>arg_id</th>\n",
       "      <th>key_point_id</th>\n",
       "      <th>label</th>\n",
       "      <th>argument</th>\n",
       "      <th>topic</th>\n",
       "      <th>stance</th>\n",
       "      <th>key_point</th>\n",
       "      <th>keypoint</th>\n",
       "    </tr>\n",
       "  </thead>\n",
       "  <tbody>\n",
       "    <tr>\n",
       "      <th>0</th>\n",
       "      <td>0</td>\n",
       "      <td>arg_4_121</td>\n",
       "      <td>kp_4_5</td>\n",
       "      <td>1</td>\n",
       "      <td>A real education is about giving students the tools to learn, think, and express themselves; dictating to them what to wear sends a strong message that we don't trust them to think on their own.</td>\n",
       "      <td>We should abandon the use of school uniform</td>\n",
       "      <td>1</td>\n",
       "      <td>School uniform is harming the student's self expression</td>\n",
       "      <td>We should abandon the use of school uniform &lt;SEP&gt; School uniform is harming the student's self expression</td>\n",
       "    </tr>\n",
       "    <tr>\n",
       "      <th>1</th>\n",
       "      <td>1</td>\n",
       "      <td>arg_4_122</td>\n",
       "      <td>kp_4_5</td>\n",
       "      <td>1</td>\n",
       "      <td>children express themselves through the clothes they wear and should be able to do this at school</td>\n",
       "      <td>We should abandon the use of school uniform</td>\n",
       "      <td>1</td>\n",
       "      <td>School uniform is harming the student's self expression</td>\n",
       "      <td>We should abandon the use of school uniform &lt;SEP&gt; School uniform is harming the student's self expression</td>\n",
       "    </tr>\n",
       "    <tr>\n",
       "      <th>2</th>\n",
       "      <td>3</td>\n",
       "      <td>arg_4_124</td>\n",
       "      <td>kp_4_5</td>\n",
       "      <td>1</td>\n",
       "      <td>children should be allowed to express themselves</td>\n",
       "      <td>We should abandon the use of school uniform</td>\n",
       "      <td>1</td>\n",
       "      <td>School uniform is harming the student's self expression</td>\n",
       "      <td>We should abandon the use of school uniform &lt;SEP&gt; School uniform is harming the student's self expression</td>\n",
       "    </tr>\n",
       "    <tr>\n",
       "      <th>3</th>\n",
       "      <td>5</td>\n",
       "      <td>arg_4_129</td>\n",
       "      <td>kp_4_5</td>\n",
       "      <td>1</td>\n",
       "      <td>it is not fair to not allow children to express their personality through dress as long as it is appropriate.</td>\n",
       "      <td>We should abandon the use of school uniform</td>\n",
       "      <td>1</td>\n",
       "      <td>School uniform is harming the student's self expression</td>\n",
       "      <td>We should abandon the use of school uniform &lt;SEP&gt; School uniform is harming the student's self expression</td>\n",
       "    </tr>\n",
       "    <tr>\n",
       "      <th>4</th>\n",
       "      <td>7</td>\n",
       "      <td>arg_4_131</td>\n",
       "      <td>kp_4_5</td>\n",
       "      <td>1</td>\n",
       "      <td>kids should be able to express them selves with their clothing</td>\n",
       "      <td>We should abandon the use of school uniform</td>\n",
       "      <td>1</td>\n",
       "      <td>School uniform is harming the student's self expression</td>\n",
       "      <td>We should abandon the use of school uniform &lt;SEP&gt; School uniform is harming the student's self expression</td>\n",
       "    </tr>\n",
       "  </tbody>\n",
       "</table>\n",
       "</div>"
      ],
      "text/plain": [
       "   Unnamed: 0     arg_id key_point_id  label  \\\n",
       "0           0  arg_4_121       kp_4_5      1   \n",
       "1           1  arg_4_122       kp_4_5      1   \n",
       "2           3  arg_4_124       kp_4_5      1   \n",
       "3           5  arg_4_129       kp_4_5      1   \n",
       "4           7  arg_4_131       kp_4_5      1   \n",
       "\n",
       "                                                                                                                                                                                             argument  \\\n",
       "0  A real education is about giving students the tools to learn, think, and express themselves; dictating to them what to wear sends a strong message that we don't trust them to think on their own.   \n",
       "1                                                                                                   children express themselves through the clothes they wear and should be able to do this at school   \n",
       "2                                                                                                                                                    children should be allowed to express themselves   \n",
       "3                                                                                       it is not fair to not allow children to express their personality through dress as long as it is appropriate.   \n",
       "4                                                                                                                                      kids should be able to express them selves with their clothing   \n",
       "\n",
       "                                         topic  stance  \\\n",
       "0  We should abandon the use of school uniform       1   \n",
       "1  We should abandon the use of school uniform       1   \n",
       "2  We should abandon the use of school uniform       1   \n",
       "3  We should abandon the use of school uniform       1   \n",
       "4  We should abandon the use of school uniform       1   \n",
       "\n",
       "                                                 key_point  \\\n",
       "0  School uniform is harming the student's self expression   \n",
       "1  School uniform is harming the student's self expression   \n",
       "2  School uniform is harming the student's self expression   \n",
       "3  School uniform is harming the student's self expression   \n",
       "4  School uniform is harming the student's self expression   \n",
       "\n",
       "                                                                                                    keypoint  \n",
       "0  We should abandon the use of school uniform <SEP> School uniform is harming the student's self expression  \n",
       "1  We should abandon the use of school uniform <SEP> School uniform is harming the student's self expression  \n",
       "2  We should abandon the use of school uniform <SEP> School uniform is harming the student's self expression  \n",
       "3  We should abandon the use of school uniform <SEP> School uniform is harming the student's self expression  \n",
       "4  We should abandon the use of school uniform <SEP> School uniform is harming the student's self expression  "
      ]
     },
     "execution_count": 51,
     "metadata": {},
     "output_type": "execute_result"
    }
   ],
   "source": [
    "df.head()"
   ]
  },
  {
   "cell_type": "markdown",
   "id": "80cc2745-6ab1-4eab-947d-f24a3aa687e4",
   "metadata": {},
   "source": [
    "----------"
   ]
  }
 ],
 "metadata": {
  "kernelspec": {
   "display_name": "Python 3",
   "language": "python",
   "name": "python3"
  },
  "language_info": {
   "codemirror_mode": {
    "name": "ipython",
    "version": 3
   },
   "file_extension": ".py",
   "mimetype": "text/x-python",
   "name": "python",
   "nbconvert_exporter": "python",
   "pygments_lexer": "ipython3",
   "version": "3.6.8"
  }
 },
 "nbformat": 4,
 "nbformat_minor": 5
}
