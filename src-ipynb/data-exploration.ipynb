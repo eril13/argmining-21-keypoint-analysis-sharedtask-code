{
 "cells": [
  {
   "cell_type": "code",
   "execution_count": 1,
   "metadata": {},
   "outputs": [],
   "source": [
    "import pandas as pd\n",
    "import numpy as np\n",
    "import json"
   ]
  },
  {
   "cell_type": "code",
   "execution_count": 2,
   "metadata": {},
   "outputs": [],
   "source": [
    "df = pd.read_csv('../data/arg-kp/ArgKP_dataset.csv')"
   ]
  },
  {
   "cell_type": "code",
   "execution_count": 3,
   "metadata": {},
   "outputs": [
    {
     "data": {
      "text/html": [
       "<div>\n",
       "<style scoped>\n",
       "    .dataframe tbody tr th:only-of-type {\n",
       "        vertical-align: middle;\n",
       "    }\n",
       "\n",
       "    .dataframe tbody tr th {\n",
       "        vertical-align: top;\n",
       "    }\n",
       "\n",
       "    .dataframe thead th {\n",
       "        text-align: right;\n",
       "    }\n",
       "</style>\n",
       "<table border=\"1\" class=\"dataframe\">\n",
       "  <thead>\n",
       "    <tr style=\"text-align: right;\">\n",
       "      <th></th>\n",
       "      <th>topic</th>\n",
       "      <th>argument</th>\n",
       "      <th>key_point</th>\n",
       "      <th>stance</th>\n",
       "      <th>label</th>\n",
       "    </tr>\n",
       "  </thead>\n",
       "  <tbody>\n",
       "    <tr>\n",
       "      <th>0</th>\n",
       "      <td>Assisted suicide should be a criminal offence</td>\n",
       "      <td>`people reach their limit when it comes to the...</td>\n",
       "      <td>Assisted suicide gives dignity to the person t...</td>\n",
       "      <td>-1</td>\n",
       "      <td>0</td>\n",
       "    </tr>\n",
       "    <tr>\n",
       "      <th>1</th>\n",
       "      <td>Assisted suicide should be a criminal offence</td>\n",
       "      <td>a cure or treatment may be discovered shortly ...</td>\n",
       "      <td>Assisted suicide allows people to solicit some...</td>\n",
       "      <td>1</td>\n",
       "      <td>0</td>\n",
       "    </tr>\n",
       "    <tr>\n",
       "      <th>2</th>\n",
       "      <td>Assisted suicide should be a criminal offence</td>\n",
       "      <td>a cure or treatment may be discovered shortly ...</td>\n",
       "      <td>Assisted suicide is akin to killing someone</td>\n",
       "      <td>1</td>\n",
       "      <td>0</td>\n",
       "    </tr>\n",
       "    <tr>\n",
       "      <th>3</th>\n",
       "      <td>Assisted suicide should be a criminal offence</td>\n",
       "      <td>a cure or treatment may be discovered shortly ...</td>\n",
       "      <td>Assisted suicide should not be allowed because...</td>\n",
       "      <td>1</td>\n",
       "      <td>1</td>\n",
       "    </tr>\n",
       "    <tr>\n",
       "      <th>4</th>\n",
       "      <td>Assisted suicide should be a criminal offence</td>\n",
       "      <td>a cure or treatment may be discovered shortly ...</td>\n",
       "      <td>Assisted suicide violates the doctor's role</td>\n",
       "      <td>1</td>\n",
       "      <td>0</td>\n",
       "    </tr>\n",
       "  </tbody>\n",
       "</table>\n",
       "</div>"
      ],
      "text/plain": [
       "                                           topic  \\\n",
       "0  Assisted suicide should be a criminal offence   \n",
       "1  Assisted suicide should be a criminal offence   \n",
       "2  Assisted suicide should be a criminal offence   \n",
       "3  Assisted suicide should be a criminal offence   \n",
       "4  Assisted suicide should be a criminal offence   \n",
       "\n",
       "                                            argument  \\\n",
       "0  `people reach their limit when it comes to the...   \n",
       "1  a cure or treatment may be discovered shortly ...   \n",
       "2  a cure or treatment may be discovered shortly ...   \n",
       "3  a cure or treatment may be discovered shortly ...   \n",
       "4  a cure or treatment may be discovered shortly ...   \n",
       "\n",
       "                                           key_point  stance  label  \n",
       "0  Assisted suicide gives dignity to the person t...      -1      0  \n",
       "1  Assisted suicide allows people to solicit some...       1      0  \n",
       "2        Assisted suicide is akin to killing someone       1      0  \n",
       "3  Assisted suicide should not be allowed because...       1      1  \n",
       "4        Assisted suicide violates the doctor's role       1      0  "
      ]
     },
     "execution_count": 3,
     "metadata": {},
     "output_type": "execute_result"
    }
   ],
   "source": [
    "df.head()"
   ]
  },
  {
   "cell_type": "code",
   "execution_count": 4,
   "metadata": {},
   "outputs": [
    {
     "data": {
      "text/plain": [
       "People should be allowed to do whatever they want to their own bodies       132\n",
       "Alcohol and tobacco are more harmful drugs yet remain legal                 131\n",
       "Cannabis is safe/healthy/pain-relief                                        130\n",
       "If cannabis was legalized it could be regulated                             128\n",
       "Legalizing sex work boosts the economy                                      127\n",
       "                                                                           ... \n",
       "Banning guns would save lives                                                63\n",
       "Intellectual property restricts access to important information/products     61\n",
       "Religions are immoral and people should not follow them                      61\n",
       "Men are better suited to combat roles than women                             59\n",
       "The terminally ill would benefit from assisted suicide                       58\n",
       "Name: key_point, Length: 243, dtype: int64"
      ]
     },
     "execution_count": 4,
     "metadata": {},
     "output_type": "execute_result"
    }
   ],
   "source": [
    "df.key_point.value_counts()"
   ]
  },
  {
   "cell_type": "code",
   "execution_count": null,
   "metadata": {},
   "outputs": [],
   "source": []
  }
 ],
 "metadata": {
  "kernelspec": {
   "display_name": "Python 3",
   "language": "python",
   "name": "python3"
  },
  "language_info": {
   "codemirror_mode": {
    "name": "ipython",
    "version": 3
   },
   "file_extension": ".py",
   "mimetype": "text/x-python",
   "name": "python",
   "nbconvert_exporter": "python",
   "pygments_lexer": "ipython3",
   "version": "3.7.2"
  }
 },
 "nbformat": 4,
 "nbformat_minor": 2
}
