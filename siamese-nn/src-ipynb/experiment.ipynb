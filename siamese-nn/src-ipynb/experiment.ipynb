{
 "cells": [
  {
   "cell_type": "code",
   "execution_count": 13,
   "id": "333830a6-c203-4276-8c9f-e6bcfe4ad787",
   "metadata": {},
   "outputs": [],
   "source": [
    "import json\n",
    "import pandas as pd\n",
    "import numpy as np\n",
    "import matplotlib.pyplot as plt"
   ]
  },
  {
   "cell_type": "code",
   "execution_count": 6,
   "id": "c922e465-9241-4f31-b295-05264d8751f9",
   "metadata": {},
   "outputs": [],
   "source": [
    "kp_training_df = pd.read_csv('../../KPA_2021_shared_task/kpm_data/key_points_train.csv')\n",
    "arg_training_df = pd.read_csv('../../KPA_2021_shared_task/kpm_data/arguments_train.csv')\n",
    "labels_df = pd.read_csv('../../KPA_2021_shared_task/kpm_data/labels_train.csv')"
   ]
  },
  {
   "cell_type": "code",
   "execution_count": 7,
   "id": "26dab9f7-90b7-407f-b048-8da5c371aaf4",
   "metadata": {},
   "outputs": [
    {
     "data": {
      "text/html": [
       "<div>\n",
       "<style scoped>\n",
       "    .dataframe tbody tr th:only-of-type {\n",
       "        vertical-align: middle;\n",
       "    }\n",
       "\n",
       "    .dataframe tbody tr th {\n",
       "        vertical-align: top;\n",
       "    }\n",
       "\n",
       "    .dataframe thead th {\n",
       "        text-align: right;\n",
       "    }\n",
       "</style>\n",
       "<table border=\"1\" class=\"dataframe\">\n",
       "  <thead>\n",
       "    <tr style=\"text-align: right;\">\n",
       "      <th></th>\n",
       "      <th>key_point_id</th>\n",
       "      <th>key_point</th>\n",
       "      <th>topic</th>\n",
       "      <th>stance</th>\n",
       "    </tr>\n",
       "  </thead>\n",
       "  <tbody>\n",
       "    <tr>\n",
       "      <th>0</th>\n",
       "      <td>kp_0_0</td>\n",
       "      <td>Assisted suicide gives dignity to the person t...</td>\n",
       "      <td>Assisted suicide should be a criminal offence</td>\n",
       "      <td>-1</td>\n",
       "    </tr>\n",
       "    <tr>\n",
       "      <th>1</th>\n",
       "      <td>kp_0_1</td>\n",
       "      <td>Assisted suicide reduces suffering</td>\n",
       "      <td>Assisted suicide should be a criminal offence</td>\n",
       "      <td>-1</td>\n",
       "    </tr>\n",
       "    <tr>\n",
       "      <th>2</th>\n",
       "      <td>kp_0_2</td>\n",
       "      <td>People should have the freedom to choose to en...</td>\n",
       "      <td>Assisted suicide should be a criminal offence</td>\n",
       "      <td>-1</td>\n",
       "    </tr>\n",
       "    <tr>\n",
       "      <th>3</th>\n",
       "      <td>kp_0_3</td>\n",
       "      <td>The terminally ill would benefit from assisted...</td>\n",
       "      <td>Assisted suicide should be a criminal offence</td>\n",
       "      <td>-1</td>\n",
       "    </tr>\n",
       "    <tr>\n",
       "      <th>4</th>\n",
       "      <td>kp_0_4</td>\n",
       "      <td>Assisted suicide allows people to solicit some...</td>\n",
       "      <td>Assisted suicide should be a criminal offence</td>\n",
       "      <td>1</td>\n",
       "    </tr>\n",
       "  </tbody>\n",
       "</table>\n",
       "</div>"
      ],
      "text/plain": [
       "  key_point_id                                          key_point  \\\n",
       "0       kp_0_0  Assisted suicide gives dignity to the person t...   \n",
       "1       kp_0_1                 Assisted suicide reduces suffering   \n",
       "2       kp_0_2  People should have the freedom to choose to en...   \n",
       "3       kp_0_3  The terminally ill would benefit from assisted...   \n",
       "4       kp_0_4  Assisted suicide allows people to solicit some...   \n",
       "\n",
       "                                           topic  stance  \n",
       "0  Assisted suicide should be a criminal offence      -1  \n",
       "1  Assisted suicide should be a criminal offence      -1  \n",
       "2  Assisted suicide should be a criminal offence      -1  \n",
       "3  Assisted suicide should be a criminal offence      -1  \n",
       "4  Assisted suicide should be a criminal offence       1  "
      ]
     },
     "execution_count": 7,
     "metadata": {},
     "output_type": "execute_result"
    }
   ],
   "source": [
    "kp_training_df.head()"
   ]
  },
  {
   "cell_type": "code",
   "execution_count": 8,
   "id": "35475910-da9e-45d6-9297-47929b2933c9",
   "metadata": {},
   "outputs": [
    {
     "data": {
      "text/html": [
       "<div>\n",
       "<style scoped>\n",
       "    .dataframe tbody tr th:only-of-type {\n",
       "        vertical-align: middle;\n",
       "    }\n",
       "\n",
       "    .dataframe tbody tr th {\n",
       "        vertical-align: top;\n",
       "    }\n",
       "\n",
       "    .dataframe thead th {\n",
       "        text-align: right;\n",
       "    }\n",
       "</style>\n",
       "<table border=\"1\" class=\"dataframe\">\n",
       "  <thead>\n",
       "    <tr style=\"text-align: right;\">\n",
       "      <th></th>\n",
       "      <th>arg_id</th>\n",
       "      <th>key_point_id</th>\n",
       "      <th>label</th>\n",
       "    </tr>\n",
       "  </thead>\n",
       "  <tbody>\n",
       "    <tr>\n",
       "      <th>0</th>\n",
       "      <td>arg_0_0</td>\n",
       "      <td>kp_0_0</td>\n",
       "      <td>0</td>\n",
       "    </tr>\n",
       "    <tr>\n",
       "      <th>1</th>\n",
       "      <td>arg_0_121</td>\n",
       "      <td>kp_0_4</td>\n",
       "      <td>0</td>\n",
       "    </tr>\n",
       "    <tr>\n",
       "      <th>2</th>\n",
       "      <td>arg_0_121</td>\n",
       "      <td>kp_0_5</td>\n",
       "      <td>0</td>\n",
       "    </tr>\n",
       "    <tr>\n",
       "      <th>3</th>\n",
       "      <td>arg_0_121</td>\n",
       "      <td>kp_0_6</td>\n",
       "      <td>1</td>\n",
       "    </tr>\n",
       "    <tr>\n",
       "      <th>4</th>\n",
       "      <td>arg_0_121</td>\n",
       "      <td>kp_0_7</td>\n",
       "      <td>0</td>\n",
       "    </tr>\n",
       "  </tbody>\n",
       "</table>\n",
       "</div>"
      ],
      "text/plain": [
       "      arg_id key_point_id  label\n",
       "0    arg_0_0       kp_0_0      0\n",
       "1  arg_0_121       kp_0_4      0\n",
       "2  arg_0_121       kp_0_5      0\n",
       "3  arg_0_121       kp_0_6      1\n",
       "4  arg_0_121       kp_0_7      0"
      ]
     },
     "execution_count": 8,
     "metadata": {},
     "output_type": "execute_result"
    }
   ],
   "source": [
    "labels_df.head()"
   ]
  },
  {
   "cell_type": "code",
   "execution_count": 21,
   "id": "515ce47c-a0eb-4604-933d-03502f20d41a",
   "metadata": {},
   "outputs": [
    {
     "data": {
      "image/png": "[encoded data removed]",
      "text/plain": [
       "<Figure size 432x288 with 1 Axes>"
      ]
     },
     "metadata": {
      "needs_background": "light"
     },
     "output_type": "display_data"
    }
   ],
   "source": [
    "keypoints_per_arg = [x[1] for x in labels_df[labels_df.label == 1].arg_id.value_counts().to_dict().items()]\n",
    "plt.hist(keypoints_per_arg)\n",
    "plt.show()"
   ]
  },
  {
   "cell_type": "code",
   "execution_count": 20,
   "id": "85af9c8e-f8c8-4511-ab54-631b7de22c56",
   "metadata": {},
   "outputs": [
    {
     "data": {
      "image/png": "[encoded data removed]",
      "text/plain": [
       "<Figure size 432x288 with 1 Axes>"
      ]
     },
     "metadata": {
      "needs_background": "light"
     },
     "output_type": "display_data"
    }
   ],
   "source": [
    "args_per_keypoints = [x[1] for x in labels_df[labels_df.label == 1].key_point_id.value_counts().to_dict().items()]\n",
    "plt.hist(args_per_keypoints)\n",
    "plt.show()"
   ]
  },
  {
   "cell_type": "markdown",
   "id": "d3dd6803-1787-40e2-a853-6ef63037aa36",
   "metadata": {},
   "source": [
    "-------------"
   ]
  },
  {
   "cell_type": "markdown",
   "id": "ef58508c-8b86-496f-bf44-30dd5f4d3ea5",
   "metadata": {},
   "source": [
    "### Preparing data:"
   ]
  },
  {
   "cell_type": "code",
   "execution_count": 31,
   "id": "f8fc9287-1700-493f-94e2-73e4a4c17909",
   "metadata": {},
   "outputs": [],
   "source": [
    "import random"
   ]
  },
  {
   "cell_type": "code",
   "execution_count": 46,
   "id": "c649ec27-8ea3-44d5-a68f-9f78081d59f1",
   "metadata": {},
   "outputs": [],
   "source": [
    "def get_cand_neg(argument, pos_keypoint, keypoints):\n",
    "    return random.sample(keypoints,1)[0]\n",
    "\n",
    "def gen_triplet(arguments, keypoints, labels_df):\n",
    "    triplets = []\n",
    "    for arg_id, argument in arguments.items():\n",
    "        neg_key_points = [row['keypoint'] for idx, row in labels_df[labels_df.arg_id == arg_id].iterrows() if row['label'] == 0]\n",
    "        pos_key_points = [row['keypoint'] for idx, row in labels_df[labels_df.arg_id == arg_id].iterrows() if row['label'] == 1]\n",
    "        if len(neg_key_point) == 0:\n",
    "            neg_key_points = \n",
    "        for pos_key_point in pos_key_points:\n",
    "            neg_key_point = get_cand_neg(argument, pos_key_point, neg_key_points)\n",
    "            triplets.append([argument, pos_key_point, neg_key_point ])\n",
    "    return triplets"
   ]
  },
  {
   "cell_type": "code",
   "execution_count": 29,
   "id": "1748ab70-3e7f-490d-a942-95c95fa2a631",
   "metadata": {},
   "outputs": [],
   "source": [
    "arguments = pd.Series(arg_training_df.argument.values, index=arg_training_df.arg_id).to_dict()\n",
    "key_points= pd.Series(kp_training_df.key_point.values, index=kp_training_df.key_point_id).to_dict()\n",
    "\n",
    "labels_df['argument'] = labels_df.arg_id.apply(lambda x: arguments[x])\n",
    "labels_df['keypoint'] = labels_df.key_point_id.apply(lambda x: key_points[x])"
   ]
  },
  {
   "cell_type": "code",
   "execution_count": 30,
   "id": "8d8260a2-33ec-423b-bf3e-bc9fa91c42df",
   "metadata": {},
   "outputs": [
    {
     "data": {
      "text/html": [
       "<div>\n",
       "<style scoped>\n",
       "    .dataframe tbody tr th:only-of-type {\n",
       "        vertical-align: middle;\n",
       "    }\n",
       "\n",
       "    .dataframe tbody tr th {\n",
       "        vertical-align: top;\n",
       "    }\n",
       "\n",
       "    .dataframe thead th {\n",
       "        text-align: right;\n",
       "    }\n",
       "</style>\n",
       "<table border=\"1\" class=\"dataframe\">\n",
       "  <thead>\n",
       "    <tr style=\"text-align: right;\">\n",
       "      <th></th>\n",
       "      <th>arg_id</th>\n",
       "      <th>key_point_id</th>\n",
       "      <th>label</th>\n",
       "      <th>argument</th>\n",
       "      <th>keypoint</th>\n",
       "    </tr>\n",
       "  </thead>\n",
       "  <tbody>\n",
       "    <tr>\n",
       "      <th>0</th>\n",
       "      <td>arg_0_0</td>\n",
       "      <td>kp_0_0</td>\n",
       "      <td>0</td>\n",
       "      <td>`people reach their limit when it comes to the...</td>\n",
       "      <td>Assisted suicide gives dignity to the person t...</td>\n",
       "    </tr>\n",
       "    <tr>\n",
       "      <th>1</th>\n",
       "      <td>arg_0_121</td>\n",
       "      <td>kp_0_4</td>\n",
       "      <td>0</td>\n",
       "      <td>a cure or treatment may be discovered shortly ...</td>\n",
       "      <td>Assisted suicide allows people to solicit some...</td>\n",
       "    </tr>\n",
       "    <tr>\n",
       "      <th>2</th>\n",
       "      <td>arg_0_121</td>\n",
       "      <td>kp_0_5</td>\n",
       "      <td>0</td>\n",
       "      <td>a cure or treatment may be discovered shortly ...</td>\n",
       "      <td>Assisted suicide is akin to killing someone</td>\n",
       "    </tr>\n",
       "    <tr>\n",
       "      <th>3</th>\n",
       "      <td>arg_0_121</td>\n",
       "      <td>kp_0_6</td>\n",
       "      <td>1</td>\n",
       "      <td>a cure or treatment may be discovered shortly ...</td>\n",
       "      <td>Assisted suicide should not be allowed because...</td>\n",
       "    </tr>\n",
       "    <tr>\n",
       "      <th>4</th>\n",
       "      <td>arg_0_121</td>\n",
       "      <td>kp_0_7</td>\n",
       "      <td>0</td>\n",
       "      <td>a cure or treatment may be discovered shortly ...</td>\n",
       "      <td>Assisted suicide violates the doctor's role</td>\n",
       "    </tr>\n",
       "  </tbody>\n",
       "</table>\n",
       "</div>"
      ],
      "text/plain": [
       "      arg_id key_point_id  label  \\\n",
       "0    arg_0_0       kp_0_0      0   \n",
       "1  arg_0_121       kp_0_4      0   \n",
       "2  arg_0_121       kp_0_5      0   \n",
       "3  arg_0_121       kp_0_6      1   \n",
       "4  arg_0_121       kp_0_7      0   \n",
       "\n",
       "                                            argument  \\\n",
       "0  `people reach their limit when it comes to the...   \n",
       "1  a cure or treatment may be discovered shortly ...   \n",
       "2  a cure or treatment may be discovered shortly ...   \n",
       "3  a cure or treatment may be discovered shortly ...   \n",
       "4  a cure or treatment may be discovered shortly ...   \n",
       "\n",
       "                                            keypoint  \n",
       "0  Assisted suicide gives dignity to the person t...  \n",
       "1  Assisted suicide allows people to solicit some...  \n",
       "2        Assisted suicide is akin to killing someone  \n",
       "3  Assisted suicide should not be allowed because...  \n",
       "4        Assisted suicide violates the doctor's role  "
      ]
     },
     "execution_count": 30,
     "metadata": {},
     "output_type": "execute_result"
    }
   ],
   "source": [
    "labels_df.head()"
   ]
  },
  {
   "cell_type": "code",
   "execution_count": 47,
   "id": "cb4df5c6-576e-4eda-a292-67764538c044",
   "metadata": {},
   "outputs": [
    {
     "ename": "ValueError",
     "evalue": "Sample larger than population or is negative",
     "output_type": "error",
     "traceback": [
      "\u001b[0;31m---------------------------------------------------------------------------\u001b[0m",
      "\u001b[0;31mValueError\u001b[0m                                Traceback (most recent call last)",
      "\u001b[0;32m<ipython-input-47-9a8264575ebe>\u001b[0m in \u001b[0;36m<module>\u001b[0;34m\u001b[0m\n\u001b[0;32m----> 1\u001b[0;31m \u001b[0mtriplets_data\u001b[0m \u001b[0;34m=\u001b[0m \u001b[0mgen_triplet\u001b[0m\u001b[0;34m(\u001b[0m\u001b[0marguments\u001b[0m\u001b[0;34m,\u001b[0m \u001b[0mkey_points\u001b[0m\u001b[0;34m,\u001b[0m \u001b[0mlabels_df\u001b[0m\u001b[0;34m)\u001b[0m\u001b[0;34m\u001b[0m\u001b[0;34m\u001b[0m\u001b[0m\n\u001b[0m",
      "\u001b[0;32m<ipython-input-46-bc79bdd0443b>\u001b[0m in \u001b[0;36mgen_triplet\u001b[0;34m(arguments, keypoints, labels_df)\u001b[0m\n\u001b[1;32m      8\u001b[0m         \u001b[0mpos_key_points\u001b[0m \u001b[0;34m=\u001b[0m \u001b[0;34m[\u001b[0m\u001b[0mrow\u001b[0m\u001b[0;34m[\u001b[0m\u001b[0;34m'keypoint'\u001b[0m\u001b[0;34m]\u001b[0m \u001b[0;32mfor\u001b[0m \u001b[0midx\u001b[0m\u001b[0;34m,\u001b[0m \u001b[0mrow\u001b[0m \u001b[0;32min\u001b[0m \u001b[0mlabels_df\u001b[0m\u001b[0;34m[\u001b[0m\u001b[0mlabels_df\u001b[0m\u001b[0;34m.\u001b[0m\u001b[0marg_id\u001b[0m \u001b[0;34m==\u001b[0m \u001b[0marg_id\u001b[0m\u001b[0;34m]\u001b[0m\u001b[0;34m.\u001b[0m\u001b[0miterrows\u001b[0m\u001b[0;34m(\u001b[0m\u001b[0;34m)\u001b[0m \u001b[0;32mif\u001b[0m \u001b[0mrow\u001b[0m\u001b[0;34m[\u001b[0m\u001b[0;34m'label'\u001b[0m\u001b[0;34m]\u001b[0m \u001b[0;34m==\u001b[0m \u001b[0;36m1\u001b[0m\u001b[0;34m]\u001b[0m\u001b[0;34m\u001b[0m\u001b[0;34m\u001b[0m\u001b[0m\n\u001b[1;32m      9\u001b[0m         \u001b[0;32mfor\u001b[0m \u001b[0mpos_key_point\u001b[0m \u001b[0;32min\u001b[0m \u001b[0mpos_key_points\u001b[0m\u001b[0;34m:\u001b[0m\u001b[0;34m\u001b[0m\u001b[0;34m\u001b[0m\u001b[0m\n\u001b[0;32m---> 10\u001b[0;31m             \u001b[0mneg_key_point\u001b[0m \u001b[0;34m=\u001b[0m \u001b[0mget_cand_neg\u001b[0m\u001b[0;34m(\u001b[0m\u001b[0margument\u001b[0m\u001b[0;34m,\u001b[0m \u001b[0mpos_key_point\u001b[0m\u001b[0;34m,\u001b[0m \u001b[0mneg_key_points\u001b[0m\u001b[0;34m)\u001b[0m\u001b[0;34m\u001b[0m\u001b[0;34m\u001b[0m\u001b[0m\n\u001b[0m\u001b[1;32m     11\u001b[0m             \u001b[0mtriplets\u001b[0m\u001b[0;34m.\u001b[0m\u001b[0mappend\u001b[0m\u001b[0;34m(\u001b[0m\u001b[0;34m[\u001b[0m\u001b[0margument\u001b[0m\u001b[0;34m,\u001b[0m \u001b[0mpos_key_point\u001b[0m\u001b[0;34m,\u001b[0m \u001b[0mneg_key_point\u001b[0m \u001b[0;34m]\u001b[0m\u001b[0;34m)\u001b[0m\u001b[0;34m\u001b[0m\u001b[0;34m\u001b[0m\u001b[0m\n\u001b[1;32m     12\u001b[0m     \u001b[0;32mreturn\u001b[0m \u001b[0mtriplets\u001b[0m\u001b[0;34m\u001b[0m\u001b[0;34m\u001b[0m\u001b[0m\n",
      "\u001b[0;32m<ipython-input-46-bc79bdd0443b>\u001b[0m in \u001b[0;36mget_cand_neg\u001b[0;34m(argument, pos_keypoint, keypoints)\u001b[0m\n\u001b[1;32m      1\u001b[0m \u001b[0;32mdef\u001b[0m \u001b[0mget_cand_neg\u001b[0m\u001b[0;34m(\u001b[0m\u001b[0margument\u001b[0m\u001b[0;34m,\u001b[0m \u001b[0mpos_keypoint\u001b[0m\u001b[0;34m,\u001b[0m \u001b[0mkeypoints\u001b[0m\u001b[0;34m)\u001b[0m\u001b[0;34m:\u001b[0m\u001b[0;34m\u001b[0m\u001b[0;34m\u001b[0m\u001b[0m\n\u001b[0;32m----> 2\u001b[0;31m     \u001b[0;32mreturn\u001b[0m \u001b[0mrandom\u001b[0m\u001b[0;34m.\u001b[0m\u001b[0msample\u001b[0m\u001b[0;34m(\u001b[0m\u001b[0mkeypoints\u001b[0m\u001b[0;34m,\u001b[0m\u001b[0;36m1\u001b[0m\u001b[0;34m)\u001b[0m\u001b[0;34m[\u001b[0m\u001b[0;36m0\u001b[0m\u001b[0;34m]\u001b[0m\u001b[0;34m\u001b[0m\u001b[0;34m\u001b[0m\u001b[0m\n\u001b[0m\u001b[1;32m      3\u001b[0m \u001b[0;34m\u001b[0m\u001b[0m\n\u001b[1;32m      4\u001b[0m \u001b[0;32mdef\u001b[0m \u001b[0mgen_triplet\u001b[0m\u001b[0;34m(\u001b[0m\u001b[0marguments\u001b[0m\u001b[0;34m,\u001b[0m \u001b[0mkeypoints\u001b[0m\u001b[0;34m,\u001b[0m \u001b[0mlabels_df\u001b[0m\u001b[0;34m)\u001b[0m\u001b[0;34m:\u001b[0m\u001b[0;34m\u001b[0m\u001b[0;34m\u001b[0m\u001b[0m\n\u001b[1;32m      5\u001b[0m     \u001b[0mtriplets\u001b[0m \u001b[0;34m=\u001b[0m \u001b[0;34m[\u001b[0m\u001b[0;34m]\u001b[0m\u001b[0;34m\u001b[0m\u001b[0;34m\u001b[0m\u001b[0m\n",
      "\u001b[0;32m/usr/lib/python3.6/random.py\u001b[0m in \u001b[0;36msample\u001b[0;34m(self, population, k)\u001b[0m\n\u001b[1;32m    318\u001b[0m         \u001b[0mn\u001b[0m \u001b[0;34m=\u001b[0m \u001b[0mlen\u001b[0m\u001b[0;34m(\u001b[0m\u001b[0mpopulation\u001b[0m\u001b[0;34m)\u001b[0m\u001b[0;34m\u001b[0m\u001b[0;34m\u001b[0m\u001b[0m\n\u001b[1;32m    319\u001b[0m         \u001b[0;32mif\u001b[0m \u001b[0;32mnot\u001b[0m \u001b[0;36m0\u001b[0m \u001b[0;34m<=\u001b[0m \u001b[0mk\u001b[0m \u001b[0;34m<=\u001b[0m \u001b[0mn\u001b[0m\u001b[0;34m:\u001b[0m\u001b[0;34m\u001b[0m\u001b[0;34m\u001b[0m\u001b[0m\n\u001b[0;32m--> 320\u001b[0;31m             \u001b[0;32mraise\u001b[0m \u001b[0mValueError\u001b[0m\u001b[0;34m(\u001b[0m\u001b[0;34m\"Sample larger than population or is negative\"\u001b[0m\u001b[0;34m)\u001b[0m\u001b[0;34m\u001b[0m\u001b[0;34m\u001b[0m\u001b[0m\n\u001b[0m\u001b[1;32m    321\u001b[0m         \u001b[0mresult\u001b[0m \u001b[0;34m=\u001b[0m \u001b[0;34m[\u001b[0m\u001b[0;32mNone\u001b[0m\u001b[0;34m]\u001b[0m \u001b[0;34m*\u001b[0m \u001b[0mk\u001b[0m\u001b[0;34m\u001b[0m\u001b[0;34m\u001b[0m\u001b[0m\n\u001b[1;32m    322\u001b[0m         \u001b[0msetsize\u001b[0m \u001b[0;34m=\u001b[0m \u001b[0;36m21\u001b[0m        \u001b[0;31m# size of a small set minus size of an empty list\u001b[0m\u001b[0;34m\u001b[0m\u001b[0;34m\u001b[0m\u001b[0m\n",
      "\u001b[0;31mValueError\u001b[0m: Sample larger than population or is negative"
     ]
    }
   ],
   "source": [
    "triplets_data = gen_triplet(arguments, key_points, labels_df)"
   ]
  },
  {
   "cell_type": "markdown",
   "id": "80cc2745-6ab1-4eab-947d-f24a3aa687e4",
   "metadata": {},
   "source": [
    "----------"
   ]
  },
  {
   "cell_type": "code",
   "execution_count": 22,
   "id": "fe9b8670-185e-474f-b1ee-a00b916866e3",
   "metadata": {},
   "outputs": [
    {
     "name": "stdout",
     "output_type": "stream",
     "text": [
      "Collecting sentence-transformers\n",
      "  Downloading sentence-transformers-1.1.0.tar.gz (78 kB)\n",
      "\u001b[K     |################################| 78 kB 4.4 MB/s eta 0:00:011\n",
      "\u001b[?25hRequirement already satisfied: transformers<5.0.0,>=3.1.0 in /usr/local/lib/python3.6/dist-packages (from sentence-transformers) (3.4.0)\n",
      "Requirement already satisfied: tqdm in /usr/local/lib/python3.6/dist-packages (from sentence-transformers) (4.49.0)\n",
      "Requirement already satisfied: torch>=1.6.0 in /usr/local/lib/python3.6/dist-packages (from sentence-transformers) (1.7.0)\n",
      "Requirement already satisfied: numpy in /usr/local/lib/python3.6/dist-packages (from sentence-transformers) (1.19.5)\n",
      "Requirement already satisfied: scikit-learn in /usr/local/lib/python3.6/dist-packages (from sentence-transformers) (0.24.2)\n",
      "Requirement already satisfied: scipy in /usr/local/lib/python3.6/dist-packages (from sentence-transformers) (1.5.4)\n",
      "Requirement already satisfied: nltk in /usr/local/lib/python3.6/dist-packages (from sentence-transformers) (3.4.5)\n",
      "Requirement already satisfied: sentencepiece in /usr/local/lib/python3.6/dist-packages (from sentence-transformers) (0.1.95)\n",
      "Requirement already satisfied: typing-extensions in /usr/local/lib/python3.6/dist-packages (from torch>=1.6.0->sentence-transformers) (3.7.4.3)\n",
      "Requirement already satisfied: dataclasses in /usr/local/lib/python3.6/dist-packages (from torch>=1.6.0->sentence-transformers) (0.8)\n",
      "Requirement already satisfied: future in /usr/local/lib/python3.6/dist-packages (from torch>=1.6.0->sentence-transformers) (0.18.2)\n",
      "Requirement already satisfied: filelock in /usr/local/lib/python3.6/dist-packages (from transformers<5.0.0,>=3.1.0->sentence-transformers) (3.0.12)\n",
      "Requirement already satisfied: requests in /usr/local/lib/python3.6/dist-packages (from transformers<5.0.0,>=3.1.0->sentence-transformers) (2.25.1)\n",
      "Requirement already satisfied: regex!=2019.12.17 in /usr/local/lib/python3.6/dist-packages (from transformers<5.0.0,>=3.1.0->sentence-transformers) (2020.11.13)\n",
      "Requirement already satisfied: packaging in /usr/local/lib/python3.6/dist-packages (from transformers<5.0.0,>=3.1.0->sentence-transformers) (20.8)\n",
      "Requirement already satisfied: protobuf in /usr/local/lib/python3.6/dist-packages (from transformers<5.0.0,>=3.1.0->sentence-transformers) (3.15.8)\n",
      "Requirement already satisfied: tokenizers==0.9.2 in /usr/local/lib/python3.6/dist-packages (from transformers<5.0.0,>=3.1.0->sentence-transformers) (0.9.2)\n",
      "Requirement already satisfied: sacremoses in /usr/local/lib/python3.6/dist-packages (from transformers<5.0.0,>=3.1.0->sentence-transformers) (0.0.43)\n",
      "Requirement already satisfied: six in /usr/lib/python3/dist-packages (from nltk->sentence-transformers) (1.11.0)\n",
      "Requirement already satisfied: pyparsing>=2.0.2 in /usr/local/lib/python3.6/dist-packages (from packaging->transformers<5.0.0,>=3.1.0->sentence-transformers) (2.4.7)\n",
      "Requirement already satisfied: urllib3<1.27,>=1.21.1 in /usr/local/lib/python3.6/dist-packages (from requests->transformers<5.0.0,>=3.1.0->sentence-transformers) (1.26.2)\n",
      "Requirement already satisfied: chardet<5,>=3.0.2 in /usr/local/lib/python3.6/dist-packages (from requests->transformers<5.0.0,>=3.1.0->sentence-transformers) (4.0.0)\n",
      "Requirement already satisfied: certifi>=2017.4.17 in /usr/local/lib/python3.6/dist-packages (from requests->transformers<5.0.0,>=3.1.0->sentence-transformers) (2020.12.5)\n",
      "Requirement already satisfied: idna<3,>=2.5 in /usr/local/lib/python3.6/dist-packages (from requests->transformers<5.0.0,>=3.1.0->sentence-transformers) (2.10)\n",
      "Requirement already satisfied: click in /usr/local/lib/python3.6/dist-packages (from sacremoses->transformers<5.0.0,>=3.1.0->sentence-transformers) (7.1.2)\n",
      "Requirement already satisfied: joblib in /usr/local/lib/python3.6/dist-packages (from sacremoses->transformers<5.0.0,>=3.1.0->sentence-transformers) (1.0.0)\n",
      "Requirement already satisfied: threadpoolctl>=2.0.0 in /usr/local/lib/python3.6/dist-packages (from scikit-learn->sentence-transformers) (2.1.0)\n",
      "Building wheels for collected packages: sentence-transformers\n",
      "  Building wheel for sentence-transformers (setup.py) ... \u001b[?25ldone\n",
      "\u001b[?25h  Created wheel for sentence-transformers: filename=sentence_transformers-1.1.0-py3-none-any.whl size=124138 sha256=31f7f0ffd2fd7ae8c9ddff36bd67a3931f40c836c12d2e6db8bfdf6e0868f1d1\n",
      "  Stored in directory: /root/.cache/pip/wheels/6e/fc/93/fa5873037e04b951ffd3fa8b768677e3d943db1cb6609c37bb\n",
      "Successfully built sentence-transformers\n",
      "Installing collected packages: sentence-transformers\n",
      "Successfully installed sentence-transformers-1.1.0\n",
      "\u001b[33mWARNING: You are using pip version 20.3.3; however, version 21.1 is available.\n",
      "You should consider upgrading via the '/usr/bin/python3 -m pip install --upgrade pip' command.\u001b[0m\n",
      "Note: you may need to restart the kernel to use updated packages.\n"
     ]
    }
   ],
   "source": [
    "pip install sentence-transformers"
   ]
  }
 ],
 "metadata": {
  "kernelspec": {
   "display_name": "Python 3",
   "language": "python",
   "name": "python3"
  },
  "language_info": {
   "codemirror_mode": {
    "name": "ipython",
    "version": 3
   },
   "file_extension": ".py",
   "mimetype": "text/x-python",
   "name": "python",
   "nbconvert_exporter": "python",
   "pygments_lexer": "ipython3",
   "version": "3.6.9"
  }
 },
 "nbformat": 4,
 "nbformat_minor": 5
}
