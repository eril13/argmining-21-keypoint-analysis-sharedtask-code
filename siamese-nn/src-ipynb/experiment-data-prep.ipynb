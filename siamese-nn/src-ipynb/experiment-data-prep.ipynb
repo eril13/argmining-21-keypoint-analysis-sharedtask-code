{
 "cells": [
  {
   "cell_type": "code",
   "execution_count": 1,
   "id": "333830a6-c203-4276-8c9f-e6bcfe4ad787",
   "metadata": {},
   "outputs": [],
   "source": [
    "import json\n",
    "import pandas as pd\n",
    "import numpy as np\n",
    "import matplotlib.pyplot as plt\n",
    "\n",
    "pd.set_option('display.max_colwidth', None)"
   ]
  },
  {
   "cell_type": "code",
   "execution_count": 2,
   "id": "461a2712-8cfe-4810-b485-d1006940468b",
   "metadata": {},
   "outputs": [
    {
     "name": "stdout",
     "output_type": "stream",
     "text": [
      "\u001b[0m\u001b[01;34marg-kp\u001b[0m/                  key_points_our_test.csv   our_test.csv\n",
      "\u001b[01;34marg-quality\u001b[0m/             key_points_our_valid.csv  our_valid.csv\n",
      "arguments_our_test.csv   labels_our_test.csv       training_df.csv\n",
      "arguments_our_valid.csv  labels_our_valid.csv      valid_df.csv\n"
     ]
    }
   ],
   "source": [
    "ls ../../data"
   ]
  },
  {
   "cell_type": "code",
   "execution_count": 3,
   "id": "bda28f15-3c0d-4325-80e1-921ea8deb71d",
   "metadata": {},
   "outputs": [],
   "source": [
    "#argument_df = pd.read_csv('../../data/argum')"
   ]
  },
  {
   "cell_type": "code",
   "execution_count": 44,
   "id": "36de71e7-6132-4127-b2a0-96d1ef15af8e",
   "metadata": {},
   "outputs": [],
   "source": [
    "training_df = pd.read_csv('../../data/training_df.csv')\n",
    "valid_df = pd.read_csv('../../data/our_valid.csv')"
   ]
  },
  {
   "cell_type": "code",
   "execution_count": 5,
   "id": "2527c629-f707-4fdc-82da-554739d4e75b",
   "metadata": {
    "scrolled": true,
    "tags": []
   },
   "outputs": [
    {
     "data": {
      "text/html": [
       "<div>\n",
       "<style scoped>\n",
       "    .dataframe tbody tr th:only-of-type {\n",
       "        vertical-align: middle;\n",
       "    }\n",
       "\n",
       "    .dataframe tbody tr th {\n",
       "        vertical-align: top;\n",
       "    }\n",
       "\n",
       "    .dataframe thead th {\n",
       "        text-align: right;\n",
       "    }\n",
       "</style>\n",
       "<table border=\"1\" class=\"dataframe\">\n",
       "  <thead>\n",
       "    <tr style=\"text-align: right;\">\n",
       "      <th></th>\n",
       "      <th>arg_id</th>\n",
       "      <th>key_point_id</th>\n",
       "      <th>label</th>\n",
       "      <th>argument</th>\n",
       "      <th>topic</th>\n",
       "      <th>stance</th>\n",
       "      <th>key_point</th>\n",
       "    </tr>\n",
       "  </thead>\n",
       "  <tbody>\n",
       "    <tr>\n",
       "      <th>0</th>\n",
       "      <td>arg_0_0</td>\n",
       "      <td>kp_0_0</td>\n",
       "      <td>0</td>\n",
       "      <td>`people reach their limit when it comes to their quality of life and should be able to end their suffering. this can be done with little or no suffering by assistance and the person is able to say good bye.</td>\n",
       "      <td>Assisted suicide should be a criminal offence</td>\n",
       "      <td>-1</td>\n",
       "      <td>Assisted suicide gives dignity to the person that wants to commit it</td>\n",
       "    </tr>\n",
       "    <tr>\n",
       "      <th>1</th>\n",
       "      <td>arg_0_1</td>\n",
       "      <td>kp_0_0</td>\n",
       "      <td>0</td>\n",
       "      <td>A patient should be able to decide when they have had enough \"care\".</td>\n",
       "      <td>Assisted suicide should be a criminal offence</td>\n",
       "      <td>-1</td>\n",
       "      <td>Assisted suicide gives dignity to the person that wants to commit it</td>\n",
       "    </tr>\n",
       "    <tr>\n",
       "      <th>2</th>\n",
       "      <td>arg_0_2</td>\n",
       "      <td>kp_0_0</td>\n",
       "      <td>0</td>\n",
       "      <td>a person has the right to end their suffering and if somebody takes pity on them and chooses to help, that person should not be punished.</td>\n",
       "      <td>Assisted suicide should be a criminal offence</td>\n",
       "      <td>-1</td>\n",
       "      <td>Assisted suicide gives dignity to the person that wants to commit it</td>\n",
       "    </tr>\n",
       "    <tr>\n",
       "      <th>3</th>\n",
       "      <td>arg_0_4</td>\n",
       "      <td>kp_0_0</td>\n",
       "      <td>0</td>\n",
       "      <td>a person should have the right to be able to choose if they want to live or die</td>\n",
       "      <td>Assisted suicide should be a criminal offence</td>\n",
       "      <td>-1</td>\n",
       "      <td>Assisted suicide gives dignity to the person that wants to commit it</td>\n",
       "    </tr>\n",
       "    <tr>\n",
       "      <th>4</th>\n",
       "      <td>arg_0_5</td>\n",
       "      <td>kp_0_0</td>\n",
       "      <td>0</td>\n",
       "      <td>a person should have the right to die on their own terms</td>\n",
       "      <td>Assisted suicide should be a criminal offence</td>\n",
       "      <td>-1</td>\n",
       "      <td>Assisted suicide gives dignity to the person that wants to commit it</td>\n",
       "    </tr>\n",
       "  </tbody>\n",
       "</table>\n",
       "</div>"
      ],
      "text/plain": [
       "    arg_id key_point_id  label  \\\n",
       "0  arg_0_0       kp_0_0      0   \n",
       "1  arg_0_1       kp_0_0      0   \n",
       "2  arg_0_2       kp_0_0      0   \n",
       "3  arg_0_4       kp_0_0      0   \n",
       "4  arg_0_5       kp_0_0      0   \n",
       "\n",
       "                                                                                                                                                                                                         argument  \\\n",
       "0  `people reach their limit when it comes to their quality of life and should be able to end their suffering. this can be done with little or no suffering by assistance and the person is able to say good bye.   \n",
       "1                                                                                                                                            A patient should be able to decide when they have had enough \"care\".   \n",
       "2                                                                       a person has the right to end their suffering and if somebody takes pity on them and chooses to help, that person should not be punished.   \n",
       "3                                                                                                                                 a person should have the right to be able to choose if they want to live or die   \n",
       "4                                                                                                                                                        a person should have the right to die on their own terms   \n",
       "\n",
       "                                           topic  stance  \\\n",
       "0  Assisted suicide should be a criminal offence      -1   \n",
       "1  Assisted suicide should be a criminal offence      -1   \n",
       "2  Assisted suicide should be a criminal offence      -1   \n",
       "3  Assisted suicide should be a criminal offence      -1   \n",
       "4  Assisted suicide should be a criminal offence      -1   \n",
       "\n",
       "                                                              key_point  \n",
       "0  Assisted suicide gives dignity to the person that wants to commit it  \n",
       "1  Assisted suicide gives dignity to the person that wants to commit it  \n",
       "2  Assisted suicide gives dignity to the person that wants to commit it  \n",
       "3  Assisted suicide gives dignity to the person that wants to commit it  \n",
       "4  Assisted suicide gives dignity to the person that wants to commit it  "
      ]
     },
     "execution_count": 5,
     "metadata": {},
     "output_type": "execute_result"
    }
   ],
   "source": [
    "training_df.head()"
   ]
  },
  {
   "cell_type": "code",
   "execution_count": 6,
   "id": "515ce47c-a0eb-4604-933d-03502f20d41a",
   "metadata": {},
   "outputs": [
    {
     "data": {
      "image/png": "[encoded data removed]",
      "text/plain": [
       "<Figure size 432x288 with 1 Axes>"
      ]
     },
     "metadata": {
      "needs_background": "light"
     },
     "output_type": "display_data"
    }
   ],
   "source": [
    "keypoints_per_arg = [x[1] for x in training_df[training_df.label == 1].arg_id.value_counts().to_dict().items()]\n",
    "plt.hist(keypoints_per_arg)\n",
    "plt.show()"
   ]
  },
  {
   "cell_type": "code",
   "execution_count": 118,
   "id": "9809cfe2-3bd3-450c-8a6a-755ab267cc3d",
   "metadata": {},
   "outputs": [
    {
     "data": {
      "image/png": "[encoded data removed]",
      "text/plain": [
       "<Figure size 432x288 with 1 Axes>"
      ]
     },
     "metadata": {
      "needs_background": "light"
     },
     "output_type": "display_data"
    }
   ],
   "source": [
    "args_per_keypoints = [x[1] for x in training_df[training_df.label == 1].key_point_id.value_counts().to_dict().items()]\n",
    "plt.hist(args_per_keypoints)\n",
    "plt.show()"
   ]
  },
  {
   "cell_type": "code",
   "execution_count": null,
   "id": "68144c9b-51c1-410d-a4cc-e7fd1bbabec2",
   "metadata": {},
   "outputs": [],
   "source": [
    "#Add to the dataframe 0 labels for non-matched argument/keypoint\n"
   ]
  },
  {
   "cell_type": "markdown",
   "id": "d3dd6803-1787-40e2-a853-6ef63037aa36",
   "metadata": {},
   "source": [
    "-------------"
   ]
  },
  {
   "cell_type": "markdown",
   "id": "ef58508c-8b86-496f-bf44-30dd5f4d3ea5",
   "metadata": {},
   "source": [
    "### Data Preparation:"
   ]
  },
  {
   "cell_type": "code",
   "execution_count": 7,
   "id": "f8fc9287-1700-493f-94e2-73e4a4c17909",
   "metadata": {},
   "outputs": [],
   "source": [
    "import random\n",
    "import nltk\n",
    "from nltk.corpus import stopwords"
   ]
  },
  {
   "cell_type": "code",
   "execution_count": 40,
   "id": "c649ec27-8ea3-44d5-a68f-9f78081d59f1",
   "metadata": {},
   "outputs": [],
   "source": [
    "def overlap(t1, t2):\n",
    "    t1_words = set([w for w in nltk.word_tokenize(t1.lower()) if w not in stopwords.words('english')])\n",
    "    t2_words = set([w for w in nltk.word_tokenize(t2.lower()) if w not in stopwords.words('english')])\n",
    "    return len(set(t1_words).intersection(t2_words))/len(t1_words.union(t2_words))\n",
    "\n",
    "def get_cand_neg(argument, key_points, not_allowed_keypoints, count=3):\n",
    "    #remove the matching keypoints\n",
    "    cand_keypoints = [item[1] for item in key_points.items() if item[1] not in not_allowed_keypoints]\n",
    "    scored_cand_keypoints = sorted([(cp, overlap(cp, argument)) for cp in cand_keypoints], key=lambda x: x[1])\n",
    "    \n",
    "    hard_cand_keypoints = scored_cand_keypoints[0:count]\n",
    "    easy_cand_keypoints = scored_cand_keypoints[-count:]\n",
    "#     print(argument)\n",
    "#     print(cand_keypoints[0:10])\n",
    "#     print('======')\n",
    "    selected_kp = hard_cand_keypoints + easy_cand_keypoints\n",
    "    return selected_kp\n",
    "    \n",
    "    #return [random.sample(cand_keypoints, count)]\n",
    "\n",
    "def gen_kp_triplet(labels_df, max_neg_samples=5, sample_extra=False, add_topic=False, randomized=False):\n",
    "    arguments = pd.Series(labels_df.argument.values, index=labels_df.arg_id).to_dict()\n",
    "    keypoints= pd.Series(labels_df.key_point.values, index=labels_df.key_point_id).to_dict()\n",
    "\n",
    "    triplets = []\n",
    "    for kp_id, keypoint in list(keypoints.items()):\n",
    "        neg_args = [row['argument'] for idx, row in labels_df[labels_df.key_point_id == kp_id].iterrows() if row['label'] == 0]\n",
    "        pos_args = [row['argument'] for idx, row in labels_df[labels_df.key_point_id == kp_id].iterrows() if row['label'] == 1]\n",
    "        \n",
    "        topic = labels_df[labels_df.key_point_id==kp_id]['topic'].tolist()[0]\n",
    "        \n",
    "        if len(pos_args) == 0:\n",
    "            print('Skipping keypoint with no arguments!')\n",
    "            continue\n",
    "       \n",
    "        \n",
    "        for pos_arg in pos_args:\n",
    "            selected_args = []\n",
    "            if randomized:\n",
    "                selected_args = random.sample(neg_args, max_neg_samples) if max_neg_samples < len(neg_args) else neg_args\n",
    "            else:\n",
    "                if len(neg_args) > (2*max_neg_samples):\n",
    "                    selected_args = sorted(neg_args, key= lambda x: - overlap(x, pos_arg))\n",
    "                    selected_args = selected_args[0:max_neg_samples] + selected_args[-max_neg_samples:]\n",
    "                else:\n",
    "                    selected_args = neg_args\n",
    "\n",
    "            #first add the gt negative key-point\n",
    "            #print(len(neg_args))\n",
    "            for neg_arg in selected_args:\n",
    "                if add_topic:\n",
    "                    topic_with_keypoint = topic+' <SEP> '+keypoint\n",
    "                    triplets.append([topic_with_keypoint, pos_arg, neg_arg])\n",
    "                else:\n",
    "                    triplets.append([keypoint, pos_arg, neg_arg])\n",
    "    \n",
    "    return triplets"
   ]
  },
  {
   "cell_type": "code",
   "execution_count": 30,
   "id": "a5eabb0c-1958-4808-97c8-176e03e12c66",
   "metadata": {},
   "outputs": [],
   "source": [
    "train_triplets_data = gen_kp_triplet(training_df, max_neg_samples=10, add_topic=True)\n",
    "#valid_triplets_data = gen_kp_triplet(valid_df, max_neg_samples=1, add_topic=True)\n",
    "training_triplet_kp_as_anchor_df = pd.DataFrame(train_triplets_data, columns=['anchor', 'pos', 'neg'])\n",
    "#valid_triplet_kp_as_anchor_df = pd.DataFrame(valid_triplets_data, columns=['anchor', 'pos', 'neg'])\n",
    "training_triplet_kp_as_anchor_df.to_csv('/workspace/ceph_data/keypoint-analysis-sharedtask/siamese-data/training_df_kp_as_anchor_topic_added_max_20_neg_samples.csv')\n",
    "#valid_triplet_kp_as_anchor_df.to_csv('/workspace/ceph_data/keypoint-analysis-sharedtask/siamese-data/valid_df_kp_as_anchor_topic_added_max_20_neg_samples.csv')"
   ]
  },
  {
   "cell_type": "code",
   "execution_count": 31,
   "id": "cd9f9a31-6b8b-4f6d-85dd-84ef1d8951a3",
   "metadata": {},
   "outputs": [],
   "source": [
    "train_triplets_data = gen_kp_triplet(training_df, max_neg_samples=20, add_topic=True)\n",
    "#valid_triplets_data = gen_kp_triplet(valid_df, max_neg_samples=1, add_topic=True)\n",
    "training_triplet_kp_as_anchor_df = pd.DataFrame(train_triplets_data, columns=['anchor', 'pos', 'neg'])\n",
    "#valid_triplet_kp_as_anchor_df = pd.DataFrame(valid_triplets_data, columns=['anchor', 'pos', 'neg'])\n",
    "training_triplet_kp_as_anchor_df.to_csv('/workspace/ceph_data/keypoint-analysis-sharedtask/siamese-data/training_df_kp_as_anchor_topic_added_max_40_neg_samples.csv')\n",
    "#valid_triplet_kp_as_anchor_df.to_csv('/workspace/ceph_data/keypoint-analysis-sharedtask/siamese-data/valid_df_kp_as_anchor_topic_added_max_40_neg_samples.csv')"
   ]
  },
  {
   "cell_type": "code",
   "execution_count": 32,
   "id": "f35e76b7-fc4b-45e9-b84e-ca2661d8612a",
   "metadata": {},
   "outputs": [],
   "source": [
    "train_triplets_data = gen_kp_triplet(training_df, max_neg_samples=5, add_topic=True)\n",
    "#valid_triplets_data = gen_kp_triplet(valid_df, max_neg_samples=1, add_topic=True)\n",
    "training_triplet_kp_as_anchor_df = pd.DataFrame(train_triplets_data, columns=['anchor', 'pos', 'neg'])\n",
    "#valid_triplet_kp_as_anchor_df = pd.DataFrame(valid_triplets_data, columns=['anchor', 'pos', 'neg'])\n",
    "training_triplet_kp_as_anchor_df.to_csv('/workspace/ceph_data/keypoint-analysis-sharedtask/siamese-data/training_df_kp_as_anchor_topic_added_max_10_neg_samples.csv')\n",
    "#valid_triplet_kp_as_anchor_df.to_csv('/workspace/ceph_data/keypoint-analysis-sharedtask/siamese-data/valid_df_kp_as_anchor_topic_added_max_10_neg_samples.csv')"
   ]
  },
  {
   "cell_type": "code",
   "execution_count": 25,
   "id": "2ea9d398-fbd7-4d63-82d2-72bb0dee22b6",
   "metadata": {},
   "outputs": [
    {
     "name": "stdout",
     "output_type": "stream",
     "text": [
      "Skipping keypoint with no arguments!\n"
     ]
    }
   ],
   "source": [
    "train_triplets_data = gen_kp_triplet(training_df, max_neg_samples=10, add_topic=True, randomized=True)\n",
    "#valid_triplets_data = gen_kp_triplet(valid_df, max_neg_samples=1, add_topic=True, randomized=True)\n",
    "training_triplet_kp_as_anchor_df = pd.DataFrame(train_triplets_data, columns=['anchor', 'pos', 'neg'])\n",
    "#valid_triplet_kp_as_anchor_df = pd.DataFrame(valid_triplets_data, columns=['anchor', 'pos', 'neg'])\n",
    "training_triplet_kp_as_anchor_df.to_csv('/workspace/ceph_data/keypoint-analysis-sharedtask/siamese-data/training_df_kp_as_anchor_topic_added_random_10_neg_samples.csv')\n",
    "#valid_triplet_kp_as_anchor_df.to_csv('/workspace/ceph_data/keypoint-analysis-sharedtask/siamese-data/valid_df_kp_as_anchor_topic_added_random_10_neg_samples.csv')"
   ]
  },
  {
   "cell_type": "code",
   "execution_count": 41,
   "id": "8ac55a34-3179-4823-b418-ef784f343944",
   "metadata": {},
   "outputs": [],
   "source": [
    "train_triplets_data = gen_kp_triplet(training_df, max_neg_samples=1000, add_topic=True, randomized=True)\n",
    "#valid_triplets_data = gen_kp_triplet(valid_df, max_neg_samples=1, add_topic=True, randomized=True)\n",
    "training_triplet_kp_as_anchor_df = pd.DataFrame(train_triplets_data, columns=['anchor', 'pos', 'neg'])\n",
    "#valid_triplet_kp_as_anchor_df = pd.DataFrame(valid_triplets_data, columns=['anchor', 'pos', 'neg'])\n",
    "training_triplet_kp_as_anchor_df.to_csv('/workspace/ceph_data/keypoint-analysis-sharedtask/siamese-data/training_df_kp_as_anchor_topic_added_all_neg_samples.csv')\n",
    "#valid_triplet_kp_as_anchor_df.to_csv('/workspace/ceph_data/keypoint-analysis-sharedtask/siamese-data/valid_df_kp_as_anchor_topic_added_random_10_neg_samples.csv')"
   ]
  },
  {
   "cell_type": "code",
   "execution_count": 42,
   "id": "bdf08593-f0b4-4ecb-98a4-2876c3857908",
   "metadata": {},
   "outputs": [
    {
     "data": {
      "text/html": [
       "<div>\n",
       "<style scoped>\n",
       "    .dataframe tbody tr th:only-of-type {\n",
       "        vertical-align: middle;\n",
       "    }\n",
       "\n",
       "    .dataframe tbody tr th {\n",
       "        vertical-align: top;\n",
       "    }\n",
       "\n",
       "    .dataframe thead th {\n",
       "        text-align: right;\n",
       "    }\n",
       "</style>\n",
       "<table border=\"1\" class=\"dataframe\">\n",
       "  <thead>\n",
       "    <tr style=\"text-align: right;\">\n",
       "      <th></th>\n",
       "      <th>anchor</th>\n",
       "      <th>pos</th>\n",
       "      <th>neg</th>\n",
       "    </tr>\n",
       "  </thead>\n",
       "  <tbody>\n",
       "    <tr>\n",
       "      <th>0</th>\n",
       "      <td>Assisted suicide should be a criminal offence &lt;SEP&gt; Assisted suicide gives dignity to the person that wants to commit it</td>\n",
       "      <td>assisted suicide allows people who have terrible health conditions to die with dignity. if assisted suicide is a crime they may have to endure many more years living in agony.</td>\n",
       "      <td>`people reach their limit when it comes to their quality of life and should be able to end their suffering. this can be done with little or no suffering by assistance and the person is able to say good bye.</td>\n",
       "    </tr>\n",
       "    <tr>\n",
       "      <th>1</th>\n",
       "      <td>Assisted suicide should be a criminal offence &lt;SEP&gt; Assisted suicide gives dignity to the person that wants to commit it</td>\n",
       "      <td>assisted suicide allows people who have terrible health conditions to die with dignity. if assisted suicide is a crime they may have to endure many more years living in agony.</td>\n",
       "      <td>A patient should be able to decide when they have had enough \"care\".</td>\n",
       "    </tr>\n",
       "    <tr>\n",
       "      <th>2</th>\n",
       "      <td>Assisted suicide should be a criminal offence &lt;SEP&gt; Assisted suicide gives dignity to the person that wants to commit it</td>\n",
       "      <td>assisted suicide allows people who have terrible health conditions to die with dignity. if assisted suicide is a crime they may have to endure many more years living in agony.</td>\n",
       "      <td>a person has the right to end their suffering and if somebody takes pity on them and chooses to help, that person should not be punished.</td>\n",
       "    </tr>\n",
       "    <tr>\n",
       "      <th>3</th>\n",
       "      <td>Assisted suicide should be a criminal offence &lt;SEP&gt; Assisted suicide gives dignity to the person that wants to commit it</td>\n",
       "      <td>assisted suicide allows people who have terrible health conditions to die with dignity. if assisted suicide is a crime they may have to endure many more years living in agony.</td>\n",
       "      <td>a person should have the right to be able to choose if they want to live or die</td>\n",
       "    </tr>\n",
       "    <tr>\n",
       "      <th>4</th>\n",
       "      <td>Assisted suicide should be a criminal offence &lt;SEP&gt; Assisted suicide gives dignity to the person that wants to commit it</td>\n",
       "      <td>assisted suicide allows people who have terrible health conditions to die with dignity. if assisted suicide is a crime they may have to endure many more years living in agony.</td>\n",
       "      <td>a person should have the right to die on their own terms</td>\n",
       "    </tr>\n",
       "  </tbody>\n",
       "</table>\n",
       "</div>"
      ],
      "text/plain": [
       "                                                                                                                     anchor  \\\n",
       "0  Assisted suicide should be a criminal offence <SEP> Assisted suicide gives dignity to the person that wants to commit it   \n",
       "1  Assisted suicide should be a criminal offence <SEP> Assisted suicide gives dignity to the person that wants to commit it   \n",
       "2  Assisted suicide should be a criminal offence <SEP> Assisted suicide gives dignity to the person that wants to commit it   \n",
       "3  Assisted suicide should be a criminal offence <SEP> Assisted suicide gives dignity to the person that wants to commit it   \n",
       "4  Assisted suicide should be a criminal offence <SEP> Assisted suicide gives dignity to the person that wants to commit it   \n",
       "\n",
       "                                                                                                                                                                               pos  \\\n",
       "0  assisted suicide allows people who have terrible health conditions to die with dignity. if assisted suicide is a crime they may have to endure many more years living in agony.   \n",
       "1  assisted suicide allows people who have terrible health conditions to die with dignity. if assisted suicide is a crime they may have to endure many more years living in agony.   \n",
       "2  assisted suicide allows people who have terrible health conditions to die with dignity. if assisted suicide is a crime they may have to endure many more years living in agony.   \n",
       "3  assisted suicide allows people who have terrible health conditions to die with dignity. if assisted suicide is a crime they may have to endure many more years living in agony.   \n",
       "4  assisted suicide allows people who have terrible health conditions to die with dignity. if assisted suicide is a crime they may have to endure many more years living in agony.   \n",
       "\n",
       "                                                                                                                                                                                                              neg  \n",
       "0  `people reach their limit when it comes to their quality of life and should be able to end their suffering. this can be done with little or no suffering by assistance and the person is able to say good bye.  \n",
       "1                                                                                                                                            A patient should be able to decide when they have had enough \"care\".  \n",
       "2                                                                       a person has the right to end their suffering and if somebody takes pity on them and chooses to help, that person should not be punished.  \n",
       "3                                                                                                                                 a person should have the right to be able to choose if they want to live or die  \n",
       "4                                                                                                                                                        a person should have the right to die on their own terms  "
      ]
     },
     "execution_count": 42,
     "metadata": {},
     "output_type": "execute_result"
    }
   ],
   "source": [
    "training_triplet_kp_as_anchor_df.head()"
   ]
  },
  {
   "cell_type": "markdown",
   "id": "cc50ae38-77d6-4daa-8874-cd12ce526327",
   "metadata": {},
   "source": [
    "----------"
   ]
  },
  {
   "cell_type": "code",
   "execution_count": 34,
   "id": "0ae4a6c1-f879-4c2e-bf84-d788f338df9b",
   "metadata": {},
   "outputs": [],
   "source": [
    "training_triplet_kp_as_anchor_topic_added_df = pd.read_csv('/workspace/ceph_data/keypoint-analysis-sharedtask/siamese-data/training_df_kp_as_anchor_topic_added_max_10_neg_samples.csv')"
   ]
  },
  {
   "cell_type": "code",
   "execution_count": 35,
   "id": "05999ab6-afbe-47c8-9c28-92014b44bd88",
   "metadata": {},
   "outputs": [
    {
     "data": {
      "image/png": "[encoded data removed]",
      "text/plain": [
       "<Figure size 432x288 with 1 Axes>"
      ]
     },
     "metadata": {
      "needs_background": "light"
     },
     "output_type": "display_data"
    }
   ],
   "source": [
    "anchor_lengths = [len(x.split()) for x in training_triplet_kp_as_anchor_df.anchor.tolist()]\n",
    "plt.hist(anchor_lengths)\n",
    "plt.show()"
   ]
  },
  {
   "cell_type": "code",
   "execution_count": 37,
   "id": "c9378941-18c1-49a2-94a0-9e3202cbc3d0",
   "metadata": {},
   "outputs": [
    {
     "data": {
      "image/png": "[encoded data removed]",
      "text/plain": [
       "<Figure size 432x288 with 1 Axes>"
      ]
     },
     "metadata": {
      "needs_background": "light"
     },
     "output_type": "display_data"
    }
   ],
   "source": [
    "anchor_lengths = [len(x.split()) for x in training_triplet_kp_as_anchor_topic_added_df.pos.tolist()]\n",
    "plt.hist(anchor_lengths)\n",
    "plt.show()"
   ]
  },
  {
   "cell_type": "code",
   "execution_count": 38,
   "id": "03a55b80-35f6-47cd-a71f-e4b000e206fb",
   "metadata": {},
   "outputs": [
    {
     "data": {
      "text/html": [
       "<div>\n",
       "<style scoped>\n",
       "    .dataframe tbody tr th:only-of-type {\n",
       "        vertical-align: middle;\n",
       "    }\n",
       "\n",
       "    .dataframe tbody tr th {\n",
       "        vertical-align: top;\n",
       "    }\n",
       "\n",
       "    .dataframe thead th {\n",
       "        text-align: right;\n",
       "    }\n",
       "</style>\n",
       "<table border=\"1\" class=\"dataframe\">\n",
       "  <thead>\n",
       "    <tr style=\"text-align: right;\">\n",
       "      <th></th>\n",
       "      <th>Unnamed: 0</th>\n",
       "      <th>anchor</th>\n",
       "      <th>pos</th>\n",
       "      <th>neg</th>\n",
       "    </tr>\n",
       "  </thead>\n",
       "  <tbody>\n",
       "    <tr>\n",
       "      <th>0</th>\n",
       "      <td>0</td>\n",
       "      <td>Assisted suicide should be a criminal offence &lt;SEP&gt; Assisted suicide gives dignity to the person that wants to commit it</td>\n",
       "      <td>assisted suicide allows people who have terrible health conditions to die with dignity. if assisted suicide is a crime they may have to endure many more years living in agony.</td>\n",
       "      <td>people with terminal illnesses are going to die. by not allowing assisted suicide we are making these people suffer deeply which in inhumane.</td>\n",
       "    </tr>\n",
       "    <tr>\n",
       "      <th>1</th>\n",
       "      <td>1</td>\n",
       "      <td>Assisted suicide should be a criminal offence &lt;SEP&gt; Assisted suicide gives dignity to the person that wants to commit it</td>\n",
       "      <td>assisted suicide allows people who have terrible health conditions to die with dignity. if assisted suicide is a crime they may have to endure many more years living in agony.</td>\n",
       "      <td>assisted suicide is sometimes the only solution for some people, we should not take it off.</td>\n",
       "    </tr>\n",
       "    <tr>\n",
       "      <th>2</th>\n",
       "      <td>2</td>\n",
       "      <td>Assisted suicide should be a criminal offence &lt;SEP&gt; Assisted suicide gives dignity to the person that wants to commit it</td>\n",
       "      <td>assisted suicide allows people who have terrible health conditions to die with dignity. if assisted suicide is a crime they may have to endure many more years living in agony.</td>\n",
       "      <td>assisted suicide should not be a crime. if someone is suffering on a daily basis from something that they are going to die from anyway, they should be allowed to die on their own terms.</td>\n",
       "    </tr>\n",
       "    <tr>\n",
       "      <th>3</th>\n",
       "      <td>3</td>\n",
       "      <td>Assisted suicide should be a criminal offence &lt;SEP&gt; Assisted suicide gives dignity to the person that wants to commit it</td>\n",
       "      <td>assisted suicide allows people who have terrible health conditions to die with dignity. if assisted suicide is a crime they may have to endure many more years living in agony.</td>\n",
       "      <td>many people face a cruel and protracted period of suffering before their death so with compassion they should be helped therefore assisted suicide should not be a criminal offence.</td>\n",
       "    </tr>\n",
       "    <tr>\n",
       "      <th>4</th>\n",
       "      <td>4</td>\n",
       "      <td>Assisted suicide should be a criminal offence &lt;SEP&gt; Assisted suicide gives dignity to the person that wants to commit it</td>\n",
       "      <td>assisted suicide allows people who have terrible health conditions to die with dignity. if assisted suicide is a crime they may have to endure many more years living in agony.</td>\n",
       "      <td>assisted suicide should not be a crime since the perpetrator was merely obeying the wishes of another.</td>\n",
       "    </tr>\n",
       "  </tbody>\n",
       "</table>\n",
       "</div>"
      ],
      "text/plain": [
       "   Unnamed: 0  \\\n",
       "0           0   \n",
       "1           1   \n",
       "2           2   \n",
       "3           3   \n",
       "4           4   \n",
       "\n",
       "                                                                                                                     anchor  \\\n",
       "0  Assisted suicide should be a criminal offence <SEP> Assisted suicide gives dignity to the person that wants to commit it   \n",
       "1  Assisted suicide should be a criminal offence <SEP> Assisted suicide gives dignity to the person that wants to commit it   \n",
       "2  Assisted suicide should be a criminal offence <SEP> Assisted suicide gives dignity to the person that wants to commit it   \n",
       "3  Assisted suicide should be a criminal offence <SEP> Assisted suicide gives dignity to the person that wants to commit it   \n",
       "4  Assisted suicide should be a criminal offence <SEP> Assisted suicide gives dignity to the person that wants to commit it   \n",
       "\n",
       "                                                                                                                                                                               pos  \\\n",
       "0  assisted suicide allows people who have terrible health conditions to die with dignity. if assisted suicide is a crime they may have to endure many more years living in agony.   \n",
       "1  assisted suicide allows people who have terrible health conditions to die with dignity. if assisted suicide is a crime they may have to endure many more years living in agony.   \n",
       "2  assisted suicide allows people who have terrible health conditions to die with dignity. if assisted suicide is a crime they may have to endure many more years living in agony.   \n",
       "3  assisted suicide allows people who have terrible health conditions to die with dignity. if assisted suicide is a crime they may have to endure many more years living in agony.   \n",
       "4  assisted suicide allows people who have terrible health conditions to die with dignity. if assisted suicide is a crime they may have to endure many more years living in agony.   \n",
       "\n",
       "                                                                                                                                                                                         neg  \n",
       "0                                              people with terminal illnesses are going to die. by not allowing assisted suicide we are making these people suffer deeply which in inhumane.  \n",
       "1                                                                                                assisted suicide is sometimes the only solution for some people, we should not take it off.  \n",
       "2  assisted suicide should not be a crime. if someone is suffering on a daily basis from something that they are going to die from anyway, they should be allowed to die on their own terms.  \n",
       "3       many people face a cruel and protracted period of suffering before their death so with compassion they should be helped therefore assisted suicide should not be a criminal offence.  \n",
       "4                                                                                     assisted suicide should not be a crime since the perpetrator was merely obeying the wishes of another.  "
      ]
     },
     "execution_count": 38,
     "metadata": {},
     "output_type": "execute_result"
    }
   ],
   "source": [
    "training_triplet_kp_as_anchor_topic_added_df.head()"
   ]
  },
  {
   "cell_type": "markdown",
   "id": "bd4cb272-1760-4684-bd65-c5869c0929ca",
   "metadata": {},
   "source": [
    "#### Creating data for the batch-triplet:"
   ]
  },
  {
   "cell_type": "code",
   "execution_count": 53,
   "id": "bbabb342-af8c-4347-b458-9c5fcd6f36ca",
   "metadata": {},
   "outputs": [],
   "source": [
    "map_labels={x[1]: int(x[0]) for x in enumerate(set(training_df.key_point_id.tolist()))}"
   ]
  },
  {
   "cell_type": "code",
   "execution_count": 54,
   "id": "f845f88d-b54b-496a-9482-b4fba020d24b",
   "metadata": {},
   "outputs": [],
   "source": [
    "pos_df = training_df[training_df.label != 0]\n",
    "pos_arguments = [(x[0], 'arg', x[1], (map_labels[x[1]]*2)) for x in pos_df[['argument', 'key_point_id']].values.tolist()]\n",
    "\n",
    "kp_seriese = pd.Series(training_df.key_point_id.values, index= training_df.key_point).to_dict()\n",
    "key_points    = [(x[0], 'kp', x[1], (map_labels[x[1]]*2)+1) for x in kp_seriese.items()]\n",
    "all_instances_df = pd.DataFrame(pos_arguments + key_points, columns=['text', 'type', 'kp_id', 'label'])"
   ]
  },
  {
   "cell_type": "code",
   "execution_count": 55,
   "id": "80526fb3-967c-4e38-afad-95fe03d7604b",
   "metadata": {},
   "outputs": [],
   "source": [
    "np.random.shuffle(all_instances_df.values)"
   ]
  },
  {
   "cell_type": "code",
   "execution_count": 56,
   "id": "54940b58-3e40-4077-a2a6-73a6f23aff22",
   "metadata": {},
   "outputs": [
    {
     "data": {
      "text/html": [
       "<div>\n",
       "<style scoped>\n",
       "    .dataframe tbody tr th:only-of-type {\n",
       "        vertical-align: middle;\n",
       "    }\n",
       "\n",
       "    .dataframe tbody tr th {\n",
       "        vertical-align: top;\n",
       "    }\n",
       "\n",
       "    .dataframe thead th {\n",
       "        text-align: right;\n",
       "    }\n",
       "</style>\n",
       "<table border=\"1\" class=\"dataframe\">\n",
       "  <thead>\n",
       "    <tr style=\"text-align: right;\">\n",
       "      <th></th>\n",
       "      <th>text</th>\n",
       "      <th>type</th>\n",
       "      <th>kp_id</th>\n",
       "      <th>label</th>\n",
       "    </tr>\n",
       "  </thead>\n",
       "  <tbody>\n",
       "    <tr>\n",
       "      <th>0</th>\n",
       "      <td>assisted suicide allows people who have terrible health conditions to die with dignity. if assisted suicide is a crime they may have to endure many more years living in agony.</td>\n",
       "      <td>arg</td>\n",
       "      <td>kp_0_0</td>\n",
       "      <td>410</td>\n",
       "    </tr>\n",
       "    <tr>\n",
       "      <th>1</th>\n",
       "      <td>assisted suicide allows terminally ill people to die with dignity and should not be criminalized</td>\n",
       "      <td>arg</td>\n",
       "      <td>kp_0_0</td>\n",
       "      <td>410</td>\n",
       "    </tr>\n",
       "    <tr>\n",
       "      <th>2</th>\n",
       "      <td>assisted suicide allows terminally ill persons to choose when to die and do it with dignity. it lets people decide not to live in a state of pain and misery and choose to pass on with human intervention.</td>\n",
       "      <td>arg</td>\n",
       "      <td>kp_0_0</td>\n",
       "      <td>410</td>\n",
       "    </tr>\n",
       "    <tr>\n",
       "      <th>3</th>\n",
       "      <td>assisted suicide gives people control over their life in terrible circumstances. it allows them dignity in death rather than living in terrible conditions for many years.</td>\n",
       "      <td>arg</td>\n",
       "      <td>kp_0_0</td>\n",
       "      <td>410</td>\n",
       "    </tr>\n",
       "    <tr>\n",
       "      <th>4</th>\n",
       "      <td>assisted suicide should be allowed because it allows people with terminal illnesses to die with dignity before suffering a long and painful death.</td>\n",
       "      <td>arg</td>\n",
       "      <td>kp_0_0</td>\n",
       "      <td>410</td>\n",
       "    </tr>\n",
       "  </tbody>\n",
       "</table>\n",
       "</div>"
      ],
      "text/plain": [
       "                                                                                                                                                                                                          text  \\\n",
       "0                              assisted suicide allows people who have terrible health conditions to die with dignity. if assisted suicide is a crime they may have to endure many more years living in agony.   \n",
       "1                                                                                                             assisted suicide allows terminally ill people to die with dignity and should not be criminalized   \n",
       "2  assisted suicide allows terminally ill persons to choose when to die and do it with dignity. it lets people decide not to live in a state of pain and misery and choose to pass on with human intervention.   \n",
       "3                                   assisted suicide gives people control over their life in terrible circumstances. it allows them dignity in death rather than living in terrible conditions for many years.   \n",
       "4                                                           assisted suicide should be allowed because it allows people with terminal illnesses to die with dignity before suffering a long and painful death.   \n",
       "\n",
       "  type   kp_id  label  \n",
       "0  arg  kp_0_0    410  \n",
       "1  arg  kp_0_0    410  \n",
       "2  arg  kp_0_0    410  \n",
       "3  arg  kp_0_0    410  \n",
       "4  arg  kp_0_0    410  "
      ]
     },
     "execution_count": 56,
     "metadata": {},
     "output_type": "execute_result"
    }
   ],
   "source": [
    "all_instances_df.head()"
   ]
  },
  {
   "cell_type": "code",
   "execution_count": 57,
   "id": "0c63bf93-250e-4e6d-9631-cb6cb20d4dd8",
   "metadata": {},
   "outputs": [],
   "source": [
    "all_instances_df[['text', 'label']].to_csv('/workspace/ceph_data/keypoint-analysis-sharedtask/siamese-data/training_df_batch_hard.csv')"
   ]
  },
  {
   "cell_type": "code",
   "execution_count": 60,
   "id": "d2d6ad0a-8c41-47c7-9129-15bb1fb0598c",
   "metadata": {},
   "outputs": [],
   "source": [
    "#DONT run it because the validation file should be of form argument, pos_keypoint, con_keypoint\n",
    "# map_labels={x[1]: int(x[0]) for x in enumerate(valid_df.key_point_id.tolist())}\n",
    "# pos_df = valid_df[valid_df.label != 0]\n",
    "# pos_arguments = [(x[0], (map_labels[x[1]]*2)+1) for x in pos_df[['argument', 'key_point_id']].values.tolist()]\n",
    "# key_points    = [(x[0], (map_labels[x[1]]*2)+1) for x in valid_df[['key_point', 'key_point_id']].values.tolist()]\n",
    "\n",
    "# all_instances_df = pd.DataFrame(pos_arguments + key_points, columns=['text', 'label'])\n",
    "\n",
    "# all_instances_df.to_csv('/workspace/ceph_data/keypoint-analysis-sharedtask/siamese-data/valid_df_batch_hard.csv')\n",
    "#valid_triplet_df.to_csv('/workspace/ceph_data/keypoint-analysis-sharedtask/siamese-data/valid_df_batch_hard.csv')"
   ]
  },
  {
   "cell_type": "markdown",
   "id": "bddf73c0-55a2-49b7-aca3-830f8c138945",
   "metadata": {},
   "source": [
    "### Creating data for ContrastiveLoss:"
   ]
  },
  {
   "cell_type": "code",
   "execution_count": 45,
   "id": "7e4340ce-ad26-4a1c-be96-99bec75de9ea",
   "metadata": {},
   "outputs": [
    {
     "data": {
      "text/html": [
       "<div>\n",
       "<style scoped>\n",
       "    .dataframe tbody tr th:only-of-type {\n",
       "        vertical-align: middle;\n",
       "    }\n",
       "\n",
       "    .dataframe tbody tr th {\n",
       "        vertical-align: top;\n",
       "    }\n",
       "\n",
       "    .dataframe thead th {\n",
       "        text-align: right;\n",
       "    }\n",
       "</style>\n",
       "<table border=\"1\" class=\"dataframe\">\n",
       "  <thead>\n",
       "    <tr style=\"text-align: right;\">\n",
       "      <th></th>\n",
       "      <th>arg_id</th>\n",
       "      <th>key_point_id</th>\n",
       "      <th>label</th>\n",
       "      <th>argument</th>\n",
       "      <th>topic</th>\n",
       "      <th>stance</th>\n",
       "      <th>key_point</th>\n",
       "    </tr>\n",
       "  </thead>\n",
       "  <tbody>\n",
       "    <tr>\n",
       "      <th>0</th>\n",
       "      <td>arg_0_0</td>\n",
       "      <td>kp_0_0</td>\n",
       "      <td>0</td>\n",
       "      <td>`people reach their limit when it comes to their quality of life and should be able to end their suffering. this can be done with little or no suffering by assistance and the person is able to say good bye.</td>\n",
       "      <td>Assisted suicide should be a criminal offence</td>\n",
       "      <td>-1</td>\n",
       "      <td>Assisted suicide gives dignity to the person that wants to commit it</td>\n",
       "    </tr>\n",
       "    <tr>\n",
       "      <th>1</th>\n",
       "      <td>arg_0_1</td>\n",
       "      <td>kp_0_0</td>\n",
       "      <td>0</td>\n",
       "      <td>A patient should be able to decide when they have had enough \"care\".</td>\n",
       "      <td>Assisted suicide should be a criminal offence</td>\n",
       "      <td>-1</td>\n",
       "      <td>Assisted suicide gives dignity to the person that wants to commit it</td>\n",
       "    </tr>\n",
       "    <tr>\n",
       "      <th>2</th>\n",
       "      <td>arg_0_2</td>\n",
       "      <td>kp_0_0</td>\n",
       "      <td>0</td>\n",
       "      <td>a person has the right to end their suffering and if somebody takes pity on them and chooses to help, that person should not be punished.</td>\n",
       "      <td>Assisted suicide should be a criminal offence</td>\n",
       "      <td>-1</td>\n",
       "      <td>Assisted suicide gives dignity to the person that wants to commit it</td>\n",
       "    </tr>\n",
       "    <tr>\n",
       "      <th>3</th>\n",
       "      <td>arg_0_4</td>\n",
       "      <td>kp_0_0</td>\n",
       "      <td>0</td>\n",
       "      <td>a person should have the right to be able to choose if they want to live or die</td>\n",
       "      <td>Assisted suicide should be a criminal offence</td>\n",
       "      <td>-1</td>\n",
       "      <td>Assisted suicide gives dignity to the person that wants to commit it</td>\n",
       "    </tr>\n",
       "    <tr>\n",
       "      <th>4</th>\n",
       "      <td>arg_0_5</td>\n",
       "      <td>kp_0_0</td>\n",
       "      <td>0</td>\n",
       "      <td>a person should have the right to die on their own terms</td>\n",
       "      <td>Assisted suicide should be a criminal offence</td>\n",
       "      <td>-1</td>\n",
       "      <td>Assisted suicide gives dignity to the person that wants to commit it</td>\n",
       "    </tr>\n",
       "  </tbody>\n",
       "</table>\n",
       "</div>"
      ],
      "text/plain": [
       "    arg_id key_point_id  label  \\\n",
       "0  arg_0_0       kp_0_0      0   \n",
       "1  arg_0_1       kp_0_0      0   \n",
       "2  arg_0_2       kp_0_0      0   \n",
       "3  arg_0_4       kp_0_0      0   \n",
       "4  arg_0_5       kp_0_0      0   \n",
       "\n",
       "                                                                                                                                                                                                         argument  \\\n",
       "0  `people reach their limit when it comes to their quality of life and should be able to end their suffering. this can be done with little or no suffering by assistance and the person is able to say good bye.   \n",
       "1                                                                                                                                            A patient should be able to decide when they have had enough \"care\".   \n",
       "2                                                                       a person has the right to end their suffering and if somebody takes pity on them and chooses to help, that person should not be punished.   \n",
       "3                                                                                                                                 a person should have the right to be able to choose if they want to live or die   \n",
       "4                                                                                                                                                        a person should have the right to die on their own terms   \n",
       "\n",
       "                                           topic  stance  \\\n",
       "0  Assisted suicide should be a criminal offence      -1   \n",
       "1  Assisted suicide should be a criminal offence      -1   \n",
       "2  Assisted suicide should be a criminal offence      -1   \n",
       "3  Assisted suicide should be a criminal offence      -1   \n",
       "4  Assisted suicide should be a criminal offence      -1   \n",
       "\n",
       "                                                              key_point  \n",
       "0  Assisted suicide gives dignity to the person that wants to commit it  \n",
       "1  Assisted suicide gives dignity to the person that wants to commit it  \n",
       "2  Assisted suicide gives dignity to the person that wants to commit it  \n",
       "3  Assisted suicide gives dignity to the person that wants to commit it  \n",
       "4  Assisted suicide gives dignity to the person that wants to commit it  "
      ]
     },
     "execution_count": 45,
     "metadata": {},
     "output_type": "execute_result"
    }
   ],
   "source": [
    "training_df.head()"
   ]
  },
  {
   "cell_type": "code",
   "execution_count": 52,
   "id": "8dd11760-4e22-4188-9bf0-2972a7e41235",
   "metadata": {},
   "outputs": [],
   "source": [
    "df = training_df.copy()\n",
    "df['keypoint'] = df.apply(lambda x: x['topic'] + ' <SEP> ' + x['key_point'], axis=1)\n",
    "df['label'] = df.label.apply(lambda x: int(x))\n",
    "df[['argument', 'keypoint', 'label']].to_csv('/workspace/ceph_data/keypoint-analysis-sharedtask/siamese-data/training_df_contrastive.csv')\n",
    "\n",
    "df = valid_df.copy()\n",
    "df['keypoint'] = df.apply(lambda x: x['topic'] + ' <SEP> ' + x['key_point'], axis=1)\n",
    "df['label'] = df.label.apply(lambda x: int(x))\n",
    "df[['argument', 'keypoint', 'label']].to_csv('/workspace/ceph_data/keypoint-analysis-sharedtask/siamese-data/valid_df_contrastive.csv')"
   ]
  },
  {
   "cell_type": "code",
   "execution_count": 51,
   "id": "7d1abc06-20db-4b0a-a71e-46eaea9861dc",
   "metadata": {},
   "outputs": [
    {
     "data": {
      "text/html": [
       "<div>\n",
       "<style scoped>\n",
       "    .dataframe tbody tr th:only-of-type {\n",
       "        vertical-align: middle;\n",
       "    }\n",
       "\n",
       "    .dataframe tbody tr th {\n",
       "        vertical-align: top;\n",
       "    }\n",
       "\n",
       "    .dataframe thead th {\n",
       "        text-align: right;\n",
       "    }\n",
       "</style>\n",
       "<table border=\"1\" class=\"dataframe\">\n",
       "  <thead>\n",
       "    <tr style=\"text-align: right;\">\n",
       "      <th></th>\n",
       "      <th>Unnamed: 0</th>\n",
       "      <th>arg_id</th>\n",
       "      <th>key_point_id</th>\n",
       "      <th>label</th>\n",
       "      <th>argument</th>\n",
       "      <th>topic</th>\n",
       "      <th>stance</th>\n",
       "      <th>key_point</th>\n",
       "      <th>keypoint</th>\n",
       "    </tr>\n",
       "  </thead>\n",
       "  <tbody>\n",
       "    <tr>\n",
       "      <th>0</th>\n",
       "      <td>0</td>\n",
       "      <td>arg_4_121</td>\n",
       "      <td>kp_4_5</td>\n",
       "      <td>1</td>\n",
       "      <td>A real education is about giving students the tools to learn, think, and express themselves; dictating to them what to wear sends a strong message that we don't trust them to think on their own.</td>\n",
       "      <td>We should abandon the use of school uniform</td>\n",
       "      <td>1</td>\n",
       "      <td>School uniform is harming the student's self expression</td>\n",
       "      <td>We should abandon the use of school uniform &lt;SEP&gt; School uniform is harming the student's self expression</td>\n",
       "    </tr>\n",
       "    <tr>\n",
       "      <th>1</th>\n",
       "      <td>1</td>\n",
       "      <td>arg_4_122</td>\n",
       "      <td>kp_4_5</td>\n",
       "      <td>1</td>\n",
       "      <td>children express themselves through the clothes they wear and should be able to do this at school</td>\n",
       "      <td>We should abandon the use of school uniform</td>\n",
       "      <td>1</td>\n",
       "      <td>School uniform is harming the student's self expression</td>\n",
       "      <td>We should abandon the use of school uniform &lt;SEP&gt; School uniform is harming the student's self expression</td>\n",
       "    </tr>\n",
       "    <tr>\n",
       "      <th>2</th>\n",
       "      <td>3</td>\n",
       "      <td>arg_4_124</td>\n",
       "      <td>kp_4_5</td>\n",
       "      <td>1</td>\n",
       "      <td>children should be allowed to express themselves</td>\n",
       "      <td>We should abandon the use of school uniform</td>\n",
       "      <td>1</td>\n",
       "      <td>School uniform is harming the student's self expression</td>\n",
       "      <td>We should abandon the use of school uniform &lt;SEP&gt; School uniform is harming the student's self expression</td>\n",
       "    </tr>\n",
       "    <tr>\n",
       "      <th>3</th>\n",
       "      <td>5</td>\n",
       "      <td>arg_4_129</td>\n",
       "      <td>kp_4_5</td>\n",
       "      <td>1</td>\n",
       "      <td>it is not fair to not allow children to express their personality through dress as long as it is appropriate.</td>\n",
       "      <td>We should abandon the use of school uniform</td>\n",
       "      <td>1</td>\n",
       "      <td>School uniform is harming the student's self expression</td>\n",
       "      <td>We should abandon the use of school uniform &lt;SEP&gt; School uniform is harming the student's self expression</td>\n",
       "    </tr>\n",
       "    <tr>\n",
       "      <th>4</th>\n",
       "      <td>7</td>\n",
       "      <td>arg_4_131</td>\n",
       "      <td>kp_4_5</td>\n",
       "      <td>1</td>\n",
       "      <td>kids should be able to express them selves with their clothing</td>\n",
       "      <td>We should abandon the use of school uniform</td>\n",
       "      <td>1</td>\n",
       "      <td>School uniform is harming the student's self expression</td>\n",
       "      <td>We should abandon the use of school uniform &lt;SEP&gt; School uniform is harming the student's self expression</td>\n",
       "    </tr>\n",
       "  </tbody>\n",
       "</table>\n",
       "</div>"
      ],
      "text/plain": [
       "   Unnamed: 0     arg_id key_point_id  label  \\\n",
       "0           0  arg_4_121       kp_4_5      1   \n",
       "1           1  arg_4_122       kp_4_5      1   \n",
       "2           3  arg_4_124       kp_4_5      1   \n",
       "3           5  arg_4_129       kp_4_5      1   \n",
       "4           7  arg_4_131       kp_4_5      1   \n",
       "\n",
       "                                                                                                                                                                                             argument  \\\n",
       "0  A real education is about giving students the tools to learn, think, and express themselves; dictating to them what to wear sends a strong message that we don't trust them to think on their own.   \n",
       "1                                                                                                   children express themselves through the clothes they wear and should be able to do this at school   \n",
       "2                                                                                                                                                    children should be allowed to express themselves   \n",
       "3                                                                                       it is not fair to not allow children to express their personality through dress as long as it is appropriate.   \n",
       "4                                                                                                                                      kids should be able to express them selves with their clothing   \n",
       "\n",
       "                                         topic  stance  \\\n",
       "0  We should abandon the use of school uniform       1   \n",
       "1  We should abandon the use of school uniform       1   \n",
       "2  We should abandon the use of school uniform       1   \n",
       "3  We should abandon the use of school uniform       1   \n",
       "4  We should abandon the use of school uniform       1   \n",
       "\n",
       "                                                 key_point  \\\n",
       "0  School uniform is harming the student's self expression   \n",
       "1  School uniform is harming the student's self expression   \n",
       "2  School uniform is harming the student's self expression   \n",
       "3  School uniform is harming the student's self expression   \n",
       "4  School uniform is harming the student's self expression   \n",
       "\n",
       "                                                                                                    keypoint  \n",
       "0  We should abandon the use of school uniform <SEP> School uniform is harming the student's self expression  \n",
       "1  We should abandon the use of school uniform <SEP> School uniform is harming the student's self expression  \n",
       "2  We should abandon the use of school uniform <SEP> School uniform is harming the student's self expression  \n",
       "3  We should abandon the use of school uniform <SEP> School uniform is harming the student's self expression  \n",
       "4  We should abandon the use of school uniform <SEP> School uniform is harming the student's self expression  "
      ]
     },
     "execution_count": 51,
     "metadata": {},
     "output_type": "execute_result"
    }
   ],
   "source": [
    "df.head()"
   ]
  },
  {
   "cell_type": "markdown",
   "id": "80cc2745-6ab1-4eab-947d-f24a3aa687e4",
   "metadata": {},
   "source": [
    "----------"
   ]
  },
  {
   "cell_type": "markdown",
   "id": "fe3efa9e-c2a7-468d-934f-4c8f04325dff",
   "metadata": {},
   "source": [
    "### Training:"
   ]
  },
  {
   "cell_type": "code",
   "execution_count": 13,
   "id": "e4aee413-213c-48fb-97ec-1f5377c2f392",
   "metadata": {},
   "outputs": [
    {
     "name": "stdout",
     "output_type": "stream",
     "text": [
      "The autoreload extension is already loaded. To reload it, use:\n",
      "  %reload_ext autoreload\n"
     ]
    }
   ],
   "source": [
    "%load_ext autoreload"
   ]
  },
  {
   "cell_type": "code",
   "execution_count": 18,
   "id": "9926c22f-838f-4361-bd2e-d16241995fc1",
   "metadata": {},
   "outputs": [],
   "source": [
    "%autoreload\n",
    "\n",
    "import sys\n",
    "import os\n",
    "\n",
    "os.environ['CUDA_VISIBLE_DEVICES'] = '5'\n",
    "sys.path.insert(0, \"../src-py\")\n",
    "\n",
    "import sbert_training"
   ]
  },
  {
   "cell_type": "markdown",
   "id": "13d0cdd7-f398-426f-a3ed-21674f42940b",
   "metadata": {},
   "source": [
    "#### Training on simple triplets:"
   ]
  },
  {
   "cell_type": "code",
   "execution_count": 7,
   "id": "4d63c7df-f466-4e0f-b963-58a64ff6be43",
   "metadata": {
    "scrolled": true,
    "tags": []
   },
   "outputs": [
    {
     "name": "stdout",
     "output_type": "stream",
     "text": [
      "2021-05-27 09:09:58 - Use pytorch device: cuda\n",
      "2021-05-27 09:09:58 - Read Triplet train dataset\n"
     ]
    },
    {
     "data": {
      "application/vnd.jupyter.widget-view+json": {
       "model_id": "6877f13d110348c3b3f71ccf1fe70072",
       "version_major": 2,
       "version_minor": 0
      },
      "text/plain": [
       "HBox(children=(FloatProgress(value=0.0, description='Epoch', max=1.0, style=ProgressStyle(description_width='i…"
      ]
     },
     "metadata": {},
     "output_type": "display_data"
    },
    {
     "data": {
      "application/vnd.jupyter.widget-view+json": {
       "model_id": "c77f7ba44bf1462daf4c2ee4b919c8f2",
       "version_major": 2,
       "version_minor": 0
      },
      "text/plain": [
       "HBox(children=(FloatProgress(value=0.0, description='Iteration', max=2663.0, style=ProgressStyle(description_w…"
      ]
     },
     "metadata": {},
     "output_type": "display_data"
    },
    {
     "name": "stdout",
     "output_type": "stream",
     "text": [
      "2021-05-27 09:14:12 - TripletEvaluator: Evaluating the model on dev dataset in epoch 0 after 500 steps:\n",
      "mAP strict= 0.8360946619375339 ; mAP relaxed = 0.9565883278289452\n",
      "2021-05-27 09:14:14 - mAP strict:   \t83.61\n",
      "2021-05-27 09:14:14 - mAP relaxed:   \t95.66\n",
      "2021-05-27 09:14:14 - Save model to /workspace/ceph_data/keypoint-analysis-sharedtask/siamese-models/bert-base-uncased-kp_as_anchor_topic_added_max_20_neg_samples-2021-05-27_09-09-52\n",
      "2021-05-27 09:18:28 - TripletEvaluator: Evaluating the model on dev dataset in epoch 0 after 1000 steps:\n",
      "mAP strict= 0.8117820531508448 ; mAP relaxed = 0.9273021047679157\n",
      "2021-05-27 09:18:29 - mAP strict:   \t81.18\n",
      "2021-05-27 09:18:29 - mAP relaxed:   \t92.73\n",
      "2021-05-27 09:22:41 - TripletEvaluator: Evaluating the model on dev dataset in epoch 0 after 1500 steps:\n",
      "mAP strict= 0.7888255678594606 ; mAP relaxed = 0.913811093801151\n",
      "2021-05-27 09:22:43 - mAP strict:   \t78.88\n",
      "2021-05-27 09:22:43 - mAP relaxed:   \t91.38\n",
      "2021-05-27 09:26:53 - TripletEvaluator: Evaluating the model on dev dataset in epoch 0 after 2000 steps:\n",
      "mAP strict= 0.7940326791724053 ; mAP relaxed = 0.9176206025124123\n",
      "2021-05-27 09:26:55 - mAP strict:   \t79.40\n",
      "2021-05-27 09:26:55 - mAP relaxed:   \t91.76\n",
      "2021-05-27 09:31:06 - TripletEvaluator: Evaluating the model on dev dataset in epoch 0 after 2500 steps:\n",
      "mAP strict= 0.7905566615502082 ; mAP relaxed = 0.9183704257539661\n",
      "2021-05-27 09:31:08 - mAP strict:   \t79.06\n",
      "2021-05-27 09:31:08 - mAP relaxed:   \t91.84\n",
      "\n",
      "2021-05-27 09:32:29 - TripletEvaluator: Evaluating the model on dev dataset after epoch 0:\n",
      "mAP strict= 0.7922022955394545 ; mAP relaxed = 0.9188866158695794\n",
      "2021-05-27 09:32:31 - mAP strict:   \t79.22\n",
      "2021-05-27 09:32:31 - mAP relaxed:   \t91.89\n",
      "\n"
     ]
    }
   ],
   "source": [
    "sbert_training.train_model('/workspace/ceph_data/keypoint-analysis-sharedtask/siamese-data/',\n",
    "                           '../../data',\n",
    "                           'our_valid',\n",
    "                           '/workspace/ceph_data/keypoint-analysis-sharedtask/siamese-models/',\n",
    "                           'bert-base-uncased',\n",
    "                           model_suffix='kp_as_anchor_topic_added_max_20_neg_samples', \n",
    "                           data_file_suffix='kp_as_anchor_topic_added_max_20_neg_samples',\n",
    "                           num_epochs=1, max_seq_length=70, add_special_token=True, train_batch_size=32)"
   ]
  },
  {
   "cell_type": "code",
   "execution_count": 19,
   "id": "66970a86-595e-4aed-b1db-edfdbd5cb636",
   "metadata": {
    "scrolled": true,
    "tags": []
   },
   "outputs": [
    {
     "name": "stdout",
     "output_type": "stream",
     "text": [
      "2021-05-27 10:11:16 - Use pytorch device: cuda\n",
      "2021-05-27 10:11:16 - Read Triplet train dataset\n"
     ]
    },
    {
     "data": {
      "application/vnd.jupyter.widget-view+json": {
       "model_id": "009b5225ed09428ab7b9415580ab826f",
       "version_major": 2,
       "version_minor": 0
      },
      "text/plain": [
       "HBox(children=(FloatProgress(value=0.0, description='Epoch', max=1.0, style=ProgressStyle(description_width='i…"
      ]
     },
     "metadata": {},
     "output_type": "display_data"
    },
    {
     "data": {
      "application/vnd.jupyter.widget-view+json": {
       "model_id": "6bc31f0e182c435c9fa4c54e7266fc03",
       "version_major": 2,
       "version_minor": 0
      },
      "text/plain": [
       "HBox(children=(FloatProgress(value=0.0, description='Iteration', max=2662.0, style=ProgressStyle(description_w…"
      ]
     },
     "metadata": {},
     "output_type": "display_data"
    },
    {
     "name": "stdout",
     "output_type": "stream",
     "text": [
      "2021-05-27 10:15:29 - TripletEvaluator: Evaluating the model on dev dataset in epoch 0 after 500 steps:\n",
      "mAP strict= 0.7035298736030542 ; mAP relaxed = 0.8930035651395811\n",
      "2021-05-27 10:15:31 - mAP strict:   \t70.35\n",
      "2021-05-27 10:15:31 - mAP relaxed:   \t89.30\n",
      "2021-05-27 10:15:31 - Save model to /workspace/ceph_data/keypoint-analysis-sharedtask/siamese-models/bert-base-uncased-kp_as_anchor_topic_added_max_20_neg_samples_ranking_loss-2021-05-27_10-11-10\n",
      "2021-05-27 10:19:51 - TripletEvaluator: Evaluating the model on dev dataset in epoch 0 after 1000 steps:\n",
      "mAP strict= 0.7418957379459983 ; mAP relaxed = 0.9155806366562828\n",
      "2021-05-27 10:19:53 - mAP strict:   \t74.19\n",
      "2021-05-27 10:19:53 - mAP relaxed:   \t91.56\n",
      "2021-05-27 10:19:53 - Save model to /workspace/ceph_data/keypoint-analysis-sharedtask/siamese-models/bert-base-uncased-kp_as_anchor_topic_added_max_20_neg_samples_ranking_loss-2021-05-27_10-11-10\n",
      "2021-05-27 10:24:14 - TripletEvaluator: Evaluating the model on dev dataset in epoch 0 after 1500 steps:\n",
      "mAP strict= 0.7342200597150239 ; mAP relaxed = 0.9108411012096189\n",
      "2021-05-27 10:24:16 - mAP strict:   \t73.42\n",
      "2021-05-27 10:24:16 - mAP relaxed:   \t91.08\n",
      "2021-05-27 10:28:35 - TripletEvaluator: Evaluating the model on dev dataset in epoch 0 after 2000 steps:\n",
      "mAP strict= 0.7463576519572123 ; mAP relaxed = 0.9251895309908584\n",
      "2021-05-27 10:28:37 - mAP strict:   \t74.64\n",
      "2021-05-27 10:28:37 - mAP relaxed:   \t92.52\n",
      "2021-05-27 10:28:37 - Save model to /workspace/ceph_data/keypoint-analysis-sharedtask/siamese-models/bert-base-uncased-kp_as_anchor_topic_added_max_20_neg_samples_ranking_loss-2021-05-27_10-11-10\n",
      "2021-05-27 10:32:58 - TripletEvaluator: Evaluating the model on dev dataset in epoch 0 after 2500 steps:\n",
      "mAP strict= 0.742385763632401 ; mAP relaxed = 0.9171727100694658\n",
      "2021-05-27 10:33:00 - mAP strict:   \t74.24\n",
      "2021-05-27 10:33:00 - mAP relaxed:   \t91.72\n",
      "\n",
      "2021-05-27 10:34:24 - TripletEvaluator: Evaluating the model on dev dataset after epoch 0:\n",
      "mAP strict= 0.7462650913932696 ; mAP relaxed = 0.9178060395423943\n",
      "2021-05-27 10:34:26 - mAP strict:   \t74.63\n",
      "2021-05-27 10:34:26 - mAP relaxed:   \t91.78\n",
      "\n"
     ]
    }
   ],
   "source": [
    "sbert_training.train_model('/workspace/ceph_data/keypoint-analysis-sharedtask/siamese-data/',\n",
    "                           '../../data',\n",
    "                           'our_valid',\n",
    "                           '/workspace/ceph_data/keypoint-analysis-sharedtask/siamese-models/',\n",
    "                           'bert-base-uncased', \n",
    "                           model_suffix='kp_as_anchor_topic_added_max_20_neg_samples_ranking_loss', \n",
    "                           data_file_suffix='kp_as_anchor_topic_added_max_20_neg_samples', loss='MultipleNegativesRankingLoss',\n",
    "                           num_epochs=1, max_seq_length=70, add_special_token=True, train_batch_size=32)"
   ]
  },
  {
   "cell_type": "code",
   "execution_count": 8,
   "id": "4300f25a-1e5f-4118-9656-354a11dba9f5",
   "metadata": {
    "scrolled": true,
    "tags": []
   },
   "outputs": [
    {
     "name": "stdout",
     "output_type": "stream",
     "text": [
      "2021-05-27 09:32:36 - Use pytorch device: cuda\n",
      "2021-05-27 09:32:36 - Read Triplet train dataset\n"
     ]
    },
    {
     "data": {
      "application/vnd.jupyter.widget-view+json": {
       "model_id": "94a3af6980a34734aa987d5cb933fe4f",
       "version_major": 2,
       "version_minor": 0
      },
      "text/plain": [
       "HBox(children=(FloatProgress(value=0.0, description='Epoch', max=3.0, style=ProgressStyle(description_width='i…"
      ]
     },
     "metadata": {},
     "output_type": "display_data"
    },
    {
     "data": {
      "application/vnd.jupyter.widget-view+json": {
       "model_id": "69a85cf50e814dbe8411d7ace2cc9a36",
       "version_major": 2,
       "version_minor": 0
      },
      "text/plain": [
       "HBox(children=(FloatProgress(value=0.0, description='Iteration', max=2663.0, style=ProgressStyle(description_w…"
      ]
     },
     "metadata": {},
     "output_type": "display_data"
    },
    {
     "name": "stdout",
     "output_type": "stream",
     "text": [
      "2021-05-27 09:36:36 - TripletEvaluator: Evaluating the model on dev dataset in epoch 0 after 500 steps:\n",
      "mAP strict= 0.7461661136574235 ; mAP relaxed = 0.9100610879018628\n",
      "2021-05-27 09:36:38 - mAP strict:   \t74.62\n",
      "2021-05-27 09:36:38 - mAP relaxed:   \t91.01\n",
      "2021-05-27 09:36:38 - Save model to /workspace/ceph_data/keypoint-analysis-sharedtask/siamese-models/bert-base-uncased-kp_as_anchor_max_20_neg_samples-2021-05-27_09-32-31\n",
      "2021-05-27 09:40:36 - TripletEvaluator: Evaluating the model on dev dataset in epoch 0 after 1000 steps:\n",
      "mAP strict= 0.8148458502689442 ; mAP relaxed = 0.9184252482741364\n",
      "2021-05-27 09:40:38 - mAP strict:   \t81.48\n",
      "2021-05-27 09:40:38 - mAP relaxed:   \t91.84\n",
      "2021-05-27 09:40:38 - Save model to /workspace/ceph_data/keypoint-analysis-sharedtask/siamese-models/bert-base-uncased-kp_as_anchor_max_20_neg_samples-2021-05-27_09-32-31\n",
      "2021-05-27 09:44:35 - TripletEvaluator: Evaluating the model on dev dataset in epoch 0 after 1500 steps:\n",
      "mAP strict= 0.7847155572634386 ; mAP relaxed = 0.8970190076376573\n",
      "2021-05-27 09:44:37 - mAP strict:   \t78.47\n",
      "2021-05-27 09:44:37 - mAP relaxed:   \t89.70\n",
      "2021-05-27 09:48:32 - TripletEvaluator: Evaluating the model on dev dataset in epoch 0 after 2000 steps:\n",
      "mAP strict= 0.7815303852451891 ; mAP relaxed = 0.8943803511404266\n",
      "2021-05-27 09:48:33 - mAP strict:   \t78.15\n",
      "2021-05-27 09:48:33 - mAP relaxed:   \t89.44\n",
      "2021-05-27 09:52:28 - TripletEvaluator: Evaluating the model on dev dataset in epoch 0 after 2500 steps:\n",
      "mAP strict= 0.7669767958784965 ; mAP relaxed = 0.8855043542826126\n",
      "2021-05-27 09:52:29 - mAP strict:   \t76.70\n",
      "2021-05-27 09:52:29 - mAP relaxed:   \t88.55\n",
      "\n",
      "2021-05-27 09:53:46 - TripletEvaluator: Evaluating the model on dev dataset after epoch 0:\n",
      "mAP strict= 0.7783047741172539 ; mAP relaxed = 0.8872307102832842\n",
      "2021-05-27 09:53:48 - mAP strict:   \t77.83\n",
      "2021-05-27 09:53:48 - mAP relaxed:   \t88.72\n"
     ]
    },
    {
     "data": {
      "application/vnd.jupyter.widget-view+json": {
       "model_id": "dc2ef7e388014e79be02885be12333c5",
       "version_major": 2,
       "version_minor": 0
      },
      "text/plain": [
       "HBox(children=(FloatProgress(value=0.0, description='Iteration', max=2663.0, style=ProgressStyle(description_w…"
      ]
     },
     "metadata": {},
     "output_type": "display_data"
    },
    {
     "name": "stdout",
     "output_type": "stream",
     "text": [
      "2021-05-27 09:57:42 - TripletEvaluator: Evaluating the model on dev dataset in epoch 1 after 500 steps:\n",
      "mAP strict= 0.759610029912017 ; mAP relaxed = 0.8792779578405363\n",
      "2021-05-27 09:57:43 - mAP strict:   \t75.96\n",
      "2021-05-27 09:57:43 - mAP relaxed:   \t87.93\n",
      "2021-05-27 10:01:38 - TripletEvaluator: Evaluating the model on dev dataset in epoch 1 after 1000 steps:\n",
      "mAP strict= 0.7865396904128623 ; mAP relaxed = 0.8651684288085811\n",
      "2021-05-27 10:01:40 - mAP strict:   \t78.65\n",
      "2021-05-27 10:01:40 - mAP relaxed:   \t86.52\n",
      "2021-05-27 10:05:34 - TripletEvaluator: Evaluating the model on dev dataset in epoch 1 after 1500 steps:\n",
      "mAP strict= 0.8040256993727843 ; mAP relaxed = 0.8761512719544822\n",
      "2021-05-27 10:05:36 - mAP strict:   \t80.40\n",
      "2021-05-27 10:05:36 - mAP relaxed:   \t87.62\n",
      "\n",
      "\n"
     ]
    },
    {
     "ename": "KeyboardInterrupt",
     "evalue": "",
     "output_type": "error",
     "traceback": [
      "\u001b[0;31m---------------------------------------------------------------------\u001b[0m",
      "\u001b[0;31mKeyboardInterrupt\u001b[0m                   Traceback (most recent call last)",
      "\u001b[0;32m<ipython-input-8-86169371269e>\u001b[0m in \u001b[0;36m<module>\u001b[0;34m\u001b[0m\n\u001b[1;32m      6\u001b[0m                            \u001b[0mmodel_suffix\u001b[0m\u001b[0;34m=\u001b[0m\u001b[0;34m'kp_as_anchor_max_20_neg_samples'\u001b[0m\u001b[0;34m,\u001b[0m\u001b[0;34m\u001b[0m\u001b[0;34m\u001b[0m\u001b[0m\n\u001b[1;32m      7\u001b[0m                            \u001b[0mdata_file_suffix\u001b[0m\u001b[0;34m=\u001b[0m\u001b[0;34m'kp_as_anchor_max_20_neg_samples'\u001b[0m\u001b[0;34m,\u001b[0m\u001b[0;34m\u001b[0m\u001b[0;34m\u001b[0m\u001b[0m\n\u001b[0;32m----> 8\u001b[0;31m                            num_epochs=3, max_seq_length=70, add_special_token=False, train_batch_size=32)\n\u001b[0m",
      "\u001b[0;32m/workspace/keypoint-analysis-sharedtask/siamese-nn/src-py/sbert_training.py\u001b[0m in \u001b[0;36mtrain_model\u001b[0;34m(dataset_path, eval_data_path, subset_name, output_path, model_name, num_epochs, train_batch_size, model_suffix, data_file_suffix, max_seq_length, add_special_token)\u001b[0m\n\u001b[1;32m    168\u001b[0m \u001b[0;34m\u001b[0m\u001b[0m\n\u001b[1;32m    169\u001b[0m \u001b[0;34m\u001b[0m\u001b[0m\n\u001b[0;32m--> 170\u001b[0;31m     \u001b[0mwarmup_steps\u001b[0m \u001b[0;34m=\u001b[0m \u001b[0mint\u001b[0m\u001b[0;34m(\u001b[0m\u001b[0mlen\u001b[0m\u001b[0;34m(\u001b[0m\u001b[0mtrain_dataloader\u001b[0m\u001b[0;34m)\u001b[0m \u001b[0;34m*\u001b[0m \u001b[0mnum_epochs\u001b[0m \u001b[0;34m*\u001b[0m \u001b[0;36m0.1\u001b[0m\u001b[0;34m)\u001b[0m \u001b[0;31m#10% of train data\u001b[0m\u001b[0;34m\u001b[0m\u001b[0;34m\u001b[0m\u001b[0m\n\u001b[0m\u001b[1;32m    171\u001b[0m \u001b[0;34m\u001b[0m\u001b[0m\n\u001b[1;32m    172\u001b[0m \u001b[0;34m\u001b[0m\u001b[0m\n",
      "\u001b[0;32m/usr/local/lib/python3.6/dist-packages/sentence_transformers/SentenceTransformer.py\u001b[0m in \u001b[0;36mfit\u001b[0;34m(self, train_objectives, evaluator, epochs, steps_per_epoch, scheduler, warmup_steps, optimizer_class, optimizer_params, weight_decay, evaluation_steps, output_path, save_best_model, max_grad_norm, use_amp, callback, show_progress_bar, checkpoint_path, checkpoint_save_steps, checkpoint_save_total_limit)\u001b[0m\n\u001b[1;32m    572\u001b[0m                     \u001b[0;32melse\u001b[0m\u001b[0;34m:\u001b[0m\u001b[0;34m\u001b[0m\u001b[0;34m\u001b[0m\u001b[0m\n\u001b[1;32m    573\u001b[0m                         \u001b[0mloss_value\u001b[0m \u001b[0;34m=\u001b[0m \u001b[0mloss_model\u001b[0m\u001b[0;34m(\u001b[0m\u001b[0mfeatures\u001b[0m\u001b[0;34m,\u001b[0m \u001b[0mlabels\u001b[0m\u001b[0;34m)\u001b[0m\u001b[0;34m\u001b[0m\u001b[0;34m\u001b[0m\u001b[0m\n\u001b[0;32m--> 574\u001b[0;31m                         \u001b[0mloss_value\u001b[0m\u001b[0;34m.\u001b[0m\u001b[0mbackward\u001b[0m\u001b[0;34m(\u001b[0m\u001b[0;34m)\u001b[0m\u001b[0;34m\u001b[0m\u001b[0;34m\u001b[0m\u001b[0m\n\u001b[0m\u001b[1;32m    575\u001b[0m                         \u001b[0mtorch\u001b[0m\u001b[0;34m.\u001b[0m\u001b[0mnn\u001b[0m\u001b[0;34m.\u001b[0m\u001b[0mutils\u001b[0m\u001b[0;34m.\u001b[0m\u001b[0mclip_grad_norm_\u001b[0m\u001b[0;34m(\u001b[0m\u001b[0mloss_model\u001b[0m\u001b[0;34m.\u001b[0m\u001b[0mparameters\u001b[0m\u001b[0;34m(\u001b[0m\u001b[0;34m)\u001b[0m\u001b[0;34m,\u001b[0m \u001b[0mmax_grad_norm\u001b[0m\u001b[0;34m)\u001b[0m\u001b[0;34m\u001b[0m\u001b[0;34m\u001b[0m\u001b[0m\n\u001b[1;32m    576\u001b[0m                         \u001b[0moptimizer\u001b[0m\u001b[0;34m.\u001b[0m\u001b[0mstep\u001b[0m\u001b[0;34m(\u001b[0m\u001b[0;34m)\u001b[0m\u001b[0;34m\u001b[0m\u001b[0;34m\u001b[0m\u001b[0m\n",
      "\u001b[0;32m/usr/local/lib/python3.6/dist-packages/torch/tensor.py\u001b[0m in \u001b[0;36mbackward\u001b[0;34m(self, gradient, retain_graph, create_graph, inputs)\u001b[0m\n\u001b[1;32m    243\u001b[0m                 \u001b[0mcreate_graph\u001b[0m\u001b[0;34m=\u001b[0m\u001b[0mcreate_graph\u001b[0m\u001b[0;34m,\u001b[0m\u001b[0;34m\u001b[0m\u001b[0;34m\u001b[0m\u001b[0m\n\u001b[1;32m    244\u001b[0m                 inputs=inputs)\n\u001b[0;32m--> 245\u001b[0;31m         \u001b[0mtorch\u001b[0m\u001b[0;34m.\u001b[0m\u001b[0mautograd\u001b[0m\u001b[0;34m.\u001b[0m\u001b[0mbackward\u001b[0m\u001b[0;34m(\u001b[0m\u001b[0mself\u001b[0m\u001b[0;34m,\u001b[0m \u001b[0mgradient\u001b[0m\u001b[0;34m,\u001b[0m \u001b[0mretain_graph\u001b[0m\u001b[0;34m,\u001b[0m \u001b[0mcreate_graph\u001b[0m\u001b[0;34m,\u001b[0m \u001b[0minputs\u001b[0m\u001b[0;34m=\u001b[0m\u001b[0minputs\u001b[0m\u001b[0;34m)\u001b[0m\u001b[0;34m\u001b[0m\u001b[0;34m\u001b[0m\u001b[0m\n\u001b[0m\u001b[1;32m    246\u001b[0m \u001b[0;34m\u001b[0m\u001b[0m\n\u001b[1;32m    247\u001b[0m     \u001b[0;32mdef\u001b[0m \u001b[0mregister_hook\u001b[0m\u001b[0;34m(\u001b[0m\u001b[0mself\u001b[0m\u001b[0;34m,\u001b[0m \u001b[0mhook\u001b[0m\u001b[0;34m)\u001b[0m\u001b[0;34m:\u001b[0m\u001b[0;34m\u001b[0m\u001b[0;34m\u001b[0m\u001b[0m\n",
      "\u001b[0;32m/usr/local/lib/python3.6/dist-packages/torch/autograd/__init__.py\u001b[0m in \u001b[0;36mbackward\u001b[0;34m(tensors, grad_tensors, retain_graph, create_graph, grad_variables, inputs)\u001b[0m\n\u001b[1;32m    145\u001b[0m     Variable._execution_engine.run_backward(\n\u001b[1;32m    146\u001b[0m         \u001b[0mtensors\u001b[0m\u001b[0;34m,\u001b[0m \u001b[0mgrad_tensors_\u001b[0m\u001b[0;34m,\u001b[0m \u001b[0mretain_graph\u001b[0m\u001b[0;34m,\u001b[0m \u001b[0mcreate_graph\u001b[0m\u001b[0;34m,\u001b[0m \u001b[0minputs\u001b[0m\u001b[0;34m,\u001b[0m\u001b[0;34m\u001b[0m\u001b[0;34m\u001b[0m\u001b[0m\n\u001b[0;32m--> 147\u001b[0;31m         allow_unreachable=True, accumulate_grad=True)  # allow_unreachable flag\n\u001b[0m\u001b[1;32m    148\u001b[0m \u001b[0;34m\u001b[0m\u001b[0m\n\u001b[1;32m    149\u001b[0m \u001b[0;34m\u001b[0m\u001b[0m\n",
      "\u001b[0;31mKeyboardInterrupt\u001b[0m: "
     ]
    }
   ],
   "source": [
    "sbert_training.train_model('/workspace/ceph_data/keypoint-analysis-sharedtask/siamese-data/',\n",
    "                           '../../data',\n",
    "                           'our_valid',\n",
    "                           '/workspace/ceph_data/keypoint-analysis-sharedtask/siamese-models/',\n",
    "                           'bert-base-uncased', \n",
    "                           model_suffix='kp_as_anchor_max_20_neg_samples', \n",
    "                           data_file_suffix='kp_as_anchor_max_20_neg_samples',\n",
    "                           num_epochs=3, max_seq_length=70, add_special_token=False, train_batch_size=32)"
   ]
  },
  {
   "cell_type": "markdown",
   "id": "41d44e39-a811-4cce-ba24-4131ce87002f",
   "metadata": {},
   "source": [
    "### Training Batch Triplet Models:"
   ]
  },
  {
   "cell_type": "code",
   "execution_count": 7,
   "id": "82c67c95-983b-4908-9021-80750158e49a",
   "metadata": {
    "scrolled": true,
    "tags": []
   },
   "outputs": [
    {
     "name": "stdout",
     "output_type": "stream",
     "text": [
      "2021-05-18 10:29:35 - Read Triplet train dataset\n",
      "2021-05-18 10:29:35 - Read Triplet dev dataset\n",
      "2021-05-18 10:29:35 - SentenceLabelDataset: 4467 examples, from which 4260 examples could be used (those labels appeared at least 2 times). 207 different labels found.\n",
      "2021-05-18 10:29:35 - Load model\n",
      "2021-05-18 10:29:35 - Load pretrained SentenceTransformer: bert-base-uncased\n",
      "2021-05-18 10:29:35 - Did not find folder bert-base-uncased\n",
      "2021-05-18 10:29:35 - Search model on server: http://sbert.net/models/bert-base-uncased.zip\n",
      "2021-05-18 10:29:35 - Load SentenceTransformer from folder: /root/.cache/torch/sentence_transformers/sbert.net_models_bert-base-uncased\n",
      "2021-05-18 10:29:38 - Use pytorch device: cuda\n",
      "2021-05-18 10:29:38 - Performance before fine-tuning:\n",
      "2021-05-18 10:29:38 - TripletEvaluator: Evaluating the model on dev dataset:\n",
      "2021-05-18 10:29:46 - Accuracy Cosine Distance:   \t79.70\n",
      "2021-05-18 10:29:46 - Accuracy Manhatten Distance:\t79.50\n",
      "2021-05-18 10:29:46 - Accuracy Euclidean Distance:\t77.70\n",
      "\n"
     ]
    },
    {
     "data": {
      "application/vnd.jupyter.widget-view+json": {
       "model_id": "ccc9af638ae541ac82e83f876f1eb76d",
       "version_major": 2,
       "version_minor": 0
      },
      "text/plain": [
       "HBox(children=(FloatProgress(value=0.0, description='Epoch', max=5.0, style=ProgressStyle(description_width='i…"
      ]
     },
     "metadata": {},
     "output_type": "display_data"
    },
    {
     "data": {
      "application/vnd.jupyter.widget-view+json": {
       "model_id": "b36ed8f361a04cb09af774cbe937ac13",
       "version_major": 2,
       "version_minor": 0
      },
      "text/plain": [
       "HBox(children=(FloatProgress(value=0.0, description='Iteration', max=66.0, style=ProgressStyle(description_wid…"
      ]
     },
     "metadata": {},
     "output_type": "display_data"
    },
    {
     "name": "stdout",
     "output_type": "stream",
     "text": [
      "\n",
      "2021-05-18 10:30:11 - TripletEvaluator: Evaluating the model on dev dataset after epoch 0:\n",
      "2021-05-18 10:30:15 - Accuracy Cosine Distance:   \t84.80\n",
      "2021-05-18 10:30:15 - Accuracy Manhatten Distance:\t85.30\n",
      "2021-05-18 10:30:15 - Accuracy Euclidean Distance:\t84.80\n",
      "\n",
      "2021-05-18 10:30:15 - Save model to /workspace/ceph_data/keypoint-analysis-sharedtask/triplet-models/all-triplet-loss\n"
     ]
    },
    {
     "data": {
      "application/vnd.jupyter.widget-view+json": {
       "model_id": "352d9304ea84452582893b1da020b40a",
       "version_major": 2,
       "version_minor": 0
      },
      "text/plain": [
       "HBox(children=(FloatProgress(value=0.0, description='Iteration', max=66.0, style=ProgressStyle(description_wid…"
      ]
     },
     "metadata": {},
     "output_type": "display_data"
    },
    {
     "name": "stdout",
     "output_type": "stream",
     "text": [
      "\n",
      "2021-05-18 10:30:42 - TripletEvaluator: Evaluating the model on dev dataset after epoch 1:\n",
      "2021-05-18 10:30:46 - Accuracy Cosine Distance:   \t86.10\n",
      "2021-05-18 10:30:46 - Accuracy Manhatten Distance:\t85.60\n",
      "2021-05-18 10:30:46 - Accuracy Euclidean Distance:\t85.20\n",
      "\n",
      "2021-05-18 10:30:46 - Save model to /workspace/ceph_data/keypoint-analysis-sharedtask/triplet-models/all-triplet-loss\n"
     ]
    },
    {
     "data": {
      "application/vnd.jupyter.widget-view+json": {
       "model_id": "7762274bfc454c91932afd73c9290bb4",
       "version_major": 2,
       "version_minor": 0
      },
      "text/plain": [
       "HBox(children=(FloatProgress(value=0.0, description='Iteration', max=66.0, style=ProgressStyle(description_wid…"
      ]
     },
     "metadata": {},
     "output_type": "display_data"
    },
    {
     "name": "stdout",
     "output_type": "stream",
     "text": [
      "\n",
      "2021-05-18 10:31:13 - TripletEvaluator: Evaluating the model on dev dataset after epoch 2:\n",
      "2021-05-18 10:31:18 - Accuracy Cosine Distance:   \t87.00\n",
      "2021-05-18 10:31:18 - Accuracy Manhatten Distance:\t87.30\n",
      "2021-05-18 10:31:18 - Accuracy Euclidean Distance:\t87.50\n",
      "\n",
      "2021-05-18 10:31:18 - Save model to /workspace/ceph_data/keypoint-analysis-sharedtask/triplet-models/all-triplet-loss\n"
     ]
    },
    {
     "data": {
      "application/vnd.jupyter.widget-view+json": {
       "model_id": "cab01e59cda44e619d2022fc87b16800",
       "version_major": 2,
       "version_minor": 0
      },
      "text/plain": [
       "HBox(children=(FloatProgress(value=0.0, description='Iteration', max=66.0, style=ProgressStyle(description_wid…"
      ]
     },
     "metadata": {},
     "output_type": "display_data"
    },
    {
     "name": "stdout",
     "output_type": "stream",
     "text": [
      "\n",
      "2021-05-18 10:31:45 - TripletEvaluator: Evaluating the model on dev dataset after epoch 3:\n",
      "2021-05-18 10:31:50 - Accuracy Cosine Distance:   \t87.80\n",
      "2021-05-18 10:31:50 - Accuracy Manhatten Distance:\t87.30\n",
      "2021-05-18 10:31:50 - Accuracy Euclidean Distance:\t88.10\n",
      "\n",
      "2021-05-18 10:31:50 - Save model to /workspace/ceph_data/keypoint-analysis-sharedtask/triplet-models/all-triplet-loss\n"
     ]
    },
    {
     "data": {
      "application/vnd.jupyter.widget-view+json": {
       "model_id": "0471994084d64d3085172c12b021c87a",
       "version_major": 2,
       "version_minor": 0
      },
      "text/plain": [
       "HBox(children=(FloatProgress(value=0.0, description='Iteration', max=66.0, style=ProgressStyle(description_wid…"
      ]
     },
     "metadata": {},
     "output_type": "display_data"
    },
    {
     "name": "stdout",
     "output_type": "stream",
     "text": [
      "\n",
      "2021-05-18 10:32:16 - TripletEvaluator: Evaluating the model on dev dataset after epoch 4:\n",
      "2021-05-18 10:32:21 - Accuracy Cosine Distance:   \t87.60\n",
      "2021-05-18 10:32:21 - Accuracy Manhatten Distance:\t87.80\n",
      "2021-05-18 10:32:21 - Accuracy Euclidean Distance:\t88.30\n",
      "\n",
      "2021-05-18 10:32:21 - Save model to /workspace/ceph_data/keypoint-analysis-sharedtask/triplet-models/all-triplet-loss\n",
      "\n"
     ]
    }
   ],
   "source": [
    "sbert_training.train_hard_triplet_modle('/workspace/ceph_data/keypoint-analysis-sharedtask/siamese-data/', \n",
    "                                        '/workspace/ceph_data/keypoint-analysis-sharedtask/triplet-models/all-triplet-loss', \n",
    "                                        'bert-base-uncased', training_loss='BatchAllTripletLoss',  \n",
    "                                        num_epochs=5, train_batch_size=64, data_file_suffix='batch_hard')"
   ]
  },
  {
   "cell_type": "code",
   "execution_count": 8,
   "id": "17c553a5-196f-42f8-a02f-71097121acc0",
   "metadata": {
    "scrolled": true,
    "tags": []
   },
   "outputs": [
    {
     "name": "stdout",
     "output_type": "stream",
     "text": [
      "2021-05-18 10:32:22 - Read Triplet train dataset\n",
      "2021-05-18 10:32:22 - Read Triplet dev dataset\n",
      "2021-05-18 10:32:22 - SentenceLabelDataset: 4467 examples, from which 4260 examples could be used (those labels appeared at least 2 times). 207 different labels found.\n",
      "2021-05-18 10:32:22 - Load model\n",
      "2021-05-18 10:32:22 - Load pretrained SentenceTransformer: bert-base-uncased\n",
      "2021-05-18 10:32:22 - Did not find folder bert-base-uncased\n",
      "2021-05-18 10:32:22 - Search model on server: http://sbert.net/models/bert-base-uncased.zip\n",
      "2021-05-18 10:32:22 - Load SentenceTransformer from folder: /root/.cache/torch/sentence_transformers/sbert.net_models_bert-base-uncased\n",
      "2021-05-18 10:32:25 - Use pytorch device: cuda\n",
      "2021-05-18 10:32:25 - Performance before fine-tuning:\n",
      "2021-05-18 10:32:25 - TripletEvaluator: Evaluating the model on dev dataset:\n",
      "2021-05-18 10:32:29 - Accuracy Cosine Distance:   \t79.70\n",
      "2021-05-18 10:32:29 - Accuracy Manhatten Distance:\t79.50\n",
      "2021-05-18 10:32:29 - Accuracy Euclidean Distance:\t77.70\n",
      "\n"
     ]
    },
    {
     "data": {
      "application/vnd.jupyter.widget-view+json": {
       "model_id": "35bd9a105efd475e80c34f5f625eccfd",
       "version_major": 2,
       "version_minor": 0
      },
      "text/plain": [
       "HBox(children=(FloatProgress(value=0.0, description='Epoch', max=5.0, style=ProgressStyle(description_width='i…"
      ]
     },
     "metadata": {},
     "output_type": "display_data"
    },
    {
     "data": {
      "application/vnd.jupyter.widget-view+json": {
       "model_id": "e672bd157a1e45caa0699d0275487218",
       "version_major": 2,
       "version_minor": 0
      },
      "text/plain": [
       "HBox(children=(FloatProgress(value=0.0, description='Iteration', max=66.0, style=ProgressStyle(description_wid…"
      ]
     },
     "metadata": {},
     "output_type": "display_data"
    },
    {
     "name": "stdout",
     "output_type": "stream",
     "text": [
      "\n",
      "2021-05-18 10:32:54 - TripletEvaluator: Evaluating the model on dev dataset after epoch 0:\n",
      "2021-05-18 10:32:59 - Accuracy Cosine Distance:   \t79.70\n",
      "2021-05-18 10:32:59 - Accuracy Manhatten Distance:\t79.50\n",
      "2021-05-18 10:32:59 - Accuracy Euclidean Distance:\t77.70\n",
      "\n",
      "2021-05-18 10:32:59 - Save model to /workspace/ceph_data/keypoint-analysis-sharedtask/triplet-models/hard-triplet-loss\n"
     ]
    },
    {
     "data": {
      "application/vnd.jupyter.widget-view+json": {
       "model_id": "a1ea2a5b92a84ca696347b93537980ba",
       "version_major": 2,
       "version_minor": 0
      },
      "text/plain": [
       "HBox(children=(FloatProgress(value=0.0, description='Iteration', max=66.0, style=ProgressStyle(description_wid…"
      ]
     },
     "metadata": {},
     "output_type": "display_data"
    },
    {
     "name": "stdout",
     "output_type": "stream",
     "text": [
      "\n",
      "2021-05-18 10:33:24 - TripletEvaluator: Evaluating the model on dev dataset after epoch 1:\n",
      "2021-05-18 10:33:28 - Accuracy Cosine Distance:   \t79.70\n",
      "2021-05-18 10:33:28 - Accuracy Manhatten Distance:\t79.50\n",
      "2021-05-18 10:33:28 - Accuracy Euclidean Distance:\t77.70\n",
      "\n"
     ]
    },
    {
     "data": {
      "application/vnd.jupyter.widget-view+json": {
       "model_id": "f99271ff9988483386a3e5794a640d69",
       "version_major": 2,
       "version_minor": 0
      },
      "text/plain": [
       "HBox(children=(FloatProgress(value=0.0, description='Iteration', max=66.0, style=ProgressStyle(description_wid…"
      ]
     },
     "metadata": {},
     "output_type": "display_data"
    },
    {
     "name": "stdout",
     "output_type": "stream",
     "text": [
      "\n",
      "2021-05-18 10:33:53 - TripletEvaluator: Evaluating the model on dev dataset after epoch 2:\n",
      "2021-05-18 10:33:58 - Accuracy Cosine Distance:   \t79.70\n",
      "2021-05-18 10:33:58 - Accuracy Manhatten Distance:\t79.50\n",
      "2021-05-18 10:33:58 - Accuracy Euclidean Distance:\t77.70\n",
      "\n"
     ]
    },
    {
     "data": {
      "application/vnd.jupyter.widget-view+json": {
       "model_id": "8b267ce93b0042e38091288e8ea1919c",
       "version_major": 2,
       "version_minor": 0
      },
      "text/plain": [
       "HBox(children=(FloatProgress(value=0.0, description='Iteration', max=66.0, style=ProgressStyle(description_wid…"
      ]
     },
     "metadata": {},
     "output_type": "display_data"
    },
    {
     "name": "stdout",
     "output_type": "stream",
     "text": [
      "\n",
      "2021-05-18 10:34:22 - TripletEvaluator: Evaluating the model on dev dataset after epoch 3:\n",
      "2021-05-18 10:34:27 - Accuracy Cosine Distance:   \t79.70\n",
      "2021-05-18 10:34:27 - Accuracy Manhatten Distance:\t79.50\n",
      "2021-05-18 10:34:27 - Accuracy Euclidean Distance:\t77.70\n",
      "\n"
     ]
    },
    {
     "data": {
      "application/vnd.jupyter.widget-view+json": {
       "model_id": "80e45ae658ce450d95af5345b9a60f26",
       "version_major": 2,
       "version_minor": 0
      },
      "text/plain": [
       "HBox(children=(FloatProgress(value=0.0, description='Iteration', max=66.0, style=ProgressStyle(description_wid…"
      ]
     },
     "metadata": {},
     "output_type": "display_data"
    },
    {
     "name": "stdout",
     "output_type": "stream",
     "text": [
      "\n",
      "2021-05-18 10:34:51 - TripletEvaluator: Evaluating the model on dev dataset after epoch 4:\n",
      "2021-05-18 10:34:56 - Accuracy Cosine Distance:   \t79.70\n",
      "2021-05-18 10:34:56 - Accuracy Manhatten Distance:\t79.50\n",
      "2021-05-18 10:34:56 - Accuracy Euclidean Distance:\t77.70\n",
      "\n",
      "\n"
     ]
    }
   ],
   "source": [
    "sbert_training.train_hard_triplet_modle('/workspace/ceph_data/keypoint-analysis-sharedtask/siamese-data/', \n",
    "                                        '/workspace/ceph_data/keypoint-analysis-sharedtask/triplet-models/hard-triplet-loss', \n",
    "                                        'bert-base-uncased', training_loss='BatchHardTripletLoss',  \n",
    "                                        num_epochs=5, train_batch_size=64, data_file_suffix='batch_hard')"
   ]
  },
  {
   "cell_type": "code",
   "execution_count": 9,
   "id": "9d3128f4-3716-412c-89b8-72d518a2747e",
   "metadata": {
    "scrolled": true,
    "tags": []
   },
   "outputs": [
    {
     "name": "stdout",
     "output_type": "stream",
     "text": [
      "2021-05-18 10:34:56 - Read Triplet train dataset\n",
      "2021-05-18 10:34:56 - Read Triplet dev dataset\n",
      "2021-05-18 10:34:56 - SentenceLabelDataset: 4467 examples, from which 4260 examples could be used (those labels appeared at least 2 times). 207 different labels found.\n",
      "2021-05-18 10:34:56 - Load model\n",
      "2021-05-18 10:34:56 - Load pretrained SentenceTransformer: bert-base-uncased\n",
      "2021-05-18 10:34:56 - Did not find folder bert-base-uncased\n",
      "2021-05-18 10:34:56 - Search model on server: http://sbert.net/models/bert-base-uncased.zip\n",
      "2021-05-18 10:34:56 - Load SentenceTransformer from folder: /root/.cache/torch/sentence_transformers/sbert.net_models_bert-base-uncased\n",
      "2021-05-18 10:34:59 - Use pytorch device: cuda\n",
      "2021-05-18 10:34:59 - Performance before fine-tuning:\n",
      "2021-05-18 10:34:59 - TripletEvaluator: Evaluating the model on dev dataset:\n",
      "2021-05-18 10:35:04 - Accuracy Cosine Distance:   \t79.70\n",
      "2021-05-18 10:35:04 - Accuracy Manhatten Distance:\t79.50\n",
      "2021-05-18 10:35:04 - Accuracy Euclidean Distance:\t77.70\n",
      "\n"
     ]
    },
    {
     "data": {
      "application/vnd.jupyter.widget-view+json": {
       "model_id": "bb5be8bcb9664d84a2a679114c8ac36a",
       "version_major": 2,
       "version_minor": 0
      },
      "text/plain": [
       "HBox(children=(FloatProgress(value=0.0, description='Epoch', max=5.0, style=ProgressStyle(description_width='i…"
      ]
     },
     "metadata": {},
     "output_type": "display_data"
    },
    {
     "data": {
      "application/vnd.jupyter.widget-view+json": {
       "model_id": "07527848778e41eca072ef31a5d4f361",
       "version_major": 2,
       "version_minor": 0
      },
      "text/plain": [
       "HBox(children=(FloatProgress(value=0.0, description='Iteration', max=66.0, style=ProgressStyle(description_wid…"
      ]
     },
     "metadata": {},
     "output_type": "display_data"
    },
    {
     "name": "stdout",
     "output_type": "stream",
     "text": [
      "\n",
      "2021-05-18 10:35:29 - TripletEvaluator: Evaluating the model on dev dataset after epoch 0:\n",
      "2021-05-18 10:35:33 - Accuracy Cosine Distance:   \t82.50\n",
      "2021-05-18 10:35:33 - Accuracy Manhatten Distance:\t78.20\n",
      "2021-05-18 10:35:33 - Accuracy Euclidean Distance:\t77.90\n",
      "\n",
      "2021-05-18 10:35:33 - Save model to /workspace/ceph_data/keypoint-analysis-sharedtask/triplet-models/hard-softmargin-triplet-loss\n"
     ]
    },
    {
     "data": {
      "application/vnd.jupyter.widget-view+json": {
       "model_id": "fe026c1d1a924901b198e9be8138cff0",
       "version_major": 2,
       "version_minor": 0
      },
      "text/plain": [
       "HBox(children=(FloatProgress(value=0.0, description='Iteration', max=66.0, style=ProgressStyle(description_wid…"
      ]
     },
     "metadata": {},
     "output_type": "display_data"
    },
    {
     "name": "stdout",
     "output_type": "stream",
     "text": [
      "\n",
      "2021-05-18 10:35:59 - TripletEvaluator: Evaluating the model on dev dataset after epoch 1:\n",
      "2021-05-18 10:36:04 - Accuracy Cosine Distance:   \t82.00\n",
      "2021-05-18 10:36:04 - Accuracy Manhatten Distance:\t79.10\n",
      "2021-05-18 10:36:04 - Accuracy Euclidean Distance:\t78.40\n",
      "\n"
     ]
    },
    {
     "data": {
      "application/vnd.jupyter.widget-view+json": {
       "model_id": "b1449417b11f404dacc407e98258f1ec",
       "version_major": 2,
       "version_minor": 0
      },
      "text/plain": [
       "HBox(children=(FloatProgress(value=0.0, description='Iteration', max=66.0, style=ProgressStyle(description_wid…"
      ]
     },
     "metadata": {},
     "output_type": "display_data"
    },
    {
     "name": "stdout",
     "output_type": "stream",
     "text": [
      "\n",
      "2021-05-18 10:36:28 - TripletEvaluator: Evaluating the model on dev dataset after epoch 2:\n",
      "2021-05-18 10:36:33 - Accuracy Cosine Distance:   \t81.90\n",
      "2021-05-18 10:36:33 - Accuracy Manhatten Distance:\t79.30\n",
      "2021-05-18 10:36:33 - Accuracy Euclidean Distance:\t78.80\n",
      "\n"
     ]
    },
    {
     "data": {
      "application/vnd.jupyter.widget-view+json": {
       "model_id": "e07f54c571294706923394baee143135",
       "version_major": 2,
       "version_minor": 0
      },
      "text/plain": [
       "HBox(children=(FloatProgress(value=0.0, description='Iteration', max=66.0, style=ProgressStyle(description_wid…"
      ]
     },
     "metadata": {},
     "output_type": "display_data"
    },
    {
     "name": "stdout",
     "output_type": "stream",
     "text": [
      "\n",
      "2021-05-18 10:36:58 - TripletEvaluator: Evaluating the model on dev dataset after epoch 3:\n",
      "2021-05-18 10:37:02 - Accuracy Cosine Distance:   \t81.30\n",
      "2021-05-18 10:37:02 - Accuracy Manhatten Distance:\t79.60\n",
      "2021-05-18 10:37:02 - Accuracy Euclidean Distance:\t78.70\n",
      "\n"
     ]
    },
    {
     "data": {
      "application/vnd.jupyter.widget-view+json": {
       "model_id": "43aa0a51af1f40deadcdff79d282580a",
       "version_major": 2,
       "version_minor": 0
      },
      "text/plain": [
       "HBox(children=(FloatProgress(value=0.0, description='Iteration', max=66.0, style=ProgressStyle(description_wid…"
      ]
     },
     "metadata": {},
     "output_type": "display_data"
    },
    {
     "name": "stdout",
     "output_type": "stream",
     "text": [
      "\n",
      "2021-05-18 10:37:27 - TripletEvaluator: Evaluating the model on dev dataset after epoch 4:\n",
      "2021-05-18 10:37:31 - Accuracy Cosine Distance:   \t81.40\n",
      "2021-05-18 10:37:31 - Accuracy Manhatten Distance:\t79.20\n",
      "2021-05-18 10:37:31 - Accuracy Euclidean Distance:\t78.80\n",
      "\n",
      "\n"
     ]
    }
   ],
   "source": [
    "sbert_training.train_hard_triplet_modle('/workspace/ceph_data/keypoint-analysis-sharedtask/siamese-data/', \n",
    "                                        '/workspace/ceph_data/keypoint-analysis-sharedtask/triplet-models/hard-softmargin-triplet-loss', \n",
    "                                        'bert-base-uncased', training_loss='BatchHardSoftMarginTripletLoss',  \n",
    "                                        num_epochs=5, train_batch_size=64, data_file_suffix='batch_hard')"
   ]
  },
  {
   "cell_type": "code",
   "execution_count": 10,
   "id": "5505a7c2-a6ae-4b31-bbaf-61ad0e4a8647",
   "metadata": {
    "scrolled": true,
    "tags": []
   },
   "outputs": [
    {
     "name": "stdout",
     "output_type": "stream",
     "text": [
      "2021-05-18 10:37:31 - Read Triplet train dataset\n",
      "2021-05-18 10:37:31 - Read Triplet dev dataset\n",
      "2021-05-18 10:37:31 - SentenceLabelDataset: 4467 examples, from which 4260 examples could be used (those labels appeared at least 2 times). 207 different labels found.\n",
      "2021-05-18 10:37:31 - Load model\n",
      "2021-05-18 10:37:31 - Load pretrained SentenceTransformer: bert-base-uncased\n",
      "2021-05-18 10:37:31 - Did not find folder bert-base-uncased\n",
      "2021-05-18 10:37:31 - Search model on server: http://sbert.net/models/bert-base-uncased.zip\n",
      "2021-05-18 10:37:31 - Load SentenceTransformer from folder: /root/.cache/torch/sentence_transformers/sbert.net_models_bert-base-uncased\n",
      "2021-05-18 10:37:34 - Use pytorch device: cuda\n",
      "2021-05-18 10:37:34 - Performance before fine-tuning:\n",
      "2021-05-18 10:37:34 - TripletEvaluator: Evaluating the model on dev dataset:\n",
      "2021-05-18 10:37:39 - Accuracy Cosine Distance:   \t79.70\n",
      "2021-05-18 10:37:39 - Accuracy Manhatten Distance:\t79.50\n",
      "2021-05-18 10:37:39 - Accuracy Euclidean Distance:\t77.70\n",
      "\n"
     ]
    },
    {
     "data": {
      "application/vnd.jupyter.widget-view+json": {
       "model_id": "772d88d4b22545318150c7c8974a4b3b",
       "version_major": 2,
       "version_minor": 0
      },
      "text/plain": [
       "HBox(children=(FloatProgress(value=0.0, description='Epoch', max=5.0, style=ProgressStyle(description_width='i…"
      ]
     },
     "metadata": {},
     "output_type": "display_data"
    },
    {
     "data": {
      "application/vnd.jupyter.widget-view+json": {
       "model_id": "162d0fc556f9499694050b94073b91a0",
       "version_major": 2,
       "version_minor": 0
      },
      "text/plain": [
       "HBox(children=(FloatProgress(value=0.0, description='Iteration', max=66.0, style=ProgressStyle(description_wid…"
      ]
     },
     "metadata": {},
     "output_type": "display_data"
    },
    {
     "name": "stdout",
     "output_type": "stream",
     "text": [
      "\n",
      "2021-05-18 10:38:04 - TripletEvaluator: Evaluating the model on dev dataset after epoch 0:\n",
      "2021-05-18 10:38:09 - Accuracy Cosine Distance:   \t88.10\n",
      "2021-05-18 10:38:09 - Accuracy Manhatten Distance:\t87.20\n",
      "2021-05-18 10:38:09 - Accuracy Euclidean Distance:\t87.60\n",
      "\n",
      "2021-05-18 10:38:09 - Save model to /workspace/ceph_data/keypoint-analysis-sharedtask/triplet-models/semi-hard-triplet-loss\n"
     ]
    },
    {
     "data": {
      "application/vnd.jupyter.widget-view+json": {
       "model_id": "971ab3ee62694f32ad43d051221ed510",
       "version_major": 2,
       "version_minor": 0
      },
      "text/plain": [
       "HBox(children=(FloatProgress(value=0.0, description='Iteration', max=66.0, style=ProgressStyle(description_wid…"
      ]
     },
     "metadata": {},
     "output_type": "display_data"
    },
    {
     "name": "stdout",
     "output_type": "stream",
     "text": [
      "\n",
      "2021-05-18 10:38:35 - TripletEvaluator: Evaluating the model on dev dataset after epoch 1:\n",
      "2021-05-18 10:38:39 - Accuracy Cosine Distance:   \t87.80\n",
      "2021-05-18 10:38:39 - Accuracy Manhatten Distance:\t88.10\n",
      "2021-05-18 10:38:39 - Accuracy Euclidean Distance:\t88.20\n",
      "\n",
      "2021-05-18 10:38:39 - Save model to /workspace/ceph_data/keypoint-analysis-sharedtask/triplet-models/semi-hard-triplet-loss\n"
     ]
    },
    {
     "data": {
      "application/vnd.jupyter.widget-view+json": {
       "model_id": "9f9b97775b3049b486f0a501dc0df03f",
       "version_major": 2,
       "version_minor": 0
      },
      "text/plain": [
       "HBox(children=(FloatProgress(value=0.0, description='Iteration', max=66.0, style=ProgressStyle(description_wid…"
      ]
     },
     "metadata": {},
     "output_type": "display_data"
    },
    {
     "name": "stdout",
     "output_type": "stream",
     "text": [
      "\n",
      "2021-05-18 10:39:06 - TripletEvaluator: Evaluating the model on dev dataset after epoch 2:\n",
      "2021-05-18 10:39:11 - Accuracy Cosine Distance:   \t91.00\n",
      "2021-05-18 10:39:11 - Accuracy Manhatten Distance:\t90.70\n",
      "2021-05-18 10:39:11 - Accuracy Euclidean Distance:\t90.70\n",
      "\n",
      "2021-05-18 10:39:11 - Save model to /workspace/ceph_data/keypoint-analysis-sharedtask/triplet-models/semi-hard-triplet-loss\n"
     ]
    },
    {
     "data": {
      "application/vnd.jupyter.widget-view+json": {
       "model_id": "77ebcf66ba3f478ebe5d60741be9d37e",
       "version_major": 2,
       "version_minor": 0
      },
      "text/plain": [
       "HBox(children=(FloatProgress(value=0.0, description='Iteration', max=66.0, style=ProgressStyle(description_wid…"
      ]
     },
     "metadata": {},
     "output_type": "display_data"
    },
    {
     "name": "stdout",
     "output_type": "stream",
     "text": [
      "\n",
      "2021-05-18 10:39:37 - TripletEvaluator: Evaluating the model on dev dataset after epoch 3:\n",
      "2021-05-18 10:39:41 - Accuracy Cosine Distance:   \t91.60\n",
      "2021-05-18 10:39:41 - Accuracy Manhatten Distance:\t91.40\n",
      "2021-05-18 10:39:41 - Accuracy Euclidean Distance:\t91.50\n",
      "\n",
      "2021-05-18 10:39:41 - Save model to /workspace/ceph_data/keypoint-analysis-sharedtask/triplet-models/semi-hard-triplet-loss\n"
     ]
    },
    {
     "data": {
      "application/vnd.jupyter.widget-view+json": {
       "model_id": "7e41be1c2c8b4476a35dc6daff53f433",
       "version_major": 2,
       "version_minor": 0
      },
      "text/plain": [
       "HBox(children=(FloatProgress(value=0.0, description='Iteration', max=66.0, style=ProgressStyle(description_wid…"
      ]
     },
     "metadata": {},
     "output_type": "display_data"
    },
    {
     "name": "stdout",
     "output_type": "stream",
     "text": [
      "\n",
      "2021-05-18 10:40:08 - TripletEvaluator: Evaluating the model on dev dataset after epoch 4:\n",
      "2021-05-18 10:40:12 - Accuracy Cosine Distance:   \t91.50\n",
      "2021-05-18 10:40:12 - Accuracy Manhatten Distance:\t91.60\n",
      "2021-05-18 10:40:12 - Accuracy Euclidean Distance:\t91.20\n",
      "\n",
      "\n"
     ]
    }
   ],
   "source": [
    "sbert_training.train_hard_triplet_modle('/workspace/ceph_data/keypoint-analysis-sharedtask/siamese-data/', \n",
    "                                        '/workspace/ceph_data/keypoint-analysis-sharedtask/triplet-models/semi-hard-triplet-loss', \n",
    "                                        'bert-base-uncased', training_loss='BatchSemiHardTripletLoss',  \n",
    "                                        num_epochs=5, train_batch_size=64, data_file_suffix='batch_hard')"
   ]
  },
  {
   "cell_type": "code",
   "execution_count": 14,
   "id": "0168013c-c8ed-49bc-87b9-24e6e543845e",
   "metadata": {
    "scrolled": true,
    "tags": []
   },
   "outputs": [
    {
     "name": "stdout",
     "output_type": "stream",
     "text": [
      "2021-05-18 11:47:12 - Read Triplet train dataset\n",
      "2021-05-18 11:47:12 - Read Triplet dev dataset\n",
      "2021-05-18 11:47:12 - SentenceLabelDataset: 4467 examples, from which 4260 examples could be used (those labels appeared at least 2 times). 207 different labels found.\n",
      "2021-05-18 11:47:12 - Load model\n",
      "2021-05-18 11:47:17 - Use pytorch device: cuda\n",
      "2021-05-18 11:47:17 - Performance before fine-tuning:\n",
      "2021-05-18 11:47:17 - TripletEvaluator: Evaluating the model on dev dataset:\n",
      "2021-05-18 11:47:22 - Accuracy Cosine Distance:   \t79.70\n",
      "2021-05-18 11:47:22 - Accuracy Manhatten Distance:\t79.50\n",
      "2021-05-18 11:47:22 - Accuracy Euclidean Distance:\t77.70\n",
      "\n"
     ]
    },
    {
     "data": {
      "application/vnd.jupyter.widget-view+json": {
       "model_id": "bd80f2f0328c4f9cbf1e1ede02ab8570",
       "version_major": 2,
       "version_minor": 0
      },
      "text/plain": [
       "HBox(children=(FloatProgress(value=0.0, description='Epoch', max=10.0, style=ProgressStyle(description_width='…"
      ]
     },
     "metadata": {},
     "output_type": "display_data"
    },
    {
     "data": {
      "application/vnd.jupyter.widget-view+json": {
       "model_id": "39b92e8afebf434da498274f7234b1af",
       "version_major": 2,
       "version_minor": 0
      },
      "text/plain": [
       "HBox(children=(FloatProgress(value=0.0, description='Iteration', max=66.0, style=ProgressStyle(description_wid…"
      ]
     },
     "metadata": {},
     "output_type": "display_data"
    },
    {
     "name": "stdout",
     "output_type": "stream",
     "text": [
      "\n",
      "2021-05-18 11:47:47 - TripletEvaluator: Evaluating the model on dev dataset after epoch 0:\n",
      "2021-05-18 11:47:51 - Accuracy Cosine Distance:   \t87.10\n",
      "2021-05-18 11:47:51 - Accuracy Manhatten Distance:\t86.40\n",
      "2021-05-18 11:47:51 - Accuracy Euclidean Distance:\t87.20\n",
      "\n",
      "2021-05-18 11:47:51 - Save model to /workspace/ceph_data/keypoint-analysis-sharedtask/triplet-models/semi-hard-triplet-loss\n"
     ]
    },
    {
     "data": {
      "application/vnd.jupyter.widget-view+json": {
       "model_id": "baf9b092713f42eba1311f5f0f936370",
       "version_major": 2,
       "version_minor": 0
      },
      "text/plain": [
       "HBox(children=(FloatProgress(value=0.0, description='Iteration', max=66.0, style=ProgressStyle(description_wid…"
      ]
     },
     "metadata": {},
     "output_type": "display_data"
    },
    {
     "name": "stdout",
     "output_type": "stream",
     "text": [
      "\n",
      "2021-05-18 11:48:17 - TripletEvaluator: Evaluating the model on dev dataset after epoch 1:\n",
      "2021-05-18 11:48:21 - Accuracy Cosine Distance:   \t87.70\n",
      "2021-05-18 11:48:21 - Accuracy Manhatten Distance:\t87.10\n",
      "2021-05-18 11:48:21 - Accuracy Euclidean Distance:\t87.50\n",
      "\n",
      "2021-05-18 11:48:21 - Save model to /workspace/ceph_data/keypoint-analysis-sharedtask/triplet-models/semi-hard-triplet-loss\n"
     ]
    },
    {
     "data": {
      "application/vnd.jupyter.widget-view+json": {
       "model_id": "670f57d83e18448ca67f2b658ce1d44c",
       "version_major": 2,
       "version_minor": 0
      },
      "text/plain": [
       "HBox(children=(FloatProgress(value=0.0, description='Iteration', max=66.0, style=ProgressStyle(description_wid…"
      ]
     },
     "metadata": {},
     "output_type": "display_data"
    },
    {
     "name": "stdout",
     "output_type": "stream",
     "text": [
      "\n",
      "2021-05-18 11:48:47 - TripletEvaluator: Evaluating the model on dev dataset after epoch 2:\n",
      "2021-05-18 11:48:51 - Accuracy Cosine Distance:   \t88.40\n",
      "2021-05-18 11:48:51 - Accuracy Manhatten Distance:\t88.30\n",
      "2021-05-18 11:48:51 - Accuracy Euclidean Distance:\t88.30\n",
      "\n",
      "2021-05-18 11:48:51 - Save model to /workspace/ceph_data/keypoint-analysis-sharedtask/triplet-models/semi-hard-triplet-loss\n"
     ]
    },
    {
     "data": {
      "application/vnd.jupyter.widget-view+json": {
       "model_id": "2821a90ea6b7482bbb5f23c9176ad892",
       "version_major": 2,
       "version_minor": 0
      },
      "text/plain": [
       "HBox(children=(FloatProgress(value=0.0, description='Iteration', max=66.0, style=ProgressStyle(description_wid…"
      ]
     },
     "metadata": {},
     "output_type": "display_data"
    },
    {
     "name": "stdout",
     "output_type": "stream",
     "text": [
      "\n",
      "2021-05-18 11:49:17 - TripletEvaluator: Evaluating the model on dev dataset after epoch 3:\n",
      "2021-05-18 11:49:21 - Accuracy Cosine Distance:   \t89.50\n",
      "2021-05-18 11:49:21 - Accuracy Manhatten Distance:\t90.10\n",
      "2021-05-18 11:49:21 - Accuracy Euclidean Distance:\t89.20\n",
      "\n",
      "2021-05-18 11:49:21 - Save model to /workspace/ceph_data/keypoint-analysis-sharedtask/triplet-models/semi-hard-triplet-loss\n"
     ]
    },
    {
     "data": {
      "application/vnd.jupyter.widget-view+json": {
       "model_id": "d339d40f396e448289a8d534a6f24c97",
       "version_major": 2,
       "version_minor": 0
      },
      "text/plain": [
       "HBox(children=(FloatProgress(value=0.0, description='Iteration', max=66.0, style=ProgressStyle(description_wid…"
      ]
     },
     "metadata": {},
     "output_type": "display_data"
    },
    {
     "name": "stdout",
     "output_type": "stream",
     "text": [
      "\n",
      "2021-05-18 11:49:47 - TripletEvaluator: Evaluating the model on dev dataset after epoch 4:\n",
      "2021-05-18 11:49:52 - Accuracy Cosine Distance:   \t89.60\n",
      "2021-05-18 11:49:52 - Accuracy Manhatten Distance:\t90.00\n",
      "2021-05-18 11:49:52 - Accuracy Euclidean Distance:\t89.60\n",
      "\n"
     ]
    },
    {
     "data": {
      "application/vnd.jupyter.widget-view+json": {
       "model_id": "82e994c9e0854bdf8915fd5514a40192",
       "version_major": 2,
       "version_minor": 0
      },
      "text/plain": [
       "HBox(children=(FloatProgress(value=0.0, description='Iteration', max=66.0, style=ProgressStyle(description_wid…"
      ]
     },
     "metadata": {},
     "output_type": "display_data"
    },
    {
     "name": "stdout",
     "output_type": "stream",
     "text": [
      "\n",
      "2021-05-18 11:50:16 - TripletEvaluator: Evaluating the model on dev dataset after epoch 5:\n",
      "2021-05-18 11:50:21 - Accuracy Cosine Distance:   \t90.70\n",
      "2021-05-18 11:50:21 - Accuracy Manhatten Distance:\t90.60\n",
      "2021-05-18 11:50:21 - Accuracy Euclidean Distance:\t90.20\n",
      "\n",
      "2021-05-18 11:50:21 - Save model to /workspace/ceph_data/keypoint-analysis-sharedtask/triplet-models/semi-hard-triplet-loss\n"
     ]
    },
    {
     "data": {
      "application/vnd.jupyter.widget-view+json": {
       "model_id": "8ec86584e0bb45c19de313b19927e1a3",
       "version_major": 2,
       "version_minor": 0
      },
      "text/plain": [
       "HBox(children=(FloatProgress(value=0.0, description='Iteration', max=66.0, style=ProgressStyle(description_wid…"
      ]
     },
     "metadata": {},
     "output_type": "display_data"
    },
    {
     "name": "stdout",
     "output_type": "stream",
     "text": [
      "\n",
      "2021-05-18 11:50:47 - TripletEvaluator: Evaluating the model on dev dataset after epoch 6:\n",
      "2021-05-18 11:50:52 - Accuracy Cosine Distance:   \t90.40\n",
      "2021-05-18 11:50:52 - Accuracy Manhatten Distance:\t90.80\n",
      "2021-05-18 11:50:52 - Accuracy Euclidean Distance:\t90.20\n",
      "\n",
      "2021-05-18 11:50:52 - Save model to /workspace/ceph_data/keypoint-analysis-sharedtask/triplet-models/semi-hard-triplet-loss\n"
     ]
    },
    {
     "data": {
      "application/vnd.jupyter.widget-view+json": {
       "model_id": "7882b6f5878245f3af483fd77b5c4652",
       "version_major": 2,
       "version_minor": 0
      },
      "text/plain": [
       "HBox(children=(FloatProgress(value=0.0, description='Iteration', max=66.0, style=ProgressStyle(description_wid…"
      ]
     },
     "metadata": {},
     "output_type": "display_data"
    },
    {
     "name": "stdout",
     "output_type": "stream",
     "text": [
      "\n",
      "2021-05-18 11:51:18 - TripletEvaluator: Evaluating the model on dev dataset after epoch 7:\n",
      "2021-05-18 11:51:22 - Accuracy Cosine Distance:   \t89.60\n",
      "2021-05-18 11:51:22 - Accuracy Manhatten Distance:\t89.80\n",
      "2021-05-18 11:51:22 - Accuracy Euclidean Distance:\t89.50\n",
      "\n"
     ]
    },
    {
     "data": {
      "application/vnd.jupyter.widget-view+json": {
       "model_id": "50ae31fe3dcc477fbd7ce91d12011ba7",
       "version_major": 2,
       "version_minor": 0
      },
      "text/plain": [
       "HBox(children=(FloatProgress(value=0.0, description='Iteration', max=66.0, style=ProgressStyle(description_wid…"
      ]
     },
     "metadata": {},
     "output_type": "display_data"
    },
    {
     "name": "stdout",
     "output_type": "stream",
     "text": [
      "\n",
      "2021-05-18 11:51:47 - TripletEvaluator: Evaluating the model on dev dataset after epoch 8:\n",
      "2021-05-18 11:51:52 - Accuracy Cosine Distance:   \t89.90\n",
      "2021-05-18 11:51:52 - Accuracy Manhatten Distance:\t90.40\n",
      "2021-05-18 11:51:52 - Accuracy Euclidean Distance:\t90.00\n",
      "\n"
     ]
    },
    {
     "data": {
      "application/vnd.jupyter.widget-view+json": {
       "model_id": "fbddeeb3069e48109154aaa4edd76395",
       "version_major": 2,
       "version_minor": 0
      },
      "text/plain": [
       "HBox(children=(FloatProgress(value=0.0, description='Iteration', max=66.0, style=ProgressStyle(description_wid…"
      ]
     },
     "metadata": {},
     "output_type": "display_data"
    },
    {
     "name": "stdout",
     "output_type": "stream",
     "text": [
      "\n",
      "2021-05-18 11:52:17 - TripletEvaluator: Evaluating the model on dev dataset after epoch 9:\n",
      "2021-05-18 11:52:21 - Accuracy Cosine Distance:   \t90.80\n",
      "2021-05-18 11:52:21 - Accuracy Manhatten Distance:\t90.60\n",
      "2021-05-18 11:52:21 - Accuracy Euclidean Distance:\t90.80\n",
      "\n",
      "\n"
     ]
    }
   ],
   "source": [
    "sbert_training.train_hard_triplet_modle('/workspace/ceph_data/keypoint-analysis-sharedtask/siamese-data/', \n",
    "                                        '/workspace/ceph_data/keypoint-analysis-sharedtask/triplet-models/semi-hard-triplet-loss', \n",
    "                                        'bert-base-uncased', training_loss='BatchSemiHardTripletLoss',  \n",
    "                                        num_epochs=10, train_batch_size=64, data_file_suffix='batch_hard')"
   ]
  },
  {
   "cell_type": "markdown",
   "id": "2847263d-1e99-48a7-b86a-975591f555a3",
   "metadata": {},
   "source": [
    "------------"
   ]
  }
 ],
 "metadata": {
  "kernelspec": {
   "display_name": "Python 3",
   "language": "python",
   "name": "python3"
  },
  "language_info": {
   "codemirror_mode": {
    "name": "ipython",
    "version": 3
   },
   "file_extension": ".py",
   "mimetype": "text/x-python",
   "name": "python",
   "nbconvert_exporter": "python",
   "pygments_lexer": "ipython3",
   "version": "3.6.9"
  }
 },
 "nbformat": 4,
 "nbformat_minor": 5
}
