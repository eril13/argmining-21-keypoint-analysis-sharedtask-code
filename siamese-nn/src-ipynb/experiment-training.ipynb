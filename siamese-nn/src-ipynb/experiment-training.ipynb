{
 "cells": [
  {
   "cell_type": "code",
   "execution_count": 1,
   "id": "333830a6-c203-4276-8c9f-e6bcfe4ad787",
   "metadata": {},
   "outputs": [],
   "source": [
    "import json\n",
    "import pandas as pd\n",
    "import numpy as np\n",
    "import matplotlib.pyplot as plt\n",
    "\n",
    "pd.set_option('display.max_colwidth', None)"
   ]
  },
  {
   "cell_type": "code",
   "execution_count": 54,
   "id": "461a2712-8cfe-4810-b485-d1006940468b",
   "metadata": {},
   "outputs": [
    {
     "name": "stdout",
     "output_type": "stream",
     "text": [
      "\u001b[0m\u001b[01;34marg-kp\u001b[0m/                  key_points_our_test.csv   our_test.csv\n",
      "\u001b[01;34marg-quality\u001b[0m/             key_points_our_valid.csv  our_valid.csv\n",
      "arguments_our_test.csv   labels_our_test.csv       training_df.csv\n",
      "arguments_our_valid.csv  labels_our_valid.csv      valid_df.csv\n"
     ]
    }
   ],
   "source": [
    "ls ../../data"
   ]
  },
  {
   "cell_type": "code",
   "execution_count": null,
   "id": "bda28f15-3c0d-4325-80e1-921ea8deb71d",
   "metadata": {},
   "outputs": [],
   "source": [
    "argument_df = pd.read_csv('../../data/argum')"
   ]
  },
  {
   "cell_type": "code",
   "execution_count": 53,
   "id": "36de71e7-6132-4127-b2a0-96d1ef15af8e",
   "metadata": {},
   "outputs": [],
   "source": [
    "training_df = pd.read_csv('../../data/training_df.csv')\n",
    "valid_df = pd.read_csv('../../data/our_valid.csv')"
   ]
  },
  {
   "cell_type": "code",
   "execution_count": 3,
   "id": "2527c629-f707-4fdc-82da-554739d4e75b",
   "metadata": {
    "scrolled": true,
    "tags": []
   },
   "outputs": [
    {
     "data": {
      "text/html": [
       "<div>\n",
       "<style scoped>\n",
       "    .dataframe tbody tr th:only-of-type {\n",
       "        vertical-align: middle;\n",
       "    }\n",
       "\n",
       "    .dataframe tbody tr th {\n",
       "        vertical-align: top;\n",
       "    }\n",
       "\n",
       "    .dataframe thead th {\n",
       "        text-align: right;\n",
       "    }\n",
       "</style>\n",
       "<table border=\"1\" class=\"dataframe\">\n",
       "  <thead>\n",
       "    <tr style=\"text-align: right;\">\n",
       "      <th></th>\n",
       "      <th>Unnamed: 0</th>\n",
       "      <th>arg_id</th>\n",
       "      <th>key_point_id</th>\n",
       "      <th>label</th>\n",
       "      <th>argument</th>\n",
       "      <th>topic</th>\n",
       "      <th>stance</th>\n",
       "      <th>key_point</th>\n",
       "    </tr>\n",
       "  </thead>\n",
       "  <tbody>\n",
       "    <tr>\n",
       "      <th>0</th>\n",
       "      <td>0</td>\n",
       "      <td>arg_0_0</td>\n",
       "      <td>kp_0_0</td>\n",
       "      <td>0</td>\n",
       "      <td>`people reach their limit when it comes to their quality of life and should be able to end their suffering. this can be done with little or no suffering by assistance and the person is able to say good bye.</td>\n",
       "      <td>Assisted suicide should be a criminal offence</td>\n",
       "      <td>-1</td>\n",
       "      <td>Assisted suicide gives dignity to the person that wants to commit it</td>\n",
       "    </tr>\n",
       "    <tr>\n",
       "      <th>1</th>\n",
       "      <td>1</td>\n",
       "      <td>arg_0_1</td>\n",
       "      <td>kp_0_0</td>\n",
       "      <td>0</td>\n",
       "      <td>A patient should be able to decide when they have had enough \"care\".</td>\n",
       "      <td>Assisted suicide should be a criminal offence</td>\n",
       "      <td>-1</td>\n",
       "      <td>Assisted suicide gives dignity to the person that wants to commit it</td>\n",
       "    </tr>\n",
       "    <tr>\n",
       "      <th>2</th>\n",
       "      <td>2</td>\n",
       "      <td>arg_0_2</td>\n",
       "      <td>kp_0_0</td>\n",
       "      <td>0</td>\n",
       "      <td>a person has the right to end their suffering and if somebody takes pity on them and chooses to help, that person should not be punished.</td>\n",
       "      <td>Assisted suicide should be a criminal offence</td>\n",
       "      <td>-1</td>\n",
       "      <td>Assisted suicide gives dignity to the person that wants to commit it</td>\n",
       "    </tr>\n",
       "    <tr>\n",
       "      <th>3</th>\n",
       "      <td>3</td>\n",
       "      <td>arg_0_4</td>\n",
       "      <td>kp_0_0</td>\n",
       "      <td>0</td>\n",
       "      <td>a person should have the right to be able to choose if they want to live or die</td>\n",
       "      <td>Assisted suicide should be a criminal offence</td>\n",
       "      <td>-1</td>\n",
       "      <td>Assisted suicide gives dignity to the person that wants to commit it</td>\n",
       "    </tr>\n",
       "    <tr>\n",
       "      <th>4</th>\n",
       "      <td>4</td>\n",
       "      <td>arg_0_5</td>\n",
       "      <td>kp_0_0</td>\n",
       "      <td>0</td>\n",
       "      <td>a person should have the right to die on their own terms</td>\n",
       "      <td>Assisted suicide should be a criminal offence</td>\n",
       "      <td>-1</td>\n",
       "      <td>Assisted suicide gives dignity to the person that wants to commit it</td>\n",
       "    </tr>\n",
       "  </tbody>\n",
       "</table>\n",
       "</div>"
      ],
      "text/plain": [
       "   Unnamed: 0   arg_id key_point_id  label  \\\n",
       "0           0  arg_0_0       kp_0_0      0   \n",
       "1           1  arg_0_1       kp_0_0      0   \n",
       "2           2  arg_0_2       kp_0_0      0   \n",
       "3           3  arg_0_4       kp_0_0      0   \n",
       "4           4  arg_0_5       kp_0_0      0   \n",
       "\n",
       "                                                                                                                                                                                                         argument  \\\n",
       "0  `people reach their limit when it comes to their quality of life and should be able to end their suffering. this can be done with little or no suffering by assistance and the person is able to say good bye.   \n",
       "1                                                                                                                                            A patient should be able to decide when they have had enough \"care\".   \n",
       "2                                                                       a person has the right to end their suffering and if somebody takes pity on them and chooses to help, that person should not be punished.   \n",
       "3                                                                                                                                 a person should have the right to be able to choose if they want to live or die   \n",
       "4                                                                                                                                                        a person should have the right to die on their own terms   \n",
       "\n",
       "                                           topic  stance  \\\n",
       "0  Assisted suicide should be a criminal offence      -1   \n",
       "1  Assisted suicide should be a criminal offence      -1   \n",
       "2  Assisted suicide should be a criminal offence      -1   \n",
       "3  Assisted suicide should be a criminal offence      -1   \n",
       "4  Assisted suicide should be a criminal offence      -1   \n",
       "\n",
       "                                                              key_point  \n",
       "0  Assisted suicide gives dignity to the person that wants to commit it  \n",
       "1  Assisted suicide gives dignity to the person that wants to commit it  \n",
       "2  Assisted suicide gives dignity to the person that wants to commit it  \n",
       "3  Assisted suicide gives dignity to the person that wants to commit it  \n",
       "4  Assisted suicide gives dignity to the person that wants to commit it  "
      ]
     },
     "execution_count": 3,
     "metadata": {},
     "output_type": "execute_result"
    }
   ],
   "source": [
    "training_df.head()"
   ]
  },
  {
   "cell_type": "code",
   "execution_count": 117,
   "id": "515ce47c-a0eb-4604-933d-03502f20d41a",
   "metadata": {},
   "outputs": [
    {
     "data": {
      "image/png": "[encoded data removed]",
      "text/plain": [
       "<Figure size 432x288 with 1 Axes>"
      ]
     },
     "metadata": {
      "needs_background": "light"
     },
     "output_type": "display_data"
    }
   ],
   "source": [
    "keypoints_per_arg = [x[1] for x in training_df[training_df.label == 1].arg_id.value_counts().to_dict().items()]\n",
    "plt.hist(keypoints_per_arg)\n",
    "plt.show()"
   ]
  },
  {
   "cell_type": "code",
   "execution_count": 118,
   "id": "9809cfe2-3bd3-450c-8a6a-755ab267cc3d",
   "metadata": {},
   "outputs": [
    {
     "data": {
      "image/png": "[encoded data removed]",
      "text/plain": [
       "<Figure size 432x288 with 1 Axes>"
      ]
     },
     "metadata": {
      "needs_background": "light"
     },
     "output_type": "display_data"
    }
   ],
   "source": [
    "args_per_keypoints = [x[1] for x in training_df[training_df.label == 1].key_point_id.value_counts().to_dict().items()]\n",
    "plt.hist(args_per_keypoints)\n",
    "plt.show()"
   ]
  },
  {
   "cell_type": "code",
   "execution_count": null,
   "id": "68144c9b-51c1-410d-a4cc-e7fd1bbabec2",
   "metadata": {},
   "outputs": [],
   "source": [
    "#Add to the dataframe 0 labels for non-matched argument/keypoint\n"
   ]
  },
  {
   "cell_type": "markdown",
   "id": "d3dd6803-1787-40e2-a853-6ef63037aa36",
   "metadata": {},
   "source": [
    "-------------"
   ]
  },
  {
   "cell_type": "markdown",
   "id": "ef58508c-8b86-496f-bf44-30dd5f4d3ea5",
   "metadata": {},
   "source": [
    "### Data Preparation:"
   ]
  },
  {
   "cell_type": "code",
   "execution_count": 4,
   "id": "f8fc9287-1700-493f-94e2-73e4a4c17909",
   "metadata": {},
   "outputs": [],
   "source": [
    "import random\n",
    "import nltk\n",
    "from nltk.corpus import stopwords"
   ]
  },
  {
   "cell_type": "code",
   "execution_count": 39,
   "id": "c649ec27-8ea3-44d5-a68f-9f78081d59f1",
   "metadata": {},
   "outputs": [],
   "source": [
    "def overlap(t1, t2):\n",
    "    t1_words = set([w for w in nltk.word_tokenize(t1.lower()) if w not in stopwords.words('english')])\n",
    "    t2_words = set([w for w in nltk.word_tokenize(t2.lower()) if w not in stopwords.words('english')])\n",
    "    return len(set(t1_words).intersection(t2_words))/len(t1_words.union(t2_words))\n",
    "\n",
    "def get_cand_neg(argument, key_points, not_allowed_keypoints, count=3):\n",
    "    #remove the matching keypoints\n",
    "    cand_keypoints = [item[1] for item in key_points.items() if item[1] not in not_allowed_keypoints]\n",
    "    scored_cand_keypoints = sorted([(cp, overlap(cp, argument)) for cp in cand_keypoints], key=lambda x: x[1])\n",
    "    \n",
    "    hard_cand_keypoints = scored_cand_keypoints[0:count]\n",
    "    easy_cand_keypoints = scored_cand_keypoints[-count:]\n",
    "#     print(argument)\n",
    "#     print(cand_keypoints[0:10])\n",
    "#     print('======')\n",
    "    selected_kp = hard_cand_keypoints + easy_cand_keypoints\n",
    "    return selected_kp\n",
    "    \n",
    "    #return [random.sample(cand_keypoints, count)]\n",
    "\n",
    "def gen_kp_triplet(labels_df, max_neg_samples=5, sample_extra=False, add_topic=False):\n",
    "    arguments = pd.Series(labels_df.argument.values, index=labels_df.arg_id).to_dict()\n",
    "    keypoints= pd.Series(labels_df.key_point.values, index=labels_df.key_point_id).to_dict()\n",
    "\n",
    "    triplets = []\n",
    "    for kp_id, keypoint in list(keypoints.items()):\n",
    "        neg_args = [row['argument'] for idx, row in labels_df[labels_df.key_point_id == kp_id].iterrows() if row['label'] == 0]\n",
    "        pos_args = [row['argument'] for idx, row in labels_df[labels_df.key_point_id == kp_id].iterrows() if row['label'] == 1]\n",
    "        \n",
    "        topic = labels_df[labels_df.key_point_id==kp_id]['topic'].tolist()[0]\n",
    "        \n",
    "        if len(pos_args) == 0:\n",
    "            print('Skipping keypoint with no arguments!')\n",
    "            continue\n",
    "\n",
    "        if sample_extra:\n",
    "            #Add randomly sampled negative key-points\n",
    "            cand_neg_arguments = get_cand_neg(keypoint, arguments, pos_arguments + neg_arguments)\n",
    "        \n",
    "        \n",
    "        for pos_arg in pos_args:\n",
    "            #sort the neg_arg\n",
    "            neg_args = sorted(neg_args, key= lambda x: - overlap(x, pos_arg))\n",
    "            #sample half hard and half easy neg_args\n",
    "            neg_args = neg_args[0:max_neg_samples] + neg_args[-max_neg_samples:]\n",
    "\n",
    "            #first add the gt negative key-point\n",
    "            if len(neg_args) > 0:\n",
    "                for neg_arg in neg_args:\n",
    "                    triplets.append([topic+' <SEP> '+keypoint, pos_arg, neg_arg])\n",
    "            \n",
    "            if sample_extra:\n",
    "                #Add some negative examples\n",
    "                for cand_neg_arg in cand_neg_arguments:\n",
    "                    triplets.append([keypoint, pos_arg, cand_neg_arg ])\n",
    "    \n",
    "    return triplets"
   ]
  },
  {
   "cell_type": "code",
   "execution_count": 28,
   "id": "0a31b813-e632-4167-9b50-2c2862d92296",
   "metadata": {},
   "outputs": [
    {
     "name": "stdout",
     "output_type": "stream",
     "text": [
      "Skipping keypoint with no arguments!\n"
     ]
    }
   ],
   "source": [
    "train_triplets_data = gen_kp_triplet(training_df, max_neg_samples=5)\n",
    "valid_triplets_data = gen_kp_triplet(valid_df, max_neg_samples=1)\n",
    "\n",
    "training_triplet_kp_as_anchor_df = pd.DataFrame(train_triplets_data, columns=['anchor', 'pos', 'neg'])\n",
    "valid_triplet_kp_as_anchor_df = pd.DataFrame(valid_triplets_data, columns=['anchor', 'pos', 'neg'])"
   ]
  },
  {
   "cell_type": "code",
   "execution_count": 35,
   "id": "ed400d8a-fead-4a78-8049-0bf8cb3cd521",
   "metadata": {},
   "outputs": [],
   "source": [
    "training_triplet_kp_as_anchor_df.to_csv('/workspace/ceph_data/keypoint-analysis-sharedtask/siamese-data/training_df_kp_as_anchor.csv')\n",
    "valid_triplet_kp_as_anchor_df.to_csv('/workspace/ceph_data/keypoint-analysis-sharedtask/siamese-data/valid_df_kp_as_anchor.csv')"
   ]
  },
  {
   "cell_type": "code",
   "execution_count": 52,
   "id": "84a1268c-45f1-41b5-be3a-1ce1a6aca07e",
   "metadata": {},
   "outputs": [
    {
     "data": {
      "text/html": [
       "<div>\n",
       "<style scoped>\n",
       "    .dataframe tbody tr th:only-of-type {\n",
       "        vertical-align: middle;\n",
       "    }\n",
       "\n",
       "    .dataframe tbody tr th {\n",
       "        vertical-align: top;\n",
       "    }\n",
       "\n",
       "    .dataframe thead th {\n",
       "        text-align: right;\n",
       "    }\n",
       "</style>\n",
       "<table border=\"1\" class=\"dataframe\">\n",
       "  <thead>\n",
       "    <tr style=\"text-align: right;\">\n",
       "      <th></th>\n",
       "      <th>Unnamed: 0</th>\n",
       "      <th>arg_id</th>\n",
       "      <th>key_point_id</th>\n",
       "      <th>label</th>\n",
       "      <th>argument</th>\n",
       "      <th>topic</th>\n",
       "      <th>stance</th>\n",
       "      <th>key_point</th>\n",
       "    </tr>\n",
       "  </thead>\n",
       "  <tbody>\n",
       "    <tr>\n",
       "      <th>0</th>\n",
       "      <td>0</td>\n",
       "      <td>arg_0_0</td>\n",
       "      <td>kp_0_0</td>\n",
       "      <td>0</td>\n",
       "      <td>`people reach their limit when it comes to their quality of life and should be able to end their suffering. this can be done with little or no suffering by assistance and the person is able to say good bye.</td>\n",
       "      <td>Assisted suicide should be a criminal offence</td>\n",
       "      <td>-1</td>\n",
       "      <td>Assisted suicide gives dignity to the person that wants to commit it</td>\n",
       "    </tr>\n",
       "    <tr>\n",
       "      <th>1</th>\n",
       "      <td>1</td>\n",
       "      <td>arg_0_1</td>\n",
       "      <td>kp_0_0</td>\n",
       "      <td>0</td>\n",
       "      <td>A patient should be able to decide when they have had enough \"care\".</td>\n",
       "      <td>Assisted suicide should be a criminal offence</td>\n",
       "      <td>-1</td>\n",
       "      <td>Assisted suicide gives dignity to the person that wants to commit it</td>\n",
       "    </tr>\n",
       "    <tr>\n",
       "      <th>2</th>\n",
       "      <td>2</td>\n",
       "      <td>arg_0_2</td>\n",
       "      <td>kp_0_0</td>\n",
       "      <td>0</td>\n",
       "      <td>a person has the right to end their suffering and if somebody takes pity on them and chooses to help, that person should not be punished.</td>\n",
       "      <td>Assisted suicide should be a criminal offence</td>\n",
       "      <td>-1</td>\n",
       "      <td>Assisted suicide gives dignity to the person that wants to commit it</td>\n",
       "    </tr>\n",
       "    <tr>\n",
       "      <th>3</th>\n",
       "      <td>3</td>\n",
       "      <td>arg_0_4</td>\n",
       "      <td>kp_0_0</td>\n",
       "      <td>0</td>\n",
       "      <td>a person should have the right to be able to choose if they want to live or die</td>\n",
       "      <td>Assisted suicide should be a criminal offence</td>\n",
       "      <td>-1</td>\n",
       "      <td>Assisted suicide gives dignity to the person that wants to commit it</td>\n",
       "    </tr>\n",
       "    <tr>\n",
       "      <th>4</th>\n",
       "      <td>4</td>\n",
       "      <td>arg_0_5</td>\n",
       "      <td>kp_0_0</td>\n",
       "      <td>0</td>\n",
       "      <td>a person should have the right to die on their own terms</td>\n",
       "      <td>Assisted suicide should be a criminal offence</td>\n",
       "      <td>-1</td>\n",
       "      <td>Assisted suicide gives dignity to the person that wants to commit it</td>\n",
       "    </tr>\n",
       "  </tbody>\n",
       "</table>\n",
       "</div>"
      ],
      "text/plain": [
       "   Unnamed: 0   arg_id key_point_id  label  \\\n",
       "0           0  arg_0_0       kp_0_0      0   \n",
       "1           1  arg_0_1       kp_0_0      0   \n",
       "2           2  arg_0_2       kp_0_0      0   \n",
       "3           3  arg_0_4       kp_0_0      0   \n",
       "4           4  arg_0_5       kp_0_0      0   \n",
       "\n",
       "                                                                                                                                                                                                         argument  \\\n",
       "0  `people reach their limit when it comes to their quality of life and should be able to end their suffering. this can be done with little or no suffering by assistance and the person is able to say good bye.   \n",
       "1                                                                                                                                            A patient should be able to decide when they have had enough \"care\".   \n",
       "2                                                                       a person has the right to end their suffering and if somebody takes pity on them and chooses to help, that person should not be punished.   \n",
       "3                                                                                                                                 a person should have the right to be able to choose if they want to live or die   \n",
       "4                                                                                                                                                        a person should have the right to die on their own terms   \n",
       "\n",
       "                                           topic  stance  \\\n",
       "0  Assisted suicide should be a criminal offence      -1   \n",
       "1  Assisted suicide should be a criminal offence      -1   \n",
       "2  Assisted suicide should be a criminal offence      -1   \n",
       "3  Assisted suicide should be a criminal offence      -1   \n",
       "4  Assisted suicide should be a criminal offence      -1   \n",
       "\n",
       "                                                              key_point  \n",
       "0  Assisted suicide gives dignity to the person that wants to commit it  \n",
       "1  Assisted suicide gives dignity to the person that wants to commit it  \n",
       "2  Assisted suicide gives dignity to the person that wants to commit it  \n",
       "3  Assisted suicide gives dignity to the person that wants to commit it  \n",
       "4  Assisted suicide gives dignity to the person that wants to commit it  "
      ]
     },
     "execution_count": 52,
     "metadata": {},
     "output_type": "execute_result"
    }
   ],
   "source": [
    "training_df.head()"
   ]
  },
  {
   "cell_type": "code",
   "execution_count": 47,
   "id": "a5eabb0c-1958-4808-97c8-176e03e12c66",
   "metadata": {},
   "outputs": [
    {
     "name": "stdout",
     "output_type": "stream",
     "text": [
      "Skipping keypoint with no arguments!\n"
     ]
    }
   ],
   "source": [
    "train_triplets_data = gen_kp_triplet(training_df, max_neg_samples=10, add_topic=True)\n",
    "valid_triplets_data = gen_kp_triplet(valid_df, max_neg_samples=1, add_topic=True)\n",
    "\n",
    "training_triplet_kp_as_anchor_df = pd.DataFrame(train_triplets_data, columns=['anchor', 'pos', 'neg'])\n",
    "valid_triplet_kp_as_anchor_df = pd.DataFrame(valid_triplets_data, columns=['anchor', 'pos', 'neg'])\n",
    "\n",
    "training_triplet_kp_as_anchor_df.to_csv('/workspace/ceph_data/keypoint-analysis-sharedtask/siamese-data/training_df_kp_as_anchor_topic_added.csv')\n",
    "valid_triplet_kp_as_anchor_df.to_csv('/workspace/ceph_data/keypoint-analysis-sharedtask/siamese-data/valid_df_kp_as_anchor_topic_added.csv')"
   ]
  },
  {
   "cell_type": "code",
   "execution_count": 48,
   "id": "13238d73-28ce-4021-a5a2-098fd4e659dd",
   "metadata": {},
   "outputs": [
    {
     "data": {
      "text/html": [
       "<div>\n",
       "<style scoped>\n",
       "    .dataframe tbody tr th:only-of-type {\n",
       "        vertical-align: middle;\n",
       "    }\n",
       "\n",
       "    .dataframe tbody tr th {\n",
       "        vertical-align: top;\n",
       "    }\n",
       "\n",
       "    .dataframe thead th {\n",
       "        text-align: right;\n",
       "    }\n",
       "</style>\n",
       "<table border=\"1\" class=\"dataframe\">\n",
       "  <thead>\n",
       "    <tr style=\"text-align: right;\">\n",
       "      <th></th>\n",
       "      <th>anchor</th>\n",
       "      <th>pos</th>\n",
       "      <th>neg</th>\n",
       "    </tr>\n",
       "  </thead>\n",
       "  <tbody>\n",
       "    <tr>\n",
       "      <th>0</th>\n",
       "      <td>Assisted suicide should be a criminal offence &lt;SEP&gt; Assisted suicide gives dignity to the person that wants to commit it</td>\n",
       "      <td>assisted suicide allows people who have terrible health conditions to die with dignity. if assisted suicide is a crime they may have to endure many more years living in agony.</td>\n",
       "      <td>people with terminal illnesses are going to die. by not allowing assisted suicide we are making these people suffer deeply which in inhumane.</td>\n",
       "    </tr>\n",
       "    <tr>\n",
       "      <th>1</th>\n",
       "      <td>Assisted suicide should be a criminal offence &lt;SEP&gt; Assisted suicide gives dignity to the person that wants to commit it</td>\n",
       "      <td>assisted suicide allows people who have terrible health conditions to die with dignity. if assisted suicide is a crime they may have to endure many more years living in agony.</td>\n",
       "      <td>assisted suicide is sometimes the only solution for some people, we should not take it off.</td>\n",
       "    </tr>\n",
       "    <tr>\n",
       "      <th>2</th>\n",
       "      <td>Assisted suicide should be a criminal offence &lt;SEP&gt; Assisted suicide gives dignity to the person that wants to commit it</td>\n",
       "      <td>assisted suicide allows people who have terrible health conditions to die with dignity. if assisted suicide is a crime they may have to endure many more years living in agony.</td>\n",
       "      <td>assisted suicide should not be a crime. if someone is suffering on a daily basis from something that they are going to die from anyway, they should be allowed to die on their own terms.</td>\n",
       "    </tr>\n",
       "    <tr>\n",
       "      <th>3</th>\n",
       "      <td>Assisted suicide should be a criminal offence &lt;SEP&gt; Assisted suicide gives dignity to the person that wants to commit it</td>\n",
       "      <td>assisted suicide allows people who have terrible health conditions to die with dignity. if assisted suicide is a crime they may have to endure many more years living in agony.</td>\n",
       "      <td>many people face a cruel and protracted period of suffering before their death so with compassion they should be helped therefore assisted suicide should not be a criminal offence.</td>\n",
       "    </tr>\n",
       "    <tr>\n",
       "      <th>4</th>\n",
       "      <td>Assisted suicide should be a criminal offence &lt;SEP&gt; Assisted suicide gives dignity to the person that wants to commit it</td>\n",
       "      <td>assisted suicide allows people who have terrible health conditions to die with dignity. if assisted suicide is a crime they may have to endure many more years living in agony.</td>\n",
       "      <td>assisted suicide should not be a crime since the perpetrator was merely obeying the wishes of another.</td>\n",
       "    </tr>\n",
       "  </tbody>\n",
       "</table>\n",
       "</div>"
      ],
      "text/plain": [
       "                                                                                                                     anchor  \\\n",
       "0  Assisted suicide should be a criminal offence <SEP> Assisted suicide gives dignity to the person that wants to commit it   \n",
       "1  Assisted suicide should be a criminal offence <SEP> Assisted suicide gives dignity to the person that wants to commit it   \n",
       "2  Assisted suicide should be a criminal offence <SEP> Assisted suicide gives dignity to the person that wants to commit it   \n",
       "3  Assisted suicide should be a criminal offence <SEP> Assisted suicide gives dignity to the person that wants to commit it   \n",
       "4  Assisted suicide should be a criminal offence <SEP> Assisted suicide gives dignity to the person that wants to commit it   \n",
       "\n",
       "                                                                                                                                                                               pos  \\\n",
       "0  assisted suicide allows people who have terrible health conditions to die with dignity. if assisted suicide is a crime they may have to endure many more years living in agony.   \n",
       "1  assisted suicide allows people who have terrible health conditions to die with dignity. if assisted suicide is a crime they may have to endure many more years living in agony.   \n",
       "2  assisted suicide allows people who have terrible health conditions to die with dignity. if assisted suicide is a crime they may have to endure many more years living in agony.   \n",
       "3  assisted suicide allows people who have terrible health conditions to die with dignity. if assisted suicide is a crime they may have to endure many more years living in agony.   \n",
       "4  assisted suicide allows people who have terrible health conditions to die with dignity. if assisted suicide is a crime they may have to endure many more years living in agony.   \n",
       "\n",
       "                                                                                                                                                                                         neg  \n",
       "0                                              people with terminal illnesses are going to die. by not allowing assisted suicide we are making these people suffer deeply which in inhumane.  \n",
       "1                                                                                                assisted suicide is sometimes the only solution for some people, we should not take it off.  \n",
       "2  assisted suicide should not be a crime. if someone is suffering on a daily basis from something that they are going to die from anyway, they should be allowed to die on their own terms.  \n",
       "3       many people face a cruel and protracted period of suffering before their death so with compassion they should be helped therefore assisted suicide should not be a criminal offence.  \n",
       "4                                                                                     assisted suicide should not be a crime since the perpetrator was merely obeying the wishes of another.  "
      ]
     },
     "execution_count": 48,
     "metadata": {},
     "output_type": "execute_result"
    }
   ],
   "source": [
    "training_triplet_kp_as_anchor_df.head()"
   ]
  },
  {
   "cell_type": "markdown",
   "id": "bd4cb272-1760-4684-bd65-c5869c0929ca",
   "metadata": {},
   "source": [
    "#### Creating data for the batch-triplet:"
   ]
  },
  {
   "cell_type": "code",
   "execution_count": 53,
   "id": "bbabb342-af8c-4347-b458-9c5fcd6f36ca",
   "metadata": {},
   "outputs": [],
   "source": [
    "map_labels={x[1]: int(x[0]) for x in enumerate(set(training_df.key_point_id.tolist()))}"
   ]
  },
  {
   "cell_type": "code",
   "execution_count": 54,
   "id": "f845f88d-b54b-496a-9482-b4fba020d24b",
   "metadata": {},
   "outputs": [],
   "source": [
    "pos_df = training_df[training_df.label != 0]\n",
    "pos_arguments = [(x[0], 'arg', x[1], (map_labels[x[1]]*2)) for x in pos_df[['argument', 'key_point_id']].values.tolist()]\n",
    "\n",
    "kp_seriese = pd.Series(training_df.key_point_id.values, index= training_df.key_point).to_dict()\n",
    "key_points    = [(x[0], 'kp', x[1], (map_labels[x[1]]*2)+1) for x in kp_seriese.items()]\n",
    "all_instances_df = pd.DataFrame(pos_arguments + key_points, columns=['text', 'type', 'kp_id', 'label'])"
   ]
  },
  {
   "cell_type": "code",
   "execution_count": 55,
   "id": "80526fb3-967c-4e38-afad-95fe03d7604b",
   "metadata": {},
   "outputs": [],
   "source": [
    "np.random.shuffle(all_instances_df.values)"
   ]
  },
  {
   "cell_type": "code",
   "execution_count": 56,
   "id": "54940b58-3e40-4077-a2a6-73a6f23aff22",
   "metadata": {},
   "outputs": [
    {
     "data": {
      "text/html": [
       "<div>\n",
       "<style scoped>\n",
       "    .dataframe tbody tr th:only-of-type {\n",
       "        vertical-align: middle;\n",
       "    }\n",
       "\n",
       "    .dataframe tbody tr th {\n",
       "        vertical-align: top;\n",
       "    }\n",
       "\n",
       "    .dataframe thead th {\n",
       "        text-align: right;\n",
       "    }\n",
       "</style>\n",
       "<table border=\"1\" class=\"dataframe\">\n",
       "  <thead>\n",
       "    <tr style=\"text-align: right;\">\n",
       "      <th></th>\n",
       "      <th>text</th>\n",
       "      <th>type</th>\n",
       "      <th>kp_id</th>\n",
       "      <th>label</th>\n",
       "    </tr>\n",
       "  </thead>\n",
       "  <tbody>\n",
       "    <tr>\n",
       "      <th>0</th>\n",
       "      <td>assisted suicide allows people who have terrible health conditions to die with dignity. if assisted suicide is a crime they may have to endure many more years living in agony.</td>\n",
       "      <td>arg</td>\n",
       "      <td>kp_0_0</td>\n",
       "      <td>410</td>\n",
       "    </tr>\n",
       "    <tr>\n",
       "      <th>1</th>\n",
       "      <td>assisted suicide allows terminally ill people to die with dignity and should not be criminalized</td>\n",
       "      <td>arg</td>\n",
       "      <td>kp_0_0</td>\n",
       "      <td>410</td>\n",
       "    </tr>\n",
       "    <tr>\n",
       "      <th>2</th>\n",
       "      <td>assisted suicide allows terminally ill persons to choose when to die and do it with dignity. it lets people decide not to live in a state of pain and misery and choose to pass on with human intervention.</td>\n",
       "      <td>arg</td>\n",
       "      <td>kp_0_0</td>\n",
       "      <td>410</td>\n",
       "    </tr>\n",
       "    <tr>\n",
       "      <th>3</th>\n",
       "      <td>assisted suicide gives people control over their life in terrible circumstances. it allows them dignity in death rather than living in terrible conditions for many years.</td>\n",
       "      <td>arg</td>\n",
       "      <td>kp_0_0</td>\n",
       "      <td>410</td>\n",
       "    </tr>\n",
       "    <tr>\n",
       "      <th>4</th>\n",
       "      <td>assisted suicide should be allowed because it allows people with terminal illnesses to die with dignity before suffering a long and painful death.</td>\n",
       "      <td>arg</td>\n",
       "      <td>kp_0_0</td>\n",
       "      <td>410</td>\n",
       "    </tr>\n",
       "  </tbody>\n",
       "</table>\n",
       "</div>"
      ],
      "text/plain": [
       "                                                                                                                                                                                                          text  \\\n",
       "0                              assisted suicide allows people who have terrible health conditions to die with dignity. if assisted suicide is a crime they may have to endure many more years living in agony.   \n",
       "1                                                                                                             assisted suicide allows terminally ill people to die with dignity and should not be criminalized   \n",
       "2  assisted suicide allows terminally ill persons to choose when to die and do it with dignity. it lets people decide not to live in a state of pain and misery and choose to pass on with human intervention.   \n",
       "3                                   assisted suicide gives people control over their life in terrible circumstances. it allows them dignity in death rather than living in terrible conditions for many years.   \n",
       "4                                                           assisted suicide should be allowed because it allows people with terminal illnesses to die with dignity before suffering a long and painful death.   \n",
       "\n",
       "  type   kp_id  label  \n",
       "0  arg  kp_0_0    410  \n",
       "1  arg  kp_0_0    410  \n",
       "2  arg  kp_0_0    410  \n",
       "3  arg  kp_0_0    410  \n",
       "4  arg  kp_0_0    410  "
      ]
     },
     "execution_count": 56,
     "metadata": {},
     "output_type": "execute_result"
    }
   ],
   "source": [
    "all_instances_df.head()"
   ]
  },
  {
   "cell_type": "code",
   "execution_count": 57,
   "id": "0c63bf93-250e-4e6d-9631-cb6cb20d4dd8",
   "metadata": {},
   "outputs": [],
   "source": [
    "all_instances_df[['text', 'label']].to_csv('/workspace/ceph_data/keypoint-analysis-sharedtask/siamese-data/training_df_batch_hard.csv')"
   ]
  },
  {
   "cell_type": "code",
   "execution_count": 60,
   "id": "d2d6ad0a-8c41-47c7-9129-15bb1fb0598c",
   "metadata": {},
   "outputs": [],
   "source": [
    "#DONT run it because the validation file should be of form argument, pos_keypoint, con_keypoint\n",
    "# map_labels={x[1]: int(x[0]) for x in enumerate(valid_df.key_point_id.tolist())}\n",
    "# pos_df = valid_df[valid_df.label != 0]\n",
    "# pos_arguments = [(x[0], (map_labels[x[1]]*2)+1) for x in pos_df[['argument', 'key_point_id']].values.tolist()]\n",
    "# key_points    = [(x[0], (map_labels[x[1]]*2)+1) for x in valid_df[['key_point', 'key_point_id']].values.tolist()]\n",
    "\n",
    "# all_instances_df = pd.DataFrame(pos_arguments + key_points, columns=['text', 'label'])\n",
    "\n",
    "# all_instances_df.to_csv('/workspace/ceph_data/keypoint-analysis-sharedtask/siamese-data/valid_df_batch_hard.csv')\n",
    "#valid_triplet_df.to_csv('/workspace/ceph_data/keypoint-analysis-sharedtask/siamese-data/valid_df_batch_hard.csv')"
   ]
  },
  {
   "cell_type": "markdown",
   "id": "80cc2745-6ab1-4eab-947d-f24a3aa687e4",
   "metadata": {},
   "source": [
    "----------"
   ]
  },
  {
   "cell_type": "markdown",
   "id": "fe3efa9e-c2a7-468d-934f-4c8f04325dff",
   "metadata": {},
   "source": [
    "### Training:"
   ]
  },
  {
   "cell_type": "code",
   "execution_count": 36,
   "id": "e4aee413-213c-48fb-97ec-1f5377c2f392",
   "metadata": {},
   "outputs": [
    {
     "name": "stdout",
     "output_type": "stream",
     "text": [
      "The autoreload extension is already loaded. To reload it, use:\n",
      "  %reload_ext autoreload\n"
     ]
    }
   ],
   "source": [
    "%load_ext autoreload"
   ]
  },
  {
   "cell_type": "code",
   "execution_count": 50,
   "id": "9926c22f-838f-4361-bd2e-d16241995fc1",
   "metadata": {},
   "outputs": [],
   "source": [
    "%autoreload\n",
    "\n",
    "import sys\n",
    "import os\n",
    "\n",
    "os.environ['CUDA_VISIBLE_DEVICES'] = '7'\n",
    "sys.path.insert(0, \"../src-py\")\n",
    "\n",
    "import sbert_training"
   ]
  },
  {
   "cell_type": "markdown",
   "id": "13d0cdd7-f398-426f-a3ed-21674f42940b",
   "metadata": {},
   "source": [
    "#### Training on simple triplets:"
   ]
  },
  {
   "cell_type": "code",
   "execution_count": 51,
   "id": "4d63c7df-f466-4e0f-b963-58a64ff6be43",
   "metadata": {
    "scrolled": true,
    "tags": []
   },
   "outputs": [
    {
     "name": "stdout",
     "output_type": "stream",
     "text": [
      "2021-05-22 19:38:08 - Use pytorch device: cuda\n",
      "2021-05-22 19:38:08 - Read Triplet train dataset\n"
     ]
    },
    {
     "data": {
      "application/vnd.jupyter.widget-view+json": {
       "model_id": "116fbc5b885745d88ba7e187204f99a4",
       "version_major": 2,
       "version_minor": 0
      },
      "text/plain": [
       "HBox(children=(FloatProgress(value=0.0, description='Epoch', max=3.0, style=ProgressStyle(description_width='i…"
      ]
     },
     "metadata": {},
     "output_type": "display_data"
    },
    {
     "data": {
      "application/vnd.jupyter.widget-view+json": {
       "model_id": "a3924c6578d843f08bb85f1874842b39",
       "version_major": 2,
       "version_minor": 0
      },
      "text/plain": [
       "HBox(children=(FloatProgress(value=0.0, description='Iteration', max=5325.0, style=ProgressStyle(description_w…"
      ]
     },
     "metadata": {},
     "output_type": "display_data"
    },
    {
     "name": "stdout",
     "output_type": "stream",
     "text": [
      "2021-05-22 19:40:31 - TripletEvaluator: Evaluating the model on dev dataset in epoch 0 after 500 steps:\n",
      "mAP strict= 0.7170374880011496 ; mAP relaxed = 0.895029846834434\n",
      "2021-05-22 19:40:32 - mAP strict:   \t71.70\n",
      "2021-05-22 19:40:32 - mAP relaxed:   \t89.50\n",
      "2021-05-22 19:40:32 - Save model to /workspace/ceph_data/keypoint-analysis-sharedtask/siamese-models/bert-base-uncased-kp_as_anchor_topic_added-2021-05-22_19-38-03\n",
      "2021-05-22 19:42:55 - TripletEvaluator: Evaluating the model on dev dataset in epoch 0 after 1000 steps:\n",
      "mAP strict= 0.7789669332684703 ; mAP relaxed = 0.901703571395513\n",
      "2021-05-22 19:42:57 - mAP strict:   \t77.90\n",
      "2021-05-22 19:42:57 - mAP relaxed:   \t90.17\n",
      "2021-05-22 19:42:57 - Save model to /workspace/ceph_data/keypoint-analysis-sharedtask/siamese-models/bert-base-uncased-kp_as_anchor_topic_added-2021-05-22_19-38-03\n",
      "2021-05-22 19:45:21 - TripletEvaluator: Evaluating the model on dev dataset in epoch 0 after 1500 steps:\n",
      "mAP strict= 0.8018638217445831 ; mAP relaxed = 0.9070209357915741\n",
      "2021-05-22 19:45:22 - mAP strict:   \t80.19\n",
      "2021-05-22 19:45:22 - mAP relaxed:   \t90.70\n",
      "2021-05-22 19:45:22 - Save model to /workspace/ceph_data/keypoint-analysis-sharedtask/siamese-models/bert-base-uncased-kp_as_anchor_topic_added-2021-05-22_19-38-03\n",
      "2021-05-22 19:47:45 - TripletEvaluator: Evaluating the model on dev dataset in epoch 0 after 2000 steps:\n",
      "mAP strict= 0.7803396067163986 ; mAP relaxed = 0.9199703530169219\n",
      "2021-05-22 19:47:47 - mAP strict:   \t78.03\n",
      "2021-05-22 19:47:47 - mAP relaxed:   \t92.00\n",
      "2021-05-22 19:50:08 - TripletEvaluator: Evaluating the model on dev dataset in epoch 0 after 2500 steps:\n",
      "mAP strict= 0.7753984280074611 ; mAP relaxed = 0.9083364573524633\n",
      "2021-05-22 19:50:10 - mAP strict:   \t77.54\n",
      "2021-05-22 19:50:10 - mAP relaxed:   \t90.83\n",
      "2021-05-22 19:52:31 - TripletEvaluator: Evaluating the model on dev dataset in epoch 0 after 3000 steps:\n",
      "mAP strict= 0.7910818658249694 ; mAP relaxed = 0.9301145993163523\n",
      "2021-05-22 19:52:33 - mAP strict:   \t79.11\n",
      "2021-05-22 19:52:33 - mAP relaxed:   \t93.01\n",
      "2021-05-22 19:54:54 - TripletEvaluator: Evaluating the model on dev dataset in epoch 0 after 3500 steps:\n",
      "mAP strict= 0.7801901784158435 ; mAP relaxed = 0.9227256734496077\n",
      "2021-05-22 19:54:56 - mAP strict:   \t78.02\n",
      "2021-05-22 19:54:56 - mAP relaxed:   \t92.27\n",
      "2021-05-22 19:57:16 - TripletEvaluator: Evaluating the model on dev dataset in epoch 0 after 4000 steps:\n",
      "mAP strict= 0.788562258322148 ; mAP relaxed = 0.9141231692553775\n",
      "2021-05-22 19:57:18 - mAP strict:   \t78.86\n",
      "2021-05-22 19:57:18 - mAP relaxed:   \t91.41\n",
      "2021-05-22 19:59:39 - TripletEvaluator: Evaluating the model on dev dataset in epoch 0 after 4500 steps:\n",
      "mAP strict= 0.8356877862365703 ; mAP relaxed = 0.9353851815797929\n",
      "2021-05-22 19:59:41 - mAP strict:   \t83.57\n",
      "2021-05-22 19:59:41 - mAP relaxed:   \t93.54\n",
      "2021-05-22 19:59:41 - Save model to /workspace/ceph_data/keypoint-analysis-sharedtask/siamese-models/bert-base-uncased-kp_as_anchor_topic_added-2021-05-22_19-38-03\n",
      "2021-05-22 20:02:02 - TripletEvaluator: Evaluating the model on dev dataset in epoch 0 after 5000 steps:\n",
      "mAP strict= 0.7864425245847344 ; mAP relaxed = 0.8953463792819107\n",
      "2021-05-22 20:02:04 - mAP strict:   \t78.64\n",
      "2021-05-22 20:02:04 - mAP relaxed:   \t89.53\n",
      "\n",
      "2021-05-22 20:03:35 - TripletEvaluator: Evaluating the model on dev dataset after epoch 0:\n",
      "mAP strict= 0.805267950807189 ; mAP relaxed = 0.9171118018645303\n",
      "2021-05-22 20:03:37 - mAP strict:   \t80.53\n",
      "2021-05-22 20:03:37 - mAP relaxed:   \t91.71\n"
     ]
    },
    {
     "data": {
      "application/vnd.jupyter.widget-view+json": {
       "model_id": "29a26297ca454e9492e049a8671aa1e8",
       "version_major": 2,
       "version_minor": 0
      },
      "text/plain": [
       "HBox(children=(FloatProgress(value=0.0, description='Iteration', max=5325.0, style=ProgressStyle(description_w…"
      ]
     },
     "metadata": {},
     "output_type": "display_data"
    },
    {
     "name": "stdout",
     "output_type": "stream",
     "text": [
      "2021-05-22 20:05:58 - TripletEvaluator: Evaluating the model on dev dataset in epoch 1 after 500 steps:\n",
      "mAP strict= 0.7868253164922347 ; mAP relaxed = 0.8991992990155722\n",
      "2021-05-22 20:05:59 - mAP strict:   \t78.68\n",
      "2021-05-22 20:05:59 - mAP relaxed:   \t89.92\n",
      "2021-05-22 20:08:20 - TripletEvaluator: Evaluating the model on dev dataset in epoch 1 after 1000 steps:\n",
      "mAP strict= 0.7947472194223905 ; mAP relaxed = 0.9352732345535839\n",
      "2021-05-22 20:08:22 - mAP strict:   \t79.47\n",
      "2021-05-22 20:08:22 - mAP relaxed:   \t93.53\n",
      "2021-05-22 20:10:42 - TripletEvaluator: Evaluating the model on dev dataset in epoch 1 after 1500 steps:\n",
      "mAP strict= 0.7947998962932266 ; mAP relaxed = 0.9306668337119706\n",
      "2021-05-22 20:10:44 - mAP strict:   \t79.48\n",
      "2021-05-22 20:10:44 - mAP relaxed:   \t93.07\n",
      "2021-05-22 20:13:05 - TripletEvaluator: Evaluating the model on dev dataset in epoch 1 after 2000 steps:\n",
      "mAP strict= 0.823253080981163 ; mAP relaxed = 0.9233602731188446\n",
      "2021-05-22 20:13:07 - mAP strict:   \t82.33\n",
      "2021-05-22 20:13:07 - mAP relaxed:   \t92.34\n",
      "2021-05-22 20:15:27 - TripletEvaluator: Evaluating the model on dev dataset in epoch 1 after 2500 steps:\n",
      "mAP strict= 0.81410719802314 ; mAP relaxed = 0.9110500618164378\n",
      "2021-05-22 20:15:29 - mAP strict:   \t81.41\n",
      "2021-05-22 20:15:29 - mAP relaxed:   \t91.11\n",
      "2021-05-22 20:17:49 - TripletEvaluator: Evaluating the model on dev dataset in epoch 1 after 3000 steps:\n",
      "mAP strict= 0.8182784566996696 ; mAP relaxed = 0.9152080693513287\n",
      "2021-05-22 20:17:51 - mAP strict:   \t81.83\n",
      "2021-05-22 20:17:51 - mAP relaxed:   \t91.52\n",
      "2021-05-22 20:20:11 - TripletEvaluator: Evaluating the model on dev dataset in epoch 1 after 3500 steps:\n",
      "mAP strict= 0.797860286110213 ; mAP relaxed = 0.9117615923418043\n",
      "2021-05-22 20:20:13 - mAP strict:   \t79.79\n",
      "2021-05-22 20:20:13 - mAP relaxed:   \t91.18\n",
      "2021-05-22 20:22:34 - TripletEvaluator: Evaluating the model on dev dataset in epoch 1 after 4000 steps:\n",
      "mAP strict= 0.7813037901339955 ; mAP relaxed = 0.9168133493478214\n",
      "2021-05-22 20:22:35 - mAP strict:   \t78.13\n",
      "2021-05-22 20:22:35 - mAP relaxed:   \t91.68\n",
      "2021-05-22 20:24:56 - TripletEvaluator: Evaluating the model on dev dataset in epoch 1 after 4500 steps:\n",
      "mAP strict= 0.7741237212044279 ; mAP relaxed = 0.9102803885190683\n",
      "2021-05-22 20:24:57 - mAP strict:   \t77.41\n",
      "2021-05-22 20:24:57 - mAP relaxed:   \t91.03\n",
      "2021-05-22 20:27:18 - TripletEvaluator: Evaluating the model on dev dataset in epoch 1 after 5000 steps:\n",
      "mAP strict= 0.7532560848139392 ; mAP relaxed = 0.9114821008600431\n",
      "2021-05-22 20:27:20 - mAP strict:   \t75.33\n",
      "2021-05-22 20:27:20 - mAP relaxed:   \t91.15\n",
      "\n",
      "2021-05-22 20:28:51 - TripletEvaluator: Evaluating the model on dev dataset after epoch 1:\n",
      "mAP strict= 0.7302731593172245 ; mAP relaxed = 0.895667414695011\n",
      "2021-05-22 20:28:52 - mAP strict:   \t73.03\n",
      "2021-05-22 20:28:52 - mAP relaxed:   \t89.57\n"
     ]
    },
    {
     "data": {
      "application/vnd.jupyter.widget-view+json": {
       "model_id": "2d975f326d724e2282e2a256e4766e24",
       "version_major": 2,
       "version_minor": 0
      },
      "text/plain": [
       "HBox(children=(FloatProgress(value=0.0, description='Iteration', max=5325.0, style=ProgressStyle(description_w…"
      ]
     },
     "metadata": {},
     "output_type": "display_data"
    },
    {
     "name": "stdout",
     "output_type": "stream",
     "text": [
      "2021-05-22 20:31:12 - TripletEvaluator: Evaluating the model on dev dataset in epoch 2 after 500 steps:\n",
      "mAP strict= 0.7528836625758384 ; mAP relaxed = 0.9144530342401633\n",
      "2021-05-22 20:31:14 - mAP strict:   \t75.29\n",
      "2021-05-22 20:31:14 - mAP relaxed:   \t91.45\n",
      "2021-05-22 20:33:34 - TripletEvaluator: Evaluating the model on dev dataset in epoch 2 after 1000 steps:\n",
      "mAP strict= 0.7869959310366068 ; mAP relaxed = 0.9221503299348303\n",
      "2021-05-22 20:33:36 - mAP strict:   \t78.70\n",
      "2021-05-22 20:33:36 - mAP relaxed:   \t92.22\n",
      "2021-05-22 20:35:57 - TripletEvaluator: Evaluating the model on dev dataset in epoch 2 after 1500 steps:\n",
      "mAP strict= 0.8168754240079013 ; mAP relaxed = 0.9288615416903439\n",
      "2021-05-22 20:35:59 - mAP strict:   \t81.69\n",
      "2021-05-22 20:35:59 - mAP relaxed:   \t92.89\n",
      "2021-05-22 20:38:19 - TripletEvaluator: Evaluating the model on dev dataset in epoch 2 after 2000 steps:\n",
      "mAP strict= 0.7980360009676548 ; mAP relaxed = 0.9093029353439561\n",
      "2021-05-22 20:38:21 - mAP strict:   \t79.80\n",
      "2021-05-22 20:38:21 - mAP relaxed:   \t90.93\n",
      "2021-05-22 20:40:41 - TripletEvaluator: Evaluating the model on dev dataset in epoch 2 after 2500 steps:\n",
      "mAP strict= 0.7778791171998166 ; mAP relaxed = 0.9081438616378217\n",
      "2021-05-22 20:40:43 - mAP strict:   \t77.79\n",
      "2021-05-22 20:40:43 - mAP relaxed:   \t90.81\n",
      "2021-05-22 20:43:03 - TripletEvaluator: Evaluating the model on dev dataset in epoch 2 after 3000 steps:\n",
      "mAP strict= 0.7697340798296081 ; mAP relaxed = 0.9130101295918142\n",
      "2021-05-22 20:43:05 - mAP strict:   \t76.97\n",
      "2021-05-22 20:43:05 - mAP relaxed:   \t91.30\n",
      "2021-05-22 20:45:25 - TripletEvaluator: Evaluating the model on dev dataset in epoch 2 after 3500 steps:\n",
      "mAP strict= 0.78176733882279 ; mAP relaxed = 0.9201579489568517\n",
      "2021-05-22 20:45:27 - mAP strict:   \t78.18\n",
      "2021-05-22 20:45:27 - mAP relaxed:   \t92.02\n",
      "2021-05-22 20:47:47 - TripletEvaluator: Evaluating the model on dev dataset in epoch 2 after 4000 steps:\n",
      "mAP strict= 0.7667654755908626 ; mAP relaxed = 0.9175036036499573\n",
      "2021-05-22 20:47:48 - mAP strict:   \t76.68\n",
      "2021-05-22 20:47:48 - mAP relaxed:   \t91.75\n",
      "2021-05-22 20:50:09 - TripletEvaluator: Evaluating the model on dev dataset in epoch 2 after 4500 steps:\n",
      "mAP strict= 0.7696449217684627 ; mAP relaxed = 0.9282337769417737\n",
      "2021-05-22 20:50:11 - mAP strict:   \t76.96\n",
      "2021-05-22 20:50:11 - mAP relaxed:   \t92.82\n",
      "2021-05-22 20:52:31 - TripletEvaluator: Evaluating the model on dev dataset in epoch 2 after 5000 steps:\n",
      "mAP strict= 0.7684739351580158 ; mAP relaxed = 0.930016729292189\n",
      "2021-05-22 20:52:33 - mAP strict:   \t76.85\n",
      "2021-05-22 20:52:33 - mAP relaxed:   \t93.00\n",
      "\n",
      "2021-05-22 20:54:04 - TripletEvaluator: Evaluating the model on dev dataset after epoch 2:\n",
      "mAP strict= 0.7689572507628424 ; mAP relaxed = 0.930011694719125\n",
      "2021-05-22 20:54:06 - mAP strict:   \t76.90\n",
      "2021-05-22 20:54:06 - mAP relaxed:   \t93.00\n",
      "\n"
     ]
    }
   ],
   "source": [
    "sbert_training.train_model('/workspace/ceph_data/keypoint-analysis-sharedtask/siamese-data/',\n",
    "                           '../../data',\n",
    "                           'our_valid',\n",
    "                           '/workspace/ceph_data/keypoint-analysis-sharedtask/siamese-models/',\n",
    "                           'bert-base-uncased', model_suffix='kp_as_anchor_topic_added', data_file_suffix='kp_as_anchor_topic_added',\n",
    "                           num_epochs=3, train_batch_size=16)"
   ]
  },
  {
   "cell_type": "code",
   "execution_count": 46,
   "id": "4300f25a-1e5f-4118-9656-354a11dba9f5",
   "metadata": {
    "scrolled": true,
    "tags": []
   },
   "outputs": [
    {
     "name": "stdout",
     "output_type": "stream",
     "text": [
      "2021-05-22 17:22:57 - Use pytorch device: cuda\n",
      "2021-05-22 17:22:57 - Read Triplet train dataset\n"
     ]
    },
    {
     "data": {
      "application/vnd.jupyter.widget-view+json": {
       "model_id": "2ba72b44b9c94ecb86d61cfbed1685ca",
       "version_major": 2,
       "version_minor": 0
      },
      "text/plain": [
       "HBox(children=(FloatProgress(value=0.0, description='Epoch', max=3.0, style=ProgressStyle(description_width='i…"
      ]
     },
     "metadata": {},
     "output_type": "display_data"
    },
    {
     "data": {
      "application/vnd.jupyter.widget-view+json": {
       "model_id": "13413c7705e044cf99facd157fe4ee95",
       "version_major": 2,
       "version_minor": 0
      },
      "text/plain": [
       "HBox(children=(FloatProgress(value=0.0, description='Iteration', max=2663.0, style=ProgressStyle(description_w…"
      ]
     },
     "metadata": {},
     "output_type": "display_data"
    },
    {
     "name": "stdout",
     "output_type": "stream",
     "text": [
      "2021-05-22 17:25:15 - TripletEvaluator: Evaluating the model on dev dataset in epoch 0 after 500 steps:\n",
      "mAP strict= 0.764972775411214 ; mAP relaxed = 0.9234850523733785\n",
      "2021-05-22 17:25:16 - mAP strict:   \t76.50\n",
      "2021-05-22 17:25:16 - mAP relaxed:   \t92.35\n",
      "2021-05-22 17:25:16 - Save model to /workspace/ceph_data/keypoint-analysis-sharedtask/siamese-models/bert-base-uncased-kp_as_anchor-2021-05-22_17-22-52\n",
      "2021-05-22 17:27:34 - TripletEvaluator: Evaluating the model on dev dataset in epoch 0 after 1000 steps:\n",
      "mAP strict= 0.7876894412065426 ; mAP relaxed = 0.909796160956625\n",
      "2021-05-22 17:27:36 - mAP strict:   \t78.77\n",
      "2021-05-22 17:27:36 - mAP relaxed:   \t90.98\n",
      "2021-05-22 17:27:36 - Save model to /workspace/ceph_data/keypoint-analysis-sharedtask/siamese-models/bert-base-uncased-kp_as_anchor-2021-05-22_17-22-52\n",
      "2021-05-22 17:29:53 - TripletEvaluator: Evaluating the model on dev dataset in epoch 0 after 1500 steps:\n",
      "mAP strict= 0.7792696984451676 ; mAP relaxed = 0.9254214654453344\n",
      "2021-05-22 17:29:55 - mAP strict:   \t77.93\n",
      "2021-05-22 17:29:55 - mAP relaxed:   \t92.54\n",
      "2021-05-22 17:32:11 - TripletEvaluator: Evaluating the model on dev dataset in epoch 0 after 2000 steps:\n",
      "mAP strict= 0.802244572937206 ; mAP relaxed = 0.925661912076931\n",
      "2021-05-22 17:32:12 - mAP strict:   \t80.22\n",
      "2021-05-22 17:32:12 - mAP relaxed:   \t92.57\n",
      "2021-05-22 17:32:13 - Save model to /workspace/ceph_data/keypoint-analysis-sharedtask/siamese-models/bert-base-uncased-kp_as_anchor-2021-05-22_17-22-52\n",
      "2021-05-22 17:34:29 - TripletEvaluator: Evaluating the model on dev dataset in epoch 0 after 2500 steps:\n",
      "mAP strict= 0.7797979748965658 ; mAP relaxed = 0.9255883058722187\n",
      "2021-05-22 17:34:31 - mAP strict:   \t77.98\n",
      "2021-05-22 17:34:31 - mAP relaxed:   \t92.56\n",
      "\n",
      "2021-05-22 17:35:15 - TripletEvaluator: Evaluating the model on dev dataset after epoch 0:\n",
      "mAP strict= 0.7684609672074488 ; mAP relaxed = 0.9054052498003786\n",
      "2021-05-22 17:35:17 - mAP strict:   \t76.85\n",
      "2021-05-22 17:35:17 - mAP relaxed:   \t90.54\n"
     ]
    },
    {
     "data": {
      "application/vnd.jupyter.widget-view+json": {
       "model_id": "5edb8c84b6c14dc39bbebf01f7b04e03",
       "version_major": 2,
       "version_minor": 0
      },
      "text/plain": [
       "HBox(children=(FloatProgress(value=0.0, description='Iteration', max=2663.0, style=ProgressStyle(description_w…"
      ]
     },
     "metadata": {},
     "output_type": "display_data"
    },
    {
     "name": "stdout",
     "output_type": "stream",
     "text": [
      "2021-05-22 17:37:33 - TripletEvaluator: Evaluating the model on dev dataset in epoch 1 after 500 steps:\n",
      "mAP strict= 0.7636593233781891 ; mAP relaxed = 0.9176817873039254\n",
      "2021-05-22 17:37:34 - mAP strict:   \t76.37\n",
      "2021-05-22 17:37:34 - mAP relaxed:   \t91.77\n",
      "2021-05-22 17:39:49 - TripletEvaluator: Evaluating the model on dev dataset in epoch 1 after 1000 steps:\n",
      "mAP strict= 0.7580056308674247 ; mAP relaxed = 0.9077057629798126\n",
      "2021-05-22 17:39:51 - mAP strict:   \t75.80\n",
      "2021-05-22 17:39:51 - mAP relaxed:   \t90.77\n",
      "2021-05-22 17:42:06 - TripletEvaluator: Evaluating the model on dev dataset in epoch 1 after 1500 steps:\n",
      "mAP strict= 0.7871266935842276 ; mAP relaxed = 0.9300939959435641\n",
      "2021-05-22 17:42:08 - mAP strict:   \t78.71\n",
      "2021-05-22 17:42:08 - mAP relaxed:   \t93.01\n",
      "2021-05-22 17:44:23 - TripletEvaluator: Evaluating the model on dev dataset in epoch 1 after 2000 steps:\n",
      "mAP strict= 0.7853857832947608 ; mAP relaxed = 0.9341277682615994\n",
      "2021-05-22 17:44:25 - mAP strict:   \t78.54\n",
      "2021-05-22 17:44:25 - mAP relaxed:   \t93.41\n",
      "2021-05-22 17:46:40 - TripletEvaluator: Evaluating the model on dev dataset in epoch 1 after 2500 steps:\n",
      "mAP strict= 0.7559733817411087 ; mAP relaxed = 0.9148706871207658\n",
      "2021-05-22 17:46:41 - mAP strict:   \t75.60\n",
      "2021-05-22 17:46:41 - mAP relaxed:   \t91.49\n",
      "\n",
      "2021-05-22 17:47:26 - TripletEvaluator: Evaluating the model on dev dataset after epoch 1:\n",
      "mAP strict= 0.7451658095091426 ; mAP relaxed = 0.9072358409823761\n",
      "2021-05-22 17:47:27 - mAP strict:   \t74.52\n",
      "2021-05-22 17:47:27 - mAP relaxed:   \t90.72\n"
     ]
    },
    {
     "data": {
      "application/vnd.jupyter.widget-view+json": {
       "model_id": "ee616fd5cf3243bb9b8c9a581507c9ea",
       "version_major": 2,
       "version_minor": 0
      },
      "text/plain": [
       "HBox(children=(FloatProgress(value=0.0, description='Iteration', max=2663.0, style=ProgressStyle(description_w…"
      ]
     },
     "metadata": {},
     "output_type": "display_data"
    },
    {
     "name": "stdout",
     "output_type": "stream",
     "text": [
      "2021-05-22 17:49:42 - TripletEvaluator: Evaluating the model on dev dataset in epoch 2 after 500 steps:\n",
      "mAP strict= 0.7392212537610174 ; mAP relaxed = 0.9099773172616268\n",
      "2021-05-22 17:49:44 - mAP strict:   \t73.92\n",
      "2021-05-22 17:49:44 - mAP relaxed:   \t91.00\n",
      "2021-05-22 17:51:59 - TripletEvaluator: Evaluating the model on dev dataset in epoch 2 after 1000 steps:\n",
      "mAP strict= 0.7526092459261079 ; mAP relaxed = 0.9209646803356584\n",
      "2021-05-22 17:52:01 - mAP strict:   \t75.26\n",
      "2021-05-22 17:52:01 - mAP relaxed:   \t92.10\n",
      "2021-05-22 17:54:16 - TripletEvaluator: Evaluating the model on dev dataset in epoch 2 after 1500 steps:\n",
      "mAP strict= 0.7663135550586035 ; mAP relaxed = 0.9116661052989554\n",
      "2021-05-22 17:54:18 - mAP strict:   \t76.63\n",
      "2021-05-22 17:54:18 - mAP relaxed:   \t91.17\n",
      "2021-05-22 17:56:33 - TripletEvaluator: Evaluating the model on dev dataset in epoch 2 after 2000 steps:\n",
      "mAP strict= 0.7502933957201163 ; mAP relaxed = 0.9109512237897552\n",
      "2021-05-22 17:56:34 - mAP strict:   \t75.03\n",
      "2021-05-22 17:56:34 - mAP relaxed:   \t91.10\n",
      "2021-05-22 17:58:49 - TripletEvaluator: Evaluating the model on dev dataset in epoch 2 after 2500 steps:\n",
      "mAP strict= 0.7568058190375719 ; mAP relaxed = 0.9089779313291786\n",
      "2021-05-22 17:58:51 - mAP strict:   \t75.68\n",
      "2021-05-22 17:58:51 - mAP relaxed:   \t90.90\n",
      "\n",
      "2021-05-22 17:59:35 - TripletEvaluator: Evaluating the model on dev dataset after epoch 2:\n",
      "mAP strict= 0.7571546806094799 ; mAP relaxed = 0.9086216480294987\n",
      "2021-05-22 17:59:37 - mAP strict:   \t75.72\n",
      "2021-05-22 17:59:37 - mAP relaxed:   \t90.86\n",
      "\n"
     ]
    }
   ],
   "source": [
    "sbert_training.train_model('/workspace/ceph_data/keypoint-analysis-sharedtask/siamese-data/',\n",
    "                           '../../data',\n",
    "                           'our_valid',\n",
    "                           '/workspace/ceph_data/keypoint-analysis-sharedtask/siamese-models/',\n",
    "                           'bert-base-uncased', model_suffix='kp_as_anchor', data_file_suffix='kp_as_anchor',\n",
    "                           num_epochs=3, train_batch_size=16)"
   ]
  },
  {
   "cell_type": "code",
   "execution_count": 21,
   "id": "216ede6d-a87a-4570-b17b-f300c784c97a",
   "metadata": {
    "scrolled": true,
    "tags": []
   },
   "outputs": [
    {
     "name": "stdout",
     "output_type": "stream",
     "text": [
      "2021-05-19 07:35:37 - Use pytorch device: cuda\n",
      "2021-05-19 07:35:37 - Read Triplet train dataset\n",
      "2021-05-19 07:35:38 - Read Triplet dev dataset\n"
     ]
    },
    {
     "data": {
      "application/vnd.jupyter.widget-view+json": {
       "model_id": "d993e112b22541809627430b574d3187",
       "version_major": 2,
       "version_minor": 0
      },
      "text/plain": [
       "HBox(children=(FloatProgress(value=0.0, description='Epoch', max=1.0, style=ProgressStyle(description_width='i…"
      ]
     },
     "metadata": {},
     "output_type": "display_data"
    },
    {
     "data": {
      "application/vnd.jupyter.widget-view+json": {
       "model_id": "90f4a9a8507f4012aa914526fd1b37f2",
       "version_major": 2,
       "version_minor": 0
      },
      "text/plain": [
       "HBox(children=(FloatProgress(value=0.0, description='Iteration', max=2098.0, style=ProgressStyle(description_w…"
      ]
     },
     "metadata": {},
     "output_type": "display_data"
    },
    {
     "name": "stdout",
     "output_type": "stream",
     "text": [
      "2021-05-19 07:39:43 - TripletEvaluator: Evaluating the model on dev dataset in epoch 0 after 1000 steps:\n",
      "2021-05-19 07:39:48 - Accuracy Cosine Distance:   \t84.20\n",
      "2021-05-19 07:39:48 - Accuracy Manhatten Distance:\t84.30\n",
      "2021-05-19 07:39:48 - Accuracy Euclidean Distance:\t83.90\n",
      "\n",
      "2021-05-19 07:39:48 - Save model to /workspace/ceph_data/keypoint-analysis-sharedtask/siamese-models/bert-base-uncased-2021-05-19_07-35-33\n",
      "2021-05-19 07:43:54 - TripletEvaluator: Evaluating the model on dev dataset in epoch 0 after 2000 steps:\n",
      "2021-05-19 07:43:59 - Accuracy Cosine Distance:   \t89.20\n",
      "2021-05-19 07:43:59 - Accuracy Manhatten Distance:\t90.20\n",
      "2021-05-19 07:43:59 - Accuracy Euclidean Distance:\t89.10\n",
      "\n",
      "2021-05-19 07:43:59 - Save model to /workspace/ceph_data/keypoint-analysis-sharedtask/siamese-models/bert-base-uncased-2021-05-19_07-35-33\n",
      "\n",
      "2021-05-19 07:44:23 - TripletEvaluator: Evaluating the model on dev dataset after epoch 0:\n",
      "2021-05-19 07:44:28 - Accuracy Cosine Distance:   \t88.80\n",
      "2021-05-19 07:44:28 - Accuracy Manhatten Distance:\t89.20\n",
      "2021-05-19 07:44:28 - Accuracy Euclidean Distance:\t88.80\n",
      "\n",
      "\n"
     ]
    }
   ],
   "source": [
    "sbert_training.train_model('/workspace/ceph_data/keypoint-analysis-sharedtask/siamese-data/', \n",
    "                           '/workspace/ceph_data/keypoint-analysis-sharedtask/siamese-models/',\n",
    "                           'bert-base-uncased',\n",
    "                           num_epochs=1)"
   ]
  },
  {
   "cell_type": "code",
   "execution_count": 7,
   "id": "82c67c95-983b-4908-9021-80750158e49a",
   "metadata": {
    "scrolled": true,
    "tags": []
   },
   "outputs": [
    {
     "name": "stdout",
     "output_type": "stream",
     "text": [
      "2021-05-18 10:29:35 - Read Triplet train dataset\n",
      "2021-05-18 10:29:35 - Read Triplet dev dataset\n",
      "2021-05-18 10:29:35 - SentenceLabelDataset: 4467 examples, from which 4260 examples could be used (those labels appeared at least 2 times). 207 different labels found.\n",
      "2021-05-18 10:29:35 - Load model\n",
      "2021-05-18 10:29:35 - Load pretrained SentenceTransformer: bert-base-uncased\n",
      "2021-05-18 10:29:35 - Did not find folder bert-base-uncased\n",
      "2021-05-18 10:29:35 - Search model on server: http://sbert.net/models/bert-base-uncased.zip\n",
      "2021-05-18 10:29:35 - Load SentenceTransformer from folder: /root/.cache/torch/sentence_transformers/sbert.net_models_bert-base-uncased\n",
      "2021-05-18 10:29:38 - Use pytorch device: cuda\n",
      "2021-05-18 10:29:38 - Performance before fine-tuning:\n",
      "2021-05-18 10:29:38 - TripletEvaluator: Evaluating the model on dev dataset:\n",
      "2021-05-18 10:29:46 - Accuracy Cosine Distance:   \t79.70\n",
      "2021-05-18 10:29:46 - Accuracy Manhatten Distance:\t79.50\n",
      "2021-05-18 10:29:46 - Accuracy Euclidean Distance:\t77.70\n",
      "\n"
     ]
    },
    {
     "data": {
      "application/vnd.jupyter.widget-view+json": {
       "model_id": "ccc9af638ae541ac82e83f876f1eb76d",
       "version_major": 2,
       "version_minor": 0
      },
      "text/plain": [
       "HBox(children=(FloatProgress(value=0.0, description='Epoch', max=5.0, style=ProgressStyle(description_width='i…"
      ]
     },
     "metadata": {},
     "output_type": "display_data"
    },
    {
     "data": {
      "application/vnd.jupyter.widget-view+json": {
       "model_id": "b36ed8f361a04cb09af774cbe937ac13",
       "version_major": 2,
       "version_minor": 0
      },
      "text/plain": [
       "HBox(children=(FloatProgress(value=0.0, description='Iteration', max=66.0, style=ProgressStyle(description_wid…"
      ]
     },
     "metadata": {},
     "output_type": "display_data"
    },
    {
     "name": "stdout",
     "output_type": "stream",
     "text": [
      "\n",
      "2021-05-18 10:30:11 - TripletEvaluator: Evaluating the model on dev dataset after epoch 0:\n",
      "2021-05-18 10:30:15 - Accuracy Cosine Distance:   \t84.80\n",
      "2021-05-18 10:30:15 - Accuracy Manhatten Distance:\t85.30\n",
      "2021-05-18 10:30:15 - Accuracy Euclidean Distance:\t84.80\n",
      "\n",
      "2021-05-18 10:30:15 - Save model to /workspace/ceph_data/keypoint-analysis-sharedtask/triplet-models/all-triplet-loss\n"
     ]
    },
    {
     "data": {
      "application/vnd.jupyter.widget-view+json": {
       "model_id": "352d9304ea84452582893b1da020b40a",
       "version_major": 2,
       "version_minor": 0
      },
      "text/plain": [
       "HBox(children=(FloatProgress(value=0.0, description='Iteration', max=66.0, style=ProgressStyle(description_wid…"
      ]
     },
     "metadata": {},
     "output_type": "display_data"
    },
    {
     "name": "stdout",
     "output_type": "stream",
     "text": [
      "\n",
      "2021-05-18 10:30:42 - TripletEvaluator: Evaluating the model on dev dataset after epoch 1:\n",
      "2021-05-18 10:30:46 - Accuracy Cosine Distance:   \t86.10\n",
      "2021-05-18 10:30:46 - Accuracy Manhatten Distance:\t85.60\n",
      "2021-05-18 10:30:46 - Accuracy Euclidean Distance:\t85.20\n",
      "\n",
      "2021-05-18 10:30:46 - Save model to /workspace/ceph_data/keypoint-analysis-sharedtask/triplet-models/all-triplet-loss\n"
     ]
    },
    {
     "data": {
      "application/vnd.jupyter.widget-view+json": {
       "model_id": "7762274bfc454c91932afd73c9290bb4",
       "version_major": 2,
       "version_minor": 0
      },
      "text/plain": [
       "HBox(children=(FloatProgress(value=0.0, description='Iteration', max=66.0, style=ProgressStyle(description_wid…"
      ]
     },
     "metadata": {},
     "output_type": "display_data"
    },
    {
     "name": "stdout",
     "output_type": "stream",
     "text": [
      "\n",
      "2021-05-18 10:31:13 - TripletEvaluator: Evaluating the model on dev dataset after epoch 2:\n",
      "2021-05-18 10:31:18 - Accuracy Cosine Distance:   \t87.00\n",
      "2021-05-18 10:31:18 - Accuracy Manhatten Distance:\t87.30\n",
      "2021-05-18 10:31:18 - Accuracy Euclidean Distance:\t87.50\n",
      "\n",
      "2021-05-18 10:31:18 - Save model to /workspace/ceph_data/keypoint-analysis-sharedtask/triplet-models/all-triplet-loss\n"
     ]
    },
    {
     "data": {
      "application/vnd.jupyter.widget-view+json": {
       "model_id": "cab01e59cda44e619d2022fc87b16800",
       "version_major": 2,
       "version_minor": 0
      },
      "text/plain": [
       "HBox(children=(FloatProgress(value=0.0, description='Iteration', max=66.0, style=ProgressStyle(description_wid…"
      ]
     },
     "metadata": {},
     "output_type": "display_data"
    },
    {
     "name": "stdout",
     "output_type": "stream",
     "text": [
      "\n",
      "2021-05-18 10:31:45 - TripletEvaluator: Evaluating the model on dev dataset after epoch 3:\n",
      "2021-05-18 10:31:50 - Accuracy Cosine Distance:   \t87.80\n",
      "2021-05-18 10:31:50 - Accuracy Manhatten Distance:\t87.30\n",
      "2021-05-18 10:31:50 - Accuracy Euclidean Distance:\t88.10\n",
      "\n",
      "2021-05-18 10:31:50 - Save model to /workspace/ceph_data/keypoint-analysis-sharedtask/triplet-models/all-triplet-loss\n"
     ]
    },
    {
     "data": {
      "application/vnd.jupyter.widget-view+json": {
       "model_id": "0471994084d64d3085172c12b021c87a",
       "version_major": 2,
       "version_minor": 0
      },
      "text/plain": [
       "HBox(children=(FloatProgress(value=0.0, description='Iteration', max=66.0, style=ProgressStyle(description_wid…"
      ]
     },
     "metadata": {},
     "output_type": "display_data"
    },
    {
     "name": "stdout",
     "output_type": "stream",
     "text": [
      "\n",
      "2021-05-18 10:32:16 - TripletEvaluator: Evaluating the model on dev dataset after epoch 4:\n",
      "2021-05-18 10:32:21 - Accuracy Cosine Distance:   \t87.60\n",
      "2021-05-18 10:32:21 - Accuracy Manhatten Distance:\t87.80\n",
      "2021-05-18 10:32:21 - Accuracy Euclidean Distance:\t88.30\n",
      "\n",
      "2021-05-18 10:32:21 - Save model to /workspace/ceph_data/keypoint-analysis-sharedtask/triplet-models/all-triplet-loss\n",
      "\n"
     ]
    }
   ],
   "source": [
    "sbert_training.train_hard_triplet_modle('/workspace/ceph_data/keypoint-analysis-sharedtask/siamese-data/', \n",
    "                                        '/workspace/ceph_data/keypoint-analysis-sharedtask/triplet-models/all-triplet-loss', \n",
    "                                        'bert-base-uncased', training_loss='BatchAllTripletLoss',  \n",
    "                                        num_epochs=5, train_batch_size=64, data_file_suffix='batch_hard')"
   ]
  },
  {
   "cell_type": "code",
   "execution_count": 8,
   "id": "17c553a5-196f-42f8-a02f-71097121acc0",
   "metadata": {
    "scrolled": true,
    "tags": []
   },
   "outputs": [
    {
     "name": "stdout",
     "output_type": "stream",
     "text": [
      "2021-05-18 10:32:22 - Read Triplet train dataset\n",
      "2021-05-18 10:32:22 - Read Triplet dev dataset\n",
      "2021-05-18 10:32:22 - SentenceLabelDataset: 4467 examples, from which 4260 examples could be used (those labels appeared at least 2 times). 207 different labels found.\n",
      "2021-05-18 10:32:22 - Load model\n",
      "2021-05-18 10:32:22 - Load pretrained SentenceTransformer: bert-base-uncased\n",
      "2021-05-18 10:32:22 - Did not find folder bert-base-uncased\n",
      "2021-05-18 10:32:22 - Search model on server: http://sbert.net/models/bert-base-uncased.zip\n",
      "2021-05-18 10:32:22 - Load SentenceTransformer from folder: /root/.cache/torch/sentence_transformers/sbert.net_models_bert-base-uncased\n",
      "2021-05-18 10:32:25 - Use pytorch device: cuda\n",
      "2021-05-18 10:32:25 - Performance before fine-tuning:\n",
      "2021-05-18 10:32:25 - TripletEvaluator: Evaluating the model on dev dataset:\n",
      "2021-05-18 10:32:29 - Accuracy Cosine Distance:   \t79.70\n",
      "2021-05-18 10:32:29 - Accuracy Manhatten Distance:\t79.50\n",
      "2021-05-18 10:32:29 - Accuracy Euclidean Distance:\t77.70\n",
      "\n"
     ]
    },
    {
     "data": {
      "application/vnd.jupyter.widget-view+json": {
       "model_id": "35bd9a105efd475e80c34f5f625eccfd",
       "version_major": 2,
       "version_minor": 0
      },
      "text/plain": [
       "HBox(children=(FloatProgress(value=0.0, description='Epoch', max=5.0, style=ProgressStyle(description_width='i…"
      ]
     },
     "metadata": {},
     "output_type": "display_data"
    },
    {
     "data": {
      "application/vnd.jupyter.widget-view+json": {
       "model_id": "e672bd157a1e45caa0699d0275487218",
       "version_major": 2,
       "version_minor": 0
      },
      "text/plain": [
       "HBox(children=(FloatProgress(value=0.0, description='Iteration', max=66.0, style=ProgressStyle(description_wid…"
      ]
     },
     "metadata": {},
     "output_type": "display_data"
    },
    {
     "name": "stdout",
     "output_type": "stream",
     "text": [
      "\n",
      "2021-05-18 10:32:54 - TripletEvaluator: Evaluating the model on dev dataset after epoch 0:\n",
      "2021-05-18 10:32:59 - Accuracy Cosine Distance:   \t79.70\n",
      "2021-05-18 10:32:59 - Accuracy Manhatten Distance:\t79.50\n",
      "2021-05-18 10:32:59 - Accuracy Euclidean Distance:\t77.70\n",
      "\n",
      "2021-05-18 10:32:59 - Save model to /workspace/ceph_data/keypoint-analysis-sharedtask/triplet-models/hard-triplet-loss\n"
     ]
    },
    {
     "data": {
      "application/vnd.jupyter.widget-view+json": {
       "model_id": "a1ea2a5b92a84ca696347b93537980ba",
       "version_major": 2,
       "version_minor": 0
      },
      "text/plain": [
       "HBox(children=(FloatProgress(value=0.0, description='Iteration', max=66.0, style=ProgressStyle(description_wid…"
      ]
     },
     "metadata": {},
     "output_type": "display_data"
    },
    {
     "name": "stdout",
     "output_type": "stream",
     "text": [
      "\n",
      "2021-05-18 10:33:24 - TripletEvaluator: Evaluating the model on dev dataset after epoch 1:\n",
      "2021-05-18 10:33:28 - Accuracy Cosine Distance:   \t79.70\n",
      "2021-05-18 10:33:28 - Accuracy Manhatten Distance:\t79.50\n",
      "2021-05-18 10:33:28 - Accuracy Euclidean Distance:\t77.70\n",
      "\n"
     ]
    },
    {
     "data": {
      "application/vnd.jupyter.widget-view+json": {
       "model_id": "f99271ff9988483386a3e5794a640d69",
       "version_major": 2,
       "version_minor": 0
      },
      "text/plain": [
       "HBox(children=(FloatProgress(value=0.0, description='Iteration', max=66.0, style=ProgressStyle(description_wid…"
      ]
     },
     "metadata": {},
     "output_type": "display_data"
    },
    {
     "name": "stdout",
     "output_type": "stream",
     "text": [
      "\n",
      "2021-05-18 10:33:53 - TripletEvaluator: Evaluating the model on dev dataset after epoch 2:\n",
      "2021-05-18 10:33:58 - Accuracy Cosine Distance:   \t79.70\n",
      "2021-05-18 10:33:58 - Accuracy Manhatten Distance:\t79.50\n",
      "2021-05-18 10:33:58 - Accuracy Euclidean Distance:\t77.70\n",
      "\n"
     ]
    },
    {
     "data": {
      "application/vnd.jupyter.widget-view+json": {
       "model_id": "8b267ce93b0042e38091288e8ea1919c",
       "version_major": 2,
       "version_minor": 0
      },
      "text/plain": [
       "HBox(children=(FloatProgress(value=0.0, description='Iteration', max=66.0, style=ProgressStyle(description_wid…"
      ]
     },
     "metadata": {},
     "output_type": "display_data"
    },
    {
     "name": "stdout",
     "output_type": "stream",
     "text": [
      "\n",
      "2021-05-18 10:34:22 - TripletEvaluator: Evaluating the model on dev dataset after epoch 3:\n",
      "2021-05-18 10:34:27 - Accuracy Cosine Distance:   \t79.70\n",
      "2021-05-18 10:34:27 - Accuracy Manhatten Distance:\t79.50\n",
      "2021-05-18 10:34:27 - Accuracy Euclidean Distance:\t77.70\n",
      "\n"
     ]
    },
    {
     "data": {
      "application/vnd.jupyter.widget-view+json": {
       "model_id": "80e45ae658ce450d95af5345b9a60f26",
       "version_major": 2,
       "version_minor": 0
      },
      "text/plain": [
       "HBox(children=(FloatProgress(value=0.0, description='Iteration', max=66.0, style=ProgressStyle(description_wid…"
      ]
     },
     "metadata": {},
     "output_type": "display_data"
    },
    {
     "name": "stdout",
     "output_type": "stream",
     "text": [
      "\n",
      "2021-05-18 10:34:51 - TripletEvaluator: Evaluating the model on dev dataset after epoch 4:\n",
      "2021-05-18 10:34:56 - Accuracy Cosine Distance:   \t79.70\n",
      "2021-05-18 10:34:56 - Accuracy Manhatten Distance:\t79.50\n",
      "2021-05-18 10:34:56 - Accuracy Euclidean Distance:\t77.70\n",
      "\n",
      "\n"
     ]
    }
   ],
   "source": [
    "sbert_training.train_hard_triplet_modle('/workspace/ceph_data/keypoint-analysis-sharedtask/siamese-data/', \n",
    "                                        '/workspace/ceph_data/keypoint-analysis-sharedtask/triplet-models/hard-triplet-loss', \n",
    "                                        'bert-base-uncased', training_loss='BatchHardTripletLoss',  \n",
    "                                        num_epochs=5, train_batch_size=64, data_file_suffix='batch_hard')"
   ]
  },
  {
   "cell_type": "code",
   "execution_count": 9,
   "id": "9d3128f4-3716-412c-89b8-72d518a2747e",
   "metadata": {
    "scrolled": true,
    "tags": []
   },
   "outputs": [
    {
     "name": "stdout",
     "output_type": "stream",
     "text": [
      "2021-05-18 10:34:56 - Read Triplet train dataset\n",
      "2021-05-18 10:34:56 - Read Triplet dev dataset\n",
      "2021-05-18 10:34:56 - SentenceLabelDataset: 4467 examples, from which 4260 examples could be used (those labels appeared at least 2 times). 207 different labels found.\n",
      "2021-05-18 10:34:56 - Load model\n",
      "2021-05-18 10:34:56 - Load pretrained SentenceTransformer: bert-base-uncased\n",
      "2021-05-18 10:34:56 - Did not find folder bert-base-uncased\n",
      "2021-05-18 10:34:56 - Search model on server: http://sbert.net/models/bert-base-uncased.zip\n",
      "2021-05-18 10:34:56 - Load SentenceTransformer from folder: /root/.cache/torch/sentence_transformers/sbert.net_models_bert-base-uncased\n",
      "2021-05-18 10:34:59 - Use pytorch device: cuda\n",
      "2021-05-18 10:34:59 - Performance before fine-tuning:\n",
      "2021-05-18 10:34:59 - TripletEvaluator: Evaluating the model on dev dataset:\n",
      "2021-05-18 10:35:04 - Accuracy Cosine Distance:   \t79.70\n",
      "2021-05-18 10:35:04 - Accuracy Manhatten Distance:\t79.50\n",
      "2021-05-18 10:35:04 - Accuracy Euclidean Distance:\t77.70\n",
      "\n"
     ]
    },
    {
     "data": {
      "application/vnd.jupyter.widget-view+json": {
       "model_id": "bb5be8bcb9664d84a2a679114c8ac36a",
       "version_major": 2,
       "version_minor": 0
      },
      "text/plain": [
       "HBox(children=(FloatProgress(value=0.0, description='Epoch', max=5.0, style=ProgressStyle(description_width='i…"
      ]
     },
     "metadata": {},
     "output_type": "display_data"
    },
    {
     "data": {
      "application/vnd.jupyter.widget-view+json": {
       "model_id": "07527848778e41eca072ef31a5d4f361",
       "version_major": 2,
       "version_minor": 0
      },
      "text/plain": [
       "HBox(children=(FloatProgress(value=0.0, description='Iteration', max=66.0, style=ProgressStyle(description_wid…"
      ]
     },
     "metadata": {},
     "output_type": "display_data"
    },
    {
     "name": "stdout",
     "output_type": "stream",
     "text": [
      "\n",
      "2021-05-18 10:35:29 - TripletEvaluator: Evaluating the model on dev dataset after epoch 0:\n",
      "2021-05-18 10:35:33 - Accuracy Cosine Distance:   \t82.50\n",
      "2021-05-18 10:35:33 - Accuracy Manhatten Distance:\t78.20\n",
      "2021-05-18 10:35:33 - Accuracy Euclidean Distance:\t77.90\n",
      "\n",
      "2021-05-18 10:35:33 - Save model to /workspace/ceph_data/keypoint-analysis-sharedtask/triplet-models/hard-softmargin-triplet-loss\n"
     ]
    },
    {
     "data": {
      "application/vnd.jupyter.widget-view+json": {
       "model_id": "fe026c1d1a924901b198e9be8138cff0",
       "version_major": 2,
       "version_minor": 0
      },
      "text/plain": [
       "HBox(children=(FloatProgress(value=0.0, description='Iteration', max=66.0, style=ProgressStyle(description_wid…"
      ]
     },
     "metadata": {},
     "output_type": "display_data"
    },
    {
     "name": "stdout",
     "output_type": "stream",
     "text": [
      "\n",
      "2021-05-18 10:35:59 - TripletEvaluator: Evaluating the model on dev dataset after epoch 1:\n",
      "2021-05-18 10:36:04 - Accuracy Cosine Distance:   \t82.00\n",
      "2021-05-18 10:36:04 - Accuracy Manhatten Distance:\t79.10\n",
      "2021-05-18 10:36:04 - Accuracy Euclidean Distance:\t78.40\n",
      "\n"
     ]
    },
    {
     "data": {
      "application/vnd.jupyter.widget-view+json": {
       "model_id": "b1449417b11f404dacc407e98258f1ec",
       "version_major": 2,
       "version_minor": 0
      },
      "text/plain": [
       "HBox(children=(FloatProgress(value=0.0, description='Iteration', max=66.0, style=ProgressStyle(description_wid…"
      ]
     },
     "metadata": {},
     "output_type": "display_data"
    },
    {
     "name": "stdout",
     "output_type": "stream",
     "text": [
      "\n",
      "2021-05-18 10:36:28 - TripletEvaluator: Evaluating the model on dev dataset after epoch 2:\n",
      "2021-05-18 10:36:33 - Accuracy Cosine Distance:   \t81.90\n",
      "2021-05-18 10:36:33 - Accuracy Manhatten Distance:\t79.30\n",
      "2021-05-18 10:36:33 - Accuracy Euclidean Distance:\t78.80\n",
      "\n"
     ]
    },
    {
     "data": {
      "application/vnd.jupyter.widget-view+json": {
       "model_id": "e07f54c571294706923394baee143135",
       "version_major": 2,
       "version_minor": 0
      },
      "text/plain": [
       "HBox(children=(FloatProgress(value=0.0, description='Iteration', max=66.0, style=ProgressStyle(description_wid…"
      ]
     },
     "metadata": {},
     "output_type": "display_data"
    },
    {
     "name": "stdout",
     "output_type": "stream",
     "text": [
      "\n",
      "2021-05-18 10:36:58 - TripletEvaluator: Evaluating the model on dev dataset after epoch 3:\n",
      "2021-05-18 10:37:02 - Accuracy Cosine Distance:   \t81.30\n",
      "2021-05-18 10:37:02 - Accuracy Manhatten Distance:\t79.60\n",
      "2021-05-18 10:37:02 - Accuracy Euclidean Distance:\t78.70\n",
      "\n"
     ]
    },
    {
     "data": {
      "application/vnd.jupyter.widget-view+json": {
       "model_id": "43aa0a51af1f40deadcdff79d282580a",
       "version_major": 2,
       "version_minor": 0
      },
      "text/plain": [
       "HBox(children=(FloatProgress(value=0.0, description='Iteration', max=66.0, style=ProgressStyle(description_wid…"
      ]
     },
     "metadata": {},
     "output_type": "display_data"
    },
    {
     "name": "stdout",
     "output_type": "stream",
     "text": [
      "\n",
      "2021-05-18 10:37:27 - TripletEvaluator: Evaluating the model on dev dataset after epoch 4:\n",
      "2021-05-18 10:37:31 - Accuracy Cosine Distance:   \t81.40\n",
      "2021-05-18 10:37:31 - Accuracy Manhatten Distance:\t79.20\n",
      "2021-05-18 10:37:31 - Accuracy Euclidean Distance:\t78.80\n",
      "\n",
      "\n"
     ]
    }
   ],
   "source": [
    "sbert_training.train_hard_triplet_modle('/workspace/ceph_data/keypoint-analysis-sharedtask/siamese-data/', \n",
    "                                        '/workspace/ceph_data/keypoint-analysis-sharedtask/triplet-models/hard-softmargin-triplet-loss', \n",
    "                                        'bert-base-uncased', training_loss='BatchHardSoftMarginTripletLoss',  \n",
    "                                        num_epochs=5, train_batch_size=64, data_file_suffix='batch_hard')"
   ]
  },
  {
   "cell_type": "code",
   "execution_count": 10,
   "id": "5505a7c2-a6ae-4b31-bbaf-61ad0e4a8647",
   "metadata": {
    "scrolled": true,
    "tags": []
   },
   "outputs": [
    {
     "name": "stdout",
     "output_type": "stream",
     "text": [
      "2021-05-18 10:37:31 - Read Triplet train dataset\n",
      "2021-05-18 10:37:31 - Read Triplet dev dataset\n",
      "2021-05-18 10:37:31 - SentenceLabelDataset: 4467 examples, from which 4260 examples could be used (those labels appeared at least 2 times). 207 different labels found.\n",
      "2021-05-18 10:37:31 - Load model\n",
      "2021-05-18 10:37:31 - Load pretrained SentenceTransformer: bert-base-uncased\n",
      "2021-05-18 10:37:31 - Did not find folder bert-base-uncased\n",
      "2021-05-18 10:37:31 - Search model on server: http://sbert.net/models/bert-base-uncased.zip\n",
      "2021-05-18 10:37:31 - Load SentenceTransformer from folder: /root/.cache/torch/sentence_transformers/sbert.net_models_bert-base-uncased\n",
      "2021-05-18 10:37:34 - Use pytorch device: cuda\n",
      "2021-05-18 10:37:34 - Performance before fine-tuning:\n",
      "2021-05-18 10:37:34 - TripletEvaluator: Evaluating the model on dev dataset:\n",
      "2021-05-18 10:37:39 - Accuracy Cosine Distance:   \t79.70\n",
      "2021-05-18 10:37:39 - Accuracy Manhatten Distance:\t79.50\n",
      "2021-05-18 10:37:39 - Accuracy Euclidean Distance:\t77.70\n",
      "\n"
     ]
    },
    {
     "data": {
      "application/vnd.jupyter.widget-view+json": {
       "model_id": "772d88d4b22545318150c7c8974a4b3b",
       "version_major": 2,
       "version_minor": 0
      },
      "text/plain": [
       "HBox(children=(FloatProgress(value=0.0, description='Epoch', max=5.0, style=ProgressStyle(description_width='i…"
      ]
     },
     "metadata": {},
     "output_type": "display_data"
    },
    {
     "data": {
      "application/vnd.jupyter.widget-view+json": {
       "model_id": "162d0fc556f9499694050b94073b91a0",
       "version_major": 2,
       "version_minor": 0
      },
      "text/plain": [
       "HBox(children=(FloatProgress(value=0.0, description='Iteration', max=66.0, style=ProgressStyle(description_wid…"
      ]
     },
     "metadata": {},
     "output_type": "display_data"
    },
    {
     "name": "stdout",
     "output_type": "stream",
     "text": [
      "\n",
      "2021-05-18 10:38:04 - TripletEvaluator: Evaluating the model on dev dataset after epoch 0:\n",
      "2021-05-18 10:38:09 - Accuracy Cosine Distance:   \t88.10\n",
      "2021-05-18 10:38:09 - Accuracy Manhatten Distance:\t87.20\n",
      "2021-05-18 10:38:09 - Accuracy Euclidean Distance:\t87.60\n",
      "\n",
      "2021-05-18 10:38:09 - Save model to /workspace/ceph_data/keypoint-analysis-sharedtask/triplet-models/semi-hard-triplet-loss\n"
     ]
    },
    {
     "data": {
      "application/vnd.jupyter.widget-view+json": {
       "model_id": "971ab3ee62694f32ad43d051221ed510",
       "version_major": 2,
       "version_minor": 0
      },
      "text/plain": [
       "HBox(children=(FloatProgress(value=0.0, description='Iteration', max=66.0, style=ProgressStyle(description_wid…"
      ]
     },
     "metadata": {},
     "output_type": "display_data"
    },
    {
     "name": "stdout",
     "output_type": "stream",
     "text": [
      "\n",
      "2021-05-18 10:38:35 - TripletEvaluator: Evaluating the model on dev dataset after epoch 1:\n",
      "2021-05-18 10:38:39 - Accuracy Cosine Distance:   \t87.80\n",
      "2021-05-18 10:38:39 - Accuracy Manhatten Distance:\t88.10\n",
      "2021-05-18 10:38:39 - Accuracy Euclidean Distance:\t88.20\n",
      "\n",
      "2021-05-18 10:38:39 - Save model to /workspace/ceph_data/keypoint-analysis-sharedtask/triplet-models/semi-hard-triplet-loss\n"
     ]
    },
    {
     "data": {
      "application/vnd.jupyter.widget-view+json": {
       "model_id": "9f9b97775b3049b486f0a501dc0df03f",
       "version_major": 2,
       "version_minor": 0
      },
      "text/plain": [
       "HBox(children=(FloatProgress(value=0.0, description='Iteration', max=66.0, style=ProgressStyle(description_wid…"
      ]
     },
     "metadata": {},
     "output_type": "display_data"
    },
    {
     "name": "stdout",
     "output_type": "stream",
     "text": [
      "\n",
      "2021-05-18 10:39:06 - TripletEvaluator: Evaluating the model on dev dataset after epoch 2:\n",
      "2021-05-18 10:39:11 - Accuracy Cosine Distance:   \t91.00\n",
      "2021-05-18 10:39:11 - Accuracy Manhatten Distance:\t90.70\n",
      "2021-05-18 10:39:11 - Accuracy Euclidean Distance:\t90.70\n",
      "\n",
      "2021-05-18 10:39:11 - Save model to /workspace/ceph_data/keypoint-analysis-sharedtask/triplet-models/semi-hard-triplet-loss\n"
     ]
    },
    {
     "data": {
      "application/vnd.jupyter.widget-view+json": {
       "model_id": "77ebcf66ba3f478ebe5d60741be9d37e",
       "version_major": 2,
       "version_minor": 0
      },
      "text/plain": [
       "HBox(children=(FloatProgress(value=0.0, description='Iteration', max=66.0, style=ProgressStyle(description_wid…"
      ]
     },
     "metadata": {},
     "output_type": "display_data"
    },
    {
     "name": "stdout",
     "output_type": "stream",
     "text": [
      "\n",
      "2021-05-18 10:39:37 - TripletEvaluator: Evaluating the model on dev dataset after epoch 3:\n",
      "2021-05-18 10:39:41 - Accuracy Cosine Distance:   \t91.60\n",
      "2021-05-18 10:39:41 - Accuracy Manhatten Distance:\t91.40\n",
      "2021-05-18 10:39:41 - Accuracy Euclidean Distance:\t91.50\n",
      "\n",
      "2021-05-18 10:39:41 - Save model to /workspace/ceph_data/keypoint-analysis-sharedtask/triplet-models/semi-hard-triplet-loss\n"
     ]
    },
    {
     "data": {
      "application/vnd.jupyter.widget-view+json": {
       "model_id": "7e41be1c2c8b4476a35dc6daff53f433",
       "version_major": 2,
       "version_minor": 0
      },
      "text/plain": [
       "HBox(children=(FloatProgress(value=0.0, description='Iteration', max=66.0, style=ProgressStyle(description_wid…"
      ]
     },
     "metadata": {},
     "output_type": "display_data"
    },
    {
     "name": "stdout",
     "output_type": "stream",
     "text": [
      "\n",
      "2021-05-18 10:40:08 - TripletEvaluator: Evaluating the model on dev dataset after epoch 4:\n",
      "2021-05-18 10:40:12 - Accuracy Cosine Distance:   \t91.50\n",
      "2021-05-18 10:40:12 - Accuracy Manhatten Distance:\t91.60\n",
      "2021-05-18 10:40:12 - Accuracy Euclidean Distance:\t91.20\n",
      "\n",
      "\n"
     ]
    }
   ],
   "source": [
    "sbert_training.train_hard_triplet_modle('/workspace/ceph_data/keypoint-analysis-sharedtask/siamese-data/', \n",
    "                                        '/workspace/ceph_data/keypoint-analysis-sharedtask/triplet-models/semi-hard-triplet-loss', \n",
    "                                        'bert-base-uncased', training_loss='BatchSemiHardTripletLoss',  \n",
    "                                        num_epochs=5, train_batch_size=64, data_file_suffix='batch_hard')"
   ]
  },
  {
   "cell_type": "code",
   "execution_count": 14,
   "id": "0168013c-c8ed-49bc-87b9-24e6e543845e",
   "metadata": {
    "scrolled": true,
    "tags": []
   },
   "outputs": [
    {
     "name": "stdout",
     "output_type": "stream",
     "text": [
      "2021-05-18 11:47:12 - Read Triplet train dataset\n",
      "2021-05-18 11:47:12 - Read Triplet dev dataset\n",
      "2021-05-18 11:47:12 - SentenceLabelDataset: 4467 examples, from which 4260 examples could be used (those labels appeared at least 2 times). 207 different labels found.\n",
      "2021-05-18 11:47:12 - Load model\n",
      "2021-05-18 11:47:17 - Use pytorch device: cuda\n",
      "2021-05-18 11:47:17 - Performance before fine-tuning:\n",
      "2021-05-18 11:47:17 - TripletEvaluator: Evaluating the model on dev dataset:\n",
      "2021-05-18 11:47:22 - Accuracy Cosine Distance:   \t79.70\n",
      "2021-05-18 11:47:22 - Accuracy Manhatten Distance:\t79.50\n",
      "2021-05-18 11:47:22 - Accuracy Euclidean Distance:\t77.70\n",
      "\n"
     ]
    },
    {
     "data": {
      "application/vnd.jupyter.widget-view+json": {
       "model_id": "bd80f2f0328c4f9cbf1e1ede02ab8570",
       "version_major": 2,
       "version_minor": 0
      },
      "text/plain": [
       "HBox(children=(FloatProgress(value=0.0, description='Epoch', max=10.0, style=ProgressStyle(description_width='…"
      ]
     },
     "metadata": {},
     "output_type": "display_data"
    },
    {
     "data": {
      "application/vnd.jupyter.widget-view+json": {
       "model_id": "39b92e8afebf434da498274f7234b1af",
       "version_major": 2,
       "version_minor": 0
      },
      "text/plain": [
       "HBox(children=(FloatProgress(value=0.0, description='Iteration', max=66.0, style=ProgressStyle(description_wid…"
      ]
     },
     "metadata": {},
     "output_type": "display_data"
    },
    {
     "name": "stdout",
     "output_type": "stream",
     "text": [
      "\n",
      "2021-05-18 11:47:47 - TripletEvaluator: Evaluating the model on dev dataset after epoch 0:\n",
      "2021-05-18 11:47:51 - Accuracy Cosine Distance:   \t87.10\n",
      "2021-05-18 11:47:51 - Accuracy Manhatten Distance:\t86.40\n",
      "2021-05-18 11:47:51 - Accuracy Euclidean Distance:\t87.20\n",
      "\n",
      "2021-05-18 11:47:51 - Save model to /workspace/ceph_data/keypoint-analysis-sharedtask/triplet-models/semi-hard-triplet-loss\n"
     ]
    },
    {
     "data": {
      "application/vnd.jupyter.widget-view+json": {
       "model_id": "baf9b092713f42eba1311f5f0f936370",
       "version_major": 2,
       "version_minor": 0
      },
      "text/plain": [
       "HBox(children=(FloatProgress(value=0.0, description='Iteration', max=66.0, style=ProgressStyle(description_wid…"
      ]
     },
     "metadata": {},
     "output_type": "display_data"
    },
    {
     "name": "stdout",
     "output_type": "stream",
     "text": [
      "\n",
      "2021-05-18 11:48:17 - TripletEvaluator: Evaluating the model on dev dataset after epoch 1:\n",
      "2021-05-18 11:48:21 - Accuracy Cosine Distance:   \t87.70\n",
      "2021-05-18 11:48:21 - Accuracy Manhatten Distance:\t87.10\n",
      "2021-05-18 11:48:21 - Accuracy Euclidean Distance:\t87.50\n",
      "\n",
      "2021-05-18 11:48:21 - Save model to /workspace/ceph_data/keypoint-analysis-sharedtask/triplet-models/semi-hard-triplet-loss\n"
     ]
    },
    {
     "data": {
      "application/vnd.jupyter.widget-view+json": {
       "model_id": "670f57d83e18448ca67f2b658ce1d44c",
       "version_major": 2,
       "version_minor": 0
      },
      "text/plain": [
       "HBox(children=(FloatProgress(value=0.0, description='Iteration', max=66.0, style=ProgressStyle(description_wid…"
      ]
     },
     "metadata": {},
     "output_type": "display_data"
    },
    {
     "name": "stdout",
     "output_type": "stream",
     "text": [
      "\n",
      "2021-05-18 11:48:47 - TripletEvaluator: Evaluating the model on dev dataset after epoch 2:\n",
      "2021-05-18 11:48:51 - Accuracy Cosine Distance:   \t88.40\n",
      "2021-05-18 11:48:51 - Accuracy Manhatten Distance:\t88.30\n",
      "2021-05-18 11:48:51 - Accuracy Euclidean Distance:\t88.30\n",
      "\n",
      "2021-05-18 11:48:51 - Save model to /workspace/ceph_data/keypoint-analysis-sharedtask/triplet-models/semi-hard-triplet-loss\n"
     ]
    },
    {
     "data": {
      "application/vnd.jupyter.widget-view+json": {
       "model_id": "2821a90ea6b7482bbb5f23c9176ad892",
       "version_major": 2,
       "version_minor": 0
      },
      "text/plain": [
       "HBox(children=(FloatProgress(value=0.0, description='Iteration', max=66.0, style=ProgressStyle(description_wid…"
      ]
     },
     "metadata": {},
     "output_type": "display_data"
    },
    {
     "name": "stdout",
     "output_type": "stream",
     "text": [
      "\n",
      "2021-05-18 11:49:17 - TripletEvaluator: Evaluating the model on dev dataset after epoch 3:\n",
      "2021-05-18 11:49:21 - Accuracy Cosine Distance:   \t89.50\n",
      "2021-05-18 11:49:21 - Accuracy Manhatten Distance:\t90.10\n",
      "2021-05-18 11:49:21 - Accuracy Euclidean Distance:\t89.20\n",
      "\n",
      "2021-05-18 11:49:21 - Save model to /workspace/ceph_data/keypoint-analysis-sharedtask/triplet-models/semi-hard-triplet-loss\n"
     ]
    },
    {
     "data": {
      "application/vnd.jupyter.widget-view+json": {
       "model_id": "d339d40f396e448289a8d534a6f24c97",
       "version_major": 2,
       "version_minor": 0
      },
      "text/plain": [
       "HBox(children=(FloatProgress(value=0.0, description='Iteration', max=66.0, style=ProgressStyle(description_wid…"
      ]
     },
     "metadata": {},
     "output_type": "display_data"
    },
    {
     "name": "stdout",
     "output_type": "stream",
     "text": [
      "\n",
      "2021-05-18 11:49:47 - TripletEvaluator: Evaluating the model on dev dataset after epoch 4:\n",
      "2021-05-18 11:49:52 - Accuracy Cosine Distance:   \t89.60\n",
      "2021-05-18 11:49:52 - Accuracy Manhatten Distance:\t90.00\n",
      "2021-05-18 11:49:52 - Accuracy Euclidean Distance:\t89.60\n",
      "\n"
     ]
    },
    {
     "data": {
      "application/vnd.jupyter.widget-view+json": {
       "model_id": "82e994c9e0854bdf8915fd5514a40192",
       "version_major": 2,
       "version_minor": 0
      },
      "text/plain": [
       "HBox(children=(FloatProgress(value=0.0, description='Iteration', max=66.0, style=ProgressStyle(description_wid…"
      ]
     },
     "metadata": {},
     "output_type": "display_data"
    },
    {
     "name": "stdout",
     "output_type": "stream",
     "text": [
      "\n",
      "2021-05-18 11:50:16 - TripletEvaluator: Evaluating the model on dev dataset after epoch 5:\n",
      "2021-05-18 11:50:21 - Accuracy Cosine Distance:   \t90.70\n",
      "2021-05-18 11:50:21 - Accuracy Manhatten Distance:\t90.60\n",
      "2021-05-18 11:50:21 - Accuracy Euclidean Distance:\t90.20\n",
      "\n",
      "2021-05-18 11:50:21 - Save model to /workspace/ceph_data/keypoint-analysis-sharedtask/triplet-models/semi-hard-triplet-loss\n"
     ]
    },
    {
     "data": {
      "application/vnd.jupyter.widget-view+json": {
       "model_id": "8ec86584e0bb45c19de313b19927e1a3",
       "version_major": 2,
       "version_minor": 0
      },
      "text/plain": [
       "HBox(children=(FloatProgress(value=0.0, description='Iteration', max=66.0, style=ProgressStyle(description_wid…"
      ]
     },
     "metadata": {},
     "output_type": "display_data"
    },
    {
     "name": "stdout",
     "output_type": "stream",
     "text": [
      "\n",
      "2021-05-18 11:50:47 - TripletEvaluator: Evaluating the model on dev dataset after epoch 6:\n",
      "2021-05-18 11:50:52 - Accuracy Cosine Distance:   \t90.40\n",
      "2021-05-18 11:50:52 - Accuracy Manhatten Distance:\t90.80\n",
      "2021-05-18 11:50:52 - Accuracy Euclidean Distance:\t90.20\n",
      "\n",
      "2021-05-18 11:50:52 - Save model to /workspace/ceph_data/keypoint-analysis-sharedtask/triplet-models/semi-hard-triplet-loss\n"
     ]
    },
    {
     "data": {
      "application/vnd.jupyter.widget-view+json": {
       "model_id": "7882b6f5878245f3af483fd77b5c4652",
       "version_major": 2,
       "version_minor": 0
      },
      "text/plain": [
       "HBox(children=(FloatProgress(value=0.0, description='Iteration', max=66.0, style=ProgressStyle(description_wid…"
      ]
     },
     "metadata": {},
     "output_type": "display_data"
    },
    {
     "name": "stdout",
     "output_type": "stream",
     "text": [
      "\n",
      "2021-05-18 11:51:18 - TripletEvaluator: Evaluating the model on dev dataset after epoch 7:\n",
      "2021-05-18 11:51:22 - Accuracy Cosine Distance:   \t89.60\n",
      "2021-05-18 11:51:22 - Accuracy Manhatten Distance:\t89.80\n",
      "2021-05-18 11:51:22 - Accuracy Euclidean Distance:\t89.50\n",
      "\n"
     ]
    },
    {
     "data": {
      "application/vnd.jupyter.widget-view+json": {
       "model_id": "50ae31fe3dcc477fbd7ce91d12011ba7",
       "version_major": 2,
       "version_minor": 0
      },
      "text/plain": [
       "HBox(children=(FloatProgress(value=0.0, description='Iteration', max=66.0, style=ProgressStyle(description_wid…"
      ]
     },
     "metadata": {},
     "output_type": "display_data"
    },
    {
     "name": "stdout",
     "output_type": "stream",
     "text": [
      "\n",
      "2021-05-18 11:51:47 - TripletEvaluator: Evaluating the model on dev dataset after epoch 8:\n",
      "2021-05-18 11:51:52 - Accuracy Cosine Distance:   \t89.90\n",
      "2021-05-18 11:51:52 - Accuracy Manhatten Distance:\t90.40\n",
      "2021-05-18 11:51:52 - Accuracy Euclidean Distance:\t90.00\n",
      "\n"
     ]
    },
    {
     "data": {
      "application/vnd.jupyter.widget-view+json": {
       "model_id": "fbddeeb3069e48109154aaa4edd76395",
       "version_major": 2,
       "version_minor": 0
      },
      "text/plain": [
       "HBox(children=(FloatProgress(value=0.0, description='Iteration', max=66.0, style=ProgressStyle(description_wid…"
      ]
     },
     "metadata": {},
     "output_type": "display_data"
    },
    {
     "name": "stdout",
     "output_type": "stream",
     "text": [
      "\n",
      "2021-05-18 11:52:17 - TripletEvaluator: Evaluating the model on dev dataset after epoch 9:\n",
      "2021-05-18 11:52:21 - Accuracy Cosine Distance:   \t90.80\n",
      "2021-05-18 11:52:21 - Accuracy Manhatten Distance:\t90.60\n",
      "2021-05-18 11:52:21 - Accuracy Euclidean Distance:\t90.80\n",
      "\n",
      "\n"
     ]
    }
   ],
   "source": [
    "sbert_training.train_hard_triplet_modle('/workspace/ceph_data/keypoint-analysis-sharedtask/siamese-data/', \n",
    "                                        '/workspace/ceph_data/keypoint-analysis-sharedtask/triplet-models/semi-hard-triplet-loss', \n",
    "                                        'bert-base-uncased', training_loss='BatchSemiHardTripletLoss',  \n",
    "                                        num_epochs=10, train_batch_size=64, data_file_suffix='batch_hard')"
   ]
  },
  {
   "cell_type": "markdown",
   "id": "2847263d-1e99-48a7-b86a-975591f555a3",
   "metadata": {},
   "source": [
    "------------"
   ]
  }
 ],
 "metadata": {
  "kernelspec": {
   "display_name": "Python 3",
   "language": "python",
   "name": "python3"
  },
  "language_info": {
   "codemirror_mode": {
    "name": "ipython",
    "version": 3
   },
   "file_extension": ".py",
   "mimetype": "text/x-python",
   "name": "python",
   "nbconvert_exporter": "python",
   "pygments_lexer": "ipython3",
   "version": "3.6.9"
  }
 },
 "nbformat": 4,
 "nbformat_minor": 5
}
